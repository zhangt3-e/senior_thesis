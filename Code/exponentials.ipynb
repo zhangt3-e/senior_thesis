{
 "cells": [
  {
   "cell_type": "code",
   "execution_count": 1,
   "metadata": {},
   "outputs": [
    {
     "name": "stdout",
     "output_type": "stream",
     "text": [
      "importing Jupyter notebook from histplot.ipynb\n",
      "644\n",
      "3122\n"
     ]
    }
   ],
   "source": [
    "# Function for generating histogram\n",
    "# Import Libraries\n",
    "import numpy as np\n",
    "import matplotlib.pyplot as plt\n",
    "import matplotlib as mlt\n",
    "import datetime \n",
    "import import_ipynb\n",
    "import histplot"
   ]
  },
  {
   "cell_type": "code",
   "execution_count": 2,
   "metadata": {},
   "outputs": [],
   "source": [
    "ASC = '__ASC_ASCIIIn.mrk'\n",
    "direct = 'C:/Users/tyron/Documents/Geoscience/weather/'"
   ]
  },
  {
   "cell_type": "code",
   "execution_count": 3,
   "metadata": {},
   "outputs": [],
   "source": [
    "Winter18_1 = histplot.getData(17,direct, ASC, 335, 31, 6, float)\n",
    "Winter18_2 = histplot.getData(18, direct, ASC, 1, 59, 6, float)\n",
    "Spring18 = histplot.getData(18,direct, ASC, 60, 92,6, float)\n",
    "Summer18 = histplot.getData(18, direct, ASC, 152, 92, 6 , float)\n",
    "Fall18 = histplot.getData(18, direct, ASC, 244, 91, 6, float)"
   ]
  },
  {
   "cell_type": "code",
   "execution_count": 4,
   "metadata": {},
   "outputs": [],
   "source": [
    "Winter18 = np.concatenate([Winter18_1, Winter18_2])\n"
   ]
  },
  {
   "cell_type": "code",
   "execution_count": 5,
   "metadata": {},
   "outputs": [],
   "source": [
    "def hist_plots(array,bin_spec, range_tup, xlabel, ylabel, title, color):\n",
    "    plt.figure(figsize = (10,8))\n",
    "    plt.hist(array[array != 0], bins = bin_spec, range= range_tup, color = color)\n",
    "    plt.xlabel(xlabel, fontsize = 14)\n",
    "    plt.xscale('log')\n",
    "    plt.yscale('log')\n",
    "    plt.ylabel(ylabel, fontsize = 14)\n",
    "    plt.title(title, fontsize = 20)\n",
    "    #plt.text(1,1, 'Histogram has ' + percent + ' of total precipitation', horizontalalignment = 'center',\n",
    "            #verticalalignment = 'center')\n",
    "    #plt.text(0.8,1, eqn,horizontalalignment = 'center',\n",
    "            #verticalalignment = 'center' )"
   ]
  },
  {
   "cell_type": "code",
   "execution_count": 6,
   "metadata": {},
   "outputs": [
    {
     "name": "stdout",
     "output_type": "stream",
     "text": [
      "(129600,)\n",
      "(132476,)\n",
      "(132477,)\n",
      "(131036,)\n"
     ]
    }
   ],
   "source": [
    "print(Winter18.shape)\n",
    "print(Spring18.shape)\n",
    "print(Summer18.shape)\n",
    "print(Fall18.shape)\n",
    "Season18 = np.concatenate([Winter18, Spring18, Summer18, Fall18])"
   ]
  },
  {
   "cell_type": "code",
   "execution_count": 7,
   "metadata": {},
   "outputs": [],
   "source": [
    "Wprecip18, Wnonprecip18, Wpreciptotal18, Wtotalprep18 = histplot.preciphist(Winter18, len(Winter18), 5000, 1, 1)\n",
    "Sp_precip18, Sp_nonprecip18, Sp_preciptotal18, Sp_totalprep18 = histplot.preciphist(Spring18, len(Spring18), 5000, 1, 1)\n",
    "Su_precip18, Su_nonprecip18, Su_preciptotal18, Su_totalprep18 = histplot.preciphist(Summer18, len(Summer18), 5000, 1, 1)\n",
    "Fprecip18, Fnonprecip18, Fpreciptotal18, Ftotalprep18 = histplot.preciphist(Fall18, len(Fall18), 5000, 1, 1)"
   ]
  },
  {
   "cell_type": "code",
   "execution_count": 88,
   "metadata": {},
   "outputs": [
    {
     "name": "stdout",
     "output_type": "stream",
     "text": [
      "[  1.   1.   1.   1.   1.   1.   1.   1.   1.   1.   1.   1.   1.   1.\n",
      "   1.   1.   1.   1.   1.   1.   1.   1.   1.   1.   1.   1.   1.   1.\n",
      "   1.   1.   1.   2.   2.   2.   2.   2.   2.   3.   3.   3.   4.   5.\n",
      "   5.   6.   7.   9.  11.  16.  22.  38. 433.]\n"
     ]
    }
   ],
   "source": [
    "precip18, nonprecip18, preciptotal18, totalprep18 = histplot.preciphist(Season18, len(Season18), 20000, 1, 1)\n",
    "countAll = 0\n",
    "for i in range(0,20000):\n",
    "    hold = precip18[i]\n",
    "    if hold > 0:\n",
    "        countAll += 1\n",
    "perc18 = np.zeros(51)\n",
    "for i in range(0, 51):\n",
    "    perc18[i] =np.percentile(precip18[:countAll], i*2)\n",
    "print(perc18)"
   ]
  },
  {
   "cell_type": "code",
   "execution_count": 9,
   "metadata": {},
   "outputs": [
    {
     "name": "stdout",
     "output_type": "stream",
     "text": [
      "1028\n",
      "943\n",
      "684\n",
      "1046\n"
     ]
    }
   ],
   "source": [
    "count = 0\n",
    "count1 = 0\n",
    "count2 = 0\n",
    "count3 = 0\n",
    "for i in range(0,5000):\n",
    "    hold = Wprecip18[i]\n",
    "    hold1 = Sp_precip18[i]\n",
    "    hold2 = Su_precip18[i]\n",
    "    hold3 = Fprecip18[i]\n",
    "    if hold > 0:\n",
    "        count += 1\n",
    "    if hold1 > 0:\n",
    "        count1 += 1\n",
    "    if hold2 > 0:\n",
    "        count2 += 1\n",
    "    if hold3 > 0:\n",
    "        count3 += 1\n",
    "print(count)\n",
    "print(count1)\n",
    "print(count2)\n",
    "print(count3)"
   ]
  },
  {
   "cell_type": "code",
   "execution_count": 10,
   "metadata": {},
   "outputs": [],
   "source": [
    "Wprecip18 = Wprecip18[:count]\n",
    "Sp_precip18 = Sp_precip18[:count1]\n",
    "Su_precip18 = Su_precip18[:count2]\n",
    "Fprecip18 = Fprecip18[:count3]"
   ]
  },
  {
   "cell_type": "code",
   "execution_count": 90,
   "metadata": {},
   "outputs": [
    {
     "name": "stdout",
     "output_type": "stream",
     "text": [
      "[  2.   3.   4.   5.   6.   7.   9.  11.  16.  22.  38. 433.]\n"
     ]
    }
   ],
   "source": [
    "one_bin = np.unique(perc18)\n",
    "stop1 = np.array([1])\n",
    "one_bin = np.setdiff1d(one_bin, stop1)\n",
    "print(one_bin)\n",
    "hist18, bin_edge = np.histogram(precip18, bins = one_bin)"
   ]
  },
  {
   "cell_type": "code",
   "execution_count": 18,
   "metadata": {},
   "outputs": [
    {
     "name": "stdout",
     "output_type": "stream",
     "text": [
      "[  2.5   3.5   4.5   5.5   6.5   8.   10.   13.5  19.   30.  235.5]\n",
      "[6.06610809 5.42495002 4.90527478 4.74493213 4.24849524 4.61512052\n",
      " 4.26267988 4.48863637 4.31748811 4.30406509 4.35670883]\n",
      "[-0.28073561  5.36775493]\n",
      "214.38102645938872\n"
     ]
    }
   ],
   "source": [
    "log_x = np.log(one_bin)\n",
    "log_y = np.log(hist18)\n",
    "log_x_2 = np.log(bin_edge[:12])\n",
    "bin_val = np.zeros(11)\n",
    "for i in range(0, 11):\n",
    "    bin_val[i] = (one_bin[i]+one_bin[i+1])/2\n",
    "print(bin_val)\n",
    "logx = np.log(bin_val)\n",
    "print(log_y)\n",
    "curve_fit = np.polyfit(logx, log_y, 1)\n",
    "print(curve_fit)\n",
    "print(np.exp(curve_fit[1]))"
   ]
  },
  {
   "cell_type": "code",
   "execution_count": 21,
   "metadata": {},
   "outputs": [
    {
     "data": {
      "text/plain": [
       "<matplotlib.legend.Legend at 0x154567931d0>"
      ]
     },
     "execution_count": 21,
     "metadata": {},
     "output_type": "execute_result"
    },
    {
     "data": {
      "image/png": "[encoded data removed]",
      "text/plain": [
       "<Figure size 720x576 with 1 Axes>"
      ]
     },
     "metadata": {
      "needs_background": "light"
     },
     "output_type": "display_data"
    }
   ],
   "source": [
    "plt.figure(figsize = (10,8))\n",
    "plt.hist([Wprecip18, Sp_precip18, Su_precip18,Fprecip18], bins =perc, range= (perc.min,perc.max), color = ['r','b','g','c'], stacked =True)\n",
    "plt.xlabel('Duration of Precipitation Events (minutes)', fontsize = 20)\n",
    "plt.xscale('log')\n",
    "plt.ylim(0,2500)\n",
    "#plt.yscale('log')\n",
    "plt.ylabel('Frequency', fontsize = 20)\n",
    "plt.title('2018 Precipitation duration by season', fontsize = 24)\n",
    "plt.figtext(0.9, 0.5, 'Total Winter Precipitation: ' + str(round(Wtotalprep18)) + ' mm', fontsize = 14, ha='right')\n",
    "plt.figtext(0.9, 0.475, 'Total Spring Precipitation: ' + str(round(Sp_totalprep18)) + ' mm', fontsize = 14, ha='right')\n",
    "plt.figtext(0.9, 0.45, 'Total Summer Precipitation: ' + str(round(Su_totalprep18)) + ' mm', fontsize = 14, ha='right')\n",
    "plt.figtext(0.9, 0.425, 'Total Fall Precipitation: ' + str(round(Ftotalprep18)) + ' mm', fontsize = 14, ha='right')\n",
    "plt.figtext(0.9, 0.4, 'Total 2018 Precipitation: ' + str(round(totalprep18)) + ' mm', fontsize = 14,ha='right')\n",
    "plt.plot(bin_val, test*y, color = 'k' )\n",
    "plt.legend(labels = ['$y = 214 e^{-0.28x}$', 'Winter', 'Spring', 'Summer', 'Fall'], fontsize = 14)\n",
    "#plt.figtext(0.3, 0.6, 'Exponential fit equation between 2 minutes to 42 minutes: $ y = e^{5.74}*e^{-0.54x}$' )"
   ]
  },
  {
   "cell_type": "code",
   "execution_count": 20,
   "metadata": {},
   "outputs": [
    {
     "data": {
      "text/plain": [
       "[<matplotlib.lines.Line2D at 0x15456950390>]"
      ]
     },
     "execution_count": 20,
     "metadata": {},
     "output_type": "execute_result"
    },
    {
     "data": {
      "image/png": "[encoded data removed]",
      "text/plain": [
       "<Figure size 432x288 with 1 Axes>"
      ]
     },
     "metadata": {
      "needs_background": "light"
     },
     "output_type": "display_data"
    }
   ],
   "source": [
    "test = np.exp(curve_fit[1])\n",
    "y = np.exp(curve_fit[0]*logx)\n",
    "plt.plot(bin_val, test*y)\n",
    "#plt.plot(bin_val, hist19)"
   ]
  },
  {
   "cell_type": "code",
   "execution_count": 22,
   "metadata": {},
   "outputs": [],
   "source": [
    "Summer17 = histplot.getData(18, direct, ASC, 197, 47, 6 , float)\n",
    "Fall17 = histplot.getData(18, direct, ASC, 244, 91, 6, float)"
   ]
  },
  {
   "cell_type": "code",
   "execution_count": 23,
   "metadata": {},
   "outputs": [],
   "source": [
    "Season17 = np.concatenate([Summer17, Fall17])"
   ]
  },
  {
   "cell_type": "code",
   "execution_count": 24,
   "metadata": {},
   "outputs": [],
   "source": [
    "Su_precip17, Su_nonprecip17, Su_preciptotal17, Su_totalprep17 = histplot.preciphist(Summer17, len(Summer17), 5000, 1, 1)\n",
    "Fprecip17, Fnonprecip17, Fpreciptotal17, Ftotalprep17 = histplot.preciphist(Fall17, len(Fall17), 5000, 1, 1)"
   ]
  },
  {
   "cell_type": "code",
   "execution_count": 25,
   "metadata": {},
   "outputs": [
    {
     "name": "stdout",
     "output_type": "stream",
     "text": [
      "[  1.     1.     1.     1.     1.     1.     1.     1.     1.     1.\n",
      "   1.     1.     1.     1.     1.     1.     1.     1.     1.     1.\n",
      "   1.     1.     1.     1.     1.     1.     1.     1.     1.     1.\n",
      "   2.     2.     2.     2.     2.     2.     3.     3.     3.     4.\n",
      "   4.     5.     5.     7.     8.    10.    14.    19.    27.    39.36\n",
      " 433.  ]\n"
     ]
    }
   ],
   "source": [
    "precip17, nonprecip17, preciptotal17, totalprep17 = histplot.preciphist(Season17, len(Season17), 20000, 1, 1)\n",
    "countAll = 0\n",
    "for i in range(0,20000):\n",
    "    hold = precip17[i]\n",
    "    if hold > 0:\n",
    "        countAll += 1\n",
    "perc = np.zeros(51)\n",
    "for i in range(0, 51):\n",
    "    perc[i] =np.percentile(precip17[:countAll], i*2)\n",
    "print(perc)"
   ]
  },
  {
   "cell_type": "code",
   "execution_count": 26,
   "metadata": {},
   "outputs": [
    {
     "name": "stdout",
     "output_type": "stream",
     "text": [
      "396\n",
      "1046\n"
     ]
    }
   ],
   "source": [
    "count = 0\n",
    "count1 = 0\n",
    "for i in range(0,5000):\n",
    "    hold2 = Su_precip17[i]\n",
    "    hold3 = Fprecip17[i]\n",
    "    if hold2 > 0:\n",
    "        count += 1\n",
    "    if hold3 > 0:\n",
    "        count1 += 1\n",
    "print(count)\n",
    "print(count1)"
   ]
  },
  {
   "cell_type": "code",
   "execution_count": 27,
   "metadata": {},
   "outputs": [],
   "source": [
    "one_bin = np.unique(perc)\n",
    "stop1 = np.array([1])\n",
    "one_bin = np.setdiff1d(one_bin, stop1)\n",
    "hist17, bin_edge = np.histogram(precip17, bins = one_bin)"
   ]
  },
  {
   "cell_type": "code",
   "execution_count": 28,
   "metadata": {},
   "outputs": [
    {
     "name": "stdout",
     "output_type": "stream",
     "text": [
      "[  2.5    3.5    4.5    6.     7.5    9.    12.    16.5   23.    33.18\n",
      " 236.18]\n",
      "[5.20400669 4.51085951 3.8918203  4.35670883 2.99573227 3.4657359\n",
      " 3.4339872  3.4339872  3.29583687 3.49650756 3.36729583]\n",
      "[-0.31758919  4.54988789]\n"
     ]
    }
   ],
   "source": [
    "log_x = np.log(one_bin)\n",
    "log_y = np.log(hist17)\n",
    "log_x_2 = np.log(bin_edge[:12])\n",
    "bin_val = np.zeros(11)\n",
    "for i in range(0, 11):\n",
    "    bin_val[i] = (one_bin[i]+one_bin[i+1])/2\n",
    "print(bin_val)\n",
    "logx = np.log(bin_val)\n",
    "print(log_y)\n",
    "curve_fit = np.polyfit(logx, log_y, 1)\n",
    "print(curve_fit)"
   ]
  },
  {
   "cell_type": "code",
   "execution_count": 31,
   "metadata": {},
   "outputs": [
    {
     "name": "stdout",
     "output_type": "stream",
     "text": [
      "94.62179963189587\n"
     ]
    }
   ],
   "source": [
    "test = np.exp(curve_fit[1])\n",
    "y = np.exp(curve_fit[0]*logx)\n",
    "print(test)"
   ]
  },
  {
   "cell_type": "code",
   "execution_count": 32,
   "metadata": {},
   "outputs": [
    {
     "data": {
      "text/plain": [
       "<matplotlib.legend.Legend at 0x154562ab2e8>"
      ]
     },
     "execution_count": 32,
     "metadata": {},
     "output_type": "execute_result"
    },
    {
     "data": {
      "image/png": "[encoded data removed]",
      "text/plain": [
       "<Figure size 720x576 with 1 Axes>"
      ]
     },
     "metadata": {
      "needs_background": "light"
     },
     "output_type": "display_data"
    }
   ],
   "source": [
    "plt.figure(figsize = (10,8))\n",
    "plt.hist([ Su_precip17,Fprecip17], bins =perc, range= (perc.min,perc.max), color = ['g','c'], stacked =True)\n",
    "plt.xlabel('Duration of Precipitation Events (minutes)', fontsize = 20)\n",
    "plt.xscale('log')\n",
    "plt.ylim(0,1000)\n",
    "#plt.yscale('log')\n",
    "plt.ylabel('Frequency', fontsize = 20)\n",
    "plt.title('2017 Precipitation duration by season', fontsize = 24)\n",
    "#plt.figtext(0.5, 0.5, 'Total Winter Precipitation: ' + str(round(Wtotalprep,2)) + ' mm', fontsize = 14)\n",
    "#plt.figtext(0.5, 0.475, 'Total Spring Precipitation: ' + str(round(Sp_totalprep,2)) + ' mm', fontsize = 14)\n",
    "plt.figtext(0.9, 0.45, 'Total Summer Precipitation: ' + str(round(Su_totalprep17)) + ' mm', fontsize = 14, ha = 'right')\n",
    "plt.figtext(0.9, 0.425, 'Total Fall Precipitation: ' + str(round(Ftotalprep17)) + ' mm', fontsize = 14, ha = 'right')\n",
    "plt.figtext(0.9, 0.4, 'Total 2017 Precipitation: ' + str(round(totalprep17)) + ' mm', fontsize = 14,ha='right')\n",
    "plt.plot(bin_val, test*y, color = 'k' )\n",
    "plt.legend(labels = ['$y = 94 e^{-0.32x}$', 'Summer', 'Fall'], fontsize = 14)\n",
    "#plt.figtext(0.3, 0.6, 'Exponential fit equation between 2 minutes to 42 minutes: $ y = e^{5.74}*e^{-0.54x}$' )"
   ]
  },
  {
   "cell_type": "code",
   "execution_count": 41,
   "metadata": {},
   "outputs": [
    {
     "name": "stdout",
     "output_type": "stream",
     "text": [
      "169.06296044233164\n"
     ]
    }
   ],
   "source": [
    "print(test)"
   ]
  },
  {
   "cell_type": "code",
   "execution_count": 33,
   "metadata": {},
   "outputs": [],
   "source": [
    "Winter20_1 = histplot.getData(19,direct, ASC, 335, 31, 6, float)\n",
    "Winter20_2 = histplot.getData(20, direct, ASC, 1, 60, 6, float)\n",
    "Spring20 = histplot.getData(20,direct, ASC, 61, 92,6, float)\n",
    "Summer20 = histplot.getData(20, direct, ASC, 153, 92, 6 , float)\n",
    "Fall20 = histplot.getData(20, direct, ASC, 245, 69, 6, float)"
   ]
  },
  {
   "cell_type": "code",
   "execution_count": 34,
   "metadata": {},
   "outputs": [],
   "source": [
    "Winter20 = np.concatenate([Winter20_1, Winter20_2])\n"
   ]
  },
  {
   "cell_type": "code",
   "execution_count": 35,
   "metadata": {},
   "outputs": [
    {
     "name": "stdout",
     "output_type": "stream",
     "text": [
      "(131040,)\n",
      "(132476,)\n",
      "(132464,)\n",
      "(99356,)\n"
     ]
    }
   ],
   "source": [
    "print(Winter20.shape)\n",
    "print(Spring20.shape)\n",
    "print(Summer20.shape)\n",
    "print(Fall20.shape)\n",
    "Season20 = np.concatenate([Winter20, Spring20, Summer20, Fall20])"
   ]
  },
  {
   "cell_type": "code",
   "execution_count": 36,
   "metadata": {},
   "outputs": [],
   "source": [
    "Wprecip20, Wnonprecip20, Wpreciptotal20, Wtotalprep20 = histplot.preciphist(Winter20, len(Winter20), 5000, 1, 1)\n",
    "Sp_precip20, Sp_nonprecip20, Sp_preciptotal20, Sp_totalprep20 = histplot.preciphist(Spring20, len(Spring20), 5000, 1, 1)\n",
    "Su_precip20, Su_nonprecip20, Su_preciptotal20, Su_totalprep20 = histplot.preciphist(Summer20, len(Summer20), 5000, 1, 1)\n",
    "Fprecip20, Fnonprecip20, Fpreciptotal20, Ftotalprep20 = histplot.preciphist(Fall20, len(Fall20), 5000, 1, 1)"
   ]
  },
  {
   "cell_type": "code",
   "execution_count": 37,
   "metadata": {},
   "outputs": [
    {
     "name": "stdout",
     "output_type": "stream",
     "text": [
      "[  1.   1.   1.   1.   1.   1.   1.   1.   1.   1.   1.   1.   1.   1.\n",
      "   1.   1.   1.   1.   1.   1.   1.   1.   1.   1.   1.   1.   1.   1.\n",
      "   1.   1.   1.   2.   2.   2.   2.   2.   2.   3.   3.   3.   4.   4.\n",
      "   5.   6.   6.   8.  10.  13.  19.  42. 268.]\n"
     ]
    }
   ],
   "source": [
    "precip20, nonprecip20, preciptotal20, totalprep20 = histplot.preciphist(Season20, len(Season20), 20000, 1, 1)\n",
    "countAll = 0\n",
    "for i in range(0,20000):\n",
    "    hold = precip20[i]\n",
    "    if hold > 0:\n",
    "        countAll += 1\n",
    "perc = np.zeros(51)\n",
    "for i in range(0, 51):\n",
    "    perc[i] =np.percentile(precip20[:countAll], i*2)\n",
    "print(perc)"
   ]
  },
  {
   "cell_type": "code",
   "execution_count": 38,
   "metadata": {},
   "outputs": [
    {
     "name": "stdout",
     "output_type": "stream",
     "text": [
      "1254\n",
      "1000\n",
      "469\n",
      "454\n"
     ]
    }
   ],
   "source": [
    "count = 0\n",
    "count1 = 0\n",
    "count2 = 0\n",
    "count3 = 0\n",
    "for i in range(0,5000):\n",
    "    hold = Wprecip20[i]\n",
    "    hold1 = Sp_precip20[i]\n",
    "    hold2 = Su_precip20[i]\n",
    "    hold3 = Fprecip20[i]\n",
    "    if hold > 0:\n",
    "        count += 1\n",
    "    if hold1 > 0:\n",
    "        count1 += 1\n",
    "    if hold2 > 0:\n",
    "        count2 += 1\n",
    "    if hold3 > 0:\n",
    "        count3 += 1\n",
    "print(count)\n",
    "print(count1)\n",
    "print(count2)\n",
    "print(count3)"
   ]
  },
  {
   "cell_type": "code",
   "execution_count": 39,
   "metadata": {},
   "outputs": [],
   "source": [
    "Wprecip20 = Wprecip20[:count]\n",
    "Sp_precip20 = Sp_precip20[:count1]\n",
    "Su_precip20 = Su_precip20[:count2]\n",
    "Fprecip20 = Fprecip20[:count3]"
   ]
  },
  {
   "cell_type": "code",
   "execution_count": 40,
   "metadata": {},
   "outputs": [],
   "source": [
    "one_bin = np.unique(perc)\n",
    "stop1 = np.array([1])\n",
    "one_bin = np.setdiff1d(one_bin, stop1)\n",
    "hist20, bin_edge = np.histogram(precip20, bins = one_bin)"
   ]
  },
  {
   "cell_type": "code",
   "execution_count": 42,
   "metadata": {},
   "outputs": [
    {
     "name": "stdout",
     "output_type": "stream",
     "text": [
      "[  2.5   3.5   4.5   5.5   7.    9.   11.5  16.   30.5 155. ]\n",
      "[5.99146455 5.27811466 4.91265489 4.47733681 4.7095302  4.06044301\n",
      " 4.39444915 4.18965474 4.18965474 4.17438727]\n",
      "[-0.35372053  5.4582981 ]\n"
     ]
    }
   ],
   "source": [
    "log_x = np.log(one_bin)\n",
    "log_y = np.log(hist20)\n",
    "log_x_2 = np.log(bin_edge[:12])\n",
    "bin_val = np.zeros(10)\n",
    "for i in range(0,10):\n",
    "    bin_val[i] = (one_bin[i]+one_bin[i+1])/2\n",
    "print(bin_val)\n",
    "logx = np.log(bin_val)\n",
    "print(log_y)\n",
    "curve_fit = np.polyfit(logx, log_y, 1)\n",
    "print(curve_fit)"
   ]
  },
  {
   "cell_type": "code",
   "execution_count": 43,
   "metadata": {},
   "outputs": [
    {
     "name": "stdout",
     "output_type": "stream",
     "text": [
      "234.6976514409022\n",
      "[0.72317008 0.64202504 0.5874154  0.54716527 0.50242527 0.45968977\n",
      " 0.42151147 0.37504039 0.29851948 0.16797116]\n"
     ]
    }
   ],
   "source": [
    "test = np.exp(curve_fit[1])\n",
    "y = np.exp(curve_fit[0]*logx)\n",
    "print(test)\n",
    "print(y)"
   ]
  },
  {
   "cell_type": "code",
   "execution_count": 60,
   "metadata": {},
   "outputs": [
    {
     "data": {
      "text/plain": [
       "<matplotlib.legend.Legend at 0x1545942a320>"
      ]
     },
     "execution_count": 60,
     "metadata": {},
     "output_type": "execute_result"
    },
    {
     "data": {
      "image/png": "[encoded data removed]",
      "text/plain": [
       "<Figure size 720x576 with 1 Axes>"
      ]
     },
     "metadata": {
      "needs_background": "light"
     },
     "output_type": "display_data"
    }
   ],
   "source": [
    "plt.figure(figsize = (10,8))\n",
    "plt.hist([Wprecip20, Sp_precip20, Su_precip20,Fprecip20], bins =perc, range= (perc.min,perc.max), color = ['r','b','g','c'], stacked =True)\n",
    "plt.xlabel('Duration of Precipitation Events (minutes)', fontsize = 20)\n",
    "plt.xscale('log')\n",
    "plt.ylim(0,2000)\n",
    "#plt.yscale('log')\n",
    "plt.ylabel('Frequency', fontsize = 20)\n",
    "plt.title('2020 Precipitation duration by season', fontsize = 24)\n",
    "plt.figtext(0.9, 0.5, 'Total Winter Precipitation: ' + str(round(Wtotalprep20)) + ' mm', fontsize = 14,ha='right')\n",
    "plt.figtext(0.9, 0.475, 'Total Spring Precipitation: ' + str(round(Sp_totalprep20)) + ' mm', fontsize = 14, ha='right')\n",
    "plt.figtext(0.9, 0.45, 'Total Summer Precipitation: ' + str(round(Su_totalprep20)) + ' mm', fontsize = 14, ha='right')\n",
    "plt.figtext(0.9, 0.425, 'Total Fall Precipitation: ' + str(round(Ftotalprep20)) + ' mm', fontsize = 14,ha='right')\n",
    "plt.figtext(0.9, 0.4, 'Total 2020 Precipitation: ' + str(round(totalprep20)) + ' mm', fontsize = 14,ha='right')\n",
    "\n",
    "plt.plot(bin_val, test*y, color = 'k' )\n",
    "plt.legend(labels = ['$y = 234 e^{-0.35x}$', 'Winter', 'Spring', 'Summer', 'Fall'], fontsize = 14)\n",
    "#plt.figtext(0.3, 0.6, 'Exponential fit equation between 2 minutes to 42 minutes: $ y = e^{5.74}*e^{-0.54x}$' )"
   ]
  },
  {
   "cell_type": "code",
   "execution_count": 44,
   "metadata": {},
   "outputs": [],
   "source": [
    "Winter19_1 = histplot.getData(18,direct, ASC, 335, 31, 6, float)\n",
    "Winter19_2 = histplot.getData(19, direct, ASC, 1, 59, 6, float)\n",
    "Spring19 = histplot.getData(19,direct, ASC, 60, 92,6, float)\n",
    "Summer19 = histplot.getData(19, direct, ASC, 152, 92, 6 , float)\n",
    "Fall19 = histplot.getData(19, direct, ASC, 244, 91, 6, float)"
   ]
  },
  {
   "cell_type": "code",
   "execution_count": 45,
   "metadata": {},
   "outputs": [],
   "source": [
    "Winter19 = np.concatenate([Winter19_1, Winter19_2])"
   ]
  },
  {
   "cell_type": "code",
   "execution_count": 46,
   "metadata": {},
   "outputs": [],
   "source": [
    "Season19 = np.concatenate([Winter19, Spring19, Summer19, Fall19])"
   ]
  },
  {
   "cell_type": "code",
   "execution_count": 47,
   "metadata": {},
   "outputs": [],
   "source": [
    "Wprecip19, Wnonprecip19, Wpreciptotal19, Wtotalprep19 = histplot.preciphist(Winter19, len(Winter19), 5000, 1, 1)\n",
    "Sp_precip19, Sp_nonprecip19, Sp_preciptotal19, Sp_totalprep19 = histplot.preciphist(Spring19, len(Spring19), 5000, 1, 1)\n",
    "Su_precip19, Su_nonprecip19, Su_preciptotal19, Su_totalprep19 = histplot.preciphist(Summer19, len(Summer19), 5000, 1, 1)\n",
    "Fprecip19, Fnonprecip19, Fpreciptotal19, Ftotalprep19 = histplot.preciphist(Fall19, len(Fall19), 5000, 1, 1)"
   ]
  },
  {
   "cell_type": "code",
   "execution_count": 48,
   "metadata": {},
   "outputs": [
    {
     "name": "stdout",
     "output_type": "stream",
     "text": [
      "[  1.   1.   1.   1.   1.   1.   1.   1.   1.   1.   1.   1.   1.   1.\n",
      "   1.   1.   1.   1.   1.   1.   1.   1.   1.   1.   1.   1.   1.   1.\n",
      "   1.   1.   2.   2.   2.   2.   2.   3.   3.   3.   4.   4.   5.   5.\n",
      "   6.   7.   9.  11.  13.  18.  25.  42. 368.]\n"
     ]
    }
   ],
   "source": [
    "precip19, nonprecip19, preciptotal19, totalprep19 = histplot.preciphist(Season19, len(Season19), 20000, 1, 1)\n",
    "countAll = 0\n",
    "for i in range(0,20000):\n",
    "    hold = precip19[i]\n",
    "    if hold > 0:\n",
    "        countAll += 1\n",
    "perc19 = np.zeros(51)\n",
    "for i in range(0, 51):\n",
    "    perc19[i] =np.percentile(precip19[:countAll], i*2)\n",
    "print(perc19)"
   ]
  },
  {
   "cell_type": "code",
   "execution_count": 49,
   "metadata": {},
   "outputs": [
    {
     "name": "stdout",
     "output_type": "stream",
     "text": [
      "1094\n",
      "1061\n",
      "445\n",
      "598\n"
     ]
    }
   ],
   "source": [
    "count = 0\n",
    "count1 = 0\n",
    "count2 = 0\n",
    "count3 = 0\n",
    "for i in range(0,5000):\n",
    "    hold = Wprecip19[i]\n",
    "    hold1 = Sp_precip19[i]\n",
    "    hold2 = Su_precip19[i]\n",
    "    hold3 = Fprecip19[i]\n",
    "    if hold > 0:\n",
    "        count += 1\n",
    "    if hold1 > 0:\n",
    "        count1 += 1\n",
    "    if hold2 > 0:\n",
    "        count2 += 1\n",
    "    if hold3 > 0:\n",
    "        count3 += 1\n",
    "print(count)\n",
    "print(count1)\n",
    "print(count2)\n",
    "print(count3)"
   ]
  },
  {
   "cell_type": "code",
   "execution_count": 50,
   "metadata": {},
   "outputs": [],
   "source": [
    "Wprecip19 = Wprecip19[:count]\n",
    "Sp_precip19 = Sp_precip19[:count1]\n",
    "Su_precip19 = Su_precip19[:count2]\n",
    "Fprecip19 = Fprecip19[:count3]"
   ]
  },
  {
   "cell_type": "code",
   "execution_count": 51,
   "metadata": {},
   "outputs": [],
   "source": [
    "one_bin = np.unique(perc)\n",
    "stop1 = np.array([1])\n",
    "one_bin = np.setdiff1d(one_bin, stop1)\n",
    "hist19, bin_edge = np.histogram(precip19, bins = one_bin)"
   ]
  },
  {
   "cell_type": "code",
   "execution_count": 55,
   "metadata": {},
   "outputs": [
    {
     "name": "stdout",
     "output_type": "stream",
     "text": [
      "[  2.5   3.5   4.5   5.5   7.    9.   11.5  16.   30.5 155. ]\n",
      "[5.83481074 5.25749537 4.77068462 4.53259949 4.82831374 4.51085951\n",
      " 4.40671925 4.53259949 4.73619845 4.15888308]\n",
      "[-0.28233228  5.41184543]\n"
     ]
    }
   ],
   "source": [
    "log_x = np.log(one_bin)\n",
    "log_y = np.log(hist19)\n",
    "log_x_2 = np.log(bin_edge[:12])\n",
    "bin_val = np.zeros(10)\n",
    "for i in range(0, 10):\n",
    "    bin_val[i] = (one_bin[i]+one_bin[i+1])/2\n",
    "print(bin_val)\n",
    "logx = np.log(bin_val)\n",
    "print(log_y)\n",
    "curve_fit = np.polyfit(logx, log_y, 1)\n",
    "print(curve_fit)"
   ]
  },
  {
   "cell_type": "code",
   "execution_count": 58,
   "metadata": {},
   "outputs": [
    {
     "name": "stdout",
     "output_type": "stream",
     "text": [
      "224.04466621282003\n"
     ]
    }
   ],
   "source": [
    "test19 = np.exp(curve_fit[1])\n",
    "y19 = np.exp(curve_fit[0]*logx)\n",
    "print(test19)"
   ]
  },
  {
   "cell_type": "code",
   "execution_count": 59,
   "metadata": {},
   "outputs": [
    {
     "data": {
      "text/plain": [
       "<matplotlib.legend.Legend at 0x1545918cf60>"
      ]
     },
     "execution_count": 59,
     "metadata": {},
     "output_type": "execute_result"
    },
    {
     "data": {
      "image/png": "[encoded data removed]",
      "text/plain": [
       "<Figure size 720x576 with 1 Axes>"
      ]
     },
     "metadata": {
      "needs_background": "light"
     },
     "output_type": "display_data"
    }
   ],
   "source": [
    "\n",
    "plt.figure(figsize = (10,8))\n",
    "plt.hist([Wprecip19, Sp_precip19, Su_precip19,Fprecip19], bins =perc, range= (perc19.min,perc19.max), color = ['r','b','g','c'], stacked =True)\n",
    "plt.xlabel('Duration of Precipitation Events (minutes)', fontsize = 20)\n",
    "plt.xscale('log')\n",
    "plt.ylim(0,2000)\n",
    "#plt.yscale('log')\n",
    "plt.ylabel('Frequency', fontsize = 20)\n",
    "plt.title('2019 Precipitation duration by season', fontsize = 24)\n",
    "plt.figtext(0.9, 0.5, 'Total Winter Precipitation: ' + str(round(Wtotalprep19)) + ' mm', fontsize = 14, ha='right')\n",
    "plt.figtext(0.9, 0.475, 'Total Spring Precipitation: ' + str(round(Sp_totalprep19)) + ' mm', fontsize = 14, ha='right')\n",
    "plt.figtext(0.9, 0.45, 'Total Summer Precipitation: ' + str(round(Su_totalprep19)) + ' mm', fontsize = 14, ha='right')\n",
    "plt.figtext(0.9, 0.425, 'Total Fall Precipitation: ' + str(round(Ftotalprep19)) + ' mm', fontsize = 14,ha='right')\n",
    "plt.figtext(0.9, 0.4, 'Total 2019 Precipitation: ' + str(round(totalprep19)) + ' mm', fontsize = 14,ha='right')\n",
    "plt.plot(bin_val, test19*y19, color = 'k' )\n",
    "plt.legend(labels = ['$y = 224 e^{-0.28x}$', 'Winter', 'Spring', 'Summer', 'Fall'], fontsize = 14)\n",
    "#plt.figtext(0.3, 0.6, 'Exponential fit equation between 2 minutes to 42 minutes: $ y = e^{5.74}*e^{-0.54x}$' )"
   ]
  },
  {
   "cell_type": "code",
   "execution_count": 63,
   "metadata": {},
   "outputs": [
    {
     "name": "stdout",
     "output_type": "stream",
     "text": [
      "[  2.   3.   4.   5.   6.   7.   9.  11.  13.  18.  25.  42. 368.]\n"
     ]
    }
   ],
   "source": [
    "Wperc19 = np.unique(perc19)\n",
    "one = np.array([1])\n",
    "perc19 = np.setdiff1d(perc19, one)\n",
    "print(perc19)"
   ]
  },
  {
   "cell_type": "code",
   "execution_count": 73,
   "metadata": {},
   "outputs": [
    {
     "name": "stdout",
     "output_type": "stream",
     "text": [
      "[  2.   3.   4.   5.   6.   7.   9.  11.  13.  18.  25.  42. 368.]\n"
     ]
    }
   ],
   "source": [
    "Whist19, Wbin_edge19 = np.histogram(Wprecip19, bins = perc19)\n",
    "print(Wbin_edge19)"
   ]
  },
  {
   "cell_type": "code",
   "execution_count": 75,
   "metadata": {},
   "outputs": [
    {
     "name": "stdout",
     "output_type": "stream",
     "text": [
      "[ 1.5  2.5  3.5  4.5  5.5  6.5  8.  10.  12.  15.5 21.5 33.5]\n",
      "[118  66  31  34  20  33  24  28  29  16  16  19]\n",
      "[-0.54872666  4.48859358]\n"
     ]
    }
   ],
   "source": [
    "log_x = np.log(Wperc19)\n",
    "log_y = np.log(Whist19)\n",
    "bin_val = np.zeros(len(perc19)-1)\n",
    "for i in range(len(perc19)-1):\n",
    "    bin_val[i] = (Wperc19[i]+Wperc19[i+1])/2\n",
    "print(bin_val)\n",
    "logx = np.log(bin_val)\n",
    "print(Whist19)\n",
    "curve_fit = np.polyfit(logx, log_y, 1)\n",
    "print(curve_fit)\n"
   ]
  },
  {
   "cell_type": "code",
   "execution_count": 66,
   "metadata": {},
   "outputs": [],
   "source": [
    "def calc(precip_data, what_bin):\n",
    "    hist, bin_edge = np.histogram(precip_data, bins = what_bin)\n",
    "    log_y = np.log(hist)\n",
    "    bin_val = np.zeros(len(what_bin)-1)\n",
    "    for i in range(len(what_bin)-1):\n",
    "        bin_val[i] = (what_bin[i] + what_bin[i+1])/2\n",
    "    logx = np.log(bin_val)\n",
    "    curve_fit = np.polyfit(logx, log_y,1)\n",
    "    curve_fit[1] = np.exp(curve_fit[1])\n",
    "    return curve_fit"
   ]
  },
  {
   "cell_type": "code",
   "execution_count": 76,
   "metadata": {},
   "outputs": [
    {
     "name": "stdout",
     "output_type": "stream",
     "text": [
      "[ -0.52088703 122.45818198]\n"
     ]
    }
   ],
   "source": [
    "Sp_curve_fit = calc(Sp_precip19, Wperc19)\n",
    "print(Sp_curve_fit)"
   ]
  },
  {
   "cell_type": "code",
   "execution_count": 77,
   "metadata": {},
   "outputs": [
    {
     "name": "stdout",
     "output_type": "stream",
     "text": [
      "88.99619199987698\n"
     ]
    }
   ],
   "source": [
    "print(np.exp(curve_fit[1]))"
   ]
  },
  {
   "cell_type": "code",
   "execution_count": 69,
   "metadata": {},
   "outputs": [
    {
     "name": "stdout",
     "output_type": "stream",
     "text": [
      "[-0.40553413 49.41193243]\n"
     ]
    }
   ],
   "source": [
    "Su_curve_fit19 = calc(Su_precip19, Wperc19)\n",
    "print(Su_curve_fit19)\n"
   ]
  },
  {
   "cell_type": "code",
   "execution_count": 70,
   "metadata": {},
   "outputs": [
    {
     "name": "stdout",
     "output_type": "stream",
     "text": [
      "[-0.55962208 69.12651996]\n"
     ]
    }
   ],
   "source": [
    "Fcurve_fit19 = calc(Fprecip19, Wperc19)\n",
    "print(Fcurve_fit19)"
   ]
  },
  {
   "cell_type": "code",
   "execution_count": 79,
   "metadata": {},
   "outputs": [
    {
     "name": "stdout",
     "output_type": "stream",
     "text": [
      "[-0.34218061 67.92717116]\n",
      "[-0.28585    59.83352026]\n",
      "[-0.18635456 25.33809878]\n",
      "[-0.3160019  32.90354345]\n"
     ]
    }
   ],
   "source": [
    "W_f19 = calc(Wprecip19, perc19)\n",
    "Sp_f19 = calc(Sp_precip19, perc19)\n",
    "Su_f19 = calc(Su_precip19, perc19)\n",
    "F_f19 = calc(Fprecip19, perc19)\n",
    "print(W_f19)\n",
    "print(Sp_f19)\n",
    "print(Su_f19)\n",
    "print(F_f19)"
   ]
  },
  {
   "cell_type": "code",
   "execution_count": 71,
   "metadata": {},
   "outputs": [
    {
     "name": "stdout",
     "output_type": "stream",
     "text": [
      "[  2.   3.   4.   5.   6.   8.  10.  13.  19.  42. 268.]\n"
     ]
    }
   ],
   "source": [
    "perc20 = one_bin\n",
    "print(perc20)"
   ]
  },
  {
   "cell_type": "code",
   "execution_count": 72,
   "metadata": {},
   "outputs": [
    {
     "name": "stdout",
     "output_type": "stream",
     "text": [
      "[ -0.51587648 119.30025908]\n",
      "[-0.32529406 60.35297715]\n",
      "[-0.2671361 36.3079918]\n",
      "[-0.2344435  29.30410359]\n"
     ]
    }
   ],
   "source": [
    "W_cf = calc(Wprecip20, perc20)\n",
    "Sp_cf = calc(Sp_precip20, perc20)\n",
    "Su_cf = calc(Su_precip20, perc20)\n",
    "F_cf = calc(Fprecip20, perc20)\n",
    "print(W_cf)\n",
    "print(Sp_cf)\n",
    "print(Su_cf)\n",
    "print(F_cf)"
   ]
  },
  {
   "cell_type": "code",
   "execution_count": 84,
   "metadata": {},
   "outputs": [
    {
     "name": "stdout",
     "output_type": "stream",
     "text": [
      "[  0.   1.   2.   3.   4.   5.   7.  12.  26. 433.]\n",
      "[  2.   3.   4.   5.   7.  12.  26. 433.]\n"
     ]
    }
   ],
   "source": [
    "perc17 = np.zeros(51)\n",
    "for i in range(0, 51):\n",
    "    perc17[i] =np.percentile(precip17[:countAll], i*2)\n",
    "perc17 = np.unique(perc17)\n",
    "print(perc17)\n",
    "second = np.array([0,1])\n",
    "perc17 = np.setdiff1d(perc17, second)\n",
    "print(perc17)"
   ]
  },
  {
   "cell_type": "code",
   "execution_count": 85,
   "metadata": {},
   "outputs": [
    {
     "name": "stdout",
     "output_type": "stream",
     "text": [
      "[-0.14606822 32.41665985]\n",
      "[-0.09276905 67.74937873]\n"
     ]
    }
   ],
   "source": [
    "#W_cf17 = calc(Wprecip20, perc20)\n",
    "#Sp_cf = calc(Sp_precip20, perc20)\n",
    "Su_cf17 = calc(Su_precip17, perc17)\n",
    "F_cf17 = calc(Fprecip17, perc17)\n",
    "#print(W_cf)\n",
    "#print(Sp_cf)\n",
    "print(Su_cf17)\n",
    "print(F_cf17)"
   ]
  },
  {
   "cell_type": "code",
   "execution_count": 86,
   "metadata": {},
   "outputs": [
    {
     "name": "stdout",
     "output_type": "stream",
     "text": [
      "[  2.   3.   4.   5.   7.  12.  26. 433.]\n",
      "[  2.   3.   4.   5.   7.  12.  26. 433.]\n"
     ]
    }
   ],
   "source": []
  },
  {
   "cell_type": "code",
   "execution_count": 91,
   "metadata": {},
   "outputs": [
    {
     "name": "stdout",
     "output_type": "stream",
     "text": [
      "[-0.37813023 73.52582575]\n",
      "[-0.27473188 46.16627468]\n",
      "[-0.23640581 37.83472133]\n",
      "[-0.2327441  55.17582818]\n"
     ]
    }
   ],
   "source": [
    "\n",
    "W_cf18 = calc(Wprecip18, one_bin)\n",
    "Sp_cf18 = calc(Sp_precip18, one_bin)\n",
    "Su_cf18 = calc(Su_precip18, one_bin)\n",
    "F_cf18 = calc(Fprecip18, one_bin)\n",
    "print(W_cf18)\n",
    "print(Sp_cf18)\n",
    "print(Su_cf18)\n",
    "print(F_cf18)"
   ]
  },
  {
   "cell_type": "code",
   "execution_count": 76,
   "metadata": {},
   "outputs": [
    {
     "name": "stdout",
     "output_type": "stream",
     "text": [
      "519.6899999999737\n",
      "1104.409999999886\n",
      "1016.3399999998909\n",
      "858.1799999999121\n"
     ]
    }
   ],
   "source": [
    "print(totalprep17)\n",
    "print(totalprep18)\n",
    "print(totalprep19)\n",
    "print(totalprep20)"
   ]
  },
  {
   "cell_type": "code",
   "execution_count": 78,
   "metadata": {},
   "outputs": [
    {
     "name": "stdout",
     "output_type": "stream",
     "text": [
      "18072.0\n",
      "7598.0\n",
      "17044.0\n",
      "15235.0\n"
     ]
    }
   ],
   "source": [
    "print(sum(precip18))\n",
    "print(sum(precip17))\n",
    "print(sum(precip19))\n",
    "print(sum(precip20))"
   ]
  },
  {
   "cell_type": "code",
   "execution_count": 79,
   "metadata": {},
   "outputs": [],
   "source": [
    "int17 = totalprep17/sum(precip17)\n",
    "int18 = totalprep18/sum(precip18)\n",
    "int19 = totalprep19/sum(precip19)\n",
    "int20 = totalprep20/sum(precip20)"
   ]
  },
  {
   "cell_type": "code",
   "execution_count": 80,
   "metadata": {},
   "outputs": [
    {
     "name": "stdout",
     "output_type": "stream",
     "text": [
      "0.06839826270070724\n",
      "0.06111166445329161\n",
      "0.059630368458102025\n",
      "0.05632950443058169\n"
     ]
    }
   ],
   "source": [
    "print(int17)\n",
    "print(int18)\n",
    "print(int19)\n",
    "print(int20)\n"
   ]
  },
  {
   "cell_type": "code",
   "execution_count": 82,
   "metadata": {},
   "outputs": [
    {
     "name": "stdout",
     "output_type": "stream",
     "text": [
      "0.07127440347071655\n",
      "0.06747653806047849\n",
      "131.43000000000131\n",
      "388.25999999999317\n"
     ]
    }
   ],
   "source": [
    "Su_int17 = Su_totalprep17/sum(Su_precip17)\n",
    "F_int17 = Ftotalprep17/sum(Fprecip17)\n",
    "print(Su_int17)\n",
    "print(F_int17)\n",
    "print(Su_totalprep17)\n",
    "print(Ftotalprep17)"
   ]
  },
  {
   "cell_type": "code",
   "execution_count": 83,
   "metadata": {},
   "outputs": [
    {
     "name": "stdout",
     "output_type": "stream",
     "text": [
      "0.07822585351619402\n",
      "0.06747653806047849\n",
      "268.0799999999969\n",
      "388.25999999999317\n",
      "0.06652682711415259\n",
      "0.03364740944520913\n",
      "301.29999999999706\n",
      "146.77000000000223\n"
     ]
    }
   ],
   "source": [
    "Su_int18 = Su_totalprep18/sum(Su_precip18)\n",
    "F_int18 = Ftotalprep18/sum(Fprecip18)\n",
    "Sp_int18 = Sp_totalprep18/sum(Sp_precip18)\n",
    "W_int18 = Wtotalprep18/sum(Wprecip18)\n",
    "print(Su_int18)\n",
    "print(F_int18)\n",
    "print(Su_totalprep18)\n",
    "print(Ftotalprep18)\n",
    "print(Sp_int18)\n",
    "print(W_int18)\n",
    "print(Sp_totalprep18)\n",
    "print(Wtotalprep18)"
   ]
  },
  {
   "cell_type": "code",
   "execution_count": 85,
   "metadata": {},
   "outputs": [
    {
     "name": "stdout",
     "output_type": "stream",
     "text": [
      "0.0404611965178736\n",
      "0.056015487504399254\n",
      "218.4499999999996\n",
      "318.27999999999656\n",
      "0.1110970996216882\n",
      "0.045578645646722704\n",
      "352.399999999995\n",
      "127.21000000000306\n"
     ]
    }
   ],
   "source": [
    "W_int19 = Wtotalprep19/sum(Wprecip19)\n",
    "Sp_int19 = Sp_totalprep19/sum(Sp_precip19)\n",
    "Su_int19 = Su_totalprep19/sum(Su_precip19)\n",
    "F_int19 = Ftotalprep19/sum(Fprecip19)\n",
    "print(W_int19)\n",
    "print(Sp_int19)\n",
    "print(Wtotalprep19)\n",
    "print(Sp_totalprep19)\n",
    "print(Su_int19)\n",
    "print(F_int19)\n",
    "print(Su_totalprep19)\n",
    "print(Ftotalprep19)"
   ]
  },
  {
   "cell_type": "code",
   "execution_count": 86,
   "metadata": {},
   "outputs": [
    {
     "name": "stdout",
     "output_type": "stream",
     "text": [
      "0.0313906735751291\n",
      "0.042436525612471604\n",
      "151.4599999999979\n",
      "190.5399999999975\n",
      "0.12050187265917418\n",
      "0.05982769230769262\n",
      "321.73999999999506\n",
      "194.44000000000102\n"
     ]
    }
   ],
   "source": [
    "W_int20 = Wtotalprep20/sum(Wprecip20)\n",
    "Sp_int20 = Sp_totalprep20/sum(Sp_precip20)\n",
    "Su_int20 = Su_totalprep20/sum(Su_precip20)\n",
    "F_int20 = Ftotalprep20/sum(Fprecip20)\n",
    "print(W_int20)\n",
    "print(Sp_int20)\n",
    "print(Wtotalprep20)\n",
    "print(Sp_totalprep20)\n",
    "print(Su_int20)\n",
    "print(F_int20)\n",
    "print(Su_totalprep20)\n",
    "print(Ftotalprep20)"
   ]
  },
  {
   "cell_type": "code",
   "execution_count": null,
   "metadata": {},
   "outputs": [],
   "source": []
  },
  {
   "cell_type": "code",
   "execution_count": null,
   "metadata": {},
   "outputs": [],
   "source": []
  }
 ],
 "metadata": {
  "kernelspec": {
   "display_name": "Python 3",
   "language": "python",
   "name": "python3"
  },
  "language_info": {
   "codemirror_mode": {
    "name": "ipython",
    "version": 3
   },
   "file_extension": ".py",
   "mimetype": "text/x-python",
   "name": "python",
   "nbconvert_exporter": "python",
   "pygments_lexer": "ipython3",
   "version": "3.7.3"
  }
 },
 "nbformat": 4,
 "nbformat_minor": 4
}
