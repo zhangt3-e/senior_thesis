{
 "cells": [
  {
   "cell_type": "code",
   "execution_count": 90,
   "id": "homeless-turkish",
   "metadata": {},
   "outputs": [],
   "source": [
    "# Packages for neural networks\n",
    "import numpy as np\n",
    "import matplotlib.pyplot as plt\n",
    "import matplotlib as mlt\n",
    "import datetime \n",
    "import import_ipynb\n",
    "import histplot\n",
    "import pandas \n",
    "from pandas import DataFrame\n",
    "from pandas import concat\n",
    "from sklearn.preprocessing import MinMaxScaler\n",
    "from sklearn.preprocessing import StandardScaler\n",
    "from sklearn.preprocessing import LabelEncoder\n",
    "from sklearn.metrics import mean_squared_error\n",
    "from keras.models import Sequential\n",
    "from keras.layers import Dense\n",
    "from keras.layers import LSTM"
   ]
  },
  {
   "cell_type": "code",
   "execution_count": 3,
   "id": "supported-medicine",
   "metadata": {},
   "outputs": [],
   "source": [
    "# \"converting\" data\n",
    "# Upload data\n",
    "ASC = '__ASC_ASCIIIn.mrk'\n",
    "direct = 'C:/Users/tyron/Documents/Geoscience/weather/'"
   ]
  },
  {
   "cell_type": "code",
   "execution_count": 4,
   "id": "ongoing-message",
   "metadata": {},
   "outputs": [],
   "source": [
    "# Get Data for the completed years of 2018, 2019, and 2020\n",
    "Whole18 = histplot.getData(18, direct, ASC, 1, 365, np.arange(3, 7), float)\n",
    "Whole19 = histplot.getData(19, direct, ASC, 1, 365, np.arange(3, 7), float)\n",
    "Whole20 = histplot.getData(20, direct, ASC, 1, 366, np.arange(3, 7), float)"
   ]
  },
  {
   "cell_type": "code",
   "execution_count": 132,
   "id": "close-hammer",
   "metadata": {},
   "outputs": [],
   "source": [
    "# Have the Data then convert them into hourly data. \n",
    "def hourly(weather):\n",
    "    minute = 0\n",
    "    Hourly = np.zeros((8760, 4))\n",
    "    hour = 0\n",
    "    endminute = 60\n",
    "    while (minute < len(weather[:, 3]) and hour < 8760):\n",
    "        temp = np.nanmean(weather[np.arange(minute, endminute), 0])\n",
    "        relhum = np.nanmean(weather[np.arange(minute, endminute), 1])\n",
    "        air_p = np.nanmean(weather[np.arange(minute, endminute), 2])\n",
    "        precip = np.nanmean(weather[np.arange(minute, endminute), 3])\n",
    "        if (minute+60 < len(weather[:, 3])):\n",
    "            minute += 60\n",
    "        if (minute+60 < len(weather[:, 3])):\n",
    "            endminute += 60\n",
    "        else:\n",
    "            endminute = len(weather[:, 3])-1\n",
    "        Hourly[hour, 0] = temp\n",
    "        Hourly[hour, 1] = relhum\n",
    "        Hourly[hour, 2] = air_p\n",
    "        Hourly[hour, 3] = 60*precip\n",
    "        hour += 1\n",
    "    \n",
    "    return Hourly"
   ]
  },
  {
   "cell_type": "code",
   "execution_count": 133,
   "id": "fatal-surveillance",
   "metadata": {},
   "outputs": [],
   "source": [
    "hour18 = hourly(Whole18)\n",
    "hour19 = hourly(Whole19)\n",
    "hour20 = hourly(Whole20)"
   ]
  },
  {
   "cell_type": "code",
   "execution_count": 120,
   "id": "physical-conservation",
   "metadata": {},
   "outputs": [
    {
     "name": "stdout",
     "output_type": "stream",
     "text": [
      "(26280, 4)\n"
     ]
    }
   ],
   "source": [
    "hourall = np.concatenate([hour18, hour19, hour20], axis = 0)\n",
    "print(hourall.shape)"
   ]
  },
  {
   "cell_type": "code",
   "execution_count": 122,
   "id": "accredited-blend",
   "metadata": {},
   "outputs": [],
   "source": [
    "new_hour = pandas.DataFrame(hourall)"
   ]
  },
  {
   "cell_type": "code",
   "execution_count": 123,
   "id": "linear-spray",
   "metadata": {},
   "outputs": [
    {
     "data": {
      "text/html": [
       "<div>\n",
       "<style scoped>\n",
       "    .dataframe tbody tr th:only-of-type {\n",
       "        vertical-align: middle;\n",
       "    }\n",
       "\n",
       "    .dataframe tbody tr th {\n",
       "        vertical-align: top;\n",
       "    }\n",
       "\n",
       "    .dataframe thead th {\n",
       "        text-align: right;\n",
       "    }\n",
       "</style>\n",
       "<table border=\"1\" class=\"dataframe\">\n",
       "  <thead>\n",
       "    <tr style=\"text-align: right;\">\n",
       "      <th></th>\n",
       "      <th>Temperature ($^\\circ C$)</th>\n",
       "      <th>Relative Humidity (%)</th>\n",
       "      <th>Atmospheric Pressure (bar)</th>\n",
       "      <th>Precipitation (mm)</th>\n",
       "    </tr>\n",
       "  </thead>\n",
       "  <tbody>\n",
       "    <tr>\n",
       "      <th>0</th>\n",
       "      <td>-10.955000</td>\n",
       "      <td>45.361667</td>\n",
       "      <td>1.017778</td>\n",
       "      <td>0.0</td>\n",
       "    </tr>\n",
       "    <tr>\n",
       "      <th>1</th>\n",
       "      <td>-11.401667</td>\n",
       "      <td>46.405000</td>\n",
       "      <td>1.017877</td>\n",
       "      <td>0.0</td>\n",
       "    </tr>\n",
       "    <tr>\n",
       "      <th>2</th>\n",
       "      <td>-11.616667</td>\n",
       "      <td>47.426667</td>\n",
       "      <td>1.018020</td>\n",
       "      <td>0.0</td>\n",
       "    </tr>\n",
       "    <tr>\n",
       "      <th>3</th>\n",
       "      <td>-11.930000</td>\n",
       "      <td>48.390000</td>\n",
       "      <td>1.018145</td>\n",
       "      <td>0.0</td>\n",
       "    </tr>\n",
       "    <tr>\n",
       "      <th>4</th>\n",
       "      <td>-12.368333</td>\n",
       "      <td>49.235000</td>\n",
       "      <td>1.018128</td>\n",
       "      <td>0.0</td>\n",
       "    </tr>\n",
       "    <tr>\n",
       "      <th>...</th>\n",
       "      <td>...</td>\n",
       "      <td>...</td>\n",
       "      <td>...</td>\n",
       "      <td>...</td>\n",
       "    </tr>\n",
       "    <tr>\n",
       "      <th>26275</th>\n",
       "      <td>5.088333</td>\n",
       "      <td>42.065000</td>\n",
       "      <td>1.016072</td>\n",
       "      <td>0.0</td>\n",
       "    </tr>\n",
       "    <tr>\n",
       "      <th>26276</th>\n",
       "      <td>5.028333</td>\n",
       "      <td>43.433333</td>\n",
       "      <td>1.015270</td>\n",
       "      <td>0.0</td>\n",
       "    </tr>\n",
       "    <tr>\n",
       "      <th>26277</th>\n",
       "      <td>4.566667</td>\n",
       "      <td>47.421667</td>\n",
       "      <td>1.014422</td>\n",
       "      <td>0.0</td>\n",
       "    </tr>\n",
       "    <tr>\n",
       "      <th>26278</th>\n",
       "      <td>4.046667</td>\n",
       "      <td>50.323333</td>\n",
       "      <td>1.013760</td>\n",
       "      <td>0.0</td>\n",
       "    </tr>\n",
       "    <tr>\n",
       "      <th>26279</th>\n",
       "      <td>3.580000</td>\n",
       "      <td>54.320000</td>\n",
       "      <td>1.012818</td>\n",
       "      <td>0.0</td>\n",
       "    </tr>\n",
       "  </tbody>\n",
       "</table>\n",
       "<p>26280 rows × 4 columns</p>\n",
       "</div>"
      ],
      "text/plain": [
       "       Temperature ($^\\circ C$)  Relative Humidity (%)  \\\n",
       "0                    -10.955000              45.361667   \n",
       "1                    -11.401667              46.405000   \n",
       "2                    -11.616667              47.426667   \n",
       "3                    -11.930000              48.390000   \n",
       "4                    -12.368333              49.235000   \n",
       "...                         ...                    ...   \n",
       "26275                  5.088333              42.065000   \n",
       "26276                  5.028333              43.433333   \n",
       "26277                  4.566667              47.421667   \n",
       "26278                  4.046667              50.323333   \n",
       "26279                  3.580000              54.320000   \n",
       "\n",
       "       Atmospheric Pressure (bar)  Precipitation (mm)  \n",
       "0                        1.017778                 0.0  \n",
       "1                        1.017877                 0.0  \n",
       "2                        1.018020                 0.0  \n",
       "3                        1.018145                 0.0  \n",
       "4                        1.018128                 0.0  \n",
       "...                           ...                 ...  \n",
       "26275                    1.016072                 0.0  \n",
       "26276                    1.015270                 0.0  \n",
       "26277                    1.014422                 0.0  \n",
       "26278                    1.013760                 0.0  \n",
       "26279                    1.012818                 0.0  \n",
       "\n",
       "[26280 rows x 4 columns]"
      ]
     },
     "execution_count": 123,
     "metadata": {},
     "output_type": "execute_result"
    }
   ],
   "source": [
    "new_hour = new_hour.rename({0: \"Temperature ($^\\circ C$)\", 1 : \"Relative Humidity (%)\", 2: \"Atmospheric Pressure (bar)\", 3: \"Precipitation (mm)\"}, axis = 'columns')\n",
    "new_hour"
   ]
  },
  {
   "cell_type": "code",
   "execution_count": 35,
   "id": "powered-woman",
   "metadata": {},
   "outputs": [],
   "source": [
    "# convert series to supervised learning\n",
    "def series_to_supervised(data, n_in=1, n_out=1, dropnan=True):\n",
    "    n_vars = 1 if type(data) is list else data.shape[1]\n",
    "    df = DataFrame(data)\n",
    "    cols, names = list(), list()\n",
    "    # input sequence (t-n, ... t-1)\n",
    "    for i in range(n_in, 0, -1):\n",
    "        cols.append(df.shift(i))\n",
    "        names += [('var%d(t-%d)' % (j+1, i)) for j in range(n_vars)]\n",
    "    # forecast sequence (t, t+1, ... t+n)\n",
    "    for i in range(0, n_out):\n",
    "        cols.append(df.shift(-i))\n",
    "        if i == 0:\n",
    "            names += [('var%d(t)' % (j+1)) for j in range(n_vars)]\n",
    "        else:\n",
    "            names += [('var%d(t+%d)' % (j+1, i)) for j in range(n_vars)]\n",
    "    # put it all together\n",
    "    agg = concat(cols, axis=1)\n",
    "    agg.columns = names\n",
    "    # drop rows with NaN values\n",
    "    if dropnan:\n",
    "        agg.dropna(inplace=True)\n",
    "    return agg"
   ]
  },
  {
   "cell_type": "code",
   "execution_count": 124,
   "id": "individual-disco",
   "metadata": {},
   "outputs": [
    {
     "name": "stdout",
     "output_type": "stream",
     "text": [
      "[[-10.955       45.36166667   1.01777833   0.        ]\n",
      " [-11.40166667  46.405        1.01787667   0.        ]\n",
      " [-11.61666667  47.42666667   1.01802      0.        ]\n",
      " ...\n",
      " [  4.56666667  47.42166667   1.01442167   0.        ]\n",
      " [  4.04666667  50.32333333   1.01376      0.        ]\n",
      " [  3.58        54.32         1.01281833   0.        ]]\n"
     ]
    }
   ],
   "source": [
    "values = new_hour.values\n",
    "print(values)"
   ]
  },
  {
   "cell_type": "code",
   "execution_count": 125,
   "id": "choice-standard",
   "metadata": {},
   "outputs": [
    {
     "name": "stdout",
     "output_type": "stream",
     "text": [
      "[[-10.955       45.36166667   1.01777833   0.        ]\n",
      " [-11.40166667  46.405        1.01787667   0.        ]\n",
      " [-11.61666667  47.42666667   1.01802      0.        ]\n",
      " ...\n",
      " [  4.56666667  47.42166667   1.01442167   0.        ]\n",
      " [  4.04666667  50.32333333   1.01376      0.        ]\n",
      " [  3.58        54.32         1.01281833   0.        ]]\n",
      "   var4(t-1)   var1(t)   var2(t)   var3(t)   var4(t)\n",
      "1  -0.133183 -2.525772 -0.818005  1.196541 -0.133183\n",
      "2  -0.133183 -2.547769 -0.763203  1.214980 -0.133183\n",
      "3  -0.133183 -2.579826 -0.711530  1.231061 -0.133183\n",
      "4  -0.133183 -2.624672 -0.666204  1.228916 -0.133183\n",
      "5  -0.133183 -2.683841 -0.558209  1.240709 -0.133183\n"
     ]
    }
   ],
   "source": [
    "#encoder = LabelEncoder()\n",
    "#values[:,4] = encoder.fit_transform(values[:,4])\n",
    "# ensure all data is float\n",
    "values = values.astype('float64')\n",
    "print(values)\n",
    "# normalize features\n",
    "scaler = StandardScaler()\n",
    "scaled = scaler.fit_transform(values)\n",
    "# frame as supervised learning\n",
    "reframed = series_to_supervised(scaled, 1, 1)\n",
    "# drop columns we don't want to predict\n",
    "reframed.drop(reframed.columns[[0,1,2]], axis=1, inplace=True)\n",
    "print(reframed.head())"
   ]
  },
  {
   "cell_type": "code",
   "execution_count": 126,
   "id": "macro-withdrawal",
   "metadata": {},
   "outputs": [
    {
     "name": "stdout",
     "output_type": "stream",
     "text": [
      "[[-0.13318332 -2.52577226 -0.8180051   1.19654121 -0.13318332]\n",
      " [-0.13318332 -2.54776894 -0.76320291  1.21498009 -0.13318332]\n",
      " [-0.13318332 -2.57982612 -0.71152971  1.23106051 -0.13318332]\n",
      " ...\n",
      " [-0.13318332 -0.89204976 -0.76347111  0.75207838 -0.13318332]\n",
      " [-0.13318332 -0.94525103 -0.60782573  0.66695936 -0.13318332]\n",
      " [-0.13318332 -0.99299577 -0.39344456  0.54582019 -0.13318332]]\n",
      "(8760, 1, 4) (8760,) (17519, 1, 4) (17519,)\n"
     ]
    }
   ],
   "source": [
    "# split into train and test sets\n",
    "values = reframed.values\n",
    "print(values)\n",
    "n_train_hours = 365 * 24\n",
    "train = values[:n_train_hours, :]\n",
    "test = values[n_train_hours:, :]\n",
    "# split into input and outputs\n",
    "train_X, train_y = train[:, :-1], train[:, -1]\n",
    "test_X, test_y = test[:, :-1], test[:, -1]\n",
    "# reshape input to be 3D [samples, timesteps, features]\n",
    "train_X = train_X.reshape((train_X.shape[0], 1, train_X.shape[1]))\n",
    "test_X = test_X.reshape((test_X.shape[0], 1, test_X.shape[1]))\n",
    "print(train_X.shape, train_y.shape, test_X.shape, test_y.shape)"
   ]
  },
  {
   "cell_type": "code",
   "execution_count": 127,
   "id": "dangerous-waste",
   "metadata": {},
   "outputs": [
    {
     "name": "stdout",
     "output_type": "stream",
     "text": [
      "Epoch 1/50\n",
      "122/122 - 1s - loss: 0.1662 - val_loss: 0.1230\n",
      "Epoch 2/50\n",
      "122/122 - 0s - loss: 0.1374 - val_loss: 0.1230\n",
      "Epoch 3/50\n",
      "122/122 - 0s - loss: 0.1357 - val_loss: 0.1194\n",
      "Epoch 4/50\n",
      "122/122 - 0s - loss: 0.1328 - val_loss: 0.1175\n",
      "Epoch 5/50\n",
      "122/122 - 0s - loss: 0.1327 - val_loss: 0.1166\n",
      "Epoch 6/50\n",
      "122/122 - 0s - loss: 0.1313 - val_loss: 0.1155\n",
      "Epoch 7/50\n",
      "122/122 - 0s - loss: 0.1304 - val_loss: 0.1183\n",
      "Epoch 8/50\n",
      "122/122 - 0s - loss: 0.1321 - val_loss: 0.1202\n",
      "Epoch 9/50\n",
      "122/122 - 0s - loss: 0.1311 - val_loss: 0.1160\n",
      "Epoch 10/50\n",
      "122/122 - 0s - loss: 0.1312 - val_loss: 0.1163\n",
      "Epoch 11/50\n",
      "122/122 - 0s - loss: 0.1308 - val_loss: 0.1153\n",
      "Epoch 12/50\n",
      "122/122 - 0s - loss: 0.1311 - val_loss: 0.1173\n",
      "Epoch 13/50\n",
      "122/122 - 0s - loss: 0.1299 - val_loss: 0.1151\n",
      "Epoch 14/50\n",
      "122/122 - 0s - loss: 0.1301 - val_loss: 0.1142\n",
      "Epoch 15/50\n",
      "122/122 - 0s - loss: 0.1298 - val_loss: 0.1141\n",
      "Epoch 16/50\n",
      "122/122 - 0s - loss: 0.1302 - val_loss: 0.1149\n",
      "Epoch 17/50\n",
      "122/122 - 1s - loss: 0.1312 - val_loss: 0.1161\n",
      "Epoch 18/50\n",
      "122/122 - 0s - loss: 0.1302 - val_loss: 0.1154\n",
      "Epoch 19/50\n",
      "122/122 - 0s - loss: 0.1301 - val_loss: 0.1141\n",
      "Epoch 20/50\n",
      "122/122 - 0s - loss: 0.1295 - val_loss: 0.1153\n",
      "Epoch 21/50\n",
      "122/122 - 0s - loss: 0.1306 - val_loss: 0.1192\n",
      "Epoch 22/50\n",
      "122/122 - 0s - loss: 0.1311 - val_loss: 0.1161\n",
      "Epoch 23/50\n",
      "122/122 - 0s - loss: 0.1317 - val_loss: 0.1175\n",
      "Epoch 24/50\n",
      "122/122 - 0s - loss: 0.1304 - val_loss: 0.1157\n",
      "Epoch 25/50\n",
      "122/122 - 0s - loss: 0.1296 - val_loss: 0.1151\n",
      "Epoch 26/50\n",
      "122/122 - 0s - loss: 0.1312 - val_loss: 0.1177\n",
      "Epoch 27/50\n",
      "122/122 - 0s - loss: 0.1305 - val_loss: 0.1148\n",
      "Epoch 28/50\n",
      "122/122 - 0s - loss: 0.1305 - val_loss: 0.1142\n",
      "Epoch 29/50\n",
      "122/122 - 0s - loss: 0.1294 - val_loss: 0.1147\n",
      "Epoch 30/50\n",
      "122/122 - 0s - loss: 0.1298 - val_loss: 0.1147\n",
      "Epoch 31/50\n",
      "122/122 - 0s - loss: 0.1305 - val_loss: 0.1157\n",
      "Epoch 32/50\n",
      "122/122 - 0s - loss: 0.1293 - val_loss: 0.1172\n",
      "Epoch 33/50\n",
      "122/122 - 0s - loss: 0.1294 - val_loss: 0.1171\n",
      "Epoch 34/50\n",
      "122/122 - 0s - loss: 0.1294 - val_loss: 0.1154\n",
      "Epoch 35/50\n",
      "122/122 - 0s - loss: 0.1295 - val_loss: 0.1158\n",
      "Epoch 36/50\n",
      "122/122 - 0s - loss: 0.1303 - val_loss: 0.1181\n",
      "Epoch 37/50\n",
      "122/122 - 0s - loss: 0.1300 - val_loss: 0.1159\n",
      "Epoch 38/50\n",
      "122/122 - 0s - loss: 0.1304 - val_loss: 0.1165\n",
      "Epoch 39/50\n",
      "122/122 - 0s - loss: 0.1293 - val_loss: 0.1156\n",
      "Epoch 40/50\n",
      "122/122 - 0s - loss: 0.1298 - val_loss: 0.1152\n",
      "Epoch 41/50\n",
      "122/122 - 0s - loss: 0.1288 - val_loss: 0.1176\n",
      "Epoch 42/50\n",
      "122/122 - 0s - loss: 0.1316 - val_loss: 0.1182\n",
      "Epoch 43/50\n",
      "122/122 - 0s - loss: 0.1305 - val_loss: 0.1147\n",
      "Epoch 44/50\n",
      "122/122 - 0s - loss: 0.1300 - val_loss: 0.1145\n",
      "Epoch 45/50\n",
      "122/122 - 0s - loss: 0.1294 - val_loss: 0.1147\n",
      "Epoch 46/50\n",
      "122/122 - 0s - loss: 0.1300 - val_loss: 0.1139\n",
      "Epoch 47/50\n",
      "122/122 - 0s - loss: 0.1294 - val_loss: 0.1160\n",
      "Epoch 48/50\n",
      "122/122 - 0s - loss: 0.1304 - val_loss: 0.1176\n",
      "Epoch 49/50\n",
      "122/122 - 0s - loss: 0.1294 - val_loss: 0.1138\n",
      "Epoch 50/50\n",
      "122/122 - 0s - loss: 0.1298 - val_loss: 0.1144\n"
     ]
    },
    {
     "data": {
      "image/png": "[encoded data removed]",
      "text/plain": [
       "<Figure size 432x288 with 1 Axes>"
      ]
     },
     "metadata": {
      "needs_background": "light"
     },
     "output_type": "display_data"
    }
   ],
   "source": [
    "# design network\n",
    "model = Sequential()\n",
    "model.add(LSTM(50, input_shape=(train_X.shape[1], train_X.shape[2])))\n",
    "model.add(Dense(1))\n",
    "model.compile(loss='mae', optimizer='adam')\n",
    "# fit network\n",
    "history = model.fit(train_X, train_y, epochs=50, batch_size=72, validation_data=(test_X, test_y), verbose=2, shuffle=False)\n",
    "# plot history\n",
    "plt.plot(history.history['loss'], label='train')\n",
    "plt.plot(history.history['val_loss'], label='test')\n",
    "plt.legend()\n",
    "plt.show()"
   ]
  },
  {
   "cell_type": "code",
   "execution_count": 128,
   "id": "critical-scale",
   "metadata": {},
   "outputs": [
    {
     "name": "stdout",
     "output_type": "stream",
     "text": [
      "[[-0.01000888 -0.68640636  1.50362317 -0.23075692]\n",
      " [ 0.14675859 -0.66270451  1.52811877 -0.4783954 ]\n",
      " [ 5.14092232 -0.64838109  1.54197577 -0.75283458]\n",
      " ...\n",
      " [-0.13318332 -0.89204976 -0.76347111  0.75207838]\n",
      " [-0.13318332 -0.94525103 -0.60782573  0.66695936]\n",
      " [-0.13318332 -0.99299577 -0.39344456  0.54582019]]\n",
      "[[-0.06482574 -0.68640636  1.50362317 -0.23075692]\n",
      " [ 0.02796724 -0.66270451  1.52811877 -0.4783954 ]\n",
      " [ 2.11833477 -0.64838109  1.54197577 -0.75283458]\n",
      " ...\n",
      " [-0.13334514 -0.89204976 -0.76347111  0.75207838]\n",
      " [-0.13349789 -0.94525103 -0.60782573  0.66695936]\n",
      " [-0.1337063  -0.99299577 -0.39344456  0.54582019]]\n",
      "[[12.65212114 48.85836974  1.02026375 -0.08713736]\n",
      " [13.55909838 49.30023875  1.02045416 -0.30828902]\n",
      " [33.9907724  49.5672675   1.02056188 -0.55337485]\n",
      " ...\n",
      " [11.98239864 45.02459978  1.00264065  0.79057625]\n",
      " [11.98090561 44.03277869  1.00385055  0.71456135]\n",
      " [11.97886859 43.14268285  1.00551703  0.60637893]]\n",
      "Test RMSE: 8.630\n"
     ]
    }
   ],
   "source": [
    "# make a prediction\n",
    "yhat = model.predict(test_X)\n",
    "test_X = test_X.reshape((test_X.shape[0], test_X.shape[2]))\n",
    "print(test_X)\n",
    "# invert scaling for forecast\n",
    "inv_yhat = np.concatenate((yhat, test_X[:, 1:]), axis=1)\n",
    "print(inv_yhat)\n",
    "inv_yhat = scaler.inverse_transform(inv_yhat)\n",
    "print(inv_yhat)\n",
    "inv_yhat = inv_yhat[:,0]\n",
    "# invert scaling for actual\n",
    "test_y = test_y.reshape((len(test_y), 1))\n",
    "inv_y = np.concatenate((test_y, test_X[:, 1:]), axis=1)\n",
    "inv_y = scaler.inverse_transform(inv_y)\n",
    "inv_y = inv_y[:,0]\n",
    "# calculate RMSE\n",
    "rmse = np.sqrt(mean_squared_error(inv_y, inv_yhat))\n",
    "print('Test RMSE: %.3f' % rmse)\n"
   ]
  },
  {
   "cell_type": "code",
   "execution_count": 129,
   "id": "catholic-damages",
   "metadata": {},
   "outputs": [
    {
     "data": {
      "text/plain": [
       "[<matplotlib.lines.Line2D at 0x254126fe6d0>]"
      ]
     },
     "execution_count": 129,
     "metadata": {},
     "output_type": "execute_result"
    },
    {
     "data": {
      "image/png": "[encoded data removed]",
      "text/plain": [
       "<Figure size 432x288 with 1 Axes>"
      ]
     },
     "metadata": {
      "needs_background": "light"
     },
     "output_type": "display_data"
    }
   ],
   "source": [
    "plt.plot(inv_yhat)"
   ]
  },
  {
   "cell_type": "code",
   "execution_count": 130,
   "id": "proved-statement",
   "metadata": {},
   "outputs": [
    {
     "data": {
      "text/plain": [
       "[<matplotlib.lines.Line2D at 0x25408b91130>]"
      ]
     },
     "execution_count": 130,
     "metadata": {},
     "output_type": "execute_result"
    },
    {
     "data": {
      "image/png": "[encoded data removed]",
      "text/plain": [
       "<Figure size 432x288 with 1 Axes>"
      ]
     },
     "metadata": {
      "needs_background": "light"
     },
     "output_type": "display_data"
    }
   ],
   "source": [
    "plt.plot(inv_y)"
   ]
  },
  {
   "cell_type": "code",
   "execution_count": 47,
   "id": "early-motion",
   "metadata": {},
   "outputs": [
    {
     "data": {
      "text/plain": [
       "4"
      ]
     },
     "execution_count": 47,
     "metadata": {},
     "output_type": "execute_result"
    }
   ],
   "source": [
    "train_X.shape[2]"
   ]
  },
  {
   "cell_type": "code",
   "execution_count": 49,
   "id": "comprehensive-tourist",
   "metadata": {},
   "outputs": [
    {
     "data": {
      "text/plain": [
       "(17519, 4)"
      ]
     },
     "execution_count": 49,
     "metadata": {},
     "output_type": "execute_result"
    }
   ],
   "source": [
    "test_X.shape"
   ]
  },
  {
   "cell_type": "code",
   "execution_count": 135,
   "id": "revolutionary-challenge",
   "metadata": {},
   "outputs": [
    {
     "name": "stdout",
     "output_type": "stream",
     "text": [
      "3125.7\n"
     ]
    },
    {
     "data": {
      "image/png": "[encoded data removed]",
      "text/plain": [
       "<Figure size 432x288 with 1 Axes>"
      ]
     },
     "metadata": {
      "needs_background": "light"
     },
     "output_type": "display_data"
    }
   ],
   "source": [
    "plt.plot(hourall[8760:17499,3])\n",
    "print(np.sum(hourall[:, 3]))"
   ]
  },
  {
   "cell_type": "code",
   "execution_count": 118,
   "id": "functional-screw",
   "metadata": {},
   "outputs": [
    {
     "name": "stdout",
     "output_type": "stream",
     "text": [
      "683721.7383250283\n"
     ]
    }
   ],
   "source": [
    "print(np.sum(hour18))\n"
   ]
  },
  {
   "cell_type": "code",
   "execution_count": 136,
   "id": "electoral-passing",
   "metadata": {},
   "outputs": [
    {
     "data": {
      "text/plain": [
       "(1578191, 4)"
      ]
     },
     "execution_count": 136,
     "metadata": {},
     "output_type": "execute_result"
    }
   ],
   "source": [
    "Whole_all = np.concatenate([Whole18, Whole19, Whole20], axis = 0)\n",
    "Whole_all.shape"
   ]
  },
  {
   "cell_type": "code",
   "execution_count": 137,
   "id": "small-tokyo",
   "metadata": {},
   "outputs": [],
   "source": [
    "new_minute = pandas.DataFrame(Whole_all)"
   ]
  },
  {
   "cell_type": "code",
   "execution_count": 138,
   "id": "statewide-format",
   "metadata": {},
   "outputs": [
    {
     "data": {
      "text/html": [
       "<div>\n",
       "<style scoped>\n",
       "    .dataframe tbody tr th:only-of-type {\n",
       "        vertical-align: middle;\n",
       "    }\n",
       "\n",
       "    .dataframe tbody tr th {\n",
       "        vertical-align: top;\n",
       "    }\n",
       "\n",
       "    .dataframe thead th {\n",
       "        text-align: right;\n",
       "    }\n",
       "</style>\n",
       "<table border=\"1\" class=\"dataframe\">\n",
       "  <thead>\n",
       "    <tr style=\"text-align: right;\">\n",
       "      <th></th>\n",
       "      <th>Temperature ($^\\circ C$)</th>\n",
       "      <th>Relative Humidity (%)</th>\n",
       "      <th>Atmospheric Pressure (bar)</th>\n",
       "      <th>Precipitation (mm)</th>\n",
       "    </tr>\n",
       "  </thead>\n",
       "  <tbody>\n",
       "    <tr>\n",
       "      <th>0</th>\n",
       "      <td>-11.1</td>\n",
       "      <td>45.5</td>\n",
       "      <td>1.0177</td>\n",
       "      <td>0.0</td>\n",
       "    </tr>\n",
       "    <tr>\n",
       "      <th>1</th>\n",
       "      <td>-11.1</td>\n",
       "      <td>45.3</td>\n",
       "      <td>1.0177</td>\n",
       "      <td>0.0</td>\n",
       "    </tr>\n",
       "    <tr>\n",
       "      <th>2</th>\n",
       "      <td>-11.1</td>\n",
       "      <td>45.1</td>\n",
       "      <td>1.0177</td>\n",
       "      <td>0.0</td>\n",
       "    </tr>\n",
       "    <tr>\n",
       "      <th>3</th>\n",
       "      <td>-11.1</td>\n",
       "      <td>46.2</td>\n",
       "      <td>1.0177</td>\n",
       "      <td>0.0</td>\n",
       "    </tr>\n",
       "    <tr>\n",
       "      <th>4</th>\n",
       "      <td>-11.1</td>\n",
       "      <td>45.4</td>\n",
       "      <td>1.0177</td>\n",
       "      <td>0.0</td>\n",
       "    </tr>\n",
       "    <tr>\n",
       "      <th>...</th>\n",
       "      <td>...</td>\n",
       "      <td>...</td>\n",
       "      <td>...</td>\n",
       "      <td>...</td>\n",
       "    </tr>\n",
       "    <tr>\n",
       "      <th>1578186</th>\n",
       "      <td>4.9</td>\n",
       "      <td>61.2</td>\n",
       "      <td>1.0173</td>\n",
       "      <td>0.0</td>\n",
       "    </tr>\n",
       "    <tr>\n",
       "      <th>1578187</th>\n",
       "      <td>4.9</td>\n",
       "      <td>60.8</td>\n",
       "      <td>1.0174</td>\n",
       "      <td>0.0</td>\n",
       "    </tr>\n",
       "    <tr>\n",
       "      <th>1578188</th>\n",
       "      <td>4.9</td>\n",
       "      <td>60.7</td>\n",
       "      <td>1.0174</td>\n",
       "      <td>0.0</td>\n",
       "    </tr>\n",
       "    <tr>\n",
       "      <th>1578189</th>\n",
       "      <td>4.9</td>\n",
       "      <td>61.3</td>\n",
       "      <td>1.0174</td>\n",
       "      <td>0.0</td>\n",
       "    </tr>\n",
       "    <tr>\n",
       "      <th>1578190</th>\n",
       "      <td>4.9</td>\n",
       "      <td>60.1</td>\n",
       "      <td>1.0175</td>\n",
       "      <td>0.0</td>\n",
       "    </tr>\n",
       "  </tbody>\n",
       "</table>\n",
       "<p>1578191 rows × 4 columns</p>\n",
       "</div>"
      ],
      "text/plain": [
       "         Temperature ($^\\circ C$)  Relative Humidity (%)  \\\n",
       "0                           -11.1                   45.5   \n",
       "1                           -11.1                   45.3   \n",
       "2                           -11.1                   45.1   \n",
       "3                           -11.1                   46.2   \n",
       "4                           -11.1                   45.4   \n",
       "...                           ...                    ...   \n",
       "1578186                       4.9                   61.2   \n",
       "1578187                       4.9                   60.8   \n",
       "1578188                       4.9                   60.7   \n",
       "1578189                       4.9                   61.3   \n",
       "1578190                       4.9                   60.1   \n",
       "\n",
       "         Atmospheric Pressure (bar)  Precipitation (mm)  \n",
       "0                            1.0177                 0.0  \n",
       "1                            1.0177                 0.0  \n",
       "2                            1.0177                 0.0  \n",
       "3                            1.0177                 0.0  \n",
       "4                            1.0177                 0.0  \n",
       "...                             ...                 ...  \n",
       "1578186                      1.0173                 0.0  \n",
       "1578187                      1.0174                 0.0  \n",
       "1578188                      1.0174                 0.0  \n",
       "1578189                      1.0174                 0.0  \n",
       "1578190                      1.0175                 0.0  \n",
       "\n",
       "[1578191 rows x 4 columns]"
      ]
     },
     "execution_count": 138,
     "metadata": {},
     "output_type": "execute_result"
    }
   ],
   "source": [
    "new_minute = new_minute.rename({0: \"Temperature ($^\\circ C$)\", 1 : \"Relative Humidity (%)\", 2: \"Atmospheric Pressure (bar)\", 3: \"Precipitation (mm)\"}, axis = 'columns')\n",
    "new_minute"
   ]
  },
  {
   "cell_type": "code",
   "execution_count": 139,
   "id": "competent-intranet",
   "metadata": {},
   "outputs": [
    {
     "name": "stdout",
     "output_type": "stream",
     "text": [
      "[[-11.1     45.5      1.0177   0.    ]\n",
      " [-11.1     45.3      1.0177   0.    ]\n",
      " [-11.1     45.1      1.0177   0.    ]\n",
      " ...\n",
      " [  4.9     60.7      1.0174   0.    ]\n",
      " [  4.9     61.3      1.0174   0.    ]\n",
      " [  4.9     60.1      1.0175   0.    ]]\n"
     ]
    }
   ],
   "source": [
    "values = new_minute.values\n",
    "print(values)"
   ]
  },
  {
   "cell_type": "code",
   "execution_count": 140,
   "id": "former-moment",
   "metadata": {},
   "outputs": [
    {
     "name": "stdout",
     "output_type": "stream",
     "text": [
      "   var4(t-1)   var1(t)   var2(t)   var3(t)   var4(t)\n",
      "1  -0.082661 -2.493391 -0.874850  1.173592 -0.082661\n",
      "2  -0.082661 -2.493391 -0.885543  1.173592 -0.082661\n",
      "3  -0.082661 -2.493391 -0.826731  1.173592 -0.082661\n",
      "4  -0.082661 -2.493391 -0.869503  1.173592 -0.082661\n",
      "5  -0.082661 -2.493391 -0.848117  1.173592 -0.082661\n"
     ]
    }
   ],
   "source": [
    "#encoder = LabelEncoder()\n",
    "#values[:,4] = encoder.fit_transform(values[:,4])\n",
    "\n",
    "# normalize features\n",
    "scaler = StandardScaler()\n",
    "scaled = scaler.fit_transform(values)\n",
    "# frame as supervised learning\n",
    "reframed = series_to_supervised(scaled, 1, 1)\n",
    "# drop columns we don't want to predict\n",
    "reframed.drop(reframed.columns[[0,1,2]], axis=1, inplace=True)\n",
    "print(reframed.head())"
   ]
  },
  {
   "cell_type": "code",
   "execution_count": 141,
   "id": "indirect-refund",
   "metadata": {},
   "outputs": [
    {
     "name": "stdout",
     "output_type": "stream",
     "text": [
      "[[-0.08266056 -2.4933912  -0.87484996  1.17359217 -0.08266056]\n",
      " [-0.08266056 -2.4933912  -0.88554299  1.17359217 -0.08266056]\n",
      " [-0.08266056 -2.4933912  -0.82673136  1.17359217 -0.08266056]\n",
      " ...\n",
      " [-0.08266056 -0.8569745  -0.05148719  1.1349994  -0.08266056]\n",
      " [-0.08266056 -0.8569745  -0.01940812  1.1349994  -0.08266056]\n",
      " [-0.08266056 -0.8569745  -0.08356626  1.14786365 -0.08266056]]\n",
      "(525600, 1, 4) (525600,) (1052404, 1, 4) (1052404,)\n"
     ]
    }
   ],
   "source": [
    "# split into train and test sets\n",
    "values = reframed.values\n",
    "print(values)\n",
    "n_train_hours = 365 * 24 * 60\n",
    "train = values[:n_train_hours, :]\n",
    "test = values[n_train_hours:, :]\n",
    "# split into input and outputs\n",
    "train_X, train_y = train[:, :-1], train[:, -1]\n",
    "test_X, test_y = test[:, :-1], test[:, -1]\n",
    "# reshape input to be 3D [samples, timesteps, features]\n",
    "train_X = train_X.reshape((train_X.shape[0], 1, train_X.shape[1]))\n",
    "test_X = test_X.reshape((test_X.shape[0], 1, test_X.shape[1]))\n",
    "print(train_X.shape, train_y.shape, test_X.shape, test_y.shape)"
   ]
  },
  {
   "cell_type": "code",
   "execution_count": 142,
   "id": "complimentary-hundred",
   "metadata": {},
   "outputs": [
    {
     "name": "stdout",
     "output_type": "stream",
     "text": [
      "Epoch 1/50\n",
      "7300/7300 - 22s - loss: 0.0648 - val_loss: 0.0829\n",
      "Epoch 2/50\n",
      "7300/7300 - 21s - loss: 0.0561 - val_loss: 0.0598\n",
      "Epoch 3/50\n",
      "7300/7300 - 20s - loss: 0.0528 - val_loss: 0.0656\n",
      "Epoch 4/50\n",
      "7300/7300 - 21s - loss: 0.0491 - val_loss: 0.0436\n",
      "Epoch 5/50\n",
      "7300/7300 - 25s - loss: 0.0472 - val_loss: 0.0497\n",
      "Epoch 6/50\n",
      "7300/7300 - 24s - loss: 0.0450 - val_loss: 0.0419\n",
      "Epoch 7/50\n",
      "7300/7300 - 24s - loss: 0.0446 - val_loss: 0.0493\n",
      "Epoch 8/50\n",
      "7300/7300 - 20s - loss: 0.0435 - val_loss: 0.0505\n",
      "Epoch 9/50\n",
      "7300/7300 - 23s - loss: 0.0432 - val_loss: 0.0468\n",
      "Epoch 10/50\n",
      "7300/7300 - 25s - loss: 0.0428 - val_loss: 0.0448\n",
      "Epoch 11/50\n",
      "7300/7300 - 23s - loss: 0.0422 - val_loss: 0.0417\n",
      "Epoch 12/50\n",
      "7300/7300 - 20s - loss: 0.0422 - val_loss: 0.0419\n",
      "Epoch 13/50\n",
      "7300/7300 - 23s - loss: 0.0418 - val_loss: 0.0399\n",
      "Epoch 14/50\n",
      "7300/7300 - 20s - loss: 0.0421 - val_loss: 0.0388\n",
      "Epoch 15/50\n",
      "7300/7300 - 21s - loss: 0.0418 - val_loss: 0.0384\n",
      "Epoch 16/50\n",
      "7300/7300 - 20s - loss: 0.0417 - val_loss: 0.0407\n",
      "Epoch 17/50\n",
      "7300/7300 - 19s - loss: 0.0416 - val_loss: 0.0404\n",
      "Epoch 18/50\n",
      "7300/7300 - 21s - loss: 0.0415 - val_loss: 0.0394\n",
      "Epoch 19/50\n",
      "7300/7300 - 22s - loss: 0.0416 - val_loss: 0.0396\n",
      "Epoch 20/50\n",
      "7300/7300 - 22s - loss: 0.0418 - val_loss: 0.0364\n",
      "Epoch 21/50\n",
      "7300/7300 - 22s - loss: 0.0415 - val_loss: 0.0394\n",
      "Epoch 22/50\n",
      "7300/7300 - 20s - loss: 0.0414 - val_loss: 0.0391\n",
      "Epoch 23/50\n",
      "7300/7300 - 22s - loss: 0.0413 - val_loss: 0.0363\n",
      "Epoch 24/50\n",
      "7300/7300 - 20s - loss: 0.0412 - val_loss: 0.0369\n",
      "Epoch 25/50\n",
      "7300/7300 - 20s - loss: 0.0413 - val_loss: 0.0383\n",
      "Epoch 26/50\n",
      "7300/7300 - 21s - loss: 0.0411 - val_loss: 0.0402\n",
      "Epoch 27/50\n",
      "7300/7300 - 21s - loss: 0.0412 - val_loss: 0.0368\n",
      "Epoch 28/50\n",
      "7300/7300 - 22s - loss: 0.0412 - val_loss: 0.0368\n",
      "Epoch 29/50\n",
      "7300/7300 - 22s - loss: 0.0411 - val_loss: 0.0374\n",
      "Epoch 30/50\n",
      "7300/7300 - 19s - loss: 0.0412 - val_loss: 0.0410\n",
      "Epoch 31/50\n",
      "7300/7300 - 20s - loss: 0.0411 - val_loss: 0.0418\n",
      "Epoch 32/50\n",
      "7300/7300 - 19s - loss: 0.0413 - val_loss: 0.0400\n",
      "Epoch 33/50\n",
      "7300/7300 - 23s - loss: 0.0410 - val_loss: 0.0391\n",
      "Epoch 34/50\n",
      "7300/7300 - 20s - loss: 0.0409 - val_loss: 0.0368\n",
      "Epoch 35/50\n",
      "7300/7300 - 24s - loss: 0.0411 - val_loss: 0.0368\n",
      "Epoch 36/50\n",
      "7300/7300 - 23s - loss: 0.0410 - val_loss: 0.0392\n",
      "Epoch 37/50\n",
      "7300/7300 - 28s - loss: 0.0411 - val_loss: 0.0365\n",
      "Epoch 38/50\n",
      "7300/7300 - 26s - loss: 0.0409 - val_loss: 0.0367\n",
      "Epoch 39/50\n",
      "7300/7300 - 24s - loss: 0.0411 - val_loss: 0.0414\n",
      "Epoch 40/50\n",
      "7300/7300 - 24s - loss: 0.0412 - val_loss: 0.0377\n",
      "Epoch 41/50\n",
      "7300/7300 - 22s - loss: 0.0412 - val_loss: 0.0382\n",
      "Epoch 42/50\n",
      "7300/7300 - 22s - loss: 0.0413 - val_loss: 0.0382\n",
      "Epoch 43/50\n",
      "7300/7300 - 22s - loss: 0.0412 - val_loss: 0.0395\n",
      "Epoch 44/50\n",
      "7300/7300 - 23s - loss: 0.0410 - val_loss: 0.0412\n",
      "Epoch 45/50\n",
      "7300/7300 - 23s - loss: 0.0413 - val_loss: 0.0377\n",
      "Epoch 46/50\n",
      "7300/7300 - 23s - loss: 0.0411 - val_loss: 0.0368\n",
      "Epoch 47/50\n",
      "7300/7300 - 21s - loss: 0.0410 - val_loss: 0.0396\n",
      "Epoch 48/50\n",
      "7300/7300 - 23s - loss: 0.0413 - val_loss: 0.0388\n",
      "Epoch 49/50\n",
      "7300/7300 - 23s - loss: 0.0412 - val_loss: 0.0376\n",
      "Epoch 50/50\n",
      "7300/7300 - 24s - loss: 0.0411 - val_loss: 0.0391\n"
     ]
    },
    {
     "data": {
      "image/png": "[encoded data removed]",
      "text/plain": [
       "<Figure size 432x288 with 1 Axes>"
      ]
     },
     "metadata": {
      "needs_background": "light"
     },
     "output_type": "display_data"
    }
   ],
   "source": [
    "# design network\n",
    "model = Sequential()\n",
    "model.add(LSTM(50, input_shape=(train_X.shape[1], train_X.shape[2])))\n",
    "model.add(Dense(1))\n",
    "model.compile(loss='mae', optimizer='adam')\n",
    "# fit network\n",
    "history = model.fit(train_X, train_y, epochs=50, batch_size=72, validation_data=(test_X, test_y), verbose=2, shuffle=False)\n",
    "# plot history\n",
    "plt.plot(history.history['loss'], label='train')\n",
    "plt.plot(history.history['val_loss'], label='test')\n",
    "plt.legend()\n",
    "plt.show()"
   ]
  },
  {
   "cell_type": "code",
   "execution_count": 143,
   "id": "sensitive-walker",
   "metadata": {},
   "outputs": [
    {
     "name": "stdout",
     "output_type": "stream",
     "text": [
      "[[-0.08266056 -0.68310523  1.47761511 -0.12569781]\n",
      " [-0.08266056 -0.68310523  1.46692209 -0.13856207]\n",
      " [-0.08266056 -0.69333283  1.4722686  -0.13856207]\n",
      " ...\n",
      " [-0.08266056 -0.8569745  -0.05148719  1.1349994 ]\n",
      " [-0.08266056 -0.8569745  -0.01940812  1.1349994 ]\n",
      " [-0.08266056 -0.8569745  -0.08356626  1.14786365]]\n",
      "[[-0.08124775 -0.68310523  1.47761511 -0.12569781]\n",
      " [-0.08117543 -0.68310523  1.46692209 -0.13856207]\n",
      " [-0.08122083 -0.69333283  1.4722686  -0.13856207]\n",
      " ...\n",
      " [-0.08285032 -0.8569745  -0.05148719  1.1349994 ]\n",
      " [-0.08285476 -0.8569745  -0.01940812  1.1349994 ]\n",
      " [-0.08288544 -0.8569745  -0.08356626  1.14786365]]\n",
      "[[ 1.24846378e+01  4.88863523e+01  1.02006332e+00 -1.03385567e-03]\n",
      " [ 1.24853449e+01  4.88863523e+01  1.01998019e+00 -1.34288530e-03]\n",
      " [ 1.24849011e+01  4.86950573e+01  1.02002175e+00 -1.34288530e-03]\n",
      " ...\n",
      " [ 1.24689687e+01  4.56343388e+01  1.00817687e+00  2.92510477e-02]\n",
      " [ 1.24689253e+01  4.56343388e+01  1.00842624e+00  2.92510477e-02]\n",
      " [ 1.24686254e+01  4.56343388e+01  1.00792751e+00  2.95600774e-02]]\n",
      "Test RMSE: 4.502\n"
     ]
    }
   ],
   "source": [
    "# make a prediction\n",
    "yhat = model.predict(test_X)\n",
    "test_X = test_X.reshape((test_X.shape[0], test_X.shape[2]))\n",
    "print(test_X)\n",
    "# invert scaling for forecast\n",
    "inv_yhat = np.concatenate((yhat, test_X[:, 1:]), axis=1)\n",
    "print(inv_yhat)\n",
    "inv_yhat = scaler.inverse_transform(inv_yhat)\n",
    "print(inv_yhat)\n",
    "inv_yhat = inv_yhat[:,0]\n",
    "# invert scaling for actual\n",
    "test_y = test_y.reshape((len(test_y), 1))\n",
    "inv_y = np.concatenate((test_y, test_X[:, 1:]), axis=1)\n",
    "inv_y = scaler.inverse_transform(inv_y)\n",
    "inv_y = inv_y[:,0]\n",
    "# calculate RMSE\n",
    "rmse = np.sqrt(mean_squared_error(inv_y, inv_yhat))\n",
    "print('Test RMSE: %.3f' % rmse)\n"
   ]
  },
  {
   "cell_type": "code",
   "execution_count": 145,
   "id": "aware-slovakia",
   "metadata": {},
   "outputs": [
    {
     "data": {
      "text/plain": [
       "[<matplotlib.lines.Line2D at 0x25413964310>]"
      ]
     },
     "execution_count": 145,
     "metadata": {},
     "output_type": "execute_result"
    },
    {
     "data": {
      "image/png": "[encoded data removed]",
      "text/plain": [
       "<Figure size 432x288 with 1 Axes>"
      ]
     },
     "metadata": {
      "needs_background": "light"
     },
     "output_type": "display_data"
    }
   ],
   "source": [
    "plt.plot(inv_yhat)\n"
   ]
  },
  {
   "cell_type": "code",
   "execution_count": 146,
   "id": "tamil-mistress",
   "metadata": {},
   "outputs": [
    {
     "data": {
      "text/plain": [
       "[<matplotlib.lines.Line2D at 0x254139820d0>]"
      ]
     },
     "execution_count": 146,
     "metadata": {},
     "output_type": "execute_result"
    },
    {
     "data": {
      "image/png": "[encoded data removed]",
      "text/plain": [
       "<Figure size 432x288 with 1 Axes>"
      ]
     },
     "metadata": {
      "needs_background": "light"
     },
     "output_type": "display_data"
    }
   ],
   "source": [
    "plt.plot()"
   ]
  },
  {
   "cell_type": "code",
   "execution_count": 147,
   "id": "banner-provision",
   "metadata": {},
   "outputs": [
    {
     "data": {
      "text/plain": [
       "[<matplotlib.lines.Line2D at 0x2540a14a880>]"
      ]
     },
     "execution_count": 147,
     "metadata": {},
     "output_type": "execute_result"
    },
    {
     "data": {
      "image/png": "[encoded data removed]",
      "text/plain": [
       "<Figure size 432x288 with 1 Axes>"
      ]
     },
     "metadata": {
      "needs_background": "light"
     },
     "output_type": "display_data"
    }
   ],
   "source": [
    "plt.plot(Whole_all[365 * 24 * 60:, 3])"
   ]
  },
  {
   "cell_type": "code",
   "execution_count": 149,
   "id": "inclusive-vacation",
   "metadata": {},
   "outputs": [],
   "source": [
    "inv_y = inv_y - min(inv_y)\n"
   ]
  },
  {
   "cell_type": "code",
   "execution_count": 151,
   "id": "elect-medicare",
   "metadata": {},
   "outputs": [
    {
     "data": {
      "text/plain": [
       "1052404"
      ]
     },
     "execution_count": 151,
     "metadata": {},
     "output_type": "execute_result"
    }
   ],
   "source": [
    "len(inv_y)"
   ]
  },
  {
   "cell_type": "code",
   "execution_count": 154,
   "id": "aboriginal-miniature",
   "metadata": {},
   "outputs": [
    {
     "data": {
      "text/plain": [
       "1052404"
      ]
     },
     "execution_count": 154,
     "metadata": {},
     "output_type": "execute_result"
    }
   ],
   "source": [
    "len(Whole_all[525787:, 3])"
   ]
  },
  {
   "cell_type": "code",
   "execution_count": 150,
   "id": "boolean-parallel",
   "metadata": {},
   "outputs": [
    {
     "data": {
      "text/plain": [
       "[<matplotlib.lines.Line2D at 0x25405bb62b0>]"
      ]
     },
     "execution_count": 150,
     "metadata": {},
     "output_type": "execute_result"
    },
    {
     "data": {
      "image/png": "[encoded data removed]",
      "text/plain": [
       "<Figure size 432x288 with 1 Axes>"
      ]
     },
     "metadata": {
      "needs_background": "light"
     },
     "output_type": "display_data"
    }
   ],
   "source": [
    "plt.plot(inv_y)"
   ]
  },
  {
   "cell_type": "code",
   "execution_count": 158,
   "id": "stuffed-segment",
   "metadata": {},
   "outputs": [],
   "source": [
    "factor = np.divide(inv_y, Whole_all[525787:, 3], where= ((inv_y!=0) & (Whole_all[525787:, 3]!=0)) )"
   ]
  },
  {
   "cell_type": "code",
   "execution_count": 159,
   "id": "victorian-helping",
   "metadata": {},
   "outputs": [
    {
     "data": {
      "text/plain": [
       "0.0"
      ]
     },
     "execution_count": 159,
     "metadata": {},
     "output_type": "execute_result"
    }
   ],
   "source": [
    "min(factor)"
   ]
  },
  {
   "cell_type": "code",
   "execution_count": 160,
   "id": "stretch-fever",
   "metadata": {},
   "outputs": [
    {
     "data": {
      "text/plain": [
       "58610.1953883601"
      ]
     },
     "execution_count": 160,
     "metadata": {},
     "output_type": "execute_result"
    }
   ],
   "source": [
    "max(factor)"
   ]
  },
  {
   "cell_type": "code",
   "execution_count": 161,
   "id": "convinced-heaven",
   "metadata": {},
   "outputs": [
    {
     "data": {
      "text/plain": [
       "[<matplotlib.lines.Line2D at 0x2540d7bc5e0>]"
      ]
     },
     "execution_count": 161,
     "metadata": {},
     "output_type": "execute_result"
    },
    {
     "data": {
      "image/png": "[encoded data removed]",
      "text/plain": [
       "<Figure size 432x288 with 1 Axes>"
      ]
     },
     "metadata": {
      "needs_background": "light"
     },
     "output_type": "display_data"
    }
   ],
   "source": [
    "plt.plot(factor)"
   ]
  },
  {
   "cell_type": "code",
   "execution_count": 163,
   "id": "conceptual-sheet",
   "metadata": {},
   "outputs": [
    {
     "name": "stdout",
     "output_type": "stream",
     "text": [
      "Test RMSE: 0.005\n"
     ]
    }
   ],
   "source": [
    "# invert scaling for actual\n",
    "test_y = test_y.reshape((len(test_y), 1))\n",
    "inv_y = np.concatenate((test_y, test_X[:, 1:]), axis=1)\n",
    "inv_y = scaler.inverse_transform(inv_y)\n",
    "inv_y = inv_y[:,0]/1000\n",
    "# calculate RMSE\n",
    "inv_yhat = inv_yhat/1000\n",
    "rmse = np.sqrt(mean_squared_error(inv_y, inv_yhat))\n",
    "print('Test RMSE: %.3f' % rmse)"
   ]
  },
  {
   "cell_type": "code",
   "execution_count": 164,
   "id": "stone-blowing",
   "metadata": {},
   "outputs": [
    {
     "data": {
      "text/plain": [
       "[<matplotlib.lines.Line2D at 0x254139646a0>]"
      ]
     },
     "execution_count": 164,
     "metadata": {},
     "output_type": "execute_result"
    },
    {
     "data": {
      "image/png": "[encoded data removed]",
      "text/plain": [
       "<Figure size 432x288 with 1 Axes>"
      ]
     },
     "metadata": {
      "needs_background": "light"
     },
     "output_type": "display_data"
    }
   ],
   "source": [
    "plt.plot(inv_y)"
   ]
  },
  {
   "cell_type": "code",
   "execution_count": null,
   "id": "promising-responsibility",
   "metadata": {},
   "outputs": [],
   "source": []
  }
 ],
 "metadata": {
  "kernelspec": {
   "display_name": "Python 3",
   "language": "python",
   "name": "python3"
  },
  "language_info": {
   "codemirror_mode": {
    "name": "ipython",
    "version": 3
   },
   "file_extension": ".py",
   "mimetype": "text/x-python",
   "name": "python",
   "nbconvert_exporter": "python",
   "pygments_lexer": "ipython3",
   "version": "3.8.8"
  }
 },
 "nbformat": 4,
 "nbformat_minor": 5
}
