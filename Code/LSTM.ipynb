{
 "cells": [
  {
   "cell_type": "code",
   "execution_count": 94,
   "id": "presidential-upper",
   "metadata": {},
   "outputs": [],
   "source": [
    "# Packages for neural networks\n",
    "import numpy as np\n",
    "import matplotlib.pyplot as plt\n",
    "import matplotlib as mlt\n",
    "import datetime \n",
    "import import_ipynb\n",
    "import histplot\n",
    "import pandas \n",
    "from pandas import DataFrame\n",
    "from pandas import concat\n",
    "from sklearn.preprocessing import MinMaxScaler\n",
    "from sklearn.preprocessing import StandardScaler\n",
    "from sklearn.preprocessing import RobustScaler\n",
    "from sklearn.preprocessing import LabelEncoder\n",
    "from sklearn.metrics import mean_squared_error\n",
    "from sklearn.metrics import mean_absolute_error\n",
    "from keras.models import Sequential\n",
    "from keras.layers import Dense\n",
    "from keras.layers import LSTM"
   ]
  },
  {
   "cell_type": "code",
   "execution_count": 2,
   "id": "hairy-treatment",
   "metadata": {},
   "outputs": [],
   "source": [
    "# \"converting\" data, this is from a tutorial here: \n",
    "# https://machinelearningmastery.com/multivariate-time-series-forecasting-lstms-keras/\n",
    "# Upload data\n",
    "ASC = '__ASC_ASCIIIn.mrk'\n",
    "direct = 'C:/Users/tyron/Documents/Geoscience/weather/'"
   ]
  },
  {
   "cell_type": "code",
   "execution_count": 3,
   "id": "further-christopher",
   "metadata": {},
   "outputs": [],
   "source": [
    "# Get Data for the completed years of 2018, 2019, and 2020\n",
    "Whole18 = histplot.getData(18, direct, ASC, 1, 365, np.arange(3, 7), float)\n",
    "Whole19 = histplot.getData(19, direct, ASC, 1, 365, np.arange(3, 7), float)\n",
    "Whole20 = histplot.getData(20, direct, ASC, 1, 366, np.arange(3, 7), float)"
   ]
  },
  {
   "cell_type": "code",
   "execution_count": 4,
   "id": "blessed-latino",
   "metadata": {},
   "outputs": [],
   "source": [
    "# Have the Data then convert them into hourly data. \n",
    "def hourly(weather):\n",
    "    minute = 0\n",
    "    Hourly = np.zeros((8760, 4))\n",
    "    hour = 0\n",
    "    endminute = 60\n",
    "    while (minute < len(weather[:, 3]) and hour < 8760):\n",
    "        temp = np.nanmean(weather[np.arange(minute, endminute), 0])\n",
    "        relhum = np.nanmean(weather[np.arange(minute, endminute), 1])\n",
    "        air_p = np.nanmean(weather[np.arange(minute, endminute), 2])\n",
    "        precip = np.nanmean(weather[np.arange(minute, endminute), 3])\n",
    "        if (minute+60 < len(weather[:, 3])):\n",
    "            minute += 60\n",
    "        if (minute+60 < len(weather[:, 3])):\n",
    "            endminute += 60\n",
    "        else:\n",
    "            endminute = len(weather[:, 3])-1\n",
    "        Hourly[hour, 0] = temp\n",
    "        Hourly[hour, 1] = relhum\n",
    "        Hourly[hour, 2] = air_p\n",
    "        Hourly[hour, 3] = 60*precip\n",
    "        hour += 1\n",
    "    \n",
    "    return Hourly"
   ]
  },
  {
   "cell_type": "code",
   "execution_count": 5,
   "id": "driving-arthritis",
   "metadata": {},
   "outputs": [],
   "source": [
    "hour18 = hourly(Whole18)\n",
    "hour19 = hourly(Whole19)\n",
    "hour20 = hourly(Whole20)"
   ]
  },
  {
   "cell_type": "code",
   "execution_count": 6,
   "id": "subjective-cheese",
   "metadata": {},
   "outputs": [
    {
     "name": "stdout",
     "output_type": "stream",
     "text": [
      "(26280, 4)\n",
      "3127.8486016949155\n"
     ]
    }
   ],
   "source": [
    "hourall = np.concatenate([hour18, hour19, hour20], axis = 0)\n",
    "print(hourall.shape)\n",
    "print(np.sum(hourall[:, 3]))"
   ]
  },
  {
   "cell_type": "code",
   "execution_count": 7,
   "id": "threatened-acrobat",
   "metadata": {},
   "outputs": [],
   "source": [
    "new_hour = pandas.DataFrame(hourall)"
   ]
  },
  {
   "cell_type": "code",
   "execution_count": 8,
   "id": "champion-token",
   "metadata": {},
   "outputs": [
    {
     "data": {
      "text/html": [
       "<div>\n",
       "<style scoped>\n",
       "    .dataframe tbody tr th:only-of-type {\n",
       "        vertical-align: middle;\n",
       "    }\n",
       "\n",
       "    .dataframe tbody tr th {\n",
       "        vertical-align: top;\n",
       "    }\n",
       "\n",
       "    .dataframe thead th {\n",
       "        text-align: right;\n",
       "    }\n",
       "</style>\n",
       "<table border=\"1\" class=\"dataframe\">\n",
       "  <thead>\n",
       "    <tr style=\"text-align: right;\">\n",
       "      <th></th>\n",
       "      <th>Temperature ($^\\circ C$)</th>\n",
       "      <th>Relative Humidity (%)</th>\n",
       "      <th>Atmospheric Pressure (bar)</th>\n",
       "      <th>Precipitation (mm)</th>\n",
       "    </tr>\n",
       "  </thead>\n",
       "  <tbody>\n",
       "    <tr>\n",
       "      <th>0</th>\n",
       "      <td>-10.955000</td>\n",
       "      <td>45.361667</td>\n",
       "      <td>1.017778</td>\n",
       "      <td>0.0</td>\n",
       "    </tr>\n",
       "    <tr>\n",
       "      <th>1</th>\n",
       "      <td>-11.401667</td>\n",
       "      <td>46.405000</td>\n",
       "      <td>1.017877</td>\n",
       "      <td>0.0</td>\n",
       "    </tr>\n",
       "    <tr>\n",
       "      <th>2</th>\n",
       "      <td>-11.616667</td>\n",
       "      <td>47.426667</td>\n",
       "      <td>1.018020</td>\n",
       "      <td>0.0</td>\n",
       "    </tr>\n",
       "    <tr>\n",
       "      <th>3</th>\n",
       "      <td>-11.930000</td>\n",
       "      <td>48.390000</td>\n",
       "      <td>1.018145</td>\n",
       "      <td>0.0</td>\n",
       "    </tr>\n",
       "    <tr>\n",
       "      <th>4</th>\n",
       "      <td>-12.368333</td>\n",
       "      <td>49.235000</td>\n",
       "      <td>1.018128</td>\n",
       "      <td>0.0</td>\n",
       "    </tr>\n",
       "    <tr>\n",
       "      <th>...</th>\n",
       "      <td>...</td>\n",
       "      <td>...</td>\n",
       "      <td>...</td>\n",
       "      <td>...</td>\n",
       "    </tr>\n",
       "    <tr>\n",
       "      <th>26275</th>\n",
       "      <td>5.088333</td>\n",
       "      <td>42.065000</td>\n",
       "      <td>1.016072</td>\n",
       "      <td>0.0</td>\n",
       "    </tr>\n",
       "    <tr>\n",
       "      <th>26276</th>\n",
       "      <td>5.028333</td>\n",
       "      <td>43.433333</td>\n",
       "      <td>1.015270</td>\n",
       "      <td>0.0</td>\n",
       "    </tr>\n",
       "    <tr>\n",
       "      <th>26277</th>\n",
       "      <td>4.566667</td>\n",
       "      <td>47.421667</td>\n",
       "      <td>1.014422</td>\n",
       "      <td>0.0</td>\n",
       "    </tr>\n",
       "    <tr>\n",
       "      <th>26278</th>\n",
       "      <td>4.046667</td>\n",
       "      <td>50.323333</td>\n",
       "      <td>1.013760</td>\n",
       "      <td>0.0</td>\n",
       "    </tr>\n",
       "    <tr>\n",
       "      <th>26279</th>\n",
       "      <td>3.580000</td>\n",
       "      <td>54.320000</td>\n",
       "      <td>1.012818</td>\n",
       "      <td>0.0</td>\n",
       "    </tr>\n",
       "  </tbody>\n",
       "</table>\n",
       "<p>26280 rows × 4 columns</p>\n",
       "</div>"
      ],
      "text/plain": [
       "       Temperature ($^\\circ C$)  Relative Humidity (%)  \\\n",
       "0                    -10.955000              45.361667   \n",
       "1                    -11.401667              46.405000   \n",
       "2                    -11.616667              47.426667   \n",
       "3                    -11.930000              48.390000   \n",
       "4                    -12.368333              49.235000   \n",
       "...                         ...                    ...   \n",
       "26275                  5.088333              42.065000   \n",
       "26276                  5.028333              43.433333   \n",
       "26277                  4.566667              47.421667   \n",
       "26278                  4.046667              50.323333   \n",
       "26279                  3.580000              54.320000   \n",
       "\n",
       "       Atmospheric Pressure (bar)  Precipitation (mm)  \n",
       "0                        1.017778                 0.0  \n",
       "1                        1.017877                 0.0  \n",
       "2                        1.018020                 0.0  \n",
       "3                        1.018145                 0.0  \n",
       "4                        1.018128                 0.0  \n",
       "...                           ...                 ...  \n",
       "26275                    1.016072                 0.0  \n",
       "26276                    1.015270                 0.0  \n",
       "26277                    1.014422                 0.0  \n",
       "26278                    1.013760                 0.0  \n",
       "26279                    1.012818                 0.0  \n",
       "\n",
       "[26280 rows x 4 columns]"
      ]
     },
     "execution_count": 8,
     "metadata": {},
     "output_type": "execute_result"
    }
   ],
   "source": [
    "new_hour = new_hour.rename({0: \"Temperature ($^\\circ C$)\", 1 : \"Relative Humidity (%)\", 2: \"Atmospheric Pressure (bar)\", 3: \"Precipitation (mm)\"}, axis = 'columns')\n",
    "new_hour"
   ]
  },
  {
   "cell_type": "code",
   "execution_count": 9,
   "id": "willing-contract",
   "metadata": {},
   "outputs": [],
   "source": [
    "# convert series to supervised learning\n",
    "def series_to_supervised(data, n_in=1, n_out=1, dropnan=True):\n",
    "    n_vars = 1 if type(data) is list else data.shape[1]\n",
    "    df = DataFrame(data)\n",
    "    cols, names = list(), list()\n",
    "    # input sequence (t-n, ... t-1)\n",
    "    for i in range(n_in, 0, -1):\n",
    "        cols.append(df.shift(i))\n",
    "        names += [('var%d(t-%d)' % (j+1, i)) for j in range(n_vars)]\n",
    "    # forecast sequence (t, t+1, ... t+n)\n",
    "    for i in range(0, n_out):\n",
    "        cols.append(df.shift(-i))\n",
    "        if i == 0:\n",
    "            names += [('var%d(t)' % (j+1)) for j in range(n_vars)]\n",
    "        else:\n",
    "            names += [('var%d(t+%d)' % (j+1, i)) for j in range(n_vars)]\n",
    "    # put it all together\n",
    "    agg = concat(cols, axis=1)\n",
    "    agg.columns = names\n",
    "    # drop rows with NaN values\n",
    "    if dropnan:\n",
    "        agg.dropna(inplace=True)\n",
    "    return agg"
   ]
  },
  {
   "cell_type": "code",
   "execution_count": 79,
   "id": "baking-delhi",
   "metadata": {},
   "outputs": [
    {
     "name": "stdout",
     "output_type": "stream",
     "text": [
      "[[-10.955       45.36166667   1.01777833   0.        ]\n",
      " [-11.40166667  46.405        1.01787667   0.        ]\n",
      " [-11.61666667  47.42666667   1.01802      0.        ]\n",
      " ...\n",
      " [  4.56666667  47.42166667   1.01442167   0.        ]\n",
      " [  4.04666667  50.32333333   1.01376      0.        ]\n",
      " [  3.58        54.32         1.01281833   0.        ]]\n"
     ]
    }
   ],
   "source": [
    "values = new_hour.values\n",
    "print(values)"
   ]
  },
  {
   "cell_type": "code",
   "execution_count": 80,
   "id": "swiss-element",
   "metadata": {},
   "outputs": [
    {
     "name": "stdout",
     "output_type": "stream",
     "text": [
      "[[-10.955       45.36166667   1.01777833   0.        ]\n",
      " [-11.40166667  46.405        1.01787667   0.        ]\n",
      " [-11.61666667  47.42666667   1.01802      0.        ]\n",
      " ...\n",
      " [  4.56666667  47.42166667   1.01442167   0.        ]\n",
      " [  4.04666667  50.32333333   1.01376      0.        ]\n",
      " [  3.58        54.32         1.01281833   0.        ]]\n",
      "   var4(t-1)   var1(t)   var2(t)   var3(t)  var4(t)\n",
      "1        0.0  0.088051  0.414862  0.745857      0.0\n",
      "2        0.0  0.083909  0.427592  0.748023      0.0\n",
      "3        0.0  0.077872  0.439596  0.749912      0.0\n",
      "4        0.0  0.069426  0.450126  0.749660      0.0\n",
      "5        0.0  0.058283  0.475213  0.751045      0.0\n"
     ]
    }
   ],
   "source": [
    "#encoder = LabelEncoder()\n",
    "#values[:,4] = encoder.fit_transform(values[:,4])\n",
    "# ensure all data is float\n",
    "values = values.astype('float64')\n",
    "print(values)\n",
    "# normalize features\n",
    "scaler = MinMaxScaler(feature_range=(0, 1))\n",
    "scaled = scaler.fit_transform(values)\n",
    "# frame as supervised learning\n",
    "reframed = series_to_supervised(scaled, 1, 1)\n",
    "# drop columns we don't want to predict\n",
    "reframed.drop(reframed.columns[[0,1,2]], axis=1, inplace=True)\n",
    "print(reframed.head())"
   ]
  },
  {
   "cell_type": "code",
   "execution_count": 81,
   "id": "lined-austin",
   "metadata": {},
   "outputs": [
    {
     "name": "stdout",
     "output_type": "stream",
     "text": [
      "[[0.         0.08805112 0.41486158 0.74585663 0.        ]\n",
      " [0.         0.08390867 0.42759237 0.74802277 0.        ]\n",
      " [0.         0.07787162 0.43959627 0.74991184 0.        ]\n",
      " ...\n",
      " [0.         0.39571626 0.42753006 0.69364264 0.        ]\n",
      " [0.         0.38569731 0.46368715 0.68364314 0.        ]\n",
      " [0.         0.37670595 0.51348882 0.66941212 0.        ]]\n",
      "(8760, 1, 4) (8760,) (17519, 1, 4) (17519,)\n"
     ]
    }
   ],
   "source": [
    "# split into train and test sets\n",
    "values = reframed.values\n",
    "print(values)\n",
    "n_train_hours = 365 * 24\n",
    "train = values[:n_train_hours, :]\n",
    "test = values[n_train_hours:, :]\n",
    "# split into input and outputs\n",
    "train_X, train_y = train[:, :-1], train[:, -1]\n",
    "test_X, test_y = test[:, :-1], test[:, -1]\n",
    "# reshape input to be 3D [samples, timesteps, features]\n",
    "train_X = train_X.reshape((train_X.shape[0], 1, train_X.shape[1]))\n",
    "test_X = test_X.reshape((test_X.shape[0], 1, test_X.shape[1]))\n",
    "print(train_X.shape, train_y.shape, test_X.shape, test_y.shape)"
   ]
  },
  {
   "cell_type": "code",
   "execution_count": 82,
   "id": "aboriginal-colon",
   "metadata": {},
   "outputs": [
    {
     "name": "stdout",
     "output_type": "stream",
     "text": [
      "Epoch 1/50\n",
      "122/122 - 1s - loss: 0.0049 - val_loss: 0.0045\n",
      "Epoch 2/50\n",
      "122/122 - 0s - loss: 0.0049 - val_loss: 0.0050\n",
      "Epoch 3/50\n",
      "122/122 - 0s - loss: 0.0045 - val_loss: 0.0053\n",
      "Epoch 4/50\n",
      "122/122 - 1s - loss: 0.0041 - val_loss: 0.0039\n",
      "Epoch 5/50\n",
      "122/122 - 0s - loss: 0.0045 - val_loss: 0.0044\n",
      "Epoch 6/50\n",
      "122/122 - 0s - loss: 0.0044 - val_loss: 0.0036\n",
      "Epoch 7/50\n",
      "122/122 - 0s - loss: 0.0045 - val_loss: 0.0049\n",
      "Epoch 8/50\n",
      "122/122 - 0s - loss: 0.0042 - val_loss: 0.0033\n",
      "Epoch 9/50\n",
      "122/122 - 0s - loss: 0.0041 - val_loss: 0.0035\n",
      "Epoch 10/50\n",
      "122/122 - 0s - loss: 0.0042 - val_loss: 0.0034\n",
      "Epoch 11/50\n",
      "122/122 - 1s - loss: 0.0043 - val_loss: 0.0047\n",
      "Epoch 12/50\n",
      "122/122 - 0s - loss: 0.0044 - val_loss: 0.0042\n",
      "Epoch 13/50\n",
      "122/122 - 0s - loss: 0.0044 - val_loss: 0.0047\n",
      "Epoch 14/50\n",
      "122/122 - 0s - loss: 0.0043 - val_loss: 0.0039\n",
      "Epoch 15/50\n",
      "122/122 - 0s - loss: 0.0042 - val_loss: 0.0037\n",
      "Epoch 16/50\n",
      "122/122 - 0s - loss: 0.0044 - val_loss: 0.0040\n",
      "Epoch 17/50\n",
      "122/122 - 0s - loss: 0.0045 - val_loss: 0.0035\n",
      "Epoch 18/50\n",
      "122/122 - 0s - loss: 0.0042 - val_loss: 0.0040\n",
      "Epoch 19/50\n",
      "122/122 - 0s - loss: 0.0041 - val_loss: 0.0039\n",
      "Epoch 20/50\n",
      "122/122 - 0s - loss: 0.0043 - val_loss: 0.0038\n",
      "Epoch 21/50\n",
      "122/122 - 0s - loss: 0.0047 - val_loss: 0.0036\n",
      "Epoch 22/50\n",
      "122/122 - 0s - loss: 0.0042 - val_loss: 0.0041\n",
      "Epoch 23/50\n",
      "122/122 - 0s - loss: 0.0043 - val_loss: 0.0045\n",
      "Epoch 24/50\n",
      "122/122 - 0s - loss: 0.0041 - val_loss: 0.0034\n",
      "Epoch 25/50\n",
      "122/122 - 0s - loss: 0.0041 - val_loss: 0.0045\n",
      "Epoch 26/50\n",
      "122/122 - 0s - loss: 0.0045 - val_loss: 0.0034\n",
      "Epoch 27/50\n",
      "122/122 - 0s - loss: 0.0042 - val_loss: 0.0033\n",
      "Epoch 28/50\n",
      "122/122 - 0s - loss: 0.0044 - val_loss: 0.0042\n",
      "Epoch 29/50\n",
      "122/122 - 0s - loss: 0.0044 - val_loss: 0.0044\n",
      "Epoch 30/50\n",
      "122/122 - 0s - loss: 0.0041 - val_loss: 0.0046\n",
      "Epoch 31/50\n",
      "122/122 - 0s - loss: 0.0043 - val_loss: 0.0042\n",
      "Epoch 32/50\n",
      "122/122 - 0s - loss: 0.0045 - val_loss: 0.0037\n",
      "Epoch 33/50\n",
      "122/122 - 0s - loss: 0.0040 - val_loss: 0.0036\n",
      "Epoch 34/50\n",
      "122/122 - 0s - loss: 0.0042 - val_loss: 0.0034\n",
      "Epoch 35/50\n",
      "122/122 - 0s - loss: 0.0040 - val_loss: 0.0036\n",
      "Epoch 36/50\n",
      "122/122 - 0s - loss: 0.0039 - val_loss: 0.0035\n",
      "Epoch 37/50\n",
      "122/122 - 0s - loss: 0.0042 - val_loss: 0.0044\n",
      "Epoch 38/50\n",
      "122/122 - 0s - loss: 0.0042 - val_loss: 0.0036\n",
      "Epoch 39/50\n",
      "122/122 - 0s - loss: 0.0042 - val_loss: 0.0039\n",
      "Epoch 40/50\n",
      "122/122 - 0s - loss: 0.0041 - val_loss: 0.0034\n",
      "Epoch 41/50\n",
      "122/122 - 0s - loss: 0.0041 - val_loss: 0.0042\n",
      "Epoch 42/50\n",
      "122/122 - 0s - loss: 0.0043 - val_loss: 0.0034\n",
      "Epoch 43/50\n",
      "122/122 - 0s - loss: 0.0039 - val_loss: 0.0035\n",
      "Epoch 44/50\n",
      "122/122 - 0s - loss: 0.0039 - val_loss: 0.0035\n",
      "Epoch 45/50\n",
      "122/122 - 0s - loss: 0.0042 - val_loss: 0.0034\n",
      "Epoch 46/50\n",
      "122/122 - 0s - loss: 0.0042 - val_loss: 0.0040\n",
      "Epoch 47/50\n",
      "122/122 - 0s - loss: 0.0040 - val_loss: 0.0041\n",
      "Epoch 48/50\n",
      "122/122 - 0s - loss: 0.0041 - val_loss: 0.0033\n",
      "Epoch 49/50\n",
      "122/122 - 0s - loss: 0.0041 - val_loss: 0.0034\n",
      "Epoch 50/50\n",
      "122/122 - 0s - loss: 0.0040 - val_loss: 0.0040\n"
     ]
    },
    {
     "data": {
      "image/png": "[encoded data removed]",
      "text/plain": [
       "<Figure size 432x288 with 1 Axes>"
      ]
     },
     "metadata": {
      "needs_background": "light"
     },
     "output_type": "display_data"
    }
   ],
   "source": [
    "# design network\n",
    "model = Sequential()\n",
    "model.add(LSTM(50, input_shape=(train_X.shape[1], train_X.shape[2])))\n",
    "model.add(Dense(1))\n",
    "model.compile(loss='mae', optimizer='adam')\n",
    "# fit network\n",
    "history = model.fit(train_X, train_y, epochs=50, batch_size=72, validation_data=(test_X, test_y), verbose=2, shuffle=False)\n",
    "# plot history\n",
    "plt.plot(history.history['loss'], label='train')\n",
    "plt.plot(history.history['val_loss'], label='test')\n",
    "plt.legend()\n",
    "plt.show()"
   ]
  },
  {
   "cell_type": "code",
   "execution_count": 83,
   "id": "general-secondary",
   "metadata": {},
   "outputs": [
    {
     "name": "stdout",
     "output_type": "stream",
     "text": [
      "[[-1.57960086e+01  4.79764686e+01  1.03166181e+00  1.00998420e-01]\n",
      " [-1.55724439e+01  4.83346775e+01  1.03203834e+00  1.58720795e-01]\n",
      " [-8.45030968e+00  4.85511490e+01  1.03225135e+00  1.77693699e+00]\n",
      " ...\n",
      " [-1.59716667e+01  4.48685559e+01  9.96812998e-01  1.99815812e-02]\n",
      " [-1.59716667e+01  4.40645188e+01  9.99205512e-01  2.18883820e-02]\n",
      " [-1.59716667e+01  4.33429470e+01  1.00250089e+00  2.46378269e-02]]\n",
      "Test RMSE: 0.786\n"
     ]
    }
   ],
   "source": [
    "# make a prediction\n",
    "yhat = model.predict(test_X)\n",
    "test_X = test_X.reshape((test_X.shape[0], test_X.shape[2]))\n",
    "# invert scaling for forecast\n",
    "inv_yhat_hour = np.concatenate((test_X[:, :3], yhat), axis=1)\n",
    "inv_yhat_hour = scaler.inverse_transform(inv_yhat_hour)\n",
    "print(inv_yhat_hour)\n",
    "inv_yhat_hour = inv_yhat_hour[:,3]\n",
    "# invert scaling for actual\n",
    "test_y = test_y.reshape((len(test_y), 1))\n",
    "inv_y_hour = np.concatenate((test_X[:, :3], test_y), axis=1)\n",
    "inv_y_hour = scaler.inverse_transform(inv_y_hour)\n",
    "inv_y_hour = inv_y_hour[:,3]\n",
    "# calculate RMSE\n",
    "rmse = np.sqrt(mean_squared_error(inv_y_hour, inv_yhat_hour))\n",
    "print('Test RMSE: %.3f' % rmse)\n"
   ]
  },
  {
   "cell_type": "code",
   "execution_count": 95,
   "id": "presidential-aging",
   "metadata": {},
   "outputs": [
    {
     "name": "stdout",
     "output_type": "stream",
     "text": [
      "0.1300116177667492\n"
     ]
    }
   ],
   "source": [
    "mae_hour = mean_absolute_error(inv_y_hour, inv_yhat_hour)\n",
    "print(mae_hour)"
   ]
  },
  {
   "cell_type": "code",
   "execution_count": 85,
   "id": "neither-plymouth",
   "metadata": {},
   "outputs": [
    {
     "name": "stdout",
     "output_type": "stream",
     "text": [
      "8760\n",
      "868\n"
     ]
    }
   ],
   "source": [
    "LSTM_predict_hour = inv_yhat_hour[:8760]\n",
    "total_hour_precip = np.sum(LSTM_predict_hour)\n",
    "Actual_hour = inv_y_hour[:8760]\n",
    "actual_hour_precip = np.sum(Actual_hour)\n",
    "LSTM_hour_count = len(LSTM_predict_hour[LSTM_predict_hour > 0])\n",
    "LSTM_predict_hour = np.round(LSTM_predict_hour, 2)\n",
    "Actual_hour_count = len(Actual_hour[Actual_hour > 0])\n",
    "\n",
    "print(LSTM_hour_count)\n",
    "print(Actual_hour_count)"
   ]
  },
  {
   "cell_type": "code",
   "execution_count": 88,
   "id": "liquid-webster",
   "metadata": {},
   "outputs": [
    {
     "name": "stdout",
     "output_type": "stream",
     "text": [
      "9.908675799086758\n"
     ]
    }
   ],
   "source": [
    "accuracy_hour = mod_acc1(Actual_hour, LSTM_predict_hour, LSTM_hour_count)\n",
    "print(accuracy_hour)"
   ]
  },
  {
   "cell_type": "code",
   "execution_count": 107,
   "id": "continuous-combining",
   "metadata": {},
   "outputs": [
    {
     "data": {
      "text/plain": [
       "Text(0.45, 0.8, 'Precipitation Accuracy: 9.9%')"
      ]
     },
     "execution_count": 107,
     "metadata": {},
     "output_type": "execute_result"
    },
    {
     "data": {
      "image/png": "[encoded data removed]",
      "text/plain": [
       "<Figure size 720x576 with 1 Axes>"
      ]
     },
     "metadata": {
      "needs_background": "light"
     },
     "output_type": "display_data"
    }
   ],
   "source": [
    "plt.figure(figsize = (10, 8))\n",
    "plt.plot(-LSTM_predict_hour, color = 'r')\n",
    "plt.plot(Actual_hour)\n",
    "plt.xlabel('Hour', fontsize = 20)\n",
    "plt.ylabel('Precipitation (mm/hour)', fontsize = 20)\n",
    "plt.title('LSTM prediction based on hourly data for 2019', fontsize = 20)\n",
    "plt.legend(['LSTM 2019 prediction', 'Observed 2019 data'])\n",
    "plt.figtext(0.45, 0.825, 'LSTM total Precipitation: ' + str(round(np.sum(LSTM_predict_hour))) + ' mm', fontsize = 11, ha = 'right')\n",
    "plt.figtext(0.45, 0.85, 'Observed total Precipitation: ' + str(round(actual_hour_precip)) + ' mm', fontsize = 11, ha = 'right')\n",
    "plt.figtext(0.45, 0.8, 'Precipitation Accuracy: '  + str(round(accuracy_hour,1)) + '%', fontsize = 11, ha = 'right')"
   ]
  },
  {
   "cell_type": "code",
   "execution_count": 44,
   "id": "derived-folks",
   "metadata": {},
   "outputs": [
    {
     "name": "stdout",
     "output_type": "stream",
     "text": [
      "(1578191, 4)\n",
      "(1578098, 4)\n"
     ]
    }
   ],
   "source": [
    "Whole_all = np.concatenate([Whole18, Whole19, Whole20], axis = 0)\n",
    "print(Whole_all.shape)\n",
    "Whole_all = Whole_all[~np.isnan(Whole_all).any(axis = 1), :]\n",
    "print(Whole_all.shape)"
   ]
  },
  {
   "cell_type": "code",
   "execution_count": 45,
   "id": "professional-initial",
   "metadata": {},
   "outputs": [],
   "source": [
    "new_minute = pandas.DataFrame(Whole_all)"
   ]
  },
  {
   "cell_type": "code",
   "execution_count": 46,
   "id": "altered-allocation",
   "metadata": {},
   "outputs": [
    {
     "data": {
      "text/html": [
       "<div>\n",
       "<style scoped>\n",
       "    .dataframe tbody tr th:only-of-type {\n",
       "        vertical-align: middle;\n",
       "    }\n",
       "\n",
       "    .dataframe tbody tr th {\n",
       "        vertical-align: top;\n",
       "    }\n",
       "\n",
       "    .dataframe thead th {\n",
       "        text-align: right;\n",
       "    }\n",
       "</style>\n",
       "<table border=\"1\" class=\"dataframe\">\n",
       "  <thead>\n",
       "    <tr style=\"text-align: right;\">\n",
       "      <th></th>\n",
       "      <th>Temperature ($^\\circ C$)</th>\n",
       "      <th>Relative Humidity (%)</th>\n",
       "      <th>Atmospheric Pressure (bar)</th>\n",
       "      <th>Precipitation (mm)</th>\n",
       "    </tr>\n",
       "  </thead>\n",
       "  <tbody>\n",
       "    <tr>\n",
       "      <th>0</th>\n",
       "      <td>-11.1</td>\n",
       "      <td>45.5</td>\n",
       "      <td>1.0177</td>\n",
       "      <td>0.0</td>\n",
       "    </tr>\n",
       "    <tr>\n",
       "      <th>1</th>\n",
       "      <td>-11.1</td>\n",
       "      <td>45.3</td>\n",
       "      <td>1.0177</td>\n",
       "      <td>0.0</td>\n",
       "    </tr>\n",
       "    <tr>\n",
       "      <th>2</th>\n",
       "      <td>-11.1</td>\n",
       "      <td>45.1</td>\n",
       "      <td>1.0177</td>\n",
       "      <td>0.0</td>\n",
       "    </tr>\n",
       "    <tr>\n",
       "      <th>3</th>\n",
       "      <td>-11.1</td>\n",
       "      <td>46.2</td>\n",
       "      <td>1.0177</td>\n",
       "      <td>0.0</td>\n",
       "    </tr>\n",
       "    <tr>\n",
       "      <th>4</th>\n",
       "      <td>-11.1</td>\n",
       "      <td>45.4</td>\n",
       "      <td>1.0177</td>\n",
       "      <td>0.0</td>\n",
       "    </tr>\n",
       "    <tr>\n",
       "      <th>...</th>\n",
       "      <td>...</td>\n",
       "      <td>...</td>\n",
       "      <td>...</td>\n",
       "      <td>...</td>\n",
       "    </tr>\n",
       "    <tr>\n",
       "      <th>1578093</th>\n",
       "      <td>4.9</td>\n",
       "      <td>61.2</td>\n",
       "      <td>1.0173</td>\n",
       "      <td>0.0</td>\n",
       "    </tr>\n",
       "    <tr>\n",
       "      <th>1578094</th>\n",
       "      <td>4.9</td>\n",
       "      <td>60.8</td>\n",
       "      <td>1.0174</td>\n",
       "      <td>0.0</td>\n",
       "    </tr>\n",
       "    <tr>\n",
       "      <th>1578095</th>\n",
       "      <td>4.9</td>\n",
       "      <td>60.7</td>\n",
       "      <td>1.0174</td>\n",
       "      <td>0.0</td>\n",
       "    </tr>\n",
       "    <tr>\n",
       "      <th>1578096</th>\n",
       "      <td>4.9</td>\n",
       "      <td>61.3</td>\n",
       "      <td>1.0174</td>\n",
       "      <td>0.0</td>\n",
       "    </tr>\n",
       "    <tr>\n",
       "      <th>1578097</th>\n",
       "      <td>4.9</td>\n",
       "      <td>60.1</td>\n",
       "      <td>1.0175</td>\n",
       "      <td>0.0</td>\n",
       "    </tr>\n",
       "  </tbody>\n",
       "</table>\n",
       "<p>1578098 rows × 4 columns</p>\n",
       "</div>"
      ],
      "text/plain": [
       "         Temperature ($^\\circ C$)  Relative Humidity (%)  \\\n",
       "0                           -11.1                   45.5   \n",
       "1                           -11.1                   45.3   \n",
       "2                           -11.1                   45.1   \n",
       "3                           -11.1                   46.2   \n",
       "4                           -11.1                   45.4   \n",
       "...                           ...                    ...   \n",
       "1578093                       4.9                   61.2   \n",
       "1578094                       4.9                   60.8   \n",
       "1578095                       4.9                   60.7   \n",
       "1578096                       4.9                   61.3   \n",
       "1578097                       4.9                   60.1   \n",
       "\n",
       "         Atmospheric Pressure (bar)  Precipitation (mm)  \n",
       "0                            1.0177                 0.0  \n",
       "1                            1.0177                 0.0  \n",
       "2                            1.0177                 0.0  \n",
       "3                            1.0177                 0.0  \n",
       "4                            1.0177                 0.0  \n",
       "...                             ...                 ...  \n",
       "1578093                      1.0173                 0.0  \n",
       "1578094                      1.0174                 0.0  \n",
       "1578095                      1.0174                 0.0  \n",
       "1578096                      1.0174                 0.0  \n",
       "1578097                      1.0175                 0.0  \n",
       "\n",
       "[1578098 rows x 4 columns]"
      ]
     },
     "execution_count": 46,
     "metadata": {},
     "output_type": "execute_result"
    }
   ],
   "source": [
    "new_minute = new_minute.rename({0: \"Temperature ($^\\circ C$)\", 1 : \"Relative Humidity (%)\", 2: \"Atmospheric Pressure (bar)\", 3: \"Precipitation (mm)\"}, axis = 'columns')\n",
    "new_minute"
   ]
  },
  {
   "cell_type": "code",
   "execution_count": 47,
   "id": "unlimited-leeds",
   "metadata": {},
   "outputs": [
    {
     "name": "stdout",
     "output_type": "stream",
     "text": [
      "[[-11.1     45.5      1.0177   0.    ]\n",
      " [-11.1     45.3      1.0177   0.    ]\n",
      " [-11.1     45.1      1.0177   0.    ]\n",
      " ...\n",
      " [  4.9     60.7      1.0174   0.    ]\n",
      " [  4.9     61.3      1.0174   0.    ]\n",
      " [  4.9     60.1      1.0175   0.    ]]\n"
     ]
    }
   ],
   "source": [
    "values = new_minute.values\n",
    "print(values)"
   ]
  },
  {
   "cell_type": "code",
   "execution_count": 48,
   "id": "civil-findings",
   "metadata": {},
   "outputs": [
    {
     "name": "stdout",
     "output_type": "stream",
     "text": [
      "   var4(t-1)   var1(t)   var2(t)   var3(t)  var4(t)\n",
      "1        0.0  0.096591  0.407635  0.746291      0.0\n",
      "2        0.0  0.096591  0.405172  0.746291      0.0\n",
      "3        0.0  0.096591  0.418719  0.746291      0.0\n",
      "4        0.0  0.096591  0.408867  0.746291      0.0\n",
      "5        0.0  0.096591  0.413793  0.746291      0.0\n"
     ]
    }
   ],
   "source": [
    "#encoder = LabelEncoder()\n",
    "#values[:,4] = encoder.fit_transform(values[:,4])\n",
    "\n",
    "# normalize features\n",
    "scaler =  MinMaxScaler(feature_range=(0, 1))\n",
    "scaled = scaler.fit_transform(values)\n",
    "# frame as supervised learning\n",
    "reframed = series_to_supervised(scaled, 1, 1)\n",
    "# drop columns we don't want to predict\n",
    "reframed.drop(reframed.columns[[0,1,2]], axis=1, inplace=True)\n",
    "print(reframed.head())"
   ]
  },
  {
   "cell_type": "code",
   "execution_count": 49,
   "id": "convinced-march",
   "metadata": {},
   "outputs": [
    {
     "name": "stdout",
     "output_type": "stream",
     "text": [
      "[[0.         0.09659091 0.40763547 0.7462908  0.        ]\n",
      " [0.         0.09659091 0.40517241 0.7462908  0.        ]\n",
      " [0.         0.09659091 0.41871921 0.7462908  0.        ]\n",
      " ...\n",
      " [0.         0.39962121 0.59729064 0.74183976 0.        ]\n",
      " [0.         0.39962121 0.6046798  0.74183976 0.        ]\n",
      " [0.         0.39962121 0.58990148 0.74332344 0.        ]]\n",
      "(525600, 1, 4) (525600,) (1052497, 1, 4) (1052497,)\n"
     ]
    }
   ],
   "source": [
    "# split into train and test sets\n",
    "values = reframed.values\n",
    "print(values)\n",
    "n_train_hours = 365 * 24 * 60\n",
    "train = values[:n_train_hours, :]\n",
    "test = values[n_train_hours:, :]\n",
    "# split into input and outputs\n",
    "train_X, train_y = train[:, :-1], train[:, -1]\n",
    "test_X, test_y = test[:, :-1], test[:, -1]\n",
    "# reshape input to be 3D [samples, timesteps, features]\n",
    "train_X = train_X.reshape((train_X.shape[0], 1, train_X.shape[1]))\n",
    "test_X = test_X.reshape((test_X.shape[0], 1, test_X.shape[1]))\n",
    "print(train_X.shape, train_y.shape, test_X.shape, test_y.shape)"
   ]
  },
  {
   "cell_type": "code",
   "execution_count": 50,
   "id": "innocent-peace",
   "metadata": {},
   "outputs": [
    {
     "name": "stdout",
     "output_type": "stream",
     "text": [
      "Epoch 1/50\n",
      "7300/7300 - 26s - loss: 0.0029 - val_loss: 0.0086\n",
      "Epoch 2/50\n",
      "7300/7300 - 26s - loss: 0.0018 - val_loss: 0.0040\n",
      "Epoch 3/50\n",
      "7300/7300 - 25s - loss: 0.0015 - val_loss: 0.0034\n",
      "Epoch 4/50\n",
      "7300/7300 - 24s - loss: 0.0015 - val_loss: 0.0039\n",
      "Epoch 5/50\n",
      "7300/7300 - 23s - loss: 0.0013 - val_loss: 0.0034\n",
      "Epoch 6/50\n",
      "7300/7300 - 20s - loss: 0.0013 - val_loss: 0.0025\n",
      "Epoch 7/50\n",
      "7300/7300 - 19s - loss: 0.0011 - val_loss: 0.0024\n",
      "Epoch 8/50\n",
      "7300/7300 - 25s - loss: 0.0011 - val_loss: 0.0023\n",
      "Epoch 9/50\n",
      "7300/7300 - 24s - loss: 0.0010 - val_loss: 0.0022\n",
      "Epoch 10/50\n",
      "7300/7300 - 24s - loss: 9.5019e-04 - val_loss: 0.0026\n",
      "Epoch 11/50\n",
      "7300/7300 - 24s - loss: 0.0010 - val_loss: 0.0024\n",
      "Epoch 12/50\n",
      "7300/7300 - 24s - loss: 0.0010 - val_loss: 0.0022\n",
      "Epoch 13/50\n",
      "7300/7300 - 26s - loss: 9.8671e-04 - val_loss: 0.0021\n",
      "Epoch 14/50\n",
      "7300/7300 - 21s - loss: 0.0010 - val_loss: 0.0021\n",
      "Epoch 15/50\n",
      "7300/7300 - 24s - loss: 0.0011 - val_loss: 0.0017\n",
      "Epoch 16/50\n",
      "7300/7300 - 23s - loss: 0.0010 - val_loss: 0.0016\n",
      "Epoch 17/50\n",
      "7300/7300 - 18s - loss: 0.0010 - val_loss: 0.0017\n",
      "Epoch 18/50\n",
      "7300/7300 - 20s - loss: 0.0010 - val_loss: 0.0019\n",
      "Epoch 19/50\n",
      "7300/7300 - 21s - loss: 0.0010 - val_loss: 0.0017\n",
      "Epoch 20/50\n",
      "7300/7300 - 21s - loss: 9.9253e-04 - val_loss: 0.0024\n",
      "Epoch 21/50\n",
      "7300/7300 - 19s - loss: 9.7905e-04 - val_loss: 0.0012\n",
      "Epoch 22/50\n",
      "7300/7300 - 20s - loss: 8.8720e-04 - val_loss: 0.0013\n",
      "Epoch 23/50\n",
      "7300/7300 - 17s - loss: 8.3439e-04 - val_loss: 0.0012\n",
      "Epoch 24/50\n",
      "7300/7300 - 18s - loss: 8.3772e-04 - val_loss: 0.0012\n",
      "Epoch 25/50\n",
      "7300/7300 - 20s - loss: 7.0110e-04 - val_loss: 0.0013\n",
      "Epoch 26/50\n",
      "7300/7300 - 18s - loss: 8.4879e-04 - val_loss: 0.0014\n",
      "Epoch 27/50\n",
      "7300/7300 - 18s - loss: 9.3073e-04 - val_loss: 0.0015\n",
      "Epoch 28/50\n",
      "7300/7300 - 21s - loss: 0.0010 - val_loss: 0.0020\n",
      "Epoch 29/50\n",
      "7300/7300 - 19s - loss: 0.0010 - val_loss: 0.0023\n",
      "Epoch 30/50\n",
      "7300/7300 - 17s - loss: 0.0011 - val_loss: 0.0022\n",
      "Epoch 31/50\n",
      "7300/7300 - 17s - loss: 9.7660e-04 - val_loss: 0.0019\n",
      "Epoch 32/50\n",
      "7300/7300 - 17s - loss: 9.1867e-04 - val_loss: 0.0015\n",
      "Epoch 33/50\n",
      "7300/7300 - 17s - loss: 9.1998e-04 - val_loss: 0.0013\n",
      "Epoch 34/50\n",
      "7300/7300 - 20s - loss: 8.7855e-04 - val_loss: 0.0012\n",
      "Epoch 35/50\n",
      "7300/7300 - 20s - loss: 8.4670e-04 - val_loss: 0.0014\n",
      "Epoch 36/50\n",
      "7300/7300 - 26s - loss: 9.1351e-04 - val_loss: 0.0012\n",
      "Epoch 37/50\n",
      "7300/7300 - 25s - loss: 8.4336e-04 - val_loss: 0.0010\n",
      "Epoch 38/50\n",
      "7300/7300 - 23s - loss: 8.6202e-04 - val_loss: 0.0010\n",
      "Epoch 39/50\n",
      "7300/7300 - 20s - loss: 8.9432e-04 - val_loss: 0.0012\n",
      "Epoch 40/50\n",
      "7300/7300 - 21s - loss: 8.4610e-04 - val_loss: 0.0011\n",
      "Epoch 41/50\n",
      "7300/7300 - 22s - loss: 8.6212e-04 - val_loss: 0.0012\n",
      "Epoch 42/50\n",
      "7300/7300 - 20s - loss: 9.0114e-04 - val_loss: 0.0013\n",
      "Epoch 43/50\n",
      "7300/7300 - 24s - loss: 8.5178e-04 - val_loss: 0.0014\n",
      "Epoch 44/50\n",
      "7300/7300 - 20s - loss: 8.7697e-04 - val_loss: 0.0013\n",
      "Epoch 45/50\n",
      "7300/7300 - 22s - loss: 8.8899e-04 - val_loss: 0.0014\n",
      "Epoch 46/50\n",
      "7300/7300 - 21s - loss: 8.6284e-04 - val_loss: 0.0015\n",
      "Epoch 47/50\n",
      "7300/7300 - 21s - loss: 8.4045e-04 - val_loss: 0.0012\n",
      "Epoch 48/50\n",
      "7300/7300 - 23s - loss: 8.8188e-04 - val_loss: 0.0011\n",
      "Epoch 49/50\n",
      "7300/7300 - 19s - loss: 8.3982e-04 - val_loss: 0.0012\n",
      "Epoch 50/50\n",
      "7300/7300 - 20s - loss: 8.6672e-04 - val_loss: 0.0012\n"
     ]
    },
    {
     "data": {
      "image/png": "[encoded data removed]",
      "text/plain": [
       "<Figure size 432x288 with 1 Axes>"
      ]
     },
     "metadata": {
      "needs_background": "light"
     },
     "output_type": "display_data"
    }
   ],
   "source": [
    "# design network\n",
    "model = Sequential()\n",
    "model.add(LSTM(50, input_shape=(train_X.shape[1], train_X.shape[2])))\n",
    "model.add(Dense(1))\n",
    "model.compile(loss='mae', optimizer='adam')\n",
    "# fit network\n",
    "history = model.fit(train_X, train_y, epochs=50, batch_size=72, validation_data=(test_X, test_y), verbose=2, shuffle=False)\n",
    "# plot history\n",
    "plt.plot(history.history['loss'], label='train')\n",
    "plt.plot(history.history['val_loss'], label='test')\n",
    "plt.legend()\n",
    "plt.show()"
   ]
  },
  {
   "cell_type": "code",
   "execution_count": 51,
   "id": "embedded-illinois",
   "metadata": {},
   "outputs": [
    {
     "name": "stdout",
     "output_type": "stream",
     "text": [
      "[[0.         0.42424242 0.94827586 0.61127596]\n",
      " [0.         0.42424242 0.94950739 0.60979228]\n",
      " [0.         0.42613636 0.95073892 0.60979228]\n",
      " ...\n",
      " [0.         0.39962121 0.59729064 0.74183976]\n",
      " [0.         0.39962121 0.6046798  0.74183976]\n",
      " [0.         0.39962121 0.58990148 0.74332344]]\n",
      "[[0.         0.42424242 0.94827586 0.00113265]\n",
      " [0.         0.42424242 0.94950739 0.00111902]\n",
      " [0.         0.42613636 0.95073892 0.00110739]\n",
      " ...\n",
      " [0.         0.39962121 0.59729064 0.00173047]\n",
      " [0.         0.39962121 0.6046798  0.00174432]\n",
      " [0.         0.39962121 0.58990148 0.00172552]]\n",
      "[[-1.62000000e+01  4.66484848e+01  1.03131379e+00  3.40929107e-03]\n",
      " [-1.62000000e+01  4.66484848e+01  1.03139680e+00  3.36824999e-03]\n",
      " [-1.62000000e+01  4.68022727e+01  1.03147980e+00  3.33323596e-03]\n",
      " ...\n",
      " [-1.62000000e+01  4.46492424e+01  1.00765739e+00  5.20872132e-03]\n",
      " [-1.62000000e+01  4.46492424e+01  1.00815542e+00  5.25040540e-03]\n",
      " [-1.62000000e+01  4.46492424e+01  1.00715936e+00  5.19381067e-03]]\n",
      "Test RMSE: 0.012\n"
     ]
    }
   ],
   "source": [
    "# make a prediction\n",
    "yhat = model.predict(test_X)\n",
    "test_X = test_X.reshape((test_X.shape[0], test_X.shape[2]))\n",
    "print(test_X)\n",
    "# invert scaling for forecast\n",
    "inv_yhat = np.concatenate((test_X[:, :3], yhat), axis=1)\n",
    "print(inv_yhat)\n",
    "inv_yhat = scaler.inverse_transform(inv_yhat)\n",
    "print(inv_yhat)\n",
    "inv_yhat = inv_yhat[:,3]\n",
    "# invert scaling for actual\n",
    "test_y = test_y.reshape((len(test_y), 1))\n",
    "inv_y = np.concatenate(( test_X[:, :3], test_y), axis=1)\n",
    "inv_y = scaler.inverse_transform(inv_y)\n",
    "inv_y = inv_y[:,3]\n",
    "# calculate RMSE\n",
    "rmse = np.sqrt(mean_squared_error(inv_y, inv_yhat))\n",
    "print('Test RMSE: %.3f' % rmse)\n"
   ]
  },
  {
   "cell_type": "code",
   "execution_count": 96,
   "id": "former-image",
   "metadata": {},
   "outputs": [
    {
     "name": "stdout",
     "output_type": "stream",
     "text": [
      "0.003558033403959128\n"
     ]
    }
   ],
   "source": [
    "mae_minute = mean_absolute_error(inv_y, inv_yhat)\n",
    "print(mae_minute)"
   ]
  },
  {
   "cell_type": "code",
   "execution_count": 106,
   "id": "premium-donor",
   "metadata": {},
   "outputs": [
    {
     "data": {
      "text/plain": [
       "Text(0.45, 0.8, 'Precipitation Accuracy: 16.8%')"
      ]
     },
     "execution_count": 106,
     "metadata": {},
     "output_type": "execute_result"
    },
    {
     "data": {
      "image/png": "[encoded data removed]",
      "text/plain": [
       "<Figure size 720x576 with 1 Axes>"
      ]
     },
     "metadata": {
      "needs_background": "light"
     },
     "output_type": "display_data"
    }
   ],
   "source": [
    "plt.figure(figsize = (10, 8))\n",
    "plt.plot(-More_clear, color = 'r')\n",
    "plt.plot(inv_y[:8760*60])\n",
    "plt.xlabel('Minute', fontsize = 20)\n",
    "plt.ylabel('Precipitation (mm/minute)', fontsize = 20)\n",
    "plt.title('LSTM prediction based on minute data for 2019', fontsize = 20)\n",
    "plt.legend(['LSTM 2019 prediction', 'Observed 2019 data'])\n",
    "plt.figtext(0.45, 0.825, 'LSTM total Precipitation: ' + str(round(LSTM_min_total_19)) + ' mm', fontsize = 11, ha = 'right')\n",
    "plt.figtext(0.45, 0.85, 'Observed total Precipitation: ' + str(round(Actual_min_len)) + ' mm', fontsize = 11, ha = 'right')\n",
    "plt.figtext(0.45, 0.8, 'Precipitation Accuracy: '  + str(round(accuracy_min,1)) + '%', fontsize = 11, ha = 'right')"
   ]
  },
  {
   "cell_type": "code",
   "execution_count": 59,
   "id": "smart-therapy",
   "metadata": {},
   "outputs": [],
   "source": []
  },
  {
   "cell_type": "code",
   "execution_count": 63,
   "id": "antique-latter",
   "metadata": {},
   "outputs": [],
   "source": [
    "# Starts with a simple model accuracy, precip with precip. \n",
    "def mod_acc1(model, observed, pre_min):\n",
    "    mod_accuracy = 0\n",
    "    for i in range(len(observed)):\n",
    "        mod = model[i]\n",
    "        obs = observed[i]\n",
    "        #if (mod == 0 and obs == 0):\n",
    "            #mod_accuracy += 1\n",
    "        if (mod > 0 and obs > 0):\n",
    "            mod_accuracy += 1\n",
    "        else: \n",
    "            mod_accuracy += 0\n",
    "    mod_accuracy = 100*mod_accuracy/pre_min\n",
    "    return mod_accuracy"
   ]
  },
  {
   "cell_type": "code",
   "execution_count": 64,
   "id": "applied-today",
   "metadata": {},
   "outputs": [
    {
     "name": "stdout",
     "output_type": "stream",
     "text": [
      "285215\n",
      "17109\n"
     ]
    }
   ],
   "source": [
    "LSTM_min_pred = inv_yhat[:8760*60]\n",
    "LSTM_min_len = len(LSTM_min_pred[LSTM_min_pred> 0])\n",
    "Actual_min19 = inv_y[:8760*60]\n",
    "Actual_min_len = len(Actual_min19[Actual_min19> 0])\n",
    "print(LSTM_min_len)\n",
    "print(Actual_min_len)"
   ]
  },
  {
   "cell_type": "code",
   "execution_count": 65,
   "id": "numeric-scene",
   "metadata": {},
   "outputs": [
    {
     "name": "stdout",
     "output_type": "stream",
     "text": [
      "5.211156495976719\n"
     ]
    }
   ],
   "source": [
    "accuracy_min = mod_acc1(LSTM_min_pred, Actual_min19, LSTM_min_len)\n",
    "print(accuracy_min)"
   ]
  },
  {
   "cell_type": "code",
   "execution_count": 67,
   "id": "laden-radio",
   "metadata": {},
   "outputs": [
    {
     "name": "stdout",
     "output_type": "stream",
     "text": [
      "76248\n"
     ]
    }
   ],
   "source": [
    "More_clear = np.round(LSTM_min_pred, 2)\n",
    "clear_min = len(More_clear[More_clear > 0])\n",
    "print(clear_min)"
   ]
  },
  {
   "cell_type": "code",
   "execution_count": 68,
   "id": "satisfactory-anxiety",
   "metadata": {},
   "outputs": [
    {
     "name": "stdout",
     "output_type": "stream",
     "text": [
      "16.774210471094325\n"
     ]
    }
   ],
   "source": [
    "accuracy_min = mod_acc1(More_clear, Actual_min19, clear_min)\n",
    "print(accuracy_min)"
   ]
  },
  {
   "cell_type": "code",
   "execution_count": 75,
   "id": "descending-bumper",
   "metadata": {},
   "outputs": [
    {
     "name": "stdout",
     "output_type": "stream",
     "text": [
      "1257.1499999999996\n",
      "1028.46\n"
     ]
    }
   ],
   "source": [
    "LSTM_min_total_19 = np.sum(More_clear)\n",
    "Actual_min19 = inv_y[:8760*60]\n",
    "Actual_min_len = np.sum(Actual_min19[Actual_min19 > 0])\n",
    "print(LSTM_min_total_19)\n",
    "print(Actual_min_len)"
   ]
  },
  {
   "cell_type": "code",
   "execution_count": 104,
   "id": "educated-wrapping",
   "metadata": {},
   "outputs": [
    {
     "data": {
      "image/png": "[encoded data removed]",
      "text/plain": [
       "<Figure size 720x576 with 2 Axes>"
      ]
     },
     "metadata": {
      "needs_background": "light"
     },
     "output_type": "display_data"
    }
   ],
   "source": [
    "plt.figure(figsize = (10, 8))\n",
    "plt.hist2d(inv_y[:8760*60]  ,More_clear, norm = mlt.colors.LogNorm(0.5), bins = (100, 100))\n",
    "plt.title('LSTM minute Prediction vs. Actual Precipitation for 2019', fontsize = 20)\n",
    "plt.xlabel('Actual Value', fontsize = 20)\n",
    "plt.ylabel('Predicted Value', fontsize = 20)\n",
    "b = plt.colorbar()\n",
    "b.set_label('Frequency', fontsize = 20)"
   ]
  },
  {
   "cell_type": "code",
   "execution_count": 103,
   "id": "bronze-reset",
   "metadata": {},
   "outputs": [
    {
     "data": {
      "image/png": "[encoded data removed]",
      "text/plain": [
       "<Figure size 720x576 with 2 Axes>"
      ]
     },
     "metadata": {
      "needs_background": "light"
     },
     "output_type": "display_data"
    }
   ],
   "source": [
    "plt.figure(figsize = (10, 8))\n",
    "plt.hist2d(Actual_hour,LSTM_predict_hour, norm = mlt.colors.LogNorm(0.5), bins = (100, 100))\n",
    "plt.title('LSTM hour Prediction vs. Actual Precipitation for 2019', fontsize = 20)\n",
    "plt.xlabel('Actual Value', fontsize = 20)\n",
    "plt.ylabel('Predicted Value', fontsize =20)\n",
    "a = plt.colorbar()\n",
    "a.set_label('Frequency', fontsize = 20)"
   ]
  },
  {
   "cell_type": "code",
   "execution_count": null,
   "id": "automotive-hampshire",
   "metadata": {},
   "outputs": [],
   "source": []
  }
 ],
 "metadata": {
  "kernelspec": {
   "display_name": "Python 3",
   "language": "python",
   "name": "python3"
  },
  "language_info": {
   "codemirror_mode": {
    "name": "ipython",
    "version": 3
   },
   "file_extension": ".py",
   "mimetype": "text/x-python",
   "name": "python",
   "nbconvert_exporter": "python",
   "pygments_lexer": "ipython3",
   "version": "3.8.8"
  }
 },
 "nbformat": 4,
 "nbformat_minor": 5
}
