{
 "cells": [
  {
   "cell_type": "code",
   "execution_count": 1,
   "metadata": {},
   "outputs": [
    {
     "name": "stdout",
     "output_type": "stream",
     "text": [
      "importing Jupyter notebook from histplot.ipynb\n",
      "644\n",
      "3122\n"
     ]
    }
   ],
   "source": [
    "# Function for generating histogram\n",
    "# Import Libraries\n",
    "import numpy as np\n",
    "import matplotlib.pyplot as plt\n",
    "import matplotlib as mlt\n",
    "import datetime \n",
    "import import_ipynb\n",
    "import histplot"
   ]
  },
  {
   "cell_type": "code",
   "execution_count": 2,
   "metadata": {},
   "outputs": [],
   "source": [
    "ASC = '__ASC_ASCIIIn.mrk'\n",
    "direct = 'C:/Users/tyron/Documents/Geoscience/weather/'"
   ]
  },
  {
   "cell_type": "code",
   "execution_count": 3,
   "metadata": {},
   "outputs": [],
   "source": [
    "Summer17 = histplot.getData(18, direct, ASC, 197, 47, 6 , float)\n",
    "Fall17 = histplot.getData(18, direct, ASC, 244, 91, 6, float)"
   ]
  },
  {
   "cell_type": "code",
   "execution_count": 4,
   "metadata": {},
   "outputs": [],
   "source": [
    "Season17 = np.concatenate([Summer17, Fall17])"
   ]
  },
  {
   "cell_type": "code",
   "execution_count": 5,
   "metadata": {},
   "outputs": [],
   "source": [
    "Su_precip17, Su_nonprecip17, Su_preciptotal17, Su_totalprep17 = histplot.preciphist(Summer17, len(Summer17), 5000, 1, 1)\n",
    "Fprecip17, Fnonprecip17, Fpreciptotal17, Ftotalprep17 = histplot.preciphist(Fall17, len(Fall17), 5000, 1, 1)"
   ]
  },
  {
   "cell_type": "code",
   "execution_count": 7,
   "metadata": {},
   "outputs": [
    {
     "name": "stdout",
     "output_type": "stream",
     "text": [
      "[1.00000e+00 1.00000e+00 1.00000e+00 1.00000e+00 1.00000e+00 1.00000e+00\n",
      " 1.00000e+00 1.00000e+00 1.00000e+00 1.00000e+00 1.00000e+00 1.00000e+00\n",
      " 1.00000e+00 1.00000e+00 1.00000e+00 1.00000e+00 1.00000e+00 1.00000e+00\n",
      " 1.00000e+00 1.00000e+00 2.00000e+00 2.00000e+00 2.00000e+00 2.00000e+00\n",
      " 2.00000e+00 2.00000e+00 2.00000e+00 3.00000e+00 3.00000e+00 3.00000e+00\n",
      " 4.00000e+00 4.00000e+00 4.00000e+00 5.00000e+00 6.00000e+00 6.00000e+00\n",
      " 7.00000e+00 8.00000e+00 9.00000e+00 1.10000e+01 1.40000e+01 1.60000e+01\n",
      " 2.04400e+01 2.80000e+01 4.20000e+01 6.48000e+01 1.08440e+02 2.16240e+02\n",
      " 5.41040e+02 2.17668e+03]\n"
     ]
    }
   ],
   "source": [
    "precip17, nonprecip17, preciptotal17, totalprep17 = histplot.preciphist(Season17, len(Season17), 20000, 1, 1)\n",
    "countAll17 = 0\n",
    "for i in range(0,20000):\n",
    "    hold = nonprecip17[i]\n",
    "    if hold > 0:\n",
    "        countAll17 += 1\n",
    "nonperc = np.zeros(50)\n",
    "for i in range(0, 50):\n",
    "    nonperc[i] =np.percentile(nonprecip17[:countAll17], i*2)\n",
    "print(nonperc)"
   ]
  },
  {
   "cell_type": "code",
   "execution_count": 9,
   "metadata": {},
   "outputs": [
    {
     "name": "stdout",
     "output_type": "stream",
     "text": [
      "[0.3075     0.73473684 0.32805556 ... 0.01       0.01       0.01      ]\n"
     ]
    }
   ],
   "source": [
    "inten17 = np.divide(preciptotal17[:countAll17], precip17[:countAll17])\n",
    "print(inten17)\n"
   ]
  },
  {
   "cell_type": "code",
   "execution_count": 13,
   "metadata": {},
   "outputs": [
    {
     "name": "stdout",
     "output_type": "stream",
     "text": [
      "[0.01       0.01       0.01       0.01       0.01       0.01\n",
      " 0.01       0.01       0.01       0.01       0.01       0.01\n",
      " 0.01       0.01       0.01       0.01       0.01       0.01\n",
      " 0.01       0.01       0.01       0.01       0.01       0.01\n",
      " 0.01       0.01       0.01       0.01       0.01       0.01\n",
      " 0.01       0.01       0.01       0.01       0.01       0.012\n",
      " 0.01333333 0.015      0.015      0.01666667 0.02       0.02\n",
      " 0.02136667 0.02507647 0.03       0.03327273 0.04465    0.055\n",
      " 0.07596571 0.13694476]\n"
     ]
    }
   ],
   "source": [
    "countAll17_1 = 0\n",
    "for i in range(0,len(inten17)):\n",
    "    hold = inten17[i]\n",
    "    if hold > 0:\n",
    "        countAll17_1 += 1\n",
    "intens17 = np.zeros(50)\n",
    "for i in range(0, 50):\n",
    "    intens17[i] =np.percentile(inten17[:countAll17_1], i*2)\n",
    "print(intens17)"
   ]
  },
  {
   "cell_type": "code",
   "execution_count": 17,
   "metadata": {},
   "outputs": [
    {
     "name": "stdout",
     "output_type": "stream",
     "text": [
      "[0.01       0.01       0.012      0.01333333 0.015      0.01666667\n",
      " 0.02       0.02136667 0.02507647 0.03       0.03327273 0.04465\n",
      " 0.055      0.07596571 0.13694476]\n",
      "[0.012      0.01333333 0.015      0.01666667 0.02       0.02136667\n",
      " 0.02507647 0.03       0.03327273 0.04465    0.055      0.07596571\n",
      " 0.13694476]\n"
     ]
    }
   ],
   "source": [
    "intens17 = np.unique(intens17)\n",
    "print(intens17)\n",
    "one = [intens17[0], intens17[1]]\n",
    "intens17 = np.setdiff1d(intens17, one)\n",
    "print(intens17)"
   ]
  },
  {
   "cell_type": "code",
   "execution_count": 18,
   "metadata": {},
   "outputs": [
    {
     "name": "stdout",
     "output_type": "stream",
     "text": [
      "[0.01266667 0.01416667 0.01583333 0.01833333 0.02068333 0.02322157\n",
      " 0.02753824 0.03163636 0.03896136 0.049825   0.06548286 0.10645524]\n",
      "[2.48490665 3.66356165 4.02535169 3.55534806 4.09434456 3.36729583\n",
      " 3.09104245 3.55534806 3.36729583 3.29583687 3.4339872  3.36729583]\n",
      "[-0.03240098  3.32659558]\n"
     ]
    }
   ],
   "source": [
    "hist19, bin_edge = np.histogram(inten17, bins = intens17)\n",
    "log_x = np.log(bin_edge)\n",
    "log_y = np.log(hist19)\n",
    "log_x_2 = np.log(bin_edge[:12])\n",
    "bin_val = np.zeros(12)\n",
    "for i in range(0, 12):\n",
    "    bin_val[i] = (bin_edge[i]+bin_edge[i+1])/2\n",
    "print(bin_val)\n",
    "logx = np.log(bin_val)\n",
    "print(log_y)\n",
    "curve_fit = np.polyfit(logx, log_y, 1)\n",
    "print(curve_fit)"
   ]
  },
  {
   "cell_type": "code",
   "execution_count": 19,
   "metadata": {},
   "outputs": [],
   "source": [
    "def calc(precip_data, what_bin):\n",
    "    hist, bin_edge = np.histogram(precip_data, bins = what_bin)\n",
    "    log_y = np.log(hist)\n",
    "    bin_val = np.zeros(len(what_bin)-1)\n",
    "    for i in range(len(what_bin)-1):\n",
    "        bin_val[i] = (what_bin[i] + what_bin[i+1])/2\n",
    "    logx = np.log(bin_val)\n",
    "    curve_fit = np.polyfit(logx, log_y,1)\n",
    "    curve_fit[1] = np.exp(curve_fit[1])\n",
    "    return curve_fit"
   ]
  },
  {
   "cell_type": "code",
   "execution_count": 20,
   "metadata": {},
   "outputs": [],
   "source": [
    "int17 = calc(inten17, intens17)"
   ]
  },
  {
   "cell_type": "code",
   "execution_count": 21,
   "metadata": {},
   "outputs": [
    {
     "name": "stdout",
     "output_type": "stream",
     "text": [
      "[-0.03240098 27.84338949]\n"
     ]
    }
   ],
   "source": [
    "print(int17)"
   ]
  },
  {
   "cell_type": "code",
   "execution_count": null,
   "metadata": {},
   "outputs": [],
   "source": []
  },
  {
   "cell_type": "code",
   "execution_count": null,
   "metadata": {},
   "outputs": [],
   "source": [
    "plt.figure(figsize = (10,8))\n",
    "plt.hist([Su_precip17,Fprecip17], bins =intens17, range= (intens17.min,intens17.max), color = ['g','c'], stacked =True)\n",
    "plt.xlabel('Intensity of Precipitation events (mm/minute)', fontsize = 20)\n",
    "plt.xscale('log')\n",
    "plt.ylim(0,1000)\n",
    "#plt.yscale('log')\n",
    "plt.ylabel('Frequency', fontsize = 20)\n",
    "plt.title('2017 Precipitation intensity by season', fontsize = 24)\n",
    "#plt.figtext(0.5, 0.5, 'Total Winter Precipitation: ' + str(round(Wtotalprep,2)) + ' mm', fontsize = 14)\n",
    "#plt.figtext(0.5, 0.475, 'Total Spring Precipitation: ' + str(round(Sp_totalprep,2)) + ' mm', fontsize = 14)\n",
    "plt.figtext(0.9, 0.45, 'Mean Summer Intensity: ' + ' mm', fontsize = 14, ha = 'right')\n",
    "plt.figtext(0.9, 0.425, 'Mean Fall Intensity: '  + ' mm', fontsize = 14, ha = 'right')\n",
    "plt.figtext(0.9, 0.4, 'Mean 2017 Intensity: '  + ' mm', fontsize = 14,ha='right')\n",
    "plt.plot(bin_val, test*y, color = 'k' )\n",
    "plt.legend(labels = ['$y = 27.8 e^{-0.03x}$', 'Summer', 'Fall'], fontsize = 14)\n",
    "#plt.figtext(0.3, 0.6, 'Exponential fit equation between 2 minutes to 42 minutes: $ y = e^{5.74}*e^{-0.54x}$' )"
   ]
  }
 ],
 "metadata": {
  "kernelspec": {
   "display_name": "Python 3",
   "language": "python",
   "name": "python3"
  },
  "language_info": {
   "codemirror_mode": {
    "name": "ipython",
    "version": 3
   },
   "file_extension": ".py",
   "mimetype": "text/x-python",
   "name": "python",
   "nbconvert_exporter": "python",
   "pygments_lexer": "ipython3",
   "version": "3.7.3"
  }
 },
 "nbformat": 4,
 "nbformat_minor": 2
}
