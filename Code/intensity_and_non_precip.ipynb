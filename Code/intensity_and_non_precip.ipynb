{
 "cells": [
  {
   "cell_type": "code",
   "execution_count": 1,
   "metadata": {},
   "outputs": [
    {
     "name": "stdout",
     "output_type": "stream",
     "text": [
      "importing Jupyter notebook from histplot.ipynb\n",
      "644\n",
      "3122\n"
     ]
    }
   ],
   "source": [
    "# Function for generating histogram\n",
    "# Import Libraries\n",
    "import numpy as np\n",
    "import matplotlib.pyplot as plt\n",
    "import matplotlib as mlt\n",
    "import datetime \n",
    "import import_ipynb\n",
    "import histplot"
   ]
  },
  {
   "cell_type": "code",
   "execution_count": 2,
   "metadata": {},
   "outputs": [],
   "source": [
    "ASC = '__ASC_ASCIIIn.mrk'\n",
    "direct = 'C:/Users/tyron/Documents/Geoscience/weather/'"
   ]
  },
  {
   "cell_type": "code",
   "execution_count": 8,
   "metadata": {},
   "outputs": [],
   "source": [
    "Summer17 = histplot.getData(17, direct, ASC, 197, 47, 6 , float)\n",
    "Fall17 = histplot.getData(17, direct, ASC, 244, 91, 6, float)"
   ]
  },
  {
   "cell_type": "code",
   "execution_count": 4,
   "metadata": {},
   "outputs": [],
   "source": [
    "#2018\n",
    "Winter18_1 = histplot.getData(17,direct, ASC, 335, 31, 6, float)\n",
    "Winter18_2 = histplot.getData(18, direct, ASC, 1, 59, 6, float)\n",
    "Spring18 = histplot.getData(18,direct, ASC, 60, 92,6, float)\n",
    "Summer18 = histplot.getData(18, direct, ASC, 152, 92, 6 , float)\n",
    "Fall18 = histplot.getData(18, direct, ASC, 244, 91, 6, float)\n",
    "\n",
    "Winter18 = np.concatenate([Winter18_1, Winter18_2])\n",
    "\n",
    "Season18 = np.concatenate([Winter18, Spring18, Summer18, Fall18])"
   ]
  },
  {
   "cell_type": "code",
   "execution_count": 5,
   "metadata": {},
   "outputs": [],
   "source": [
    "# 2019 \n",
    "Winter19_1 = histplot.getData(18,direct, ASC, 335, 31, 6, float)\n",
    "Winter19_2 = histplot.getData(19, direct, ASC, 1, 59, 6, float)\n",
    "Spring19 = histplot.getData(19,direct, ASC, 60, 92,6, float)\n",
    "Summer19 = histplot.getData(19, direct, ASC, 152, 92, 6 , float)\n",
    "Fall19 = histplot.getData(19, direct, ASC, 244, 91, 6, float)\n",
    "\n",
    "Winter19 = np.concatenate([Winter19_1, Winter19_2])\n",
    "\n",
    "Season19 = np.concatenate([Winter19, Spring19, Summer19, Fall19])"
   ]
  },
  {
   "cell_type": "code",
   "execution_count": 6,
   "metadata": {},
   "outputs": [],
   "source": [
    "#2020\n",
    "Winter20_1 = histplot.getData(19,direct, ASC, 335, 31, 6, float)\n",
    "Winter20_2 = histplot.getData(20, direct, ASC, 1, 60, 6, float)\n",
    "Spring20 = histplot.getData(20,direct, ASC, 61, 92,6, float)\n",
    "Summer20 = histplot.getData(20, direct, ASC, 153, 92, 6 , float)\n",
    "Fall20 = histplot.getData(20, direct, ASC, 245, 69, 6, float)\n",
    "\n",
    "Winter20 = np.concatenate([Winter20_1, Winter20_2])\n",
    "\n",
    "Season20 = np.concatenate([Winter20, Spring20, Summer20, Fall20])"
   ]
  },
  {
   "cell_type": "code",
   "execution_count": 9,
   "metadata": {},
   "outputs": [],
   "source": [
    "Season17 = np.concatenate([Summer17, Fall17])"
   ]
  },
  {
   "cell_type": "code",
   "execution_count": 10,
   "metadata": {},
   "outputs": [],
   "source": [
    "Su_precip17, Su_nonprecip17, Su_preciptotal17, Su_totalprep17 = histplot.preciphist(Summer17, len(Summer17), 5000, 1, 1)\n",
    "Fprecip17, Fnonprecip17, Fpreciptotal17, Ftotalprep17 = histplot.preciphist(Fall17, len(Fall17), 5000, 1, 1)"
   ]
  },
  {
   "cell_type": "code",
   "execution_count": 13,
   "metadata": {},
   "outputs": [
    {
     "name": "stdout",
     "output_type": "stream",
     "text": [
      "[1.0000e+00 1.0000e+00 1.0000e+00 1.0000e+00 1.0000e+00 1.0000e+00\n",
      " 1.0000e+00 1.0000e+00 1.0000e+00 1.0000e+00 1.0000e+00 1.0000e+00\n",
      " 1.0000e+00 1.0000e+00 1.0000e+00 1.0000e+00 1.0000e+00 1.0000e+00\n",
      " 1.0000e+00 1.0000e+00 2.0000e+00 2.0000e+00 2.0000e+00 2.0000e+00\n",
      " 2.0000e+00 2.0000e+00 3.0000e+00 3.0000e+00 3.0000e+00 4.0000e+00\n",
      " 4.0000e+00 5.0000e+00 5.0000e+00 6.0000e+00 7.0000e+00 8.0000e+00\n",
      " 9.0000e+00 1.0000e+01 1.1000e+01 1.4000e+01 1.6000e+01 2.0000e+01\n",
      " 2.7000e+01 3.5000e+01 4.8000e+01 6.6000e+01 1.0480e+02 2.4120e+02\n",
      " 1.2352e+03 3.4692e+03]\n"
     ]
    }
   ],
   "source": [
    "precip17, nonprecip17, preciptotal17, totalprep17 = histplot.preciphist(Season17, len(Season17), 20000, 1, 1)\n",
    "countAll17 = 0\n",
    "for i in range(0,20000):\n",
    "    hold = nonprecip17[i]\n",
    "    if hold > 0:\n",
    "        countAll17 += 1\n",
    "nonpre_perc17 = np.zeros(50)\n",
    "for i in range(0, 50):\n",
    "    nonpre_perc17[i] =np.percentile(nonprecip17[:countAll17], i*2)\n",
    "print(nonpre_perc17)"
   ]
  },
  {
   "cell_type": "code",
   "execution_count": 17,
   "metadata": {},
   "outputs": [
    {
     "name": "stdout",
     "output_type": "stream",
     "text": [
      "[1.0000e+00 2.0000e+00 3.0000e+00 4.0000e+00 5.0000e+00 6.0000e+00\n",
      " 7.0000e+00 8.0000e+00 9.0000e+00 1.0000e+01 1.1000e+01 1.4000e+01\n",
      " 1.6000e+01 2.0000e+01 2.7000e+01 3.5000e+01 4.8000e+01 6.6000e+01\n",
      " 1.0480e+02 2.4120e+02 1.2352e+03 3.4692e+03]\n",
      "[2.0000e+00 3.0000e+00 4.0000e+00 5.0000e+00 6.0000e+00 7.0000e+00\n",
      " 8.0000e+00 9.0000e+00 1.0000e+01 1.1000e+01 1.4000e+01 1.6000e+01\n",
      " 2.0000e+01 2.7000e+01 3.5000e+01 4.8000e+01 6.6000e+01 1.0480e+02\n",
      " 2.4120e+02 1.2352e+03 3.4692e+03]\n",
      "[-0.13403334 33.28984693]\n"
     ]
    }
   ],
   "source": [
    "non_perc_17 = np.unique(nonpre_perc17)\n",
    "print(non_perc_17)\n",
    "stop1 = np.array([non_perc_17[0]])\n",
    "non_perc_17 = np.setdiff1d(non_perc_17, stop1)\n",
    "print(non_perc_17)\n",
    "\n",
    "nonprecip_17 = calc(nonprecip17, non_perc_17)\n",
    "print(nonprecip_17)"
   ]
  },
  {
   "cell_type": "code",
   "execution_count": 23,
   "metadata": {},
   "outputs": [
    {
     "data": {
      "text/plain": [
       "<matplotlib.legend.Legend at 0x1e4a369dfd0>"
      ]
     },
     "execution_count": 23,
     "metadata": {},
     "output_type": "execute_result"
    },
    {
     "data": {
      "image/png": "[encoded data removed]",
      "text/plain": [
       "<Figure size 720x576 with 1 Axes>"
      ]
     },
     "metadata": {
      "needs_background": "light"
     },
     "output_type": "display_data"
    }
   ],
   "source": [
    "plt.figure(figsize = (10,8))\n",
    "plt.hist([ Su_nonprecip17,Fnonprecip17], bins =nonpre_perc17, range= (nonpre_perc17.min,nonpre_perc17.max), color = ['g','c'], stacked =True)\n",
    "plt.xlabel('Duration of Nonprecipitation Events (minutes)', fontsize = 20)\n",
    "plt.xscale('log')\n",
    "plt.ylim(0,500)\n",
    "#plt.yscale('log')\n",
    "plt.ylabel('Frequency', fontsize = 20)\n",
    "plt.title('2017 Non-precipitation duration events by season', fontsize = 24)\n",
    "#plt.figtext(0.5, 0.5, 'Total Winter Precipitation: ' + str(round(Wtotalprep,2)) + ' mm', fontsize = 14)\n",
    "#plt.figtext(0.5, 0.475, 'Total Spring Precipitation: ' + str(round(Sp_totalprep,2)) + ' mm', fontsize = 14)\n",
    "#plt.figtext(0.9, 0.45, 'Total Summer Precipitation: ' + str(round(Su_totalprep17)) + ' mm', fontsize = 14, ha = 'right')\n",
    "#plt.figtext(0.9, 0.425, 'Total Fall Precipitation: ' + str(round(Ftotalprep17)) + ' mm', fontsize = 14, ha = 'right')\n",
    "#plt.figtext(0.9, 0.4, 'Total 2017 Precipitation: ' + str(round(totalprep17)) + ' mm', fontsize = 14,ha='right')\n",
    "plt.plot(non_perc_17, nonprecip_17[1]*np.exp(np.log(non_perc_17)*nonprecip_17[0]), color = 'k' )\n",
    "plt.legend(labels = ['$y = 33.3 e^{-0.13x}$', 'Summer', 'Fall'], fontsize = 14)\n",
    "#plt.figtext(0.3, 0.6, 'Exponential fit equation between 2 minutes to 42 minutes: $ y = e^{5.74}*e^{-0.54x}$' )"
   ]
  },
  {
   "cell_type": "code",
   "execution_count": 28,
   "metadata": {},
   "outputs": [
    {
     "name": "stdout",
     "output_type": "stream",
     "text": [
      "[0.01       0.01       0.01       0.01       0.01       0.01\n",
      " 0.01       0.01       0.01       0.01       0.01       0.01\n",
      " 0.01       0.01       0.01       0.01       0.01       0.01\n",
      " 0.01       0.01       0.01       0.01       0.01       0.01\n",
      " 0.01       0.01       0.01       0.01       0.01       0.01\n",
      " 0.01       0.01       0.01       0.01       0.01       0.0125\n",
      " 0.01333333 0.015      0.015      0.01625    0.018      0.02\n",
      " 0.02147619 0.02443636 0.02898333 0.03545455 0.04       0.04879655\n",
      " 0.06466207 0.11948718]\n"
     ]
    }
   ],
   "source": [
    "countAll_17 = 0\n",
    "for i in range(0,20000):\n",
    "    hold = precip17[i]\n",
    "    if hold > 0:\n",
    "        countAll_17 += 1\n",
    "int_perc17 = np.zeros(50)\n",
    "inten17 = np.divide(preciptotal17[:countAll_17], precip17[:countAll_17])\n",
    "for i in range(0, 50):\n",
    "    int_perc17[i] =np.percentile(inten17, i*2)\n",
    "print(int_perc17)\n",
    "\n",
    "\n",
    "#print(inten17)\n",
    "\n"
   ]
  },
  {
   "cell_type": "code",
   "execution_count": 29,
   "metadata": {},
   "outputs": [
    {
     "name": "stdout",
     "output_type": "stream",
     "text": [
      "[0.01       0.01       0.01       0.01       0.01       0.01\n",
      " 0.01       0.01       0.01       0.01       0.01       0.01\n",
      " 0.01       0.01       0.01       0.01       0.01       0.01\n",
      " 0.01       0.01       0.01       0.01       0.01       0.01\n",
      " 0.01       0.01       0.01       0.01       0.01       0.01\n",
      " 0.01       0.01       0.01       0.01       0.01       0.0125\n",
      " 0.01333333 0.015      0.015      0.01625    0.018      0.02\n",
      " 0.02147619 0.02443636 0.02898333 0.03545455 0.04       0.04879655\n",
      " 0.06466207 0.11948718]\n"
     ]
    }
   ],
   "source": [
    "countAll17_1 = 0\n",
    "for i in range(0,len(inten17)):\n",
    "    hold = inten17[i]\n",
    "    if hold > 0:\n",
    "        countAll17_1 += 1\n",
    "intensa17 = np.zeros(50)\n",
    "for i in range(0, 50):\n",
    "    intensa17[i] =np.percentile(inten17[:countAll17_1], i*2)\n",
    "print(intensa17)"
   ]
  },
  {
   "cell_type": "code",
   "execution_count": 39,
   "metadata": {},
   "outputs": [
    {
     "name": "stdout",
     "output_type": "stream",
     "text": [
      "[0.01       0.01       0.01       0.012      0.01333333 0.015\n",
      " 0.01666667 0.02       0.02136667 0.02507647 0.03       0.03327273\n",
      " 0.04465    0.055      0.07596571 0.13694476]\n",
      "[0.01       0.012      0.01333333 0.015      0.01666667 0.02\n",
      " 0.02136667 0.02507647 0.03       0.03327273 0.04465    0.055\n",
      " 0.07596571 0.13694476]\n"
     ]
    }
   ],
   "source": [
    "intensa17 = np.unique(intensa17)\n",
    "print(intensa17)\n",
    "one = [intensa17[0], intensa17[1]]\n",
    "intens17 = np.setdiff1d(intensa17, one)\n",
    "print(intens17)"
   ]
  },
  {
   "cell_type": "code",
   "execution_count": 45,
   "metadata": {},
   "outputs": [
    {
     "name": "stdout",
     "output_type": "stream",
     "text": [
      "[0.011      0.01266667 0.01416667 0.01583333 0.01833333 0.02068333\n",
      " 0.02322157 0.02753824 0.03163636 0.03896136 0.049825   0.06548286\n",
      " 0.10645524]\n",
      "[2.7080502  2.48490665 3.66356165 4.02535169 3.55534806 4.09434456\n",
      " 3.36729583 3.09104245 3.55534806 3.36729583 3.29583687 3.4339872\n",
      " 3.36729583]\n",
      "[0.08957165 3.71041662]\n"
     ]
    }
   ],
   "source": [
    "hist17, bin_edge = np.histogram(inten17, bins = intens17)\n",
    "log_x = np.log(bin_edge)\n",
    "log_y = np.log(hist17)\n",
    "log_x_2 = np.log(bin_edge[:12])\n",
    "bin_val = np.zeros(13)\n",
    "for i in range(0, 13):\n",
    "    bin_val[i] = (bin_edge[i]+bin_edge[i+1])/2\n",
    "print(bin_val)\n",
    "logx = np.log(bin_val)\n",
    "print(log_y)\n",
    "curve_fit = np.polyfit(logx, log_y, 1)\n",
    "print(curve_fit)"
   ]
  },
  {
   "cell_type": "code",
   "execution_count": 16,
   "metadata": {},
   "outputs": [],
   "source": [
    "def calc(precip_data, what_bin):\n",
    "    hist, bin_edge = np.histogram(precip_data, bins = what_bin)\n",
    "    log_y = np.log(hist)\n",
    "    bin_val = np.zeros(len(what_bin)-1)\n",
    "    for i in range(len(what_bin)-1):\n",
    "        bin_val[i] = (what_bin[i] + what_bin[i+1])/2\n",
    "    logx = np.log(bin_val)\n",
    "    curve_fit = np.polyfit(logx, log_y,1)\n",
    "    curve_fit[1] = np.exp(curve_fit[1])\n",
    "    return curve_fit"
   ]
  },
  {
   "cell_type": "code",
   "execution_count": null,
   "metadata": {},
   "outputs": [],
   "source": []
  }
 ],
 "metadata": {
  "kernelspec": {
   "display_name": "Python 3",
   "language": "python",
   "name": "python3"
  },
  "language_info": {
   "codemirror_mode": {
    "name": "ipython",
    "version": 3
   },
   "file_extension": ".py",
   "mimetype": "text/x-python",
   "name": "python",
   "nbconvert_exporter": "python",
   "pygments_lexer": "ipython3",
   "version": "3.7.3"
  }
 },
 "nbformat": 4,
 "nbformat_minor": 2
}
