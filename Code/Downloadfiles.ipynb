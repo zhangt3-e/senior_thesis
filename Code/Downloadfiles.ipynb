{
 "cells": [
  {
   "cell_type": "code",
   "execution_count": 1,
   "metadata": {},
   "outputs": [],
   "source": [
    "# Import necessary libraries \n",
    "import numpy as np\n",
    "import matplotlib.pyplot as plt\n",
    "import matplotlib as mat"
   ]
  },
  {
   "cell_type": "code",
   "execution_count": 2,
   "metadata": {},
   "outputs": [],
   "source": [
    "import urllib.request"
   ]
  },
  {
   "cell_type": "code",
   "execution_count": 3,
   "metadata": {},
   "outputs": [
    {
     "data": {
      "text/plain": [
       "('C:/Users/tyron/Documents/Geoscience/weather/pton0010.18__ASC_ASCIIIn.mrk',\n",
       " <http.client.HTTPMessage at 0x22a69950f60>)"
      ]
     },
     "execution_count": 3,
     "metadata": {},
     "output_type": "execute_result"
    }
   ],
   "source": [
    "# Testing how to download file from Frederik's weather data\n",
    "url = 'http://geoweb.princeton.edu/people/simons/PTON/pton0010.18__ASC_ASCIIIn.mrk'\n",
    "urllib.request.urlretrieve(url, 'C:/Users/tyron/Documents/Geoscience/weather/pton0010.18__ASC_ASCIIIn.mrk')"
   ]
  },
  {
   "cell_type": "code",
   "execution_count": 4,
   "metadata": {},
   "outputs": [],
   "source": [
    "pton = 'http://geoweb.princeton.edu/people/simons/PTON/'\n",
    "ASC = '__ASC_ASCIIIn.mrk'\n",
    "direct = 'C:/Users/tyron/Documents/Geoscience/weather/'\n",
    "# Will have to make sure the code is concise (Use a function!)\n",
    "for i in range(0, 365):\n",
    "    a = i + 1 # Denotes the day\n",
    "    if (a < 10):\n",
    "        holdstr = 'pton00' + str(a) +'0'\n",
    "    elif (a < 100):\n",
    "        holdstr ='pton0' + str(a) +'0'\n",
    "    else: \n",
    "        holdstr = 'pton' + str(a) + '0'\n",
    "    if (a < 197):\n",
    "        # Days with 2018-2020 data\n",
    "        for j in range(0, 3):\n",
    "            b = j + 18\n",
    "            file = holdstr + '.' + str(b) + ASC\n",
    "            url = pton + file \n",
    "            urllib.request.urlretrieve(url, direct + file)\n",
    "    elif (a >= 197 and a <= 264):\n",
    "        # Days with 2017 to 2020 data\n",
    "        for j in range(0, 4):\n",
    "            b = j + 17\n",
    "            file = holdstr + '.' + str(b) + ASC\n",
    "            url = pton + file \n",
    "            urllib.request.urlretrieve(url, direct + file)\n",
    "            \n",
    "    elif ( a > 271): \n",
    "        # Days with 2017 to 2019 data\n",
    "        for j in range(0, 3):\n",
    "            b = j + 17\n",
    "            file = holdstr + '.' + str(b) + ASC\n",
    "            url = pton + file \n",
    "            urllib.request.urlretrieve(url, direct + file)"
   ]
  },
  {
   "cell_type": "code",
   "execution_count": 4,
   "metadata": {},
   "outputs": [],
   "source": [
    "pton = 'http://geoweb.princeton.edu/people/simons/PTON/'\n",
    "ASC = '__ASC_ASCIIIn.mrk'\n",
    "direct = 'C:/Users/tyron/Documents/Geoscience/weather/'"
   ]
  },
  {
   "cell_type": "code",
   "execution_count": 5,
   "metadata": {},
   "outputs": [],
   "source": [
    "for i in range(264, 313):\n",
    "    a = i + 1 # Denotes the day\n",
    "    if (a < 10):\n",
    "        holdstr = 'pton00' + str(a) +'0'\n",
    "    elif (a < 100):\n",
    "        holdstr ='pton0' + str(a) +'0'\n",
    "    else: \n",
    "        holdstr = 'pton' + str(a) + '0'\n",
    "    b = 20\n",
    "    file = holdstr + '.' + str(b) + ASC\n",
    "    url = pton + file \n",
    "    urllib.request.urlretrieve(url, direct + file)"
   ]
  },
  {
   "cell_type": "code",
   "execution_count": null,
   "metadata": {},
   "outputs": [],
   "source": []
  }
 ],
 "metadata": {
  "kernelspec": {
   "display_name": "Python 3",
   "language": "python",
   "name": "python3"
  },
  "language_info": {
   "codemirror_mode": {
    "name": "ipython",
    "version": 3
   },
   "file_extension": ".py",
   "mimetype": "text/x-python",
   "name": "python",
   "nbconvert_exporter": "python",
   "pygments_lexer": "ipython3",
   "version": "3.7.3"
  }
 },
 "nbformat": 4,
 "nbformat_minor": 2
}
