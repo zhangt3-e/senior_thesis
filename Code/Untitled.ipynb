{
 "cells": [
  {
   "cell_type": "code",
   "execution_count": 1,
   "metadata": {},
   "outputs": [
    {
     "name": "stdout",
     "output_type": "stream",
     "text": [
      "importing Jupyter notebook from histplot.ipynb\n"
     ]
    }
   ],
   "source": [
    "# Packages used to compile climatology of Princeton! \n",
    "# Function for generating histogram\n",
    "# Import Libraries\n",
    "import numpy as np\n",
    "import matplotlib.pyplot as plt\n",
    "import matplotlib as mlt\n",
    "import datetime \n",
    "import import_ipynb\n",
    "import histplot"
   ]
  },
  {
   "cell_type": "code",
   "execution_count": 2,
   "metadata": {},
   "outputs": [],
   "source": [
    "ASC = '__ASC_ASCIIIn.mrk'\n",
    "direct = 'C:/Users/tyron/Documents/Geoscience/weather/'"
   ]
  },
  {
   "cell_type": "code",
   "execution_count": 58,
   "metadata": {},
   "outputs": [],
   "source": [
    "def jan_clim(startday, howdays, position, divideby, pre):\n",
    "    Jan18 = histplot.getData(18, direct, ASC, startday, howdays, position, float)\n",
    "    Jan19 = histplot.getData(19, direct, ASC, startday, howdays, position, float)\n",
    "    Jan20 = histplot.getData(20, direct, ASC, startday, howdays, position, float)\n",
    "    Jan21 = histplot.getData(21, direct, ASC, startday, howdays, position, float)\n",
    "    Jantot = np.concatenate([Jan18, Jan19, Jan20, Jan21])\n",
    "    Jan_total = np.nansum(Jantot)\n",
    "    print(Jan_total)\n",
    "    print(Jan_total.shape)\n",
    "    # If it is doing precipitation (choose to divide by number of months)\n",
    "    if (pre == 1):\n",
    "        Jan_mean = Jan_total/divideby\n",
    "    # Divide by number of minutes we have. \n",
    "    else: \n",
    "        Jan_mean = Jan_total/np.len(Jantot)\n",
    "    print(Jan_mean)\n",
    "    return Jan_mean"
   ]
  },
  {
   "cell_type": "code",
   "execution_count": 48,
   "metadata": {},
   "outputs": [
    {
     "name": "stdout",
     "output_type": "stream",
     "text": [
      "176.17000000000004\n",
      "44.04250000000001\n"
     ]
    }
   ],
   "source": [
    "# January Climatology \n",
    "Jan_pre = jan_clim(1, 31, 6, 4, 1)"
   ]
  },
  {
   "cell_type": "code",
   "execution_count": 32,
   "metadata": {},
   "outputs": [],
   "source": [
    "def feb_july_clim(startday, howdays,  position, divideby, feb):\n",
    "    Mon18 = histplot.getData(18, direct, ASC, startday, howdays, position, float)\n",
    "    Mon19 = histplot.getData(19, direct, ASC, startday, howdays, position, float)\n",
    "    if (feb == 2):\n",
    "        Mon20 = histplot.getData(20, direct, ASC, startday, howdays+1, position, float)\n",
    "    else:\n",
    "        Mon20 = histplot.getData(20, direct, ASC, startday+1, howdays, position, float)\n",
    "    Montot = np.concatenate([Mon18, Mon19, Mon20])\n",
    "    Mon_total = np.nansum(Montot)\n",
    "    print(Mon_total)\n",
    "    Mon_mean = Mon_total/divideby\n",
    "    print(Mon_mean)\n",
    "    return Mon_mean"
   ]
  },
  {
   "cell_type": "code",
   "execution_count": 33,
   "metadata": {},
   "outputs": [
    {
     "name": "stdout",
     "output_type": "stream",
     "text": [
      "218.22000000000006\n",
      "72.74000000000002\n"
     ]
    }
   ],
   "source": [
    "# February Climatology \n",
    "Feb_pre = feb_july_clim(32, 28, 6, 3, 2)"
   ]
  },
  {
   "cell_type": "code",
   "execution_count": 34,
   "metadata": {},
   "outputs": [
    {
     "name": "stdout",
     "output_type": "stream",
     "text": [
      "212.47\n",
      "70.82333333333334\n",
      "239.13000000000008\n",
      "79.71000000000002\n",
      "358.5199999999999\n",
      "119.50666666666665\n",
      "298.02\n",
      "99.33999999999999\n",
      "370.47\n",
      "123.49000000000001\n"
     ]
    }
   ],
   "source": [
    "# March Climatology\n",
    "Mar_pre = feb_july_clim(60, 31, 6, 3, 1)\n",
    "# April Climatology \n",
    "Apr_pre = feb_july_clim(91, 30, 6, 3, 1)\n",
    "#May Climatology \n",
    "May_pre = feb_july_clim(121, 31, 6, 3, 1)\n",
    "# June Climatology \n",
    "Jun_pre = feb_july_clim(152, 30, 6, 3, 1)\n",
    "# July Climatology \n",
    "Jul_pre = feb_july_clim(182, 31, 6, 3, 1)"
   ]
  },
  {
   "cell_type": "code",
   "execution_count": 35,
   "metadata": {},
   "outputs": [],
   "source": [
    "def aug_dec_clim(startday, howdays,  position, divideby):\n",
    "    Mon17 = histplot.getData(17, direct, ASC, startday, howdays, position, float)\n",
    "    Mon18 = histplot.getData(18, direct, ASC, startday, howdays, position, float)\n",
    "    Mon19 = histplot.getData(19, direct, ASC, startday, howdays, position, float)\n",
    "    Mon20 = histplot.getData(20, direct, ASC, startday+1, howdays, position, float)\n",
    "    Montot = np.concatenate([Mon17, Mon18, Mon19, Mon20])\n",
    "    Mon_total = np.nansum(Montot)\n",
    "    print(Mon_total)\n",
    "    Mon_mean = Mon_total/divideby\n",
    "    print(Mon_mean)\n",
    "    return Mon_mean"
   ]
  },
  {
   "cell_type": "code",
   "execution_count": 36,
   "metadata": {},
   "outputs": [
    {
     "name": "stdout",
     "output_type": "stream",
     "text": [
      "383.33000000000004\n",
      "95.83250000000001\n",
      "279.05\n",
      "69.7625\n",
      "303.93\n",
      "75.9825\n",
      "325.16\n",
      "81.29\n",
      "267.44000000000005\n",
      "66.86000000000001\n"
     ]
    }
   ],
   "source": [
    "#August Climatology \n",
    "Aug_pre = aug_dec_clim(213, 31, 6, 4)\n",
    "#September Climatology \n",
    "Sep_pre = aug_dec_clim(244, 30, 6, 4)\n",
    "#October Climatology \n",
    "Oct_pre = aug_dec_clim(274, 31, 6, 4)\n",
    "#November Climatology \n",
    "Nov_pre = aug_dec_clim(305, 30, 6, 4)\n",
    "# December Climatology \n",
    "Dec_pre = aug_dec_clim(335, 31, 6, 4)"
   ]
  },
  {
   "cell_type": "code",
   "execution_count": 59,
   "metadata": {},
   "outputs": [
    {
     "name": "stdout",
     "output_type": "stream",
     "text": [
      "276317.4000000001\n",
      "()\n"
     ]
    },
    {
     "ename": "AttributeError",
     "evalue": "module 'numpy' has no attribute 'len'",
     "output_type": "error",
     "traceback": [
      "\u001b[1;31m---------------------------------------------------------------------------\u001b[0m",
      "\u001b[1;31mAttributeError\u001b[0m                            Traceback (most recent call last)",
      "\u001b[1;32m<ipython-input-59-e1cc6c7d37cb>\u001b[0m in \u001b[0;36m<module>\u001b[1;34m\u001b[0m\n\u001b[0;32m      1\u001b[0m \u001b[1;31m# Jan Temperature\u001b[0m\u001b[1;33m\u001b[0m\u001b[1;33m\u001b[0m\u001b[1;33m\u001b[0m\u001b[0m\n\u001b[1;32m----> 2\u001b[1;33m \u001b[0mJan_temp\u001b[0m \u001b[1;33m=\u001b[0m \u001b[0mjan_clim\u001b[0m\u001b[1;33m(\u001b[0m\u001b[1;36m1\u001b[0m\u001b[1;33m,\u001b[0m \u001b[1;36m31\u001b[0m\u001b[1;33m,\u001b[0m \u001b[1;36m3\u001b[0m\u001b[1;33m,\u001b[0m \u001b[1;36m4\u001b[0m\u001b[1;33m,\u001b[0m \u001b[1;36m0\u001b[0m\u001b[1;33m)\u001b[0m\u001b[1;33m\u001b[0m\u001b[1;33m\u001b[0m\u001b[0m\n\u001b[0m",
      "\u001b[1;32m<ipython-input-58-58407d283cb3>\u001b[0m in \u001b[0;36mjan_clim\u001b[1;34m(startday, howdays, position, divideby, pre)\u001b[0m\n\u001b[0;32m     13\u001b[0m     \u001b[1;31m# Divide by number of minutes we have.\u001b[0m\u001b[1;33m\u001b[0m\u001b[1;33m\u001b[0m\u001b[1;33m\u001b[0m\u001b[0m\n\u001b[0;32m     14\u001b[0m     \u001b[1;32melse\u001b[0m\u001b[1;33m:\u001b[0m\u001b[1;33m\u001b[0m\u001b[1;33m\u001b[0m\u001b[0m\n\u001b[1;32m---> 15\u001b[1;33m         \u001b[0mJan_mean\u001b[0m \u001b[1;33m=\u001b[0m \u001b[0mJan_total\u001b[0m\u001b[1;33m/\u001b[0m\u001b[0mnp\u001b[0m\u001b[1;33m.\u001b[0m\u001b[0mlen\u001b[0m\u001b[1;33m(\u001b[0m\u001b[0mJan_total\u001b[0m\u001b[1;33m)\u001b[0m\u001b[1;33m\u001b[0m\u001b[1;33m\u001b[0m\u001b[0m\n\u001b[0m\u001b[0;32m     16\u001b[0m     \u001b[0mprint\u001b[0m\u001b[1;33m(\u001b[0m\u001b[0mJan_mean\u001b[0m\u001b[1;33m)\u001b[0m\u001b[1;33m\u001b[0m\u001b[1;33m\u001b[0m\u001b[0m\n\u001b[0;32m     17\u001b[0m     \u001b[1;32mreturn\u001b[0m \u001b[0mJan_mean\u001b[0m\u001b[1;33m\u001b[0m\u001b[1;33m\u001b[0m\u001b[0m\n",
      "\u001b[1;31mAttributeError\u001b[0m: module 'numpy' has no attribute 'len'"
     ]
    }
   ],
   "source": [
    "# Jan Temperature \n",
    "Jan_temp = jan_clim(1, 31, 3, 4, 0)"
   ]
  },
  {
   "cell_type": "code",
   "execution_count": 46,
   "metadata": {},
   "outputs": [
    {
     "data": {
      "text/plain": [
       "Text(0.5, 1.0, 'Monthly Average Precipitation')"
      ]
     },
     "execution_count": 46,
     "metadata": {},
     "output_type": "execute_result"
    },
    {
     "data": {
      "image/png": "[encoded data removed]",
      "text/plain": [
       "<Figure size 720x576 with 1 Axes>"
      ]
     },
     "metadata": {
      "needs_background": "light"
     },
     "output_type": "display_data"
    }
   ],
   "source": [
    "months = ['Jan', 'Feb', 'Mar', 'Apr', 'May', 'Jun', 'Jul', 'Aug', 'Sep', 'Oct', 'Nov', 'Dec']\n",
    "Average_precipitation = np.array([Jan_pre, Feb_pre, Mar_pre, Apr_pre, May_pre, Jun_pre,\n",
    "                                 Jul_pre, Aug_pre, Sep_pre, Oct_pre, Nov_pre, Dec_pre])\n",
    "#print(Average_precipitation)\n",
    "plt.figure(figsize = (10, 8))\n",
    "plt.plot(months, Average_precipitation)\n",
    "plt.xlabel('Month')\n",
    "plt.ylabel('Average Precipitation (mm)')\n",
    "plt.title('Monthly Average Precipitation')\n"
   ]
  },
  {
   "cell_type": "code",
   "execution_count": null,
   "metadata": {},
   "outputs": [],
   "source": []
  }
 ],
 "metadata": {
  "kernelspec": {
   "display_name": "Python 3",
   "language": "python",
   "name": "python3"
  },
  "language_info": {
   "codemirror_mode": {
    "name": "ipython",
    "version": 3
   },
   "file_extension": ".py",
   "mimetype": "text/x-python",
   "name": "python",
   "nbconvert_exporter": "python",
   "pygments_lexer": "ipython3",
   "version": "3.7.3"
  }
 },
 "nbformat": 4,
 "nbformat_minor": 4
}
