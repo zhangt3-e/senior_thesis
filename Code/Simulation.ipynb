{
 "cells": [
  {
   "cell_type": "code",
   "execution_count": 1,
   "metadata": {},
   "outputs": [
    {
     "name": "stdout",
     "output_type": "stream",
     "text": [
      "importing Jupyter notebook from histplot.ipynb\n"
     ]
    }
   ],
   "source": [
    "# Function for generating histogram\n",
    "# Import Libraries\n",
    "import numpy as np\n",
    "import matplotlib.pyplot as plt\n",
    "import matplotlib as mlt\n",
    "import datetime \n",
    "import import_ipynb\n",
    "import histplot\n",
    "from sklearn.metrics import mean_squared_error, r2_score, mean_absolute_error"
   ]
  },
  {
   "cell_type": "code",
   "execution_count": 2,
   "metadata": {},
   "outputs": [],
   "source": [
    "ASC = '__ASC_ASCIIIn.mrk'\n",
    "direct = 'C:/Users/tyron/Documents/Geoscience/weather/'"
   ]
  },
  {
   "cell_type": "code",
   "execution_count": 3,
   "metadata": {},
   "outputs": [],
   "source": [
    "# Summer 2018 as an example\n",
    "Summer18 = histplot.getData(18, direct, ASC, 152, 92, 6 , float)\n",
    "Whole18 = histplot.getData(18, direct, ASC, 1, 365, 6, float)\n"
   ]
  },
  {
   "cell_type": "code",
   "execution_count": 4,
   "metadata": {},
   "outputs": [],
   "source": [
    "def calc(precip_data, what_bin):\n",
    "    hist, bin_edge = np.histogram(precip_data, bins = what_bin)\n",
    "    log_y = np.log(hist)\n",
    "    bin_val = np.zeros(len(what_bin)-1)\n",
    "    for i in range(len(what_bin)-1):\n",
    "        bin_val[i] = (what_bin[i] + what_bin[i+1])/2\n",
    "    logx = np.log(bin_val)\n",
    "    curve_fit = np.polyfit(logx, log_y,1)\n",
    "    curve_fit[1] = np.exp(curve_fit[1])\n",
    "    return curve_fit, bin_val"
   ]
  },
  {
   "cell_type": "code",
   "execution_count": 25,
   "metadata": {},
   "outputs": [],
   "source": [
    "# Exponentials get from durations\n",
    "def exponential(in_put, exclude, length):\n",
    "    first_bin = np.zeros(length)\n",
    "    for i in range(length):    \n",
    "        first_bin[i] = np.percentile(in_put, i*(100/(length-1)))\n",
    "    second_bin = np.unique(first_bin)\n",
    "    stop1 = np.array([exclude])\n",
    "    final_bin = np.setdiff1d(second_bin, stop1)\n",
    "    curvefit, bin_vals = calc(in_put, final_bin)\n",
    "    return curvefit, final_bin, bin_vals\n",
    "    "
   ]
  },
  {
   "cell_type": "code",
   "execution_count": 42,
   "metadata": {},
   "outputs": [],
   "source": [
    "# Exponentials get from intensity\n",
    "def exponential_int(in_put, exclude):\n",
    "    first_bin = np.zeros(51)\n",
    "    for i in range(0, 51):    \n",
    "        first_bin[i] = np.round(np.percentile(in_put, i*2),2)\n",
    "    second_bin = np.unique(first_bin)\n",
    "    stop1 = np.array([exclude])\n",
    "    final_bin = np.setdiff1d(second_bin, stop1)\n",
    "    curvefit, bin_vals = calc(in_put, final_bin)\n",
    "    return curvefit, final_bin, bin_vals"
   ]
  },
  {
   "cell_type": "code",
   "execution_count": 7,
   "metadata": {},
   "outputs": [],
   "source": [
    "def counting(data, want):\n",
    "    counts = 0\n",
    "    newdata = data[data < want]\n",
    "    counts = len(newdata)\n",
    "    return counts"
   ]
  },
  {
   "cell_type": "code",
   "execution_count": 26,
   "metadata": {},
   "outputs": [],
   "source": [
    "def model_1(data, amount, howmuch):\n",
    "    precip, nonprecip, preciptotal, totalprep = histplot.preciphist(data, len(data), amount, 1, 1)\n",
    "    precip = precip[precip>0]\n",
    "    nonprecip = nonprecip[nonprecip>0]\n",
    "    preciptotal = preciptotal[preciptotal>0]\n",
    "    # Calculate intensities \n",
    "    inten = np.divide(preciptotal, precip)\n",
    "    # Exponentials for precipitation duration \n",
    "    pre_exp,pre_f_bins, bin_vals = exponential(precip, 1, 51)\n",
    "    # Exponentials for nonprecipitation duration \n",
    "    non_pre, nonpre_f_bins, nonp_b_vals = exponential(nonprecip, 1, 51)\n",
    "    # Exponentials for Intensity of Precipitation duration\n",
    "    intensity, inten_f_bins, inten_b_vals = exponential_int(inten, 0.01)\n",
    "    # print(nonpre_f_bins)\n",
    "    # Construct intervals and probabilities for precipitation durations\n",
    "    Pre_prob = np.zeros(1)\n",
    "    pre_bin_1 = counting(precip, pre_f_bins[0])\n",
    "    Pre_prob[0] = pre_bin_1\n",
    "    construct_1 = pre_exp[1]*np.exp(np.log(bin_vals)*pre_exp[0])\n",
    "    Pre_prob = np.append(Pre_prob, construct_1)\n",
    "    Pre_prob = Pre_prob/sum(Pre_prob)\n",
    "    #print(Pre_prob)\n",
    "    # Non_precipitation duration probs\n",
    "    NonPre_prob = np.zeros(1)\n",
    "    nonpre_bin_1 = counting(nonprecip, nonpre_f_bins[0])\n",
    "    NonPre_prob[0] = nonpre_bin_1\n",
    "    construct_2 = non_pre[1]*np.exp(np.log(nonp_b_vals)*non_pre[0])\n",
    "    NonPre_prob = np.append(NonPre_prob, construct_2)\n",
    "    NonPre_prob = NonPre_prob/sum(NonPre_prob)\n",
    "    #print(NonPre_prob)\n",
    "    # Intensity probs\n",
    "    Intensity_prob = np.zeros(1)\n",
    "    inten_bin_1 = counting(inten, inten_f_bins[0])\n",
    "    Intensity_prob[0] = inten_bin_1\n",
    "    construct_3 = intensity[1]*np.exp(np.log(inten_b_vals)*intensity[0])\n",
    "    Intensity_prob = np.append(Intensity_prob, construct_3)\n",
    "    Intensity_prob = Intensity_prob/sum(Intensity_prob)\n",
    "    #print(Intensity_prob)\n",
    "    # Precipitation intervals\n",
    "    Pre_interval = [1]\n",
    "    Pre_interval = np.append(Pre_interval, pre_f_bins)\n",
    "    #print(Pre_interval)\n",
    "    # NonPrecipitation intervals\n",
    "    NonPre_interval = [1]\n",
    "    NonPre_interval = np.append(NonPre_interval, nonpre_f_bins)\n",
    "    #print(NonPre_interval)\n",
    "    # Intensity intervals\n",
    "    Intensity_interval = [0.01]\n",
    "    Intensity_interval = np.append(Intensity_interval, inten_f_bins)\n",
    "    #print(Intensity_interval)\n",
    "    Model_outputs = 0;\n",
    "    # Running the crude model\n",
    "    for i in range(howmuch):\n",
    "        minutes = 0;\n",
    "        Model = np.zeros(len(data))\n",
    "        start = np.random.randint(0, 1)\n",
    "        while (len(data)-1 > minutes):\n",
    "            # run probability of precipitation event duration      \n",
    "            pre_index = np.random.choice(np.arange(len(Pre_prob)), p = Pre_prob)\n",
    "            pre_duration = np.random.randint(Pre_interval[pre_index], Pre_interval[pre_index + 1]+1) #Histogram for these synthetic data, show that they are similar \n",
    "            # to what you put in. \n",
    "            # run probability of precipitation event intensity\n",
    "            inten_index = np.random.choice(np.arange(len(Intensity_prob)), p = Intensity_prob)\n",
    "            model_intensity = 0.01*np.random.randint(100*Intensity_interval[inten_index], 100*Intensity_interval[inten_index+1]+1)\n",
    "            # run probability of non-precipitation event duration\n",
    "            nonpre_index = np.random.choice(np.arange(len(NonPre_prob)), p = NonPre_prob) \n",
    "            nonpre_duration = np.random.randint(NonPre_interval[nonpre_index], NonPre_interval[nonpre_index + 1]+1)\n",
    "            # For each of the synthetic data have a histogram and look at to see if it is similar to what we calcluated for observed data. \n",
    "            # Nonprecipitation starts first\n",
    "            if start == 0: \n",
    "                if (len(data) > minutes + pre_duration + nonpre_duration):\n",
    "                    for j in range(nonpre_duration):\n",
    "                        Model[minutes] = 0\n",
    "                        minutes += 1\n",
    "                    for k in range(pre_duration):\n",
    "                        Model[minutes] = model_intensity\n",
    "                        minutes += 1\n",
    "                else: \n",
    "                    if (len(data) < minutes + nonpre_duration):\n",
    "                        for j in range(len(data) - minutes):\n",
    "                            Model[minutes] = 0\n",
    "                            minutes += 1\n",
    "                    elif (len(data) < minutes + nonpre_duration + pre_duration):\n",
    "                        for j in range(nonpre_duration):\n",
    "                            Model[minutes] = 0\n",
    "                            minutes += 1\n",
    "                        for k in range(len(data) - minutes):\n",
    "                            Model[minutes] = model_intensity\n",
    "                            minutes +=1\n",
    "            # Precipitation starts first\n",
    "            if start == 1: \n",
    "                if (len(data) > minutes + pre_duration + nonpre_duration):\n",
    "                    for k in range(pre_duration):\n",
    "                        Model[minutes] = model_intensity\n",
    "                        minutes += 1\n",
    "                    for j in range(nonpre_duration):\n",
    "                        Model[minutes] = 0\n",
    "                        minutes += 1\n",
    "                else: \n",
    "                    if (len(data) < minutes + pre_duration):\n",
    "                        for k in range(len(data) - minutes):\n",
    "                            Model[minutes] = model_intensity\n",
    "                            minutes +=1\n",
    "                    elif (len(data) < minutes + pre_duration + nonpre_duration):\n",
    "                        for k in range(pre_duration):\n",
    "                            Model[minutes] = model_intensity\n",
    "                            minutes += 1\n",
    "                        for j in range(len(data) - minutes):\n",
    "                            Model[minutes] = 0\n",
    "                            minutes += 1\n",
    "        Model_outputs = Model\n",
    "    return Model_outputs, data "
   ]
  },
  {
   "cell_type": "code",
   "execution_count": 9,
   "metadata": {},
   "outputs": [],
   "source": [
    "def boxing(more_min, pre, nonpre, inten):\n",
    "    new = np.zeros(more_min)\n",
    "    minute = 0;\n",
    "    pre_index = 0;\n",
    "    np_index = 0;\n",
    "    while(more_min-1 > minute):\n",
    "        if (len(nonpre) > np_index):\n",
    "            non = nonpre[np_index]\n",
    "            for i in range(int(non)):\n",
    "                new[minute] = 0\n",
    "                minute += 1\n",
    "        if (len(pre)> pre_index):    \n",
    "            rain = pre[pre_index]\n",
    "            for j in range(int(rain)):\n",
    "                new[minute] = inten[pre_index]\n",
    "                minute += 1\n",
    "        pre_index += 1 \n",
    "        np_index +=1\n",
    "    return new\n"
   ]
  },
  {
   "cell_type": "code",
   "execution_count": 10,
   "metadata": {},
   "outputs": [],
   "source": [
    "# Starts with a simple model accuracy, precip with precip. \n",
    "def mod_acc1(model, observed, pre_min):\n",
    "    mod_accuracy = 0\n",
    "    for i in range(len(observed)):\n",
    "        mod = model[i]\n",
    "        obs = observed[i]\n",
    "        #if (mod == 0 and obs == 0):\n",
    "            #mod_accuracy += 1\n",
    "        if (mod > 0 and obs > 0):\n",
    "            mod_accuracy += 1\n",
    "        else: \n",
    "            mod_accuracy += 0\n",
    "    mod_accuracy = 100*mod_accuracy/pre_min\n",
    "    return mod_accuracy"
   ]
  },
  {
   "cell_type": "code",
   "execution_count": 11,
   "metadata": {},
   "outputs": [],
   "source": [
    "# maintains exact match for precip\n",
    "def mod_acc2(model, observed, pre_min):\n",
    "    mod_accuracy = 0\n",
    "    for i in range(len(observed)):\n",
    "        mod = model[i]\n",
    "        obs = observed[i]\n",
    "        #if (mod == 0 and obs == 0):\n",
    "           # mod_accuracy += 1\n",
    "        if (mod > 0 and obs > 0 and mod == obs):\n",
    "            mod_accuracy += 1\n",
    "        else: \n",
    "            mod_accuracy += 0\n",
    "    mod_accuracy = 100*mod_accuracy/pre_min\n",
    "    return mod_accuracy"
   ]
  },
  {
   "cell_type": "code",
   "execution_count": 58,
   "metadata": {},
   "outputs": [],
   "source": [
    "sample_output, compare_data = model_1(Summer18, 5000, 1)"
   ]
  },
  {
   "cell_type": "code",
   "execution_count": 59,
   "metadata": {},
   "outputs": [],
   "source": [
    "Su_precip18, Su_nonprecip18, Su_preciptotal18, Su_totalprep18 = histplot.preciphist(Summer18, len(Summer18), 5000, 1, 1)\n",
    "Su_precip18  = Su_precip18[Su_precip18>0]\n",
    "Su_nonprecip18 = Su_nonprecip18[Su_nonprecip18>0]\n",
    "Su_preciptotal18 = Su_preciptotal18[Su_preciptotal18>0]\n"
   ]
  },
  {
   "cell_type": "code",
   "execution_count": 60,
   "metadata": {},
   "outputs": [
    {
     "name": "stdout",
     "output_type": "stream",
     "text": [
      "132462.0\n",
      "132477\n"
     ]
    }
   ],
   "source": [
    "Su_inten18 = np.divide(Su_preciptotal18, Su_precip18)\n",
    "Su_min18 = np.sum(Su_precip18) + np.sum(Su_nonprecip18)\n",
    "print(np.sum(Su_precip18) + np.sum(Su_nonprecip18))\n",
    "print(len(compare_data))"
   ]
  },
  {
   "cell_type": "code",
   "execution_count": 61,
   "metadata": {},
   "outputs": [],
   "source": [
    "new_summer18 = boxing(int(Su_min18),Su_precip18,Su_nonprecip18, Su_inten18 )"
   ]
  },
  {
   "cell_type": "code",
   "execution_count": 62,
   "metadata": {},
   "outputs": [],
   "source": [
    "Su_precip18M, Su_nonprecip18M, Su_preciptotal18M, Su_totalprep18M = histplot.preciphist(sample_output, len(sample_output), 5000, 1, 1)\n",
    "Sum_accuracy = mod_acc1(sample_output, new_summer18, int(sum(Su_precip18M)))\n"
   ]
  },
  {
   "cell_type": "code",
   "execution_count": 19,
   "metadata": {},
   "outputs": [
    {
     "name": "stdout",
     "output_type": "stream",
     "text": [
      "0.0035890965337739087\n"
     ]
    }
   ],
   "source": [
    "# Calculate MAE \n",
    "mod98 = mean_absolute_error(new_summer18, sample_output[:len(new_summer18)])\n",
    "print(mod98)"
   ]
  },
  {
   "cell_type": "code",
   "execution_count": 63,
   "metadata": {},
   "outputs": [
    {
     "name": "stdout",
     "output_type": "stream",
     "text": [
      "0.002812985433336265\n"
     ]
    }
   ],
   "source": [
    "mod100 = mean_absolute_error(new_summer18, sample_output[:len(new_summer18)])\n",
    "print(mod100)"
   ]
  },
  {
   "cell_type": "code",
   "execution_count": 64,
   "metadata": {},
   "outputs": [
    {
     "data": {
      "text/plain": [
       "Text(0.9, 0.7, 'Model Accuracy: 4.0 %')"
      ]
     },
     "execution_count": 64,
     "metadata": {},
     "output_type": "execute_result"
    },
    {
     "data": {
      "image/png": "[encoded data removed]",
      "text/plain": [
       "<Figure size 720x576 with 1 Axes>"
      ]
     },
     "metadata": {
      "needs_background": "light"
     },
     "output_type": "display_data"
    }
   ],
   "source": [
    "plt.figure(figsize = (10, 8))\n",
    "plt.plot(-sample_output)\n",
    "plt.plot(new_summer18)\n",
    "plt.title('2018 precipitation crude model vs. actual observed')\n",
    "plt.xlabel('Minutes')\n",
    "plt.ylabel('Rainfall (mm)')\n",
    "plt.legend(['Model', 'Observed'], loc = 'upper right')\n",
    "plt.figtext(0.9, 0.75, 'Observed total Precipitation: ' + str(round(np.nansum(compare_data))) + ' mm', fontsize = 11, ha = 'right')\n",
    "plt.figtext(0.9, 0.725, 'Model total Precipitation: ' + str(round(np.nansum(sample_output))) + ' mm', fontsize = 11, ha = 'right')\n",
    "plt.figtext(0.9, 0.7, 'Model Accuracy: ' + str(round(Sum_accuracy, 1)) + ' %', fontsize = 11, ha = 'right')"
   ]
  },
  {
   "cell_type": "code",
   "execution_count": 50,
   "metadata": {},
   "outputs": [
    {
     "name": "stdout",
     "output_type": "stream",
     "text": [
      "121.68710000000155\n",
      "2.635334885538556\n"
     ]
    }
   ],
   "source": [
    "Sum_average_precip = 0\n",
    "Sum_avg_precip_accur = 0\n",
    "\n",
    "for i in range(100):\n",
    "    sample_output, compare_data = model_1(Summer18, 5000, 1)\n",
    "    Sum_average_precip = Sum_average_precip + sum(sample_output)\n",
    "    Su_precip18M, Su_nonprecip18M, Su_preciptotal18M, Su_totalprep18M = histplot.preciphist(sample_output, len(sample_output), 5000, 1, 1)\n",
    "    pre_accuracy = mod_acc1(sample_output, new_summer18, int(sum(Su_precip18M)))\n",
    "    Sum_avg_precip_accur = Sum_avg_precip_accur + pre_accuracy\n",
    "Sum_average_precip = Sum_average_precip/100\n",
    "Sum_avg_precip_accur = Sum_avg_precip_accur/100\n",
    "\n",
    "print(Sum_average_precip)\n",
    "print(Sum_avg_precip_accur)"
   ]
  },
  {
   "cell_type": "code",
   "execution_count": 67,
   "metadata": {},
   "outputs": [],
   "source": [
    "precip18, nonprecip18, preciptotal18, totalprep18 = histplot.preciphist(Whole18, len(Whole18), 20000, 1, 1)"
   ]
  },
  {
   "cell_type": "code",
   "execution_count": 53,
   "metadata": {},
   "outputs": [],
   "source": [
    "mod_precip18, mod_nonprecip18, mod_preciptotal18, mod_totalprep18 = histplot.preciphist(sample_2018, len(sample_output), 20000, 1, 1)"
   ]
  },
  {
   "cell_type": "code",
   "execution_count": 69,
   "metadata": {},
   "outputs": [],
   "source": [
    "nonprecip18 = nonprecip18[nonprecip18>0]\n",
    "precip18 = precip18[precip18>0]\n",
    "#print(Su_precip18)\n",
    "#print(Su_nonprecip18)\n"
   ]
  },
  {
   "cell_type": "code",
   "execution_count": 70,
   "metadata": {},
   "outputs": [],
   "source": [
    "preciptotal18 = preciptotal18[preciptotal18 > 0]\n"
   ]
  },
  {
   "cell_type": "code",
   "execution_count": 71,
   "metadata": {},
   "outputs": [
    {
     "name": "stdout",
     "output_type": "stream",
     "text": [
      "4118\n"
     ]
    }
   ],
   "source": [
    "inten18 = np.divide(preciptotal18, precip18)\n",
    "print(len(inten18))"
   ]
  },
  {
   "cell_type": "code",
   "execution_count": 72,
   "metadata": {},
   "outputs": [
    {
     "name": "stdout",
     "output_type": "stream",
     "text": [
      "525562.0\n",
      "4119\n",
      "4118\n",
      "132477\n",
      "132477\n"
     ]
    }
   ],
   "source": [
    "print(nonprecip18.sum() + precip18.sum())\n",
    "print(len(nonprecip18))\n",
    "print(len(precip18))\n",
    "print(len(compare_data))\n",
    "print(len(sample_output))"
   ]
  },
  {
   "cell_type": "code",
   "execution_count": 73,
   "metadata": {},
   "outputs": [],
   "source": [
    "sample_2018, compare2018 = model_1(Whole18, 20000, 1)"
   ]
  },
  {
   "cell_type": "code",
   "execution_count": 74,
   "metadata": {},
   "outputs": [],
   "source": [
    "hold = np.sum(nonprecip18) + np.sum(precip18)\n",
    "new2018 = np.zeros(int(hold))\n",
    "minute = 0;\n",
    "pre_index = 0;\n",
    "np_index = 0;\n",
    "while(int(hold)-1 > minute):\n",
    "    if (len(nonprecip18) > np_index):\n",
    "        non = nonprecip18[np_index]\n",
    "        for i in range(int(non)):\n",
    "            new2018[minute] = 0\n",
    "            minute += 1\n",
    "    if (len(precip18)> pre_index):    \n",
    "        rain = precip18[pre_index]\n",
    "        for j in range(int(rain)):\n",
    "            new2018[minute] = inten18[pre_index]\n",
    "            minute += 1\n",
    "    pre_index += 1 \n",
    "    np_index +=1\n"
   ]
  },
  {
   "cell_type": "code",
   "execution_count": 77,
   "metadata": {},
   "outputs": [],
   "source": [
    "pre_accuracy = mod_acc1(sample_2018, compare2018, hold)"
   ]
  },
  {
   "cell_type": "code",
   "execution_count": 79,
   "metadata": {},
   "outputs": [
    {
     "data": {
      "text/plain": [
       "Text(0.45, 0.8, 'Precipitation accuracy: 0.2 %')"
      ]
     },
     "execution_count": 79,
     "metadata": {},
     "output_type": "execute_result"
    },
    {
     "data": {
      "image/png": "[encoded data removed]",
      "text/plain": [
       "<Figure size 720x576 with 1 Axes>"
      ]
     },
     "metadata": {
      "needs_background": "light"
     },
     "output_type": "display_data"
    }
   ],
   "source": [
    "plt.figure(figsize = (10,8))\n",
    "plt.plot(new2018)\n",
    "plt.plot(-sample_2018)\n",
    "plt.title('2018 precipitation crude model vs. actual observed', fontsize = 20)\n",
    "plt.xlabel('Minutes', fontsize = 20)\n",
    "plt.ylabel('Rainfall (mm)', fontsize = 20)\n",
    "plt.legend(['Observed', 'Model'], loc = 'upper right')\n",
    "plt.figtext(0.45, 0.85, 'Observed total Precipitation: ' + str(round(np.nansum(new2018))) + ' mm', fontsize = 11, ha = 'right')\n",
    "plt.figtext(0.45, 0.825, 'Model total Precipitation: ' + str(round(np.nansum(sample_2018))) + ' mm', fontsize = 11, ha = 'right')\n",
    "plt.figtext(0.45, 0.8, 'Precipitation accuracy: ' + str(round(pre_accuracy,1)) + ' %', fontsize = 11, ha = 'right')\n"
   ]
  },
  {
   "cell_type": "code",
   "execution_count": 56,
   "metadata": {},
   "outputs": [
    {
     "name": "stdout",
     "output_type": "stream",
     "text": [
      "19708.0\n",
      "15490.0\n"
     ]
    }
   ],
   "source": [
    "pre_min = sum(precip18)\n",
    "print(pre_min)\n",
    "pre_model = sum(mod_precip18)\n",
    "print(pre_model)"
   ]
  },
  {
   "cell_type": "code",
   "execution_count": 57,
   "metadata": {},
   "outputs": [
    {
     "name": "stdout",
     "output_type": "stream",
     "text": [
      "16.714009038089088\n",
      "1.6655907036797934\n"
     ]
    }
   ],
   "source": [
    "model_accuracy = 0\n",
    "for i in range(len(new2018)):\n",
    "    mod = sample_2018[i]\n",
    "    obs = new2018[i]\n",
    "    if (mod == 0 and obs == 0):\n",
    "        model_accuracy += 1\n",
    "    elif (mod > 0 and obs > 0):\n",
    "        model_accuracy += 1\n",
    "    else: \n",
    "        model_accuracy += 0\n",
    "model_accuracy = model_accuracy/len(new2018)\n",
    "print(mod_acc1(sample_2018, new2018, pre_model))\n",
    "print(mod_acc2(sample_2018, new2018, pre_model))\n",
    "pre_accuracy = mod_acc1(sample_2018, new2018, pre_model)"
   ]
  },
  {
   "cell_type": "code",
   "execution_count": 39,
   "metadata": {},
   "outputs": [
    {
     "name": "stdout",
     "output_type": "stream",
     "text": [
      "0.9249108573298679\n"
     ]
    }
   ],
   "source": [
    "print(model_accuracy)"
   ]
  },
  {
   "cell_type": "code",
   "execution_count": 40,
   "metadata": {},
   "outputs": [
    {
     "data": {
      "text/plain": [
       "Text(0.9, 0.7, 'Model percent without precipitation: 97.3 %')"
      ]
     },
     "execution_count": 40,
     "metadata": {},
     "output_type": "execute_result"
    },
    {
     "data": {
      "image/png": "[encoded data removed]",
      "text/plain": [
       "<Figure size 720x576 with 1 Axes>"
      ]
     },
     "metadata": {
      "needs_background": "light"
     },
     "output_type": "display_data"
    }
   ],
   "source": [
    "plt.figure(figsize = (10, 8))\n",
    "plt.plot(-sample_output)\n",
    "plt.plot(new_summer18)\n",
    "plt.title('Summer 2018 crude model vs. actual observed')\n",
    "plt.xlabel('Minutes')\n",
    "plt.ylabel('Rainfall (mm)')\n",
    "plt.legend(['Model', 'Observed'], loc = 'upper right')\n",
    "plt.figtext(0.9, 0.8, 'Observed total Precipitation: ' + str(round(Su_totalprep18)) + ' mm', fontsize = 11, ha = 'right')\n",
    "plt.figtext(0.9, 0.775, 'Model total Precipitation: ' + str(round(sum(sample_output))) + ' mm', fontsize = 11, ha = 'right')\n",
    "plt.figtext(0.9, 0.75, 'Precipitation accuracy: ' + str(round(pre_accuracy)) + ' %', fontsize = 11, ha = 'right')\n",
    "plt.figtext(0.9, 0.725, 'Observed Percent without precipitation: ' + str(round(len(new_summer18[new_summer18 == 0])/len(new_summer18)*100,1)) + ' %', fontsize = 11, ha = 'right')\n",
    "plt.figtext(0.9, 0.7, 'Model percent without precipitation: ' + str(round(len(sample_output[sample_output == 0])/len(sample_output)*100,1)) + ' %', fontsize = 11, ha = 'right')"
   ]
  },
  {
   "cell_type": "code",
   "execution_count": 29,
   "metadata": {},
   "outputs": [
    {
     "name": "stdout",
     "output_type": "stream",
     "text": [
      "115.22910000000124\n",
      "2.7184126057776483\n"
     ]
    }
   ],
   "source": [
    "average_precip = 0\n",
    "avg_precip_accur = 0\n",
    "for i in range(100):\n",
    "    sample_output, compare_data = model_1(Summer18, 5000, 1)\n",
    "    average_precip = average_precip + sum(sample_output)\n",
    "    pre_accuracy = mod_acc1(sample_output, new_summer18, pre_min)\n",
    "    avg_precip_accur = avg_precip_accur + pre_accuracy\n",
    "average_precip = average_precip/100\n",
    "avg_precip_accur = avg_precip_accur/100\n",
    "\n",
    "print(average_precip)\n",
    "print(avg_precip_accur)"
   ]
  },
  {
   "cell_type": "code",
   "execution_count": null,
   "metadata": {},
   "outputs": [],
   "source": []
  }
 ],
 "metadata": {
  "kernelspec": {
   "display_name": "Python 3",
   "language": "python",
   "name": "python3"
  },
  "language_info": {
   "codemirror_mode": {
    "name": "ipython",
    "version": 3
   },
   "file_extension": ".py",
   "mimetype": "text/x-python",
   "name": "python",
   "nbconvert_exporter": "python",
   "pygments_lexer": "ipython3",
   "version": "3.8.8"
  }
 },
 "nbformat": 4,
 "nbformat_minor": 4
}
