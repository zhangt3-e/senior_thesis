{
 "cells": [
  {
   "cell_type": "code",
   "execution_count": 1,
   "metadata": {},
   "outputs": [
    {
     "name": "stdout",
     "output_type": "stream",
     "text": [
      "importing Jupyter notebook from histplot.ipynb\n"
     ]
    }
   ],
   "source": [
    "# Function for generating histogram\n",
    "# Import Libraries\n",
    "import numpy as np\n",
    "import matplotlib.pyplot as plt\n",
    "import matplotlib as mlt\n",
    "import datetime \n",
    "import import_ipynb\n",
    "import histplot"
   ]
  },
  {
   "cell_type": "code",
   "execution_count": 2,
   "metadata": {},
   "outputs": [],
   "source": [
    "ASC = '__ASC_ASCIIIn.mrk'\n",
    "direct = 'C:/Users/tyron/Documents/Geoscience/weather/'"
   ]
  },
  {
   "cell_type": "code",
   "execution_count": 3,
   "metadata": {},
   "outputs": [],
   "source": [
    "# Summer 2018 as an example\n",
    "Summer18 = histplot.getData(18, direct, ASC, 152, 92, 6 , float)\n"
   ]
  },
  {
   "cell_type": "code",
   "execution_count": 4,
   "metadata": {},
   "outputs": [],
   "source": [
    "def calc(precip_data, what_bin):\n",
    "    hist, bin_edge = np.histogram(precip_data, bins = what_bin)\n",
    "    log_y = np.log(hist)\n",
    "    bin_val = np.zeros(len(what_bin)-1)\n",
    "    for i in range(len(what_bin)-1):\n",
    "        bin_val[i] = (what_bin[i] + what_bin[i+1])/2\n",
    "    logx = np.log(bin_val)\n",
    "    curve_fit = np.polyfit(logx, log_y,1)\n",
    "    curve_fit[1] = np.exp(curve_fit[1])\n",
    "    return curve_fit, bin_val"
   ]
  },
  {
   "cell_type": "code",
   "execution_count": 5,
   "metadata": {},
   "outputs": [],
   "source": [
    "# Exponentials get from durations\n",
    "def exponential(in_put, exclude, length):\n",
    "    first_bin = np.zeros(length)\n",
    "    for i in range(length):    \n",
    "        first_bin[i] = np.percentile(in_put, i*(100/(length-1)))\n",
    "    second_bin = np.unique(first_bin)\n",
    "    stop1 = np.array([exclude])\n",
    "    final_bin = np.setdiff1d(second_bin, stop1)\n",
    "    curvefit, bin_vals = calc(in_put, final_bin)\n",
    "    return curvefit, final_bin, bin_vals\n",
    "    "
   ]
  },
  {
   "cell_type": "code",
   "execution_count": 6,
   "metadata": {},
   "outputs": [],
   "source": [
    "# Exponentials get from intensity\n",
    "def exponential_int(in_put, exclude):\n",
    "    first_bin = np.zeros(51)\n",
    "    for i in range(0, 51):    \n",
    "        first_bin[i] = np.round(np.percentile(in_put, i*2),2)\n",
    "    second_bin = np.unique(first_bin)\n",
    "    stop1 = np.array([exclude])\n",
    "    final_bin = np.setdiff1d(second_bin, stop1)\n",
    "    curvefit, bin_vals = calc(in_put, final_bin)\n",
    "    return curvefit, final_bin, bin_vals"
   ]
  },
  {
   "cell_type": "code",
   "execution_count": 7,
   "metadata": {},
   "outputs": [],
   "source": [
    "def counting(data, want):\n",
    "    counts = 0\n",
    "    newdata = data[data < want]\n",
    "    counts = len(newdata)\n",
    "    return counts"
   ]
  },
  {
   "cell_type": "code",
   "execution_count": 8,
   "metadata": {},
   "outputs": [],
   "source": [
    "def model_1(data, amount, howmuch):\n",
    "    precip, nonprecip, preciptotal, totalprep = histplot.preciphist(data, len(data), amount, 1, 1)\n",
    "    count = 0\n",
    "    count1 = 0\n",
    "    for i in range(0, len(precip)):\n",
    "        hold = precip[i]\n",
    "        hold1 = nonprecip[i]\n",
    "        if hold > 0:\n",
    "            count += 1\n",
    "        if hold1 > 0:\n",
    "            count1 += 1\n",
    "    precip = precip[:count]\n",
    "    nonprecip = nonprecip[:count1]\n",
    "    preciptotal = preciptotal[:count]\n",
    "    # Calculate intensities \n",
    "    inten = np.divide(preciptotal, precip)\n",
    "    # Exponentials for precipitation duration \n",
    "    pre_exp,pre_f_bins, bin_vals = exponential(precip, 1, 21)\n",
    "    # Exponentials for nonprecipitation duration \n",
    "    non_pre, nonpre_f_bins, nonp_b_vals = exponential(nonprecip, 1, 21)\n",
    "    # Exponentials for Intensity of Precipitation duration\n",
    "    intensity, inten_f_bins, inten_b_vals = exponential_int(inten, 0.01)\n",
    "    # print(nonpre_f_bins)\n",
    "    # Construct intervals and probabilities for precipitation durations\n",
    "    Pre_prob = np.zeros(1)\n",
    "    pre_bin_1 = counting(precip, pre_f_bins[0])\n",
    "    Pre_prob[0] = pre_bin_1\n",
    "    construct_1 = pre_exp[1]*np.exp(np.log(bin_vals)*pre_exp[0])\n",
    "    Pre_prob = np.append(Pre_prob, construct_1)\n",
    "    Pre_prob = Pre_prob/sum(Pre_prob)\n",
    "    #print(Pre_prob)\n",
    "    # Non_precipitation duration probs\n",
    "    NonPre_prob = np.zeros(1)\n",
    "    nonpre_bin_1 = counting(nonprecip, nonpre_f_bins[0])\n",
    "    NonPre_prob[0] = nonpre_bin_1\n",
    "    construct_2 = non_pre[1]*np.exp(np.log(nonp_b_vals)*non_pre[0])\n",
    "    NonPre_prob = np.append(NonPre_prob, construct_2)\n",
    "    NonPre_prob = NonPre_prob/sum(NonPre_prob)\n",
    "    #print(NonPre_prob)\n",
    "    # Intensity probs\n",
    "    Intensity_prob = np.zeros(1)\n",
    "    inten_bin_1 = counting(inten, inten_f_bins[0])\n",
    "    Intensity_prob[0] = inten_bin_1\n",
    "    construct_3 = intensity[1]*np.exp(np.log(inten_b_vals)*intensity[0])\n",
    "    Intensity_prob = np.append(Intensity_prob, construct_3)\n",
    "    Intensity_prob = Intensity_prob/sum(Intensity_prob)\n",
    "    #print(Intensity_prob)\n",
    "    # Precipitation intervals\n",
    "    Pre_interval = [1]\n",
    "    Pre_interval = np.append(Pre_interval, pre_f_bins)\n",
    "    #print(Pre_interval)\n",
    "    # NonPrecipitation intervals\n",
    "    NonPre_interval = [1]\n",
    "    NonPre_interval = np.append(NonPre_interval, nonpre_f_bins)\n",
    "    #print(NonPre_interval)\n",
    "    # Intensity intervals\n",
    "    Intensity_interval = [0.01]\n",
    "    Intensity_interval = np.append(Intensity_interval, inten_f_bins)\n",
    "    #print(Intensity_interval)\n",
    "    Model_outputs = 0;\n",
    "    # Running the crude model\n",
    "    for i in range(howmuch):\n",
    "        minutes = 0;\n",
    "        Model = np.zeros(len(data))\n",
    "        start = np.random.randint(0, 1)\n",
    "        while (len(data)-1 > minutes):\n",
    "            # run probability of precipitation event duration      \n",
    "            pre_index = np.random.choice(np.arange(len(Pre_prob)), p = Pre_prob)\n",
    "            pre_duration = np.random.randint(Pre_interval[pre_index], Pre_interval[pre_index + 1]+1) #Histogram for these synthetic data, show that they are similar \n",
    "            # to what you put in. \n",
    "            # run probability of precipitation event intensity\n",
    "            inten_index = np.random.choice(np.arange(len(Intensity_prob)), p = Intensity_prob)\n",
    "            model_intensity = 0.01*np.random.randint(100*Intensity_interval[inten_index], 100*Intensity_interval[inten_index+1]+1)\n",
    "            # run probability of non-precipitation event duration\n",
    "            nonpre_index = np.random.choice(np.arange(len(NonPre_prob)), p = NonPre_prob) \n",
    "            nonpre_duration = np.random.randint(NonPre_interval[nonpre_index], NonPre_interval[nonpre_index + 1]+1)\n",
    "            # For each of the synthetic data have a histogram and look at to see if it is similar to what we calcluated for observed data. \n",
    "            # Nonprecipitation starts first\n",
    "            if start == 0: \n",
    "                if (len(data) > minutes + pre_duration + nonpre_duration):\n",
    "                    for j in range(nonpre_duration):\n",
    "                        Model[minutes] = 0\n",
    "                        minutes += 1\n",
    "                    for k in range(pre_duration):\n",
    "                        Model[minutes] = model_intensity\n",
    "                        minutes += 1\n",
    "                else: \n",
    "                    if (len(data) < minutes + nonpre_duration):\n",
    "                        for j in range(len(data) - minutes):\n",
    "                            Model[minutes] = 0\n",
    "                            minutes += 1\n",
    "                    elif (len(data) < minutes + nonpre_duration + pre_duration):\n",
    "                        for j in range(nonpre_duration):\n",
    "                            Model[minutes] = 0\n",
    "                            minutes += 1\n",
    "                        for k in range(len(data) - minutes):\n",
    "                            Model[minutes] = model_intensity\n",
    "                            minutes +=1\n",
    "            # Precipitation starts first\n",
    "            if start == 1: \n",
    "                if (len(data) > minutes + pre_duration + nonpre_duration):\n",
    "                    for k in range(pre_duration):\n",
    "                        Model[minutes] = model_intensity\n",
    "                        minutes += 1\n",
    "                    for j in range(nonpre_duration):\n",
    "                        Model[minutes] = 0\n",
    "                        minutes += 1\n",
    "                else: \n",
    "                    if (len(data) < minutes + pre_duration):\n",
    "                        for k in range(len(data) - minutes):\n",
    "                            Model[minutes] = model_intensity\n",
    "                            minutes +=1\n",
    "                    elif (len(data) < minutes + pre_duration + nonpre_duration):\n",
    "                        for k in range(pre_duration):\n",
    "                            Model[minutes] = model_intensity\n",
    "                            minutes += 1\n",
    "                        for j in range(len(data) - minutes):\n",
    "                            Model[minutes] = 0\n",
    "                            minutes += 1\n",
    "        Model_outputs = Model\n",
    "    return Model_outputs, data "
   ]
  },
  {
   "cell_type": "code",
   "execution_count": 9,
   "metadata": {},
   "outputs": [],
   "source": [
    "sample_output, compare_data = model_1(Summer18, 5000, 1)"
   ]
  },
  {
   "cell_type": "code",
   "execution_count": 10,
   "metadata": {},
   "outputs": [
    {
     "data": {
      "text/plain": [
       "<matplotlib.legend.Legend at 0x25a00c6c240>"
      ]
     },
     "execution_count": 10,
     "metadata": {},
     "output_type": "execute_result"
    },
    {
     "data": {
      "image/png": "[encoded data removed]",
      "text/plain": [
       "<Figure size 720x576 with 1 Axes>"
      ]
     },
     "metadata": {
      "needs_background": "light"
     },
     "output_type": "display_data"
    }
   ],
   "source": [
    "plt.figure(figsize = (10, 8))\n",
    "plt.plot(-sample_output)\n",
    "plt.plot(compare_data)\n",
    "plt.title('Summer 2018 crude model vs. actual observed')\n",
    "plt.xlabel('Minutes')\n",
    "plt.ylabel('Rainfall (mm)')\n",
    "plt.legend(['Model', 'Observed'], loc = 'upper right')"
   ]
  },
  {
   "cell_type": "code",
   "execution_count": 11,
   "metadata": {},
   "outputs": [],
   "source": [
    "Su_precip18, Su_nonprecip18, Su_preciptotal18, Su_totalprep18 = histplot.preciphist(Summer18, len(Summer18), 5000, 1, 1)"
   ]
  },
  {
   "cell_type": "code",
   "execution_count": 12,
   "metadata": {},
   "outputs": [],
   "source": [
    "Su_nonprecip18 = Su_nonprecip18[Su_nonprecip18>0]\n",
    "Su_precip18 = Su_precip18[Su_precip18>0]\n",
    "#print(Su_precip18)\n",
    "#print(Su_nonprecip18)\n"
   ]
  },
  {
   "cell_type": "code",
   "execution_count": 13,
   "metadata": {},
   "outputs": [],
   "source": [
    "Su_preciptotal18 = Su_preciptotal18[Su_preciptotal18 > 0]\n"
   ]
  },
  {
   "cell_type": "code",
   "execution_count": 14,
   "metadata": {},
   "outputs": [
    {
     "name": "stdout",
     "output_type": "stream",
     "text": [
      "684\n"
     ]
    }
   ],
   "source": [
    "Su_inten18 = np.divide(Su_preciptotal18, Su_precip18)\n",
    "print(len(Su_inten18))"
   ]
  },
  {
   "cell_type": "code",
   "execution_count": 17,
   "metadata": {},
   "outputs": [
    {
     "name": "stdout",
     "output_type": "stream",
     "text": [
      "132462.0\n",
      "685\n",
      "684\n",
      "132477\n",
      "132477\n"
     ]
    }
   ],
   "source": [
    "print(Su_nonprecip18.sum() + Su_precip18.sum())\n",
    "print(len(Su_nonprecip18))\n",
    "print(len(Su_precip18))\n",
    "print(len(compare_data))\n",
    "print(len(sample_output))"
   ]
  },
  {
   "cell_type": "code",
   "execution_count": 19,
   "metadata": {},
   "outputs": [],
   "source": [
    "hold = np.sum(Su_nonprecip18) + np.sum(Su_precip18)\n",
    "new_summer18 = np.zeros(int(hold))\n",
    "minute = 0;\n",
    "pre_index = 0;\n",
    "np_index = 0;\n",
    "while(int(hold)-1 > minute):\n",
    "    if (len(Su_nonprecip18) > np_index):\n",
    "        non = Su_nonprecip18[np_index]\n",
    "        for i in range(int(non)):\n",
    "            new_summer18[minute] = 0\n",
    "            minute += 1\n",
    "    if (len(Su_precip18)> pre_index):    \n",
    "        rain = Su_precip18[pre_index]\n",
    "        for j in range(int(rain)):\n",
    "            new_summer18[minute] = Su_inten18[pre_index]\n",
    "            minute += 1\n",
    "    pre_index += 1 \n",
    "    np_index +=1\n"
   ]
  },
  {
   "cell_type": "code",
   "execution_count": 20,
   "metadata": {},
   "outputs": [
    {
     "data": {
      "text/plain": [
       "[<matplotlib.lines.Line2D at 0x25a018fe208>]"
      ]
     },
     "execution_count": 20,
     "metadata": {},
     "output_type": "execute_result"
    },
    {
     "data": {
      "image/png": "[encoded data removed]",
      "text/plain": [
       "<Figure size 432x288 with 1 Axes>"
      ]
     },
     "metadata": {
      "needs_background": "light"
     },
     "output_type": "display_data"
    }
   ],
   "source": [
    "plt.plot(figsize = (10,8))\n",
    "plt.plot(-new_summer18)\n",
    "plt.plot(compare_data)"
   ]
  },
  {
   "cell_type": "code",
   "execution_count": 21,
   "metadata": {},
   "outputs": [],
   "source": [
    "# Starts with a simple model accuracy, precip with precip. \n",
    "def mod_acc1(model, observed, pre_min):\n",
    "    mod_accuracy = 0\n",
    "    for i in range(len(observed)):\n",
    "        mod = model[i]\n",
    "        obs = observed[i]\n",
    "        #if (mod == 0 and obs == 0):\n",
    "            #mod_accuracy += 1\n",
    "        if (mod > 0 and obs > 0):\n",
    "            mod_accuracy += 1\n",
    "        else: \n",
    "            mod_accuracy += 0\n",
    "    mod_accuracy = 100*mod_accuracy/pre_min\n",
    "    return mod_accuracy"
   ]
  },
  {
   "cell_type": "code",
   "execution_count": 22,
   "metadata": {},
   "outputs": [],
   "source": [
    "# maintains exact match for precip\n",
    "def mod_acc2(model, observed, pre_min):\n",
    "    mod_accuracy = 0\n",
    "    for i in range(len(observed)):\n",
    "        mod = model[i]\n",
    "        obs = observed[i]\n",
    "        #if (mod == 0 and obs == 0):\n",
    "           # mod_accuracy += 1\n",
    "        if (mod > 0 and obs > 0 and mod == obs):\n",
    "            mod_accuracy += 1\n",
    "        else: \n",
    "            mod_accuracy += 0\n",
    "    mod_accuracy = 100*mod_accuracy/pre_min\n",
    "    return mod_accuracy"
   ]
  },
  {
   "cell_type": "code",
   "execution_count": 23,
   "metadata": {},
   "outputs": [
    {
     "name": "stdout",
     "output_type": "stream",
     "text": [
      "3427.0\n"
     ]
    }
   ],
   "source": [
    "pre_min = sum(Su_precip18)\n",
    "print(pre_min)"
   ]
  },
  {
   "cell_type": "code",
   "execution_count": 24,
   "metadata": {},
   "outputs": [
    {
     "name": "stdout",
     "output_type": "stream",
     "text": [
      "1.0504814706740588\n",
      "0.2626203676685147\n"
     ]
    }
   ],
   "source": [
    "model_accuracy = 0\n",
    "for i in range(len(new_summer18)):\n",
    "    mod = sample_output[i]\n",
    "    obs = new_summer18[i]\n",
    "    if (mod == 0 and obs == 0):\n",
    "        model_accuracy += 1\n",
    "    elif (mod > 0 and obs > 0):\n",
    "        model_accuracy += 1\n",
    "    else: \n",
    "        model_accuracy += 0\n",
    "model_accuracy = model_accuracy/len(new_summer18)\n",
    "print(mod_acc1(sample_output, new_summer18, pre_min))\n",
    "print(mod_acc2(sample_output, new_summer18, pre_min))\n",
    "pre_accuracy = mod_acc1(sample_output, new_summer18, pre_min)"
   ]
  },
  {
   "cell_type": "code",
   "execution_count": 25,
   "metadata": {},
   "outputs": [
    {
     "name": "stdout",
     "output_type": "stream",
     "text": [
      "0.9447237698358775\n"
     ]
    }
   ],
   "source": [
    "print(model_accuracy)"
   ]
  },
  {
   "cell_type": "code",
   "execution_count": 26,
   "metadata": {},
   "outputs": [],
   "source": [
    "sample_output, compare_data = model_1(Summer18, 5000, 1)"
   ]
  },
  {
   "cell_type": "code",
   "execution_count": 28,
   "metadata": {},
   "outputs": [
    {
     "data": {
      "text/plain": [
       "Text(0.9, 0.7, 'Model percent without precipitation: 96.4 %')"
      ]
     },
     "execution_count": 28,
     "metadata": {},
     "output_type": "execute_result"
    },
    {
     "data": {
      "image/png": "[encoded data removed]",
      "text/plain": [
       "<Figure size 720x576 with 1 Axes>"
      ]
     },
     "metadata": {
      "needs_background": "light"
     },
     "output_type": "display_data"
    }
   ],
   "source": [
    "plt.figure(figsize = (10, 8))\n",
    "plt.plot(-sample_output)\n",
    "plt.plot(new_summer18)\n",
    "plt.title('Summer 2018 crude model vs. actual observed')\n",
    "plt.xlabel('Minutes')\n",
    "plt.ylabel('Rainfall (mm)')\n",
    "plt.legend(['Model', 'Observed'], loc = 'upper right')\n",
    "plt.figtext(0.9, 0.8, 'Observed total Precipitation: ' + str(round(Su_totalprep18)) + ' mm', fontsize = 11, ha = 'right')\n",
    "plt.figtext(0.9, 0.775, 'Model total Precipitation: ' + str(round(sum(sample_output))) + ' mm', fontsize = 11, ha = 'right')\n",
    "plt.figtext(0.9, 0.75, 'Precipitation accuracy: ' + str(round(pre_accuracy)) + ' %', fontsize = 11, ha = 'right')\n",
    "plt.figtext(0.9, 0.725, 'Observed Percent without precipitation: ' + str(round(len(new_summer18[new_summer18 == 0])/len(new_summer18)*100,1)) + ' %', fontsize = 11, ha = 'right')\n",
    "plt.figtext(0.9, 0.7, 'Model percent without precipitation: ' + str(round(len(sample_output[sample_output == 0])/len(sample_output)*100,1)) + ' %', fontsize = 11, ha = 'right')"
   ]
  },
  {
   "cell_type": "code",
   "execution_count": 29,
   "metadata": {},
   "outputs": [
    {
     "name": "stdout",
     "output_type": "stream",
     "text": [
      "115.22910000000124\n",
      "2.7184126057776483\n"
     ]
    }
   ],
   "source": [
    "average_precip = 0\n",
    "avg_precip_accur = 0\n",
    "for i in range(100):\n",
    "    sample_output, compare_data = model_1(Summer18, 5000, 1)\n",
    "    average_precip = average_precip + sum(sample_output)\n",
    "    pre_accuracy = mod_acc1(sample_output, new_summer18, pre_min)\n",
    "    avg_precip_accur = avg_precip_accur + pre_accuracy\n",
    "average_precip = average_precip/100\n",
    "avg_precip_accur = avg_precip_accur/100\n",
    "\n",
    "print(average_precip)\n",
    "print(avg_precip_accur)"
   ]
  },
  {
   "cell_type": "code",
   "execution_count": 27,
   "metadata": {},
   "outputs": [
    {
     "name": "stdout",
     "output_type": "stream",
     "text": [
      "5000\n",
      "5000\n",
      "5000\n"
     ]
    }
   ],
   "source": [
    "# Key try to run the simulated data and spit out the coefficients. To make sure you know what is going on. \n",
    "# it looks like intensity and duration of non-precipitation events are off, perhaps not getting the upper ranges.\n",
    "mod_precip18, mod_nonprecip18, mod_preciptotal18, mod_totalprep18 = histplot.preciphist(sample_output, len(sample_output), 5000, 1, 1)\n",
    "print(len(mod_precip18))\n",
    "print(len(mod_nonprecip18))\n",
    "print(len(mod_preciptotal18))"
   ]
  },
  {
   "cell_type": "code",
   "execution_count": 28,
   "metadata": {},
   "outputs": [],
   "source": [
    "def count_zero(data, want):\n",
    "    counts = 0\n",
    "    newdata = data[data > want]\n",
    "    counts = len(newdata)\n",
    "    return newdata"
   ]
  },
  {
   "cell_type": "code",
   "execution_count": 29,
   "metadata": {},
   "outputs": [
    {
     "name": "stdout",
     "output_type": "stream",
     "text": [
      "290\n"
     ]
    }
   ],
   "source": [
    "mod_precip18 = count_zero(mod_precip18, 0)\n",
    "print(len(mod_precip18))"
   ]
  },
  {
   "cell_type": "code",
   "execution_count": 30,
   "metadata": {},
   "outputs": [
    {
     "name": "stdout",
     "output_type": "stream",
     "text": [
      "[  6.   2.   2.   2.   1.  20.   6.   3.   1.  12.  13.   4.   9.   3.\n",
      "   1.   4.   1.   5.   2.   2.   6.   2.   2.   1.   3.   1.   2.   2.\n",
      "  61.   1.   1.   1.  19.   2.   2.   3.   4.   2.   1.   3.   4.   3.\n",
      "   2.   2.   1.   2.   1.   2.   2.   1.   1.   1. 150.   6.   1.   3.\n",
      "   2.   1.   2.   1.   2.   1.   2.   1.   6.   1.   3.   8.   1.   1.\n",
      "   2. 151.   2.   1.   2.   3.   2.  13.   7.   1.   2.   1.   1.   2.\n",
      "   1.   2.   1.   1.   5.   1.   8.   1.   2.   1.   3.  15.   1.   1.\n",
      "   9.   5.   3. 121.  83.   2.   4.  12.   1.   1.   1.   1.   2.   4.\n",
      "   1.   2.   2.   1.   1.   2.   3.   1.   1.   8.   2.   6.   3.   3.\n",
      "   1.   2. 169.   1.   5.   3.   9.   9.   3.   1.  75.   4.   6.   2.\n",
      "  19.   3. 156.  94.   1.   2.   2.   2.   2.   1.   6.   1.   1.   2.\n",
      "   6.   1.   1.   4.   1.   1.   2.   6.   5.   5.   1.   1.   1.   3.\n",
      "   9.   4.   2.   4.  17.   1.   2.   8.   1.   1.   3.   2.   3.   2.\n",
      "   3.   3.   2.   2.   1.   2.   3.   7.   1.  11.   3.   2.   1.   2.\n",
      "   1.   4.   1.   1.   3.   3.   2.   2.   1.   2.   4.   6.   1.   1.\n",
      "  19.   1. 115.  12.   2.   3.   1.   2.   2.   2.  15.   2.   1.   1.\n",
      "   7.   1.   2.  12.   2.   2.   1.  11.   2.   5.   9.   2.   2.   1.\n",
      "   2.   1.   2.   2.  41.   4.   1.   2.   2.   3.   6.   1.   2.   2.\n",
      "   1.   2.   3.   1.   7.   1.   4.   1.   4.   2.   3.   2.   1.   2.\n",
      "  10.   2.  15.   1.   2.   6.   1.   2.   5. 172.   8.   1.   1.   6.\n",
      "   3.   2.   1.   5.   4.   3.  33. 144.   2.  20.]\n"
     ]
    }
   ],
   "source": [
    "print(mod_precip18)"
   ]
  },
  {
   "cell_type": "code",
   "execution_count": 31,
   "metadata": {},
   "outputs": [
    {
     "name": "stdout",
     "output_type": "stream",
     "text": [
      "290\n",
      "[1.0000e+00 2.0000e+00 2.0000e+00 1.0000e+00 1.3000e+01 2.0000e+00\n",
      " 3.0000e+00 1.0000e+00 2.0000e+00 7.8000e+01 1.0000e+00 1.0000e+00\n",
      " 6.3900e+03 2.0000e+00 2.8000e+01 2.0000e+00 2.1200e+02 8.0000e+00\n",
      " 2.0000e+00 1.0000e+00 1.0000e+00 2.0000e+00 5.1300e+02 2.0000e+00\n",
      " 3.0000e+00 3.0000e+00 4.0000e+00 4.0000e+00 1.0000e+00 4.0000e+00\n",
      " 3.0000e+00 4.0000e+00 3.0000e+00 5.1360e+03 7.0000e+00 2.0000e+00\n",
      " 1.0000e+00 1.8460e+03 2.0000e+00 1.0000e+00 4.4600e+02 1.1000e+01\n",
      " 1.6000e+01 1.4000e+01 1.8000e+01 6.0000e+00 6.2000e+01 2.0000e+00\n",
      " 3.3000e+01 1.5000e+01 4.0000e+00 3.0000e+00 3.0000e+00 1.0000e+00\n",
      " 9.0000e+00 3.0000e+00 3.0000e+00 2.0000e+00 3.0000e+00 1.0100e+02\n",
      " 1.1899e+04 1.2000e+01 3.0000e+00 2.0000e+00 1.0000e+00 1.0000e+00\n",
      " 7.6550e+03 1.4000e+01 2.0000e+00 1.0000e+00 5.0000e+01 2.3000e+01\n",
      " 2.0000e+00 1.8000e+01 2.0000e+00 2.0000e+00 5.0000e+00 1.4200e+02\n",
      " 2.0000e+01 1.0000e+00 8.0000e+00 2.0000e+00 6.0000e+00 2.0000e+00\n",
      " 2.0000e+00 1.0000e+00 1.0000e+01 2.0000e+00 1.0000e+00 2.0000e+00\n",
      " 6.0000e+00 8.4710e+03 8.0000e+00 1.1113e+04 1.0000e+00 1.5000e+01\n",
      " 1.0000e+00 1.0000e+00 3.0000e+00 1.5100e+02 1.9910e+03 1.0000e+00\n",
      " 4.0000e+00 3.0000e+00 3.0000e+00 1.0000e+00 1.0000e+00 1.0000e+00\n",
      " 2.0000e+00 3.0000e+00 1.0000e+00 4.0000e+00 3.0000e+00 7.0000e+00\n",
      " 4.0000e+00 1.7000e+01 1.0000e+00 4.0000e+00 3.0000e+00 5.0000e+00\n",
      " 1.1000e+01 1.0000e+00 1.0000e+00 9.0000e+00 4.0000e+00 4.1030e+03\n",
      " 1.0000e+00 2.7580e+03 7.7000e+01 1.0000e+00 1.0000e+00 2.0000e+00\n",
      " 2.0000e+00 2.0000e+00 1.0000e+00 5.0000e+00 3.0000e+00 5.0000e+02\n",
      " 1.2000e+01 2.0000e+00 2.0000e+00 3.0000e+00 3.0000e+00 1.2000e+01\n",
      " 5.0000e+00 1.0000e+00 2.0000e+00 1.0000e+00 7.0000e+00 3.0000e+01\n",
      " 4.6000e+01 6.0000e+00 1.0000e+00 3.6000e+01 4.0000e+00 5.0000e+00\n",
      " 4.0000e+00 2.0000e+00 2.4200e+02 2.0000e+00 1.4000e+01 4.8600e+02\n",
      " 1.0000e+00 1.0000e+01 2.0000e+00 8.0000e+00 2.2000e+01 6.7620e+03\n",
      " 2.0000e+00 1.0000e+00 2.0000e+00 1.0000e+00 2.3000e+01 1.6000e+01\n",
      " 2.0000e+00 8.0000e+00 2.0000e+00 4.0000e+00 2.0000e+00 2.0000e+00\n",
      " 2.0000e+00 1.3000e+01 1.0000e+01 8.0000e+00 1.0000e+00 1.2600e+02\n",
      " 3.1000e+01 2.0000e+00 2.0000e+00 3.6000e+01 2.0000e+00 1.2000e+01\n",
      " 1.7000e+02 4.5830e+03 7.0000e+00 5.9310e+03 1.0000e+00 6.7000e+01\n",
      " 1.6000e+01 1.0000e+00 8.0000e+00 1.0000e+00 3.5100e+02 1.0000e+00\n",
      " 4.0000e+00 1.0000e+00 2.0000e+00 8.0000e+00 3.1000e+01 1.0000e+00\n",
      " 2.0000e+00 8.0000e+00 1.0000e+00 1.2000e+01 1.3000e+02 2.0000e+00\n",
      " 1.2000e+01 2.0000e+00 3.7000e+01 3.0000e+00 1.2400e+02 3.0000e+00\n",
      " 1.0000e+00 1.0000e+00 2.0000e+00 5.0000e+00 2.0000e+00 1.0000e+00\n",
      " 4.0000e+00 2.0000e+00 2.0000e+00 3.0000e+00 3.3900e+02 2.0000e+00\n",
      " 1.0000e+00 5.2000e+01 1.0000e+00 1.2000e+01 5.0000e+00 3.0000e+00\n",
      " 5.0000e+00 1.1000e+01 6.2430e+03 2.0000e+00 1.1296e+04 2.0000e+00\n",
      " 5.0000e+00 9.0000e+00 1.3000e+01 3.0000e+00 2.0000e+00 1.2900e+02\n",
      " 1.7000e+01 1.4000e+01 3.6000e+01 5.0000e+00 8.7130e+03 2.0000e+00\n",
      " 3.7000e+01 3.3220e+03 7.0000e+00 2.0000e+00 2.0000e+00 2.0000e+00\n",
      " 7.0100e+02 2.0000e+00 2.0000e+00 2.0000e+00 1.0000e+00 2.0000e+00\n",
      " 6.0000e+00 1.0000e+00 1.0000e+00 1.0000e+00 1.2486e+04 7.0000e+00\n",
      " 4.2000e+01 4.3300e+02 1.3700e+02 3.3800e+02 1.0000e+00 3.0000e+00\n",
      " 1.0000e+00 1.0000e+00 2.0000e+00 2.0000e+00 7.0000e+00 2.0000e+00\n",
      " 1.0000e+00 1.0000e+00]\n"
     ]
    }
   ],
   "source": [
    "mod_nonprecip18 = count_zero(mod_nonprecip18, 0)\n",
    "print(len(mod_nonprecip18))\n",
    "print(mod_nonprecip18)"
   ]
  },
  {
   "cell_type": "code",
   "execution_count": 32,
   "metadata": {},
   "outputs": [
    {
     "name": "stdout",
     "output_type": "stream",
     "text": [
      "[0.06 0.04 0.02 ... 0.   0.   0.  ]\n"
     ]
    }
   ],
   "source": [
    "print(mod_preciptotal18)"
   ]
  },
  {
   "cell_type": "code",
   "execution_count": 33,
   "metadata": {},
   "outputs": [],
   "source": [
    "mod_preciptotal18 = count_zero(mod_preciptotal18, 0)\n"
   ]
  },
  {
   "cell_type": "code",
   "execution_count": 34,
   "metadata": {},
   "outputs": [
    {
     "name": "stdout",
     "output_type": "stream",
     "text": [
      "[-0.33782808 47.87577593]\n"
     ]
    }
   ],
   "source": [
    "precip_coef, final_bins, bin_vals = exponential(mod_precip18, 1)\n",
    "print(precip_coef)"
   ]
  },
  {
   "cell_type": "code",
   "execution_count": 35,
   "metadata": {},
   "outputs": [
    {
     "name": "stdout",
     "output_type": "stream",
     "text": [
      "[-0.0812516  24.17398685]\n"
     ]
    }
   ],
   "source": [
    "nonprecip_coef, np_final_bins, np_bin_vals = exponential(mod_nonprecip18, 1)\n",
    "print(nonprecip_coef)"
   ]
  },
  {
   "cell_type": "code",
   "execution_count": 36,
   "metadata": {},
   "outputs": [
    {
     "name": "stdout",
     "output_type": "stream",
     "text": [
      "[0.01 0.02 0.01 0.01 0.02 0.01 0.01 0.07 0.02 0.02 0.02 0.01 0.03 0.01\n",
      " 0.02 0.02 0.02 0.02 0.01 0.01 0.01 0.02 0.02 0.02 0.02 0.08 0.01 0.02\n",
      " 0.01 0.01 0.02 0.02 0.01 0.01 0.02 0.01 0.02 0.01 0.01 0.01 0.02 0.01\n",
      " 0.02 0.02 0.07 0.03 0.01 0.02 0.02 0.02 0.01 0.01 0.02 0.01 0.02 0.01\n",
      " 0.01 0.02 0.01 0.01 0.02 0.03 0.02 0.02 0.01 0.02 0.03 0.02 0.01 0.01\n",
      " 0.01 0.07 0.02 0.02 0.01 0.01 0.55 0.02 0.02 0.02 0.01 0.02 0.02 0.01\n",
      " 0.02 0.02 0.01 0.07 0.02 0.01 0.02 0.02 0.01 0.02 0.02 0.01 0.01 0.01\n",
      " 0.02 0.02 0.01 0.01 0.01 0.01 0.02 0.01 0.01 0.01 0.06 0.01 0.01 0.01\n",
      " 0.02 0.01 0.01 0.01 0.02 0.01 0.02 0.43 0.02 0.01 0.01 0.01 0.01 0.02\n",
      " 0.02 0.02 0.09 0.01 0.02 0.01 0.02 0.01 0.02 0.01 0.02 0.01 0.02 0.01\n",
      " 0.02 0.02 0.01 0.01 0.02 0.02 0.02 0.02 0.02 0.02 0.06 0.01 0.02 0.02\n",
      " 0.02 0.01 0.69 0.02 0.15 0.01 0.02 0.06 0.02 0.01 0.02 0.02 0.04 0.01\n",
      " 0.02 0.06 0.01 0.01 0.01 0.02 0.02 0.02 0.02 0.01 0.02 0.01 0.02 0.02\n",
      " 0.02 0.01 0.01 0.02 0.01 0.02 0.01 0.03 0.02 0.04 0.05 0.01 0.02 0.02\n",
      " 0.01 0.2  0.03 0.01 0.01 0.03 0.02 0.01 0.07 0.01 0.01 0.01 0.02 0.01\n",
      " 0.02 0.01 0.11 0.01 0.02 0.01 0.02 0.01 0.02 0.01 0.02 0.02 0.01 0.01\n",
      " 0.02 0.02 0.02 0.02 0.01 0.02 0.01 0.02 0.02 0.02 0.01 0.02 0.02 0.02\n",
      " 0.02 0.01 0.01 0.01 0.01 0.05 0.02 0.01 0.01 0.01 0.02 0.01 0.01 0.01\n",
      " 0.69 0.01 0.02 0.01 0.7  0.01 0.02 0.09 0.02 0.01 0.07 0.02 0.02 0.02\n",
      " 0.01 0.02 0.02 0.01 0.02 0.02 0.02 0.02 0.02 0.12 0.02 0.02 0.02 0.02\n",
      " 0.01 0.01 0.02 0.01 0.07 0.01 0.01 0.02 0.04 0.02]\n"
     ]
    }
   ],
   "source": [
    "mod_inten = np.divide(mod_preciptotal18, mod_precip18)\n",
    "print(mod_inten)"
   ]
  },
  {
   "cell_type": "code",
   "execution_count": 45,
   "metadata": {},
   "outputs": [],
   "source": [
    "inten_coef, inten_fb, inten_bv = exponential_int(mod_inten, 0.01)"
   ]
  },
  {
   "cell_type": "code",
   "execution_count": 46,
   "metadata": {},
   "outputs": [
    {
     "name": "stdout",
     "output_type": "stream",
     "text": [
      "[-0.79131158  1.84005618]\n"
     ]
    }
   ],
   "source": [
    "print(inten_coef)"
   ]
  },
  {
   "cell_type": "code",
   "execution_count": null,
   "metadata": {},
   "outputs": [],
   "source": []
  }
 ],
 "metadata": {
  "kernelspec": {
   "display_name": "Python 3",
   "language": "python",
   "name": "python3"
  },
  "language_info": {
   "codemirror_mode": {
    "name": "ipython",
    "version": 3
   },
   "file_extension": ".py",
   "mimetype": "text/x-python",
   "name": "python",
   "nbconvert_exporter": "python",
   "pygments_lexer": "ipython3",
   "version": "3.7.3"
  }
 },
 "nbformat": 4,
 "nbformat_minor": 4
}
