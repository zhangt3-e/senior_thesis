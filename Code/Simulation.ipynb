{
 "cells": [
  {
   "cell_type": "code",
   "execution_count": 1,
   "metadata": {},
   "outputs": [
    {
     "name": "stdout",
     "output_type": "stream",
     "text": [
      "importing Jupyter notebook from histplot.ipynb\n",
      "644\n",
      "3122\n"
     ]
    }
   ],
   "source": [
    "# Function for generating histogram\n",
    "# Import Libraries\n",
    "import numpy as np\n",
    "import matplotlib.pyplot as plt\n",
    "import matplotlib as mlt\n",
    "import datetime \n",
    "import import_ipynb\n",
    "import histplot"
   ]
  },
  {
   "cell_type": "code",
   "execution_count": 2,
   "metadata": {},
   "outputs": [],
   "source": [
    "ASC = '__ASC_ASCIIIn.mrk'\n",
    "direct = 'C:/Users/tyron/Documents/Geoscience/weather/'"
   ]
  },
  {
   "cell_type": "code",
   "execution_count": 3,
   "metadata": {},
   "outputs": [],
   "source": [
    "# Summer 2018 as an example\n",
    "Summer18 = histplot.getData(18, direct, ASC, 152, 92, 6 , float)\n"
   ]
  },
  {
   "cell_type": "code",
   "execution_count": 4,
   "metadata": {},
   "outputs": [],
   "source": [
    "def calc(precip_data, what_bin):\n",
    "    hist, bin_edge = np.histogram(precip_data, bins = what_bin)\n",
    "    log_y = np.log(hist)\n",
    "    bin_val = np.zeros(len(what_bin)-1)\n",
    "    for i in range(len(what_bin)-1):\n",
    "        bin_val[i] = (what_bin[i] + what_bin[i+1])/2\n",
    "    logx = np.log(bin_val)\n",
    "    curve_fit = np.polyfit(logx, log_y,1)\n",
    "    curve_fit[1] = np.exp(curve_fit[1])\n",
    "    return curve_fit, bin_val"
   ]
  },
  {
   "cell_type": "code",
   "execution_count": 43,
   "metadata": {},
   "outputs": [],
   "source": [
    "# Exponentials get from durations\n",
    "def exponential(in_put, exclude):\n",
    "    first_bin = np.zeros(21)\n",
    "    for i in range(0, 21):    \n",
    "        first_bin[i] = np.percentile(in_put, i*5)\n",
    "    second_bin = np.unique(first_bin)\n",
    "    stop1 = np.array([exclude])\n",
    "    final_bin = np.setdiff1d(second_bin, stop1)\n",
    "    curvefit, bin_vals = calc(in_put, final_bin)\n",
    "    return curvefit, final_bin, bin_vals\n",
    "    "
   ]
  },
  {
   "cell_type": "code",
   "execution_count": 44,
   "metadata": {},
   "outputs": [],
   "source": [
    "# Exponentials get from intensity\n",
    "def exponential_int(in_put, exclude):\n",
    "    first_bin = np.zeros(51)\n",
    "    for i in range(0, 51):    \n",
    "        first_bin[i] = np.round(np.percentile(in_put, i*2),2)\n",
    "    second_bin = np.unique(first_bin)\n",
    "    stop1 = np.array([exclude])\n",
    "    final_bin = np.setdiff1d(second_bin, stop1)\n",
    "    curvefit, bin_vals = calc(in_put, final_bin)\n",
    "    return curvefit, final_bin, bin_vals"
   ]
  },
  {
   "cell_type": "code",
   "execution_count": 7,
   "metadata": {},
   "outputs": [],
   "source": [
    "def counting(data, want):\n",
    "    counts = 0\n",
    "    newdata = data[data < want]\n",
    "    counts = len(newdata)\n",
    "    return counts"
   ]
  },
  {
   "cell_type": "code",
   "execution_count": 8,
   "metadata": {},
   "outputs": [],
   "source": [
    "def model_1(data, amount, howmuch):\n",
    "    precip, nonprecip, preciptotal, totalprep = histplot.preciphist(data, len(data), amount, 1, 1)\n",
    "    count = 0\n",
    "    count1 = 0\n",
    "    for i in range(0, len(precip)):\n",
    "        hold = precip[i]\n",
    "        hold1 = nonprecip[i]\n",
    "        if hold > 0:\n",
    "            count += 1\n",
    "        if hold1 > 0:\n",
    "            count1 += 1\n",
    "    precip = precip[:count]\n",
    "    nonprecip = nonprecip[:count1]\n",
    "    preciptotal = preciptotal[:count]\n",
    "    # Calculate intensities \n",
    "    inten = np.divide(preciptotal, precip)\n",
    "    # Exponentials for precipitation duration \n",
    "    pre_exp,pre_f_bins, bin_vals = exponential(precip, 1)\n",
    "    # Exponentials for nonprecipitation duration \n",
    "    non_pre, nonpre_f_bins, nonp_b_vals = exponential(nonprecip, 1)\n",
    "    # Exponentials for Intensity of Precipitation duration\n",
    "    intensity, inten_f_bins, inten_b_vals = exponential_int(inten, 0.01)\n",
    "    # print(nonpre_f_bins)\n",
    "    # Construct intervals and probabilities for precipitation durations\n",
    "    Pre_prob = np.zeros(1)\n",
    "    pre_bin_1 = counting(precip, pre_f_bins[0])\n",
    "    Pre_prob[0] = pre_bin_1\n",
    "    construct_1 = pre_exp[1]*np.exp(np.log(bin_vals)*pre_exp[0])\n",
    "    Pre_prob = np.append(Pre_prob, construct_1)\n",
    "    Pre_prob = Pre_prob/sum(Pre_prob)\n",
    "    #print(Pre_prob)\n",
    "    # Non_precipitation duration probs\n",
    "    NonPre_prob = np.zeros(1)\n",
    "    nonpre_bin_1 = counting(nonprecip, nonpre_f_bins[0])\n",
    "    NonPre_prob[0] = nonpre_bin_1\n",
    "    construct_2 = non_pre[1]*np.exp(np.log(nonp_b_vals)*non_pre[0])\n",
    "    NonPre_prob = np.append(NonPre_prob, construct_2)\n",
    "    NonPre_prob = NonPre_prob/sum(NonPre_prob)\n",
    "    #print(NonPre_prob)\n",
    "    # Intensity probs\n",
    "    Intensity_prob = np.zeros(1)\n",
    "    inten_bin_1 = counting(inten, inten_f_bins[0])\n",
    "    Intensity_prob[0] = inten_bin_1\n",
    "    construct_3 = intensity[1]*np.exp(np.log(inten_b_vals)*intensity[0])\n",
    "    Intensity_prob = np.append(Intensity_prob, construct_3)\n",
    "    Intensity_prob = Intensity_prob/sum(Intensity_prob)\n",
    "    #print(Intensity_prob)\n",
    "    # Precipitation intervals\n",
    "    Pre_interval = [1]\n",
    "    Pre_interval = np.append(Pre_interval, pre_f_bins)\n",
    "    #print(Pre_interval)\n",
    "    # NonPrecipitation intervals\n",
    "    NonPre_interval = [1]\n",
    "    NonPre_interval = np.append(NonPre_interval, nonpre_f_bins)\n",
    "    #print(NonPre_interval)\n",
    "    # Intensity intervals\n",
    "    Intensity_interval = [0.01]\n",
    "    Intensity_interval = np.append(Intensity_interval, inten_f_bins)\n",
    "    #print(Intensity_interval)\n",
    "    Model_outputs = 0;\n",
    "    # Running the crude model\n",
    "    for i in range(howmuch):\n",
    "        minutes = 0;\n",
    "        Model = np.zeros(len(data))\n",
    "        start = np.random.randint(0, 1)\n",
    "        while (len(data)-1 > minutes):\n",
    "            # run probability of precipitation event duration      \n",
    "            pre_index = np.random.choice(np.arange(len(Pre_prob)), p = Pre_prob)\n",
    "            pre_duration = np.random.randint(Pre_interval[pre_index], Pre_interval[pre_index + 1]+1) #Histogram for these synthetic data, show that they are similar \n",
    "            # to what you put in. \n",
    "            # run probability of precipitation event intensity\n",
    "            inten_index = np.random.choice(np.arange(len(Intensity_prob)), p = Intensity_prob)\n",
    "            model_intensity = 0.01*np.random.randint(100*Intensity_interval[inten_index], 100*Intensity_interval[inten_index+1]+1)\n",
    "            # run probability of non-precipitation event duration\n",
    "            nonpre_index = np.random.choice(np.arange(len(NonPre_prob)), p = NonPre_prob) \n",
    "            nonpre_duration = np.random.randint(NonPre_interval[nonpre_index], NonPre_interval[nonpre_index + 1]+1)\n",
    "            # For each of the synthetic data have a histogram and look at to see if it is similar to what we calcluated for observed data. \n",
    "            # Nonprecipitation starts first\n",
    "            if start == 0: \n",
    "                if (len(data) > minutes + pre_duration + nonpre_duration):\n",
    "                    for j in range(nonpre_duration):\n",
    "                        Model[minutes] = 0\n",
    "                        minutes += 1\n",
    "                    for k in range(pre_duration):\n",
    "                        Model[minutes] = model_intensity\n",
    "                        minutes += 1\n",
    "                else: \n",
    "                    if (len(data) < minutes + nonpre_duration):\n",
    "                        for j in range(len(data) - minutes):\n",
    "                            Model[minutes] = 0\n",
    "                            minutes += 1\n",
    "                    elif (len(data) < minutes + nonpre_duration + pre_duration):\n",
    "                        for j in range(nonpre_duration):\n",
    "                            Model[minutes] = 0\n",
    "                            minutes += 1\n",
    "                        for k in range(len(data) - minutes):\n",
    "                            Model[minutes] = model_intensity\n",
    "                            minutes +=1\n",
    "            # Precipitation starts first\n",
    "            if start == 1: \n",
    "                if (len(data) > minutes + pre_duration + nonpre_duration):\n",
    "                    for k in range(pre_duration):\n",
    "                        Model[minutes] = model_intensity\n",
    "                        minutes += 1\n",
    "                    for j in range(nonpre_duration):\n",
    "                        Model[minutes] = 0\n",
    "                        minutes += 1\n",
    "                else: \n",
    "                    if (len(data) < minutes + pre_duration):\n",
    "                        for k in range(len(data) - minutes):\n",
    "                            Model[minutes] = model_intensity\n",
    "                            minutes +=1\n",
    "                    elif (len(data) < minutes + pre_duration + nonpre_duration):\n",
    "                        for k in range(pre_duration):\n",
    "                            Model[minutes] = model_intensity\n",
    "                            minutes += 1\n",
    "                        for j in range(len(data) - minutes):\n",
    "                            Model[minutes] = 0\n",
    "                            minutes += 1\n",
    "        Model_outputs = Model\n",
    "    return Model_outputs, data "
   ]
  },
  {
   "cell_type": "code",
   "execution_count": 9,
   "metadata": {},
   "outputs": [],
   "source": [
    "sample_output, compare_data = model_1(Summer18, 5000, 1)"
   ]
  },
  {
   "cell_type": "code",
   "execution_count": 10,
   "metadata": {},
   "outputs": [
    {
     "data": {
      "text/plain": [
       "<matplotlib.legend.Legend at 0x2bdf54bc358>"
      ]
     },
     "execution_count": 10,
     "metadata": {},
     "output_type": "execute_result"
    },
    {
     "name": "stderr",
     "output_type": "stream",
     "text": [
      "C:\\Users\\tyron\\Anaconda3\\lib\\site-packages\\IPython\\core\\events.py:88: UserWarning: Creating legend with loc=\"best\" can be slow with large amounts of data.\n",
      "  func(*args, **kwargs)\n",
      "C:\\Users\\tyron\\Anaconda3\\lib\\site-packages\\IPython\\core\\pylabtools.py:128: UserWarning: Creating legend with loc=\"best\" can be slow with large amounts of data.\n",
      "  fig.canvas.print_figure(bytes_io, **kw)\n"
     ]
    },
    {
     "data": {
      "image/png": "[encoded data removed]",
      "text/plain": [
       "<Figure size 720x576 with 1 Axes>"
      ]
     },
     "metadata": {
      "needs_background": "light"
     },
     "output_type": "display_data"
    }
   ],
   "source": [
    "plt.figure(figsize = (10, 8))\n",
    "plt.plot(-sample_output)\n",
    "plt.plot(compare_data)\n",
    "plt.title('Summer 2018 crude model vs. actual observed')\n",
    "plt.xlabel('Minutes')\n",
    "plt.ylabel('Rainfall (mm)')\n",
    "plt.legend(['Model', 'Observed'])"
   ]
  },
  {
   "cell_type": "code",
   "execution_count": 11,
   "metadata": {},
   "outputs": [],
   "source": [
    "Su_precip18, Su_nonprecip18, Su_preciptotal18, Su_totalprep18 = histplot.preciphist(Summer18, len(Summer18), 5000, 1, 1)"
   ]
  },
  {
   "cell_type": "code",
   "execution_count": 12,
   "metadata": {},
   "outputs": [
    {
     "name": "stdout",
     "output_type": "stream",
     "text": [
      "[ 15.   6.  15.   1.  15.   1.   1.   1.   1.   1.   1.   1.   1.   1.\n",
      "   1.   2.   3.  18.   4.   1.   1.   4.   7.  45.   2.   2.  26.  36.\n",
      "   1.   1.  17.   2.   1.  18.   1.   1.   1.   1.   1.   1.   3.   2.\n",
      "   1.   1.   2.   1.   1.   1.   1.   1.   1.   6.   1.   1.   1.   1.\n",
      "  17.   3.   4.   2.   4.   1.   2.   1.   1.   1.   9.   1.   1.   1.\n",
      "   1.   1.   1.   1.   1.   1.   4.   2.   1.   1.   6.   1.   1.   1.\n",
      "   1.   1.   1.   1.   1.   1.   2.   1.   3.   9.  12.   2.  11.   1.\n",
      "  15.   1.   1.   1.   1.   1.   1.  15.   3.   4.   2.   4.   8.   1.\n",
      "   2.   2.   1.   1.  38.   1.   1.   5.   1.   1.   3.   5.   2.   1.\n",
      "   1.   1.  16.   1.   1. 202.   1.   1.   1.   1. 116.   1.   3.   1.\n",
      "   1.   1.   1.   2.  38.   3.   1.   2.   1.   1.   1.   1.   1.   5.\n",
      "   1.   3.   1.  10.   1.  22.   1.   1.   1.   1.   1.  17.   2.   1.\n",
      "   1.   1.   1.   1.   6.   2.   1.   2.   1.   1.   1.   4.   2.   1.\n",
      "   1.   1.   1.   1.   1.   1.   1.   1.   2.   6.   1.   1.   1.   1.\n",
      "   1.   1.   1.   1.   1.   9.   3.   1.  10.   3.   5.   4.   1.   1.\n",
      "   1.   9.   2.   1.   1.   5.   3.   1.   1.   1.   4.   1.   3.  28.\n",
      "  26.   9.   3.   1.   4.   1.   1.  63.   1.   6.   2.   7.  40.   1.\n",
      "   1.   1.   1.   3.   1.   1.   1.   1.   1.  17.   1.   2.   9.   1.\n",
      "  20.   3.   2.   1.   2.   1.   3.   1.  19.   1.   6.   2.   8.   4.\n",
      "   1.   2.   8.   1.   1.   2.   1.   2.   1.   1.   1.   1.   1. 120.\n",
      "   1.  13.   1.   1.   1.   1.   1.   1.   4.  19.  72.   1.   3.   3.\n",
      "   8.   1.  10.  36.   1.  16.   1.   1.   1.   2.   2.   2.   1.   2.\n",
      "  10.   3.   1.  51.   1.  57.  49.   2.   1.   1.   3.   1.   1.  15.\n",
      "  10.   4.   1.   2.   1.   1.   4.   1.   1.   4.   1.   4.  17.   9.\n",
      "   1.   3.   1.   2.   1.   9.   1.   3.   1.   1.  34.   2.   4.   1.\n",
      "   1.  18.  18.   2.  35.   1.   1.   1.   1.   5.   2.   1.   1.   2.\n",
      "   1.   1.   1.   2.   1.   1.   5.   9.   1.   2.   1.   2.   1.   3.\n",
      "   1.   1.   1.   4.   5.  22.   2.   1.   1.   1.   1.   1.   1.   3.\n",
      "   1.   3.   4.   1.   5.   1.   1.   1.   1.   1.   1.   1.   4.   1.\n",
      "   1.   3.   1.   2.   1.   1.   4.   1.   7.   6.   1.   1.   4.   1.\n",
      "   1.   1.   1.   2.   1.   2.   1.   1.   5.   7.   1.   1.   1.   1.\n",
      "   1.   2.   2.   1.   1.   1.   1.   3.   1.   1.   1.   1.   8.   2.\n",
      "   1.   4.   4.   1.   1.   1.   6.   1.   1.   1.   1.   3.   1.  13.\n",
      "   2.  12.   9.   1.   1.   1.   1.   1.   1.   2.   1.  20.   1.   1.\n",
      "   1.   1.   1.   2.  34.   1.   4.   1.   1.   2.   2.   2.   1.   1.\n",
      "   2.   4.   2.   1.   8.   2.   4.   1.   3.   1.   1.   7.   1.   1.\n",
      "   2.   1.  21.   1.   5.   1.   2.   1.   1.   2.   1.   4.   1.   3.\n",
      "   1.  20.   2.   1.   1.   1.   1.   2.   1.   3.   1.  30.   2.   4.\n",
      "   1.   3.   2.  28.   3.   1.   1.   5.   4.   4.   3.   1.   1.   5.\n",
      "   1.  42.   1.  44.   3.   2.   1.   1.   1.   1.  57.  22.  18.  61.\n",
      "   1.   1.   1.  11.   1.  26.   1.   1.   1.   1.   1.   1.   1.   1.\n",
      "   2.   1.  20.   2.   2.   9.   1.   1.   1.   7.   1.  30.   3.   8.\n",
      "   5.  26.   2.   1.   1.  16.   1.   1.   1.   1.   1.  14.   1.   2.\n",
      "   1.   2.   2.   1.   6.   1.   4.  44.   1.   2.   1.   3.   5.   1.\n",
      "   1.   1.   1.   1.   1.   1.   1.   1.   1.   1.   1.  18.   3.   2.\n",
      "   1.   3.   5.   1.   6.   2.   1.   2.  15.   1.  12.   2.   2.   3.\n",
      "   1.   1.   1.   8.   1.   1.   1.   1.   1.   1.   4.   4.   2.   1.\n",
      "   1.   2.   2.   1.   2.   2.   1.   4.   2.   5.   1.   1.   2.   2.\n",
      "   1.   1.   1.   1.   1.   1.   1.   1.   2.   1.   1.   1.]\n"
     ]
    }
   ],
   "source": [
    "print(Su_precip18[:684])"
   ]
  },
  {
   "cell_type": "code",
   "execution_count": 13,
   "metadata": {},
   "outputs": [
    {
     "name": "stdout",
     "output_type": "stream",
     "text": [
      "[0. 0. 0. ... 0. 0. 0.]\n",
      "5000\n",
      "5000\n",
      "684\n",
      "684\n"
     ]
    }
   ],
   "source": [
    "print(compare_data)\n",
    "print(len(Su_precip18))\n",
    "print(len(Su_nonprecip18))\n",
    "count_nonpre = 0\n",
    "count_pre = 0\n",
    "for i in range(0,5000):\n",
    "    hold = Su_nonprecip18[i]\n",
    "    hold1 = Su_precip18[i]\n",
    "    if hold > 0:\n",
    "        count_nonpre += 1\n",
    "    if hold1 > 0:\n",
    "        count_pre +=1\n",
    "print(count_nonpre)\n",
    "print(count_pre)\n",
    "\n",
    "#print(Su_precip18)\n",
    "#print(Su_nonprecip18)\n"
   ]
  },
  {
   "cell_type": "code",
   "execution_count": 14,
   "metadata": {},
   "outputs": [],
   "source": [
    "Su_precip18 = Su_precip18[:count_pre]\n",
    "Su_nonprecip18 = Su_nonprecip18[:count_nonpre]"
   ]
  },
  {
   "cell_type": "code",
   "execution_count": 15,
   "metadata": {},
   "outputs": [
    {
     "name": "stdout",
     "output_type": "stream",
     "text": [
      "[6.400e+00 1.800e-01 4.200e-01 1.000e-02 8.380e+00 1.000e-02 1.000e-02\n",
      " 1.000e-02 1.000e-02 1.000e-02 1.000e-02 1.000e-02 1.000e-02 1.000e-02\n",
      " 1.000e-02 4.000e-02 6.000e-02 1.120e+00 1.200e-01 1.000e-02 1.000e-02\n",
      " 8.000e-02 1.100e-01 4.420e+00 2.000e-02 2.000e-02 1.700e+00 6.330e+00\n",
      " 1.000e-02 1.000e-02 9.400e-01 4.000e-02 1.000e-02 4.640e+00 3.000e-02\n",
      " 1.000e-02 1.000e-02 1.000e-02 1.000e-02 1.000e-02 4.000e-02 3.000e-02\n",
      " 1.000e-02 1.000e-02 2.000e-02 1.000e-02 1.000e-02 1.000e-02 1.000e-02\n",
      " 1.000e-02 1.000e-02 7.000e-02 1.000e-02 1.000e-02 1.000e-02 1.000e-02\n",
      " 3.300e-01 3.000e-02 4.000e-02 2.000e-02 4.000e-02 1.000e-02 2.000e-02\n",
      " 1.000e-02 1.000e-02 1.000e-02 1.700e-01 1.000e-02 1.000e-02 1.000e-02\n",
      " 1.000e-02 1.000e-02 1.000e-02 1.000e-02 1.000e-02 1.000e-02 4.000e-02\n",
      " 2.000e-02 1.000e-02 1.000e-02 6.000e-02 1.000e-02 1.000e-02 1.000e-02\n",
      " 1.000e-02 1.000e-02 1.000e-02 1.000e-02 1.000e-02 1.000e-02 2.000e-02\n",
      " 1.000e-02 3.000e-02 1.100e-01 1.200e-01 2.000e-02 1.300e-01 1.000e-02\n",
      " 4.100e-01 1.000e-02 1.000e-02 1.000e-02 1.000e-02 1.000e-02 1.000e-02\n",
      " 3.500e-01 3.000e-02 6.000e-02 2.000e-02 4.000e-02 1.000e-01 1.000e-02\n",
      " 2.000e-02 2.000e-02 1.000e-02 1.000e-02 1.200e+00 1.000e-02 1.000e-02\n",
      " 6.000e-02 1.000e-02 1.000e-02 3.000e-02 5.000e-02 3.000e-02 1.000e-02\n",
      " 1.000e-02 1.000e-02 2.400e-01 1.000e-02 1.000e-02 1.303e+01 1.000e-02\n",
      " 1.000e-02 1.000e-02 1.000e-02 5.360e+00 1.000e-02 4.000e-02 1.000e-02\n",
      " 1.000e-02 1.000e-02 1.000e-02 2.000e-02 6.500e-01 3.000e-02 1.000e-02\n",
      " 2.000e-02 1.000e-02 1.000e-02 1.000e-02 1.000e-02 1.000e-02 5.000e-02\n",
      " 1.000e-02 1.200e-01 1.000e-02 1.210e+00 1.000e-02 8.570e+00 1.000e-02\n",
      " 2.000e-02 1.000e-02 1.000e-02 1.000e-02 2.000e-01 2.000e-02 1.000e-02\n",
      " 1.000e-02 1.000e-02 1.000e-02 1.000e-02 8.000e-02 2.000e-02 1.000e-02\n",
      " 2.000e-02 1.000e-02 1.000e-02 1.000e-02 7.000e-02 4.000e-02 1.000e-02\n",
      " 1.000e-02 1.000e-02 1.000e-02 1.000e-02 1.000e-02 1.000e-02 1.000e-02\n",
      " 1.000e-02 3.000e-02 9.000e-02 1.000e-02 1.000e-02 1.000e-02 1.000e-02\n",
      " 1.000e-02 1.000e-02 1.000e-02 1.000e-02 1.000e-02 1.900e-01 3.000e-02\n",
      " 1.000e-02 5.000e-01 3.000e-02 2.400e-01 8.000e-02 2.000e-02 1.000e-02\n",
      " 1.000e-02 1.500e-01 1.300e-01 2.000e-02 1.000e-02 1.170e+00 4.000e-02\n",
      " 7.000e-02 2.000e-02 1.000e-02 8.000e-02 1.000e-02 6.000e-02 5.940e+00\n",
      " 9.960e+00 2.100e-01 7.000e-02 1.000e-02 2.000e-01 1.000e-02 1.000e-02\n",
      " 2.293e+01 1.000e-02 1.100e-01 3.000e-02 1.000e-01 1.070e+00 1.000e-02\n",
      " 1.000e-02 1.000e-02 1.000e-02 4.000e-02 1.000e-02 1.000e-02 1.000e-02\n",
      " 1.000e-02 1.000e-02 1.090e+00 1.000e-02 3.000e-02 1.200e-01 1.000e-02\n",
      " 4.400e-01 3.000e-02 3.000e-02 2.000e-02 3.000e-02 1.000e-02 4.000e-02\n",
      " 1.000e-02 1.334e+01 1.000e-02 3.500e-01 4.000e-02 1.100e-01 6.000e-02\n",
      " 1.000e-02 2.000e-02 1.200e-01 1.000e-02 1.000e-02 2.000e-02 1.000e-02\n",
      " 2.000e-02 1.000e-02 1.000e-02 4.000e-02 2.000e-02 1.000e-02 6.570e+00\n",
      " 1.000e-02 2.200e-01 1.000e-02 1.000e-02 1.000e-02 1.000e-02 1.000e-02\n",
      " 1.000e-02 1.230e+00 1.396e+01 2.362e+01 1.000e-02 3.000e-02 4.000e-02\n",
      " 1.200e-01 1.000e-02 1.600e-01 1.410e+00 1.000e-02 2.700e-01 1.000e-02\n",
      " 1.000e-02 1.000e-02 3.000e-02 4.000e-02 2.000e-02 1.000e-02 2.000e-02\n",
      " 1.400e-01 4.000e-02 1.000e-02 1.820e+00 1.000e-02 1.520e+00 4.040e+00\n",
      " 2.000e-02 1.000e-02 1.000e-02 3.000e-02 1.000e-02 1.000e-02 7.600e-01\n",
      " 2.200e-01 4.000e-02 1.000e-02 2.000e-02 1.000e-02 1.000e-02 5.000e-02\n",
      " 1.000e-02 1.000e-02 2.500e-01 1.000e-02 5.000e-02 4.300e-01 1.000e-01\n",
      " 1.000e-02 4.000e-02 1.000e-02 3.000e-02 1.000e-02 2.100e-01 1.000e-02\n",
      " 6.000e-02 1.000e-02 1.000e-02 1.250e+00 4.000e-02 4.000e-02 1.000e-02\n",
      " 1.000e-02 2.320e+00 8.400e-01 3.000e-02 3.070e+00 1.000e-02 1.000e-02\n",
      " 1.000e-02 2.000e-02 1.000e-01 2.000e-02 2.000e-02 1.000e-02 1.500e-01\n",
      " 1.000e-02 1.000e-02 3.000e-02 2.000e-02 1.000e-02 1.000e-02 1.300e-01\n",
      " 6.400e-01 1.000e-02 2.000e-02 1.000e-02 2.000e-02 1.000e-02 4.500e-01\n",
      " 1.000e-02 2.000e-02 1.000e-02 2.000e-01 2.500e-01 6.020e+00 6.000e-02\n",
      " 1.000e-02 1.000e-02 1.000e-02 1.000e-02 1.000e-02 1.000e-02 5.100e-01\n",
      " 1.000e-02 9.000e-02 1.500e-01 2.000e-02 5.700e-01 1.000e-02 1.000e-02\n",
      " 1.000e-02 1.000e-02 1.000e-02 3.000e-02 1.000e-02 8.000e-01 1.000e-01\n",
      " 1.000e-02 9.000e-02 1.000e-02 2.000e-02 1.000e-02 4.000e-02 3.300e-01\n",
      " 1.000e-02 5.900e-01 3.600e-01 1.000e-02 1.000e-02 4.000e-02 1.000e-02\n",
      " 1.000e-02 1.000e-02 1.000e-02 3.000e-02 1.000e-02 3.000e-02 1.000e-02\n",
      " 1.000e-02 1.000e-01 4.300e-01 1.000e-02 1.000e-02 1.000e-02 1.000e-02\n",
      " 1.000e-02 3.000e-02 2.000e-02 2.000e-02 1.000e-02 1.000e-02 1.000e-02\n",
      " 3.000e-02 1.000e-02 1.000e-02 1.000e-02 1.000e-02 9.000e-02 2.000e-02\n",
      " 1.000e-02 5.000e-02 4.000e-02 1.000e-02 1.000e-02 1.000e-02 8.000e-02\n",
      " 1.000e-02 1.000e-02 1.000e-02 1.000e-02 3.000e-02 1.000e-02 3.000e-01\n",
      " 2.000e-02 2.100e-01 9.000e-02 1.000e-02 1.000e-02 1.000e-02 1.000e-02\n",
      " 1.000e-02 1.000e-02 2.000e-02 1.000e-02 2.200e-01 1.000e-02 1.000e-02\n",
      " 1.000e-02 1.000e-02 1.000e-02 2.000e-02 2.480e+00 1.000e-02 7.000e-02\n",
      " 1.000e-02 1.000e-02 1.000e-01 2.000e-02 4.000e-02 1.000e-02 1.000e-02\n",
      " 2.000e-02 5.800e-01 5.000e-02 3.000e-02 7.600e-01 6.000e-02 6.000e-02\n",
      " 2.000e-02 1.200e-01 1.000e-02 1.000e-02 1.010e+00 1.000e-02 2.000e-02\n",
      " 8.000e-02 1.000e-02 5.810e+00 1.000e-02 1.300e-01 1.000e-02 1.100e-01\n",
      " 2.000e-02 2.000e-02 3.000e-02 1.000e-02 6.000e-02 1.000e-02 6.000e-02\n",
      " 1.000e-02 4.890e+00 1.800e-01 1.000e-02 1.000e-02 1.000e-02 1.000e-02\n",
      " 3.000e-02 1.000e-02 2.300e-01 1.000e-02 6.600e-01 2.000e-02 4.000e-02\n",
      " 1.000e-02 3.000e-02 2.000e-02 4.630e+00 6.000e-02 2.000e-02 1.000e-02\n",
      " 5.000e-02 4.000e-02 8.000e-02 3.000e-02 1.000e-02 1.000e-02 7.000e-02\n",
      " 1.000e-02 2.690e+00 1.000e-02 1.150e+00 4.000e-02 2.000e-02 1.000e-02\n",
      " 1.000e-02 1.000e-02 1.000e-02 1.290e+00 4.800e-01 3.900e-01 3.310e+00\n",
      " 1.000e-02 1.000e-02 1.000e-02 1.300e-01 1.000e-02 3.990e+00 1.000e-02\n",
      " 1.000e-02 1.000e-02 1.000e-02 1.000e-02 1.000e-02 1.000e-02 1.000e-02\n",
      " 6.000e-02 1.000e-02 8.400e-01 2.000e-02 2.000e-02 2.300e-01 1.000e-02\n",
      " 1.000e-02 2.000e-02 8.600e-01 1.000e-02 5.300e+00 1.600e-01 3.800e-01\n",
      " 7.000e-02 1.350e+00 2.000e-02 1.000e-02 1.000e-02 8.500e-01 1.000e-02\n",
      " 1.000e-02 1.000e-02 1.000e-02 1.000e-02 6.100e-01 2.000e-02 3.000e-02\n",
      " 1.000e-02 3.000e-02 2.000e-02 1.000e-02 8.000e-02 1.000e-02 1.100e-01\n",
      " 3.120e+00 1.000e-02 2.000e-02 1.000e-02 3.000e-02 7.000e-02 1.000e-02\n",
      " 1.000e-02 1.000e-02 1.000e-02 1.000e-02 1.000e-02 1.000e-02 1.000e-02\n",
      " 1.000e-02 1.000e-02 1.000e-02 1.000e-02 3.600e-01 7.000e-02 1.100e-01\n",
      " 1.000e-02 6.000e-02 7.000e-02 1.000e-02 6.000e-02 2.000e-02 1.000e-02\n",
      " 5.000e-02 4.930e+00 1.000e-02 2.300e-01 2.000e-02 2.000e-02 3.000e-02\n",
      " 1.000e-02 1.000e-02 1.000e-02 1.900e-01 1.000e-02 1.000e-02 1.000e-02\n",
      " 1.000e-02 1.000e-02 1.000e-02 4.000e-02 4.000e-02 2.000e-02 1.000e-02\n",
      " 1.000e-02 2.000e-02 2.000e-02 1.000e-02 3.000e-02 3.000e-02 1.000e-02\n",
      " 4.000e-02 2.000e-02 5.000e-02 1.000e-02 1.000e-02 2.000e-02 2.000e-02\n",
      " 1.000e-02 1.000e-02 1.000e-02 1.000e-02 1.000e-02 1.000e-02 1.000e-02\n",
      " 1.000e-02 2.000e-02 1.000e-02 1.000e-02 1.000e-02]\n"
     ]
    }
   ],
   "source": [
    "print(Su_preciptotal18[:count_pre])\n",
    "Su_preciptotal18 = Su_preciptotal18[:count_pre]\n"
   ]
  },
  {
   "cell_type": "code",
   "execution_count": 16,
   "metadata": {},
   "outputs": [
    {
     "name": "stdout",
     "output_type": "stream",
     "text": [
      "[0.42666667 0.03       0.028      0.01       0.55866667 0.01\n",
      " 0.01       0.01       0.01       0.01       0.01       0.01\n",
      " 0.01       0.01       0.01       0.02       0.02       0.06222222\n",
      " 0.03       0.01       0.01       0.02       0.01571429 0.09822222\n",
      " 0.01       0.01       0.06538462 0.17583333 0.01       0.01\n",
      " 0.05529412 0.02       0.01       0.25777778 0.03       0.01\n",
      " 0.01       0.01       0.01       0.01       0.01333333 0.015\n",
      " 0.01       0.01       0.01       0.01       0.01       0.01\n",
      " 0.01       0.01       0.01       0.01166667 0.01       0.01\n",
      " 0.01       0.01       0.01941176 0.01       0.01       0.01\n",
      " 0.01       0.01       0.01       0.01       0.01       0.01\n",
      " 0.01888889 0.01       0.01       0.01       0.01       0.01\n",
      " 0.01       0.01       0.01       0.01       0.01       0.01\n",
      " 0.01       0.01       0.01       0.01       0.01       0.01\n",
      " 0.01       0.01       0.01       0.01       0.01       0.01\n",
      " 0.01       0.01       0.01       0.01222222 0.01       0.01\n",
      " 0.01181818 0.01       0.02733333 0.01       0.01       0.01\n",
      " 0.01       0.01       0.01       0.02333333 0.01       0.015\n",
      " 0.01       0.01       0.0125     0.01       0.01       0.01\n",
      " 0.01       0.01       0.03157895 0.01       0.01       0.012\n",
      " 0.01       0.01       0.01       0.01       0.015      0.01\n",
      " 0.01       0.01       0.015      0.01       0.01       0.06450495\n",
      " 0.01       0.01       0.01       0.01       0.0462069  0.01\n",
      " 0.01333333 0.01       0.01       0.01       0.01       0.01\n",
      " 0.01710526 0.01       0.01       0.01       0.01       0.01\n",
      " 0.01       0.01       0.01       0.01       0.01       0.04\n",
      " 0.01       0.121      0.01       0.38954545 0.01       0.02\n",
      " 0.01       0.01       0.01       0.01176471 0.01       0.01\n",
      " 0.01       0.01       0.01       0.01       0.01333333 0.01\n",
      " 0.01       0.01       0.01       0.01       0.01       0.0175\n",
      " 0.02       0.01       0.01       0.01       0.01       0.01\n",
      " 0.01       0.01       0.01       0.01       0.015      0.015\n",
      " 0.01       0.01       0.01       0.01       0.01       0.01\n",
      " 0.01       0.01       0.01       0.02111111 0.01       0.01\n",
      " 0.05       0.01       0.048      0.02       0.02       0.01\n",
      " 0.01       0.01666667 0.065      0.02       0.01       0.234\n",
      " 0.01333333 0.07       0.02       0.01       0.02       0.01\n",
      " 0.02       0.21214286 0.38307692 0.02333333 0.02333333 0.01\n",
      " 0.05       0.01       0.01       0.36396825 0.01       0.01833333\n",
      " 0.015      0.01428571 0.02675    0.01       0.01       0.01\n",
      " 0.01       0.01333333 0.01       0.01       0.01       0.01\n",
      " 0.01       0.06411765 0.01       0.015      0.01333333 0.01\n",
      " 0.022      0.01       0.015      0.02       0.015      0.01\n",
      " 0.01333333 0.01       0.70210526 0.01       0.05833333 0.02\n",
      " 0.01375    0.015      0.01       0.01       0.015      0.01\n",
      " 0.01       0.01       0.01       0.01       0.01       0.01\n",
      " 0.04       0.02       0.01       0.05475    0.01       0.01692308\n",
      " 0.01       0.01       0.01       0.01       0.01       0.01\n",
      " 0.3075     0.73473684 0.32805556 0.01       0.01       0.01333333\n",
      " 0.015      0.01       0.016      0.03916667 0.01       0.016875\n",
      " 0.01       0.01       0.01       0.015      0.02       0.01\n",
      " 0.01       0.01       0.014      0.01333333 0.01       0.03568627\n",
      " 0.01       0.02666667 0.08244898 0.01       0.01       0.01\n",
      " 0.01       0.01       0.01       0.05066667 0.022      0.01\n",
      " 0.01       0.01       0.01       0.01       0.0125     0.01\n",
      " 0.01       0.0625     0.01       0.0125     0.02529412 0.01111111\n",
      " 0.01       0.01333333 0.01       0.015      0.01       0.02333333\n",
      " 0.01       0.02       0.01       0.01       0.03676471 0.02\n",
      " 0.01       0.01       0.01       0.12888889 0.04666667 0.015\n",
      " 0.08771429 0.01       0.01       0.01       0.02       0.02\n",
      " 0.01       0.02       0.01       0.075      0.01       0.01\n",
      " 0.03       0.01       0.01       0.01       0.026      0.07111111\n",
      " 0.01       0.01       0.01       0.01       0.01       0.15\n",
      " 0.01       0.02       0.01       0.05       0.05       0.27363636\n",
      " 0.03       0.01       0.01       0.01       0.01       0.01\n",
      " 0.01       0.17       0.01       0.03       0.0375     0.02\n",
      " 0.114      0.01       0.01       0.01       0.01       0.01\n",
      " 0.03       0.01       0.2        0.1        0.01       0.03\n",
      " 0.01       0.01       0.01       0.04       0.0825     0.01\n",
      " 0.08428571 0.06       0.01       0.01       0.01       0.01\n",
      " 0.01       0.01       0.01       0.015      0.01       0.015\n",
      " 0.01       0.01       0.02       0.06142857 0.01       0.01\n",
      " 0.01       0.01       0.01       0.015      0.01       0.02\n",
      " 0.01       0.01       0.01       0.01       0.01       0.01\n",
      " 0.01       0.01       0.01125    0.01       0.01       0.0125\n",
      " 0.01       0.01       0.01       0.01       0.01333333 0.01\n",
      " 0.01       0.01       0.01       0.01       0.01       0.02307692\n",
      " 0.01       0.0175     0.01       0.01       0.01       0.01\n",
      " 0.01       0.01       0.01       0.01       0.01       0.011\n",
      " 0.01       0.01       0.01       0.01       0.01       0.01\n",
      " 0.07294118 0.01       0.0175     0.01       0.01       0.05\n",
      " 0.01       0.02       0.01       0.01       0.01       0.145\n",
      " 0.025      0.03       0.095      0.03       0.015      0.02\n",
      " 0.04       0.01       0.01       0.14428571 0.01       0.02\n",
      " 0.04       0.01       0.27666667 0.01       0.026      0.01\n",
      " 0.055      0.02       0.02       0.015      0.01       0.015\n",
      " 0.01       0.02       0.01       0.2445     0.09       0.01\n",
      " 0.01       0.01       0.01       0.015      0.01       0.07666667\n",
      " 0.01       0.022      0.01       0.01       0.01       0.01\n",
      " 0.01       0.16535714 0.02       0.02       0.01       0.01\n",
      " 0.01       0.02       0.01       0.01       0.01       0.014\n",
      " 0.01       0.06404762 0.01       0.02613636 0.01333333 0.01\n",
      " 0.01       0.01       0.01       0.01       0.02263158 0.02181818\n",
      " 0.02166667 0.0542623  0.01       0.01       0.01       0.01181818\n",
      " 0.01       0.15346154 0.01       0.01       0.01       0.01\n",
      " 0.01       0.01       0.01       0.01       0.03       0.01\n",
      " 0.042      0.01       0.01       0.02555556 0.01       0.01\n",
      " 0.02       0.12285714 0.01       0.17666667 0.05333333 0.0475\n",
      " 0.014      0.05192308 0.01       0.01       0.01       0.053125\n",
      " 0.01       0.01       0.01       0.01       0.01       0.04357143\n",
      " 0.02       0.015      0.01       0.015      0.01       0.01\n",
      " 0.01333333 0.01       0.0275     0.07090909 0.01       0.01\n",
      " 0.01       0.01       0.014      0.01       0.01       0.01\n",
      " 0.01       0.01       0.01       0.01       0.01       0.01\n",
      " 0.01       0.01       0.01       0.02       0.02333333 0.055\n",
      " 0.01       0.02       0.014      0.01       0.01       0.01\n",
      " 0.01       0.025      0.32866667 0.01       0.01916667 0.01\n",
      " 0.01       0.01       0.01       0.01       0.01       0.02375\n",
      " 0.01       0.01       0.01       0.01       0.01       0.01\n",
      " 0.01       0.01       0.01       0.01       0.01       0.01\n",
      " 0.01       0.01       0.015      0.015      0.01       0.01\n",
      " 0.01       0.01       0.01       0.01       0.01       0.01\n",
      " 0.01       0.01       0.01       0.01       0.01       0.01\n",
      " 0.01       0.01       0.01       0.01       0.01       0.01      ]\n"
     ]
    }
   ],
   "source": [
    "Su_inten18 = np.divide(Su_preciptotal18, Su_precip18)\n",
    "print(Su_inten18)"
   ]
  },
  {
   "cell_type": "code",
   "execution_count": 17,
   "metadata": {},
   "outputs": [
    {
     "ename": "IndexError",
     "evalue": "index 684 is out of bounds for axis 0 with size 684",
     "output_type": "error",
     "traceback": [
      "\u001b[1;31m---------------------------------------------------------------------------\u001b[0m",
      "\u001b[1;31mIndexError\u001b[0m                                Traceback (most recent call last)",
      "\u001b[1;32m<ipython-input-17-81b77a82c2f1>\u001b[0m in \u001b[0;36m<module>\u001b[1;34m\u001b[0m\n\u001b[0;32m      3\u001b[0m \u001b[0mindex\u001b[0m \u001b[1;33m=\u001b[0m \u001b[1;36m0\u001b[0m\u001b[1;33m;\u001b[0m\u001b[1;33m\u001b[0m\u001b[1;33m\u001b[0m\u001b[0m\n\u001b[0;32m      4\u001b[0m \u001b[1;32mwhile\u001b[0m\u001b[1;33m(\u001b[0m\u001b[0mlen\u001b[0m\u001b[1;33m(\u001b[0m\u001b[0mcompare_data\u001b[0m\u001b[1;33m)\u001b[0m\u001b[1;33m-\u001b[0m\u001b[1;36m1\u001b[0m \u001b[1;33m>\u001b[0m \u001b[0mminute\u001b[0m\u001b[1;33m)\u001b[0m\u001b[1;33m:\u001b[0m\u001b[1;33m\u001b[0m\u001b[1;33m\u001b[0m\u001b[0m\n\u001b[1;32m----> 5\u001b[1;33m     \u001b[0mnon\u001b[0m \u001b[1;33m=\u001b[0m \u001b[0mSu_nonprecip18\u001b[0m\u001b[1;33m[\u001b[0m\u001b[0mindex\u001b[0m\u001b[1;33m]\u001b[0m\u001b[1;33m\u001b[0m\u001b[1;33m\u001b[0m\u001b[0m\n\u001b[0m\u001b[0;32m      6\u001b[0m     \u001b[0mrain\u001b[0m \u001b[1;33m=\u001b[0m \u001b[0mSu_precip18\u001b[0m\u001b[1;33m[\u001b[0m\u001b[0mindex\u001b[0m\u001b[1;33m]\u001b[0m\u001b[1;33m\u001b[0m\u001b[1;33m\u001b[0m\u001b[0m\n\u001b[0;32m      7\u001b[0m     \u001b[1;32mfor\u001b[0m \u001b[0mi\u001b[0m \u001b[1;32min\u001b[0m \u001b[0mrange\u001b[0m\u001b[1;33m(\u001b[0m\u001b[0mint\u001b[0m\u001b[1;33m(\u001b[0m\u001b[0mnon\u001b[0m\u001b[1;33m)\u001b[0m\u001b[1;33m)\u001b[0m\u001b[1;33m:\u001b[0m\u001b[1;33m\u001b[0m\u001b[1;33m\u001b[0m\u001b[0m\n",
      "\u001b[1;31mIndexError\u001b[0m: index 684 is out of bounds for axis 0 with size 684"
     ]
    }
   ],
   "source": [
    "new_summer18 = np.zeros(len(compare_data))\n",
    "minute = 0;\n",
    "index = 0;\n",
    "while(len(compare_data)-1 > minute):\n",
    "    non = Su_nonprecip18[index]\n",
    "    rain = Su_precip18[index]\n",
    "    for i in range(int(non)):\n",
    "        new_summer18[minute] = 0\n",
    "        minute += 1\n",
    "    for j in range(int(rain)):\n",
    "        new_summer18[minute] = Su_inten18[index]\n",
    "        minute += 1\n",
    "    index += 1 \n"
   ]
  },
  {
   "cell_type": "code",
   "execution_count": 18,
   "metadata": {},
   "outputs": [
    {
     "data": {
      "text/plain": [
       "[<matplotlib.lines.Line2D at 0x2bdf68602e8>]"
      ]
     },
     "execution_count": 18,
     "metadata": {},
     "output_type": "execute_result"
    },
    {
     "data": {
      "image/png": "[encoded data removed]",
      "text/plain": [
       "<Figure size 432x288 with 1 Axes>"
      ]
     },
     "metadata": {
      "needs_background": "light"
     },
     "output_type": "display_data"
    }
   ],
   "source": [
    "plt.plot(new_summer18)"
   ]
  },
  {
   "cell_type": "code",
   "execution_count": 19,
   "metadata": {},
   "outputs": [],
   "source": [
    "# Starts with a simple model accuracy, precip with precip. \n",
    "def mod_acc1(model, observed, pre_min):\n",
    "    mod_accuracy = 0\n",
    "    for i in range(len(observed)):\n",
    "        mod = model[i]\n",
    "        obs = observed[i]\n",
    "        #if (mod == 0 and obs == 0):\n",
    "            #mod_accuracy += 1\n",
    "        if (mod > 0 and obs > 0):\n",
    "            mod_accuracy += 1\n",
    "        else: \n",
    "            mod_accuracy += 0\n",
    "    mod_accuracy = 100*mod_accuracy/pre_min\n",
    "    return mod_accuracy"
   ]
  },
  {
   "cell_type": "code",
   "execution_count": 20,
   "metadata": {},
   "outputs": [],
   "source": [
    "# maintains exact match for precip\n",
    "def mod_acc2(model, observed, pre_min):\n",
    "    mod_accuracy = 0\n",
    "    for i in range(len(observed)):\n",
    "        mod = model[i]\n",
    "        obs = observed[i]\n",
    "        #if (mod == 0 and obs == 0):\n",
    "           # mod_accuracy += 1\n",
    "        if (mod > 0 and obs > 0 and mod == obs):\n",
    "            mod_accuracy += 1\n",
    "        else: \n",
    "            mod_accuracy += 0\n",
    "    mod_accuracy = 100*mod_accuracy/pre_min\n",
    "    return mod_accuracy"
   ]
  },
  {
   "cell_type": "code",
   "execution_count": 21,
   "metadata": {},
   "outputs": [
    {
     "name": "stdout",
     "output_type": "stream",
     "text": [
      "3427.0\n"
     ]
    }
   ],
   "source": [
    "pre_min = sum(Su_precip18)\n",
    "print(pre_min)"
   ]
  },
  {
   "cell_type": "code",
   "execution_count": 22,
   "metadata": {},
   "outputs": [
    {
     "name": "stdout",
     "output_type": "stream",
     "text": [
      "2.0717829004960606\n",
      "0.43770061278085787\n"
     ]
    }
   ],
   "source": [
    "model_accuracy = 0\n",
    "for i in range(len(new_summer18)):\n",
    "    mod = sample_output[i]\n",
    "    obs = new_summer18[i]\n",
    "    if (mod == 0 and obs == 0):\n",
    "        model_accuracy += 1\n",
    "    elif (mod > 0 and obs > 0):\n",
    "        model_accuracy += 1\n",
    "    else: \n",
    "        model_accuracy += 0\n",
    "model_accuracy = model_accuracy/len(new_summer18)\n",
    "print(mod_acc1(sample_output, new_summer18, pre_min))\n",
    "print(mod_acc2(sample_output, new_summer18, pre_min))\n",
    "pre_accuracy = mod_acc1(sample_output, new_summer18, pre_min)"
   ]
  },
  {
   "cell_type": "code",
   "execution_count": 23,
   "metadata": {},
   "outputs": [
    {
     "name": "stdout",
     "output_type": "stream",
     "text": [
      "0.9516066939921647\n"
     ]
    }
   ],
   "source": [
    "print(model_accuracy)"
   ]
  },
  {
   "cell_type": "code",
   "execution_count": 24,
   "metadata": {},
   "outputs": [],
   "source": [
    "sample_output, compare_data = model_1(Summer18, 5000, 1)"
   ]
  },
  {
   "cell_type": "code",
   "execution_count": 25,
   "metadata": {},
   "outputs": [
    {
     "data": {
      "text/plain": [
       "Text(0.9, 0.7, 'Model percent without precipitation: 97.9 %')"
      ]
     },
     "execution_count": 25,
     "metadata": {},
     "output_type": "execute_result"
    },
    {
     "data": {
      "image/png": "[encoded data removed]",
      "text/plain": [
       "<Figure size 720x576 with 1 Axes>"
      ]
     },
     "metadata": {
      "needs_background": "light"
     },
     "output_type": "display_data"
    }
   ],
   "source": [
    "plt.figure(figsize = (10, 8))\n",
    "plt.plot(-sample_output)\n",
    "plt.plot(new_summer18)\n",
    "plt.title('Summer 2018 crude model vs. actual observed')\n",
    "plt.xlabel('Minutes')\n",
    "plt.ylabel('Rainfall (mm)')\n",
    "plt.legend(['Model', 'Observed'])\n",
    "plt.figtext(0.9, 0.8, 'Observed total Precipitation: ' + str(round(Su_totalprep18)) + ' mm', fontsize = 11, ha = 'right')\n",
    "plt.figtext(0.9, 0.775, 'Model total Precipitation: ' + str(round(sum(sample_output))) + ' mm', fontsize = 11, ha = 'right')\n",
    "plt.figtext(0.9, 0.75, 'Precipitation accuracy: ' + str(round(pre_accuracy)) + ' %', fontsize = 11, ha = 'right')\n",
    "plt.figtext(0.9, 0.725, 'Observed Percent without precipitation: ' + str(round(len(new_summer18[new_summer18 == 0])/len(new_summer18)*100,1)) + ' %', fontsize = 11, ha = 'right')\n",
    "plt.figtext(0.9, 0.7, 'Model percent without precipitation: ' + str(round(len(sample_output[sample_output == 0])/len(sample_output)*100,1)) + ' %', fontsize = 11, ha = 'right')"
   ]
  },
  {
   "cell_type": "code",
   "execution_count": 26,
   "metadata": {},
   "outputs": [
    {
     "name": "stdout",
     "output_type": "stream",
     "text": [
      "109.73330000000118\n",
      "2.825503355704697\n"
     ]
    }
   ],
   "source": [
    "average_precip = 0\n",
    "avg_precip_accur = 0\n",
    "for i in range(100):\n",
    "    sample_output, compare_data = model_1(Summer18, 5000, 1)\n",
    "    average_precip = average_precip + sum(sample_output)\n",
    "    pre_accuracy = mod_acc1(sample_output, new_summer18, pre_min)\n",
    "    avg_precip_accur = avg_precip_accur + pre_accuracy\n",
    "average_precip = average_precip/100\n",
    "avg_precip_accur = avg_precip_accur/100\n",
    "\n",
    "print(average_precip)\n",
    "print(avg_precip_accur)"
   ]
  },
  {
   "cell_type": "code",
   "execution_count": 27,
   "metadata": {},
   "outputs": [
    {
     "name": "stdout",
     "output_type": "stream",
     "text": [
      "5000\n",
      "5000\n",
      "5000\n"
     ]
    }
   ],
   "source": [
    "# Key try to run the simulated data and spit out the coefficients. To make sure you know what is going on. \n",
    "# it looks like intensity and duration of non-precipitation events are off, perhaps not getting the upper ranges.\n",
    "mod_precip18, mod_nonprecip18, mod_preciptotal18, mod_totalprep18 = histplot.preciphist(sample_output, len(sample_output), 5000, 1, 1)\n",
    "print(len(mod_precip18))\n",
    "print(len(mod_nonprecip18))\n",
    "print(len(mod_preciptotal18))"
   ]
  },
  {
   "cell_type": "code",
   "execution_count": 28,
   "metadata": {},
   "outputs": [],
   "source": [
    "def count_zero(data, want):\n",
    "    counts = 0\n",
    "    newdata = data[data > want]\n",
    "    counts = len(newdata)\n",
    "    return newdata"
   ]
  },
  {
   "cell_type": "code",
   "execution_count": 29,
   "metadata": {},
   "outputs": [
    {
     "name": "stdout",
     "output_type": "stream",
     "text": [
      "290\n"
     ]
    }
   ],
   "source": [
    "mod_precip18 = count_zero(mod_precip18, 0)\n",
    "print(len(mod_precip18))"
   ]
  },
  {
   "cell_type": "code",
   "execution_count": 30,
   "metadata": {},
   "outputs": [
    {
     "name": "stdout",
     "output_type": "stream",
     "text": [
      "[  6.   2.   2.   2.   1.  20.   6.   3.   1.  12.  13.   4.   9.   3.\n",
      "   1.   4.   1.   5.   2.   2.   6.   2.   2.   1.   3.   1.   2.   2.\n",
      "  61.   1.   1.   1.  19.   2.   2.   3.   4.   2.   1.   3.   4.   3.\n",
      "   2.   2.   1.   2.   1.   2.   2.   1.   1.   1. 150.   6.   1.   3.\n",
      "   2.   1.   2.   1.   2.   1.   2.   1.   6.   1.   3.   8.   1.   1.\n",
      "   2. 151.   2.   1.   2.   3.   2.  13.   7.   1.   2.   1.   1.   2.\n",
      "   1.   2.   1.   1.   5.   1.   8.   1.   2.   1.   3.  15.   1.   1.\n",
      "   9.   5.   3. 121.  83.   2.   4.  12.   1.   1.   1.   1.   2.   4.\n",
      "   1.   2.   2.   1.   1.   2.   3.   1.   1.   8.   2.   6.   3.   3.\n",
      "   1.   2. 169.   1.   5.   3.   9.   9.   3.   1.  75.   4.   6.   2.\n",
      "  19.   3. 156.  94.   1.   2.   2.   2.   2.   1.   6.   1.   1.   2.\n",
      "   6.   1.   1.   4.   1.   1.   2.   6.   5.   5.   1.   1.   1.   3.\n",
      "   9.   4.   2.   4.  17.   1.   2.   8.   1.   1.   3.   2.   3.   2.\n",
      "   3.   3.   2.   2.   1.   2.   3.   7.   1.  11.   3.   2.   1.   2.\n",
      "   1.   4.   1.   1.   3.   3.   2.   2.   1.   2.   4.   6.   1.   1.\n",
      "  19.   1. 115.  12.   2.   3.   1.   2.   2.   2.  15.   2.   1.   1.\n",
      "   7.   1.   2.  12.   2.   2.   1.  11.   2.   5.   9.   2.   2.   1.\n",
      "   2.   1.   2.   2.  41.   4.   1.   2.   2.   3.   6.   1.   2.   2.\n",
      "   1.   2.   3.   1.   7.   1.   4.   1.   4.   2.   3.   2.   1.   2.\n",
      "  10.   2.  15.   1.   2.   6.   1.   2.   5. 172.   8.   1.   1.   6.\n",
      "   3.   2.   1.   5.   4.   3.  33. 144.   2.  20.]\n"
     ]
    }
   ],
   "source": [
    "print(mod_precip18)"
   ]
  },
  {
   "cell_type": "code",
   "execution_count": 31,
   "metadata": {},
   "outputs": [
    {
     "name": "stdout",
     "output_type": "stream",
     "text": [
      "290\n",
      "[1.0000e+00 2.0000e+00 2.0000e+00 1.0000e+00 1.3000e+01 2.0000e+00\n",
      " 3.0000e+00 1.0000e+00 2.0000e+00 7.8000e+01 1.0000e+00 1.0000e+00\n",
      " 6.3900e+03 2.0000e+00 2.8000e+01 2.0000e+00 2.1200e+02 8.0000e+00\n",
      " 2.0000e+00 1.0000e+00 1.0000e+00 2.0000e+00 5.1300e+02 2.0000e+00\n",
      " 3.0000e+00 3.0000e+00 4.0000e+00 4.0000e+00 1.0000e+00 4.0000e+00\n",
      " 3.0000e+00 4.0000e+00 3.0000e+00 5.1360e+03 7.0000e+00 2.0000e+00\n",
      " 1.0000e+00 1.8460e+03 2.0000e+00 1.0000e+00 4.4600e+02 1.1000e+01\n",
      " 1.6000e+01 1.4000e+01 1.8000e+01 6.0000e+00 6.2000e+01 2.0000e+00\n",
      " 3.3000e+01 1.5000e+01 4.0000e+00 3.0000e+00 3.0000e+00 1.0000e+00\n",
      " 9.0000e+00 3.0000e+00 3.0000e+00 2.0000e+00 3.0000e+00 1.0100e+02\n",
      " 1.1899e+04 1.2000e+01 3.0000e+00 2.0000e+00 1.0000e+00 1.0000e+00\n",
      " 7.6550e+03 1.4000e+01 2.0000e+00 1.0000e+00 5.0000e+01 2.3000e+01\n",
      " 2.0000e+00 1.8000e+01 2.0000e+00 2.0000e+00 5.0000e+00 1.4200e+02\n",
      " 2.0000e+01 1.0000e+00 8.0000e+00 2.0000e+00 6.0000e+00 2.0000e+00\n",
      " 2.0000e+00 1.0000e+00 1.0000e+01 2.0000e+00 1.0000e+00 2.0000e+00\n",
      " 6.0000e+00 8.4710e+03 8.0000e+00 1.1113e+04 1.0000e+00 1.5000e+01\n",
      " 1.0000e+00 1.0000e+00 3.0000e+00 1.5100e+02 1.9910e+03 1.0000e+00\n",
      " 4.0000e+00 3.0000e+00 3.0000e+00 1.0000e+00 1.0000e+00 1.0000e+00\n",
      " 2.0000e+00 3.0000e+00 1.0000e+00 4.0000e+00 3.0000e+00 7.0000e+00\n",
      " 4.0000e+00 1.7000e+01 1.0000e+00 4.0000e+00 3.0000e+00 5.0000e+00\n",
      " 1.1000e+01 1.0000e+00 1.0000e+00 9.0000e+00 4.0000e+00 4.1030e+03\n",
      " 1.0000e+00 2.7580e+03 7.7000e+01 1.0000e+00 1.0000e+00 2.0000e+00\n",
      " 2.0000e+00 2.0000e+00 1.0000e+00 5.0000e+00 3.0000e+00 5.0000e+02\n",
      " 1.2000e+01 2.0000e+00 2.0000e+00 3.0000e+00 3.0000e+00 1.2000e+01\n",
      " 5.0000e+00 1.0000e+00 2.0000e+00 1.0000e+00 7.0000e+00 3.0000e+01\n",
      " 4.6000e+01 6.0000e+00 1.0000e+00 3.6000e+01 4.0000e+00 5.0000e+00\n",
      " 4.0000e+00 2.0000e+00 2.4200e+02 2.0000e+00 1.4000e+01 4.8600e+02\n",
      " 1.0000e+00 1.0000e+01 2.0000e+00 8.0000e+00 2.2000e+01 6.7620e+03\n",
      " 2.0000e+00 1.0000e+00 2.0000e+00 1.0000e+00 2.3000e+01 1.6000e+01\n",
      " 2.0000e+00 8.0000e+00 2.0000e+00 4.0000e+00 2.0000e+00 2.0000e+00\n",
      " 2.0000e+00 1.3000e+01 1.0000e+01 8.0000e+00 1.0000e+00 1.2600e+02\n",
      " 3.1000e+01 2.0000e+00 2.0000e+00 3.6000e+01 2.0000e+00 1.2000e+01\n",
      " 1.7000e+02 4.5830e+03 7.0000e+00 5.9310e+03 1.0000e+00 6.7000e+01\n",
      " 1.6000e+01 1.0000e+00 8.0000e+00 1.0000e+00 3.5100e+02 1.0000e+00\n",
      " 4.0000e+00 1.0000e+00 2.0000e+00 8.0000e+00 3.1000e+01 1.0000e+00\n",
      " 2.0000e+00 8.0000e+00 1.0000e+00 1.2000e+01 1.3000e+02 2.0000e+00\n",
      " 1.2000e+01 2.0000e+00 3.7000e+01 3.0000e+00 1.2400e+02 3.0000e+00\n",
      " 1.0000e+00 1.0000e+00 2.0000e+00 5.0000e+00 2.0000e+00 1.0000e+00\n",
      " 4.0000e+00 2.0000e+00 2.0000e+00 3.0000e+00 3.3900e+02 2.0000e+00\n",
      " 1.0000e+00 5.2000e+01 1.0000e+00 1.2000e+01 5.0000e+00 3.0000e+00\n",
      " 5.0000e+00 1.1000e+01 6.2430e+03 2.0000e+00 1.1296e+04 2.0000e+00\n",
      " 5.0000e+00 9.0000e+00 1.3000e+01 3.0000e+00 2.0000e+00 1.2900e+02\n",
      " 1.7000e+01 1.4000e+01 3.6000e+01 5.0000e+00 8.7130e+03 2.0000e+00\n",
      " 3.7000e+01 3.3220e+03 7.0000e+00 2.0000e+00 2.0000e+00 2.0000e+00\n",
      " 7.0100e+02 2.0000e+00 2.0000e+00 2.0000e+00 1.0000e+00 2.0000e+00\n",
      " 6.0000e+00 1.0000e+00 1.0000e+00 1.0000e+00 1.2486e+04 7.0000e+00\n",
      " 4.2000e+01 4.3300e+02 1.3700e+02 3.3800e+02 1.0000e+00 3.0000e+00\n",
      " 1.0000e+00 1.0000e+00 2.0000e+00 2.0000e+00 7.0000e+00 2.0000e+00\n",
      " 1.0000e+00 1.0000e+00]\n"
     ]
    }
   ],
   "source": [
    "mod_nonprecip18 = count_zero(mod_nonprecip18, 0)\n",
    "print(len(mod_nonprecip18))\n",
    "print(mod_nonprecip18)"
   ]
  },
  {
   "cell_type": "code",
   "execution_count": 32,
   "metadata": {},
   "outputs": [
    {
     "name": "stdout",
     "output_type": "stream",
     "text": [
      "[0.06 0.04 0.02 ... 0.   0.   0.  ]\n"
     ]
    }
   ],
   "source": [
    "print(mod_preciptotal18)"
   ]
  },
  {
   "cell_type": "code",
   "execution_count": 33,
   "metadata": {},
   "outputs": [],
   "source": [
    "mod_preciptotal18 = count_zero(mod_preciptotal18, 0)\n"
   ]
  },
  {
   "cell_type": "code",
   "execution_count": 34,
   "metadata": {},
   "outputs": [
    {
     "name": "stdout",
     "output_type": "stream",
     "text": [
      "[-0.33782808 47.87577593]\n"
     ]
    }
   ],
   "source": [
    "precip_coef, final_bins, bin_vals = exponential(mod_precip18, 1)\n",
    "print(precip_coef)"
   ]
  },
  {
   "cell_type": "code",
   "execution_count": 35,
   "metadata": {},
   "outputs": [
    {
     "name": "stdout",
     "output_type": "stream",
     "text": [
      "[-0.0812516  24.17398685]\n"
     ]
    }
   ],
   "source": [
    "nonprecip_coef, np_final_bins, np_bin_vals = exponential(mod_nonprecip18, 1)\n",
    "print(nonprecip_coef)"
   ]
  },
  {
   "cell_type": "code",
   "execution_count": 36,
   "metadata": {},
   "outputs": [
    {
     "name": "stdout",
     "output_type": "stream",
     "text": [
      "[0.01 0.02 0.01 0.01 0.02 0.01 0.01 0.07 0.02 0.02 0.02 0.01 0.03 0.01\n",
      " 0.02 0.02 0.02 0.02 0.01 0.01 0.01 0.02 0.02 0.02 0.02 0.08 0.01 0.02\n",
      " 0.01 0.01 0.02 0.02 0.01 0.01 0.02 0.01 0.02 0.01 0.01 0.01 0.02 0.01\n",
      " 0.02 0.02 0.07 0.03 0.01 0.02 0.02 0.02 0.01 0.01 0.02 0.01 0.02 0.01\n",
      " 0.01 0.02 0.01 0.01 0.02 0.03 0.02 0.02 0.01 0.02 0.03 0.02 0.01 0.01\n",
      " 0.01 0.07 0.02 0.02 0.01 0.01 0.55 0.02 0.02 0.02 0.01 0.02 0.02 0.01\n",
      " 0.02 0.02 0.01 0.07 0.02 0.01 0.02 0.02 0.01 0.02 0.02 0.01 0.01 0.01\n",
      " 0.02 0.02 0.01 0.01 0.01 0.01 0.02 0.01 0.01 0.01 0.06 0.01 0.01 0.01\n",
      " 0.02 0.01 0.01 0.01 0.02 0.01 0.02 0.43 0.02 0.01 0.01 0.01 0.01 0.02\n",
      " 0.02 0.02 0.09 0.01 0.02 0.01 0.02 0.01 0.02 0.01 0.02 0.01 0.02 0.01\n",
      " 0.02 0.02 0.01 0.01 0.02 0.02 0.02 0.02 0.02 0.02 0.06 0.01 0.02 0.02\n",
      " 0.02 0.01 0.69 0.02 0.15 0.01 0.02 0.06 0.02 0.01 0.02 0.02 0.04 0.01\n",
      " 0.02 0.06 0.01 0.01 0.01 0.02 0.02 0.02 0.02 0.01 0.02 0.01 0.02 0.02\n",
      " 0.02 0.01 0.01 0.02 0.01 0.02 0.01 0.03 0.02 0.04 0.05 0.01 0.02 0.02\n",
      " 0.01 0.2  0.03 0.01 0.01 0.03 0.02 0.01 0.07 0.01 0.01 0.01 0.02 0.01\n",
      " 0.02 0.01 0.11 0.01 0.02 0.01 0.02 0.01 0.02 0.01 0.02 0.02 0.01 0.01\n",
      " 0.02 0.02 0.02 0.02 0.01 0.02 0.01 0.02 0.02 0.02 0.01 0.02 0.02 0.02\n",
      " 0.02 0.01 0.01 0.01 0.01 0.05 0.02 0.01 0.01 0.01 0.02 0.01 0.01 0.01\n",
      " 0.69 0.01 0.02 0.01 0.7  0.01 0.02 0.09 0.02 0.01 0.07 0.02 0.02 0.02\n",
      " 0.01 0.02 0.02 0.01 0.02 0.02 0.02 0.02 0.02 0.12 0.02 0.02 0.02 0.02\n",
      " 0.01 0.01 0.02 0.01 0.07 0.01 0.01 0.02 0.04 0.02]\n"
     ]
    }
   ],
   "source": [
    "mod_inten = np.divide(mod_preciptotal18, mod_precip18)\n",
    "print(mod_inten)"
   ]
  },
  {
   "cell_type": "code",
   "execution_count": 45,
   "metadata": {},
   "outputs": [],
   "source": [
    "inten_coef, inten_fb, inten_bv = exponential_int(mod_inten, 0.01)"
   ]
  },
  {
   "cell_type": "code",
   "execution_count": 46,
   "metadata": {},
   "outputs": [
    {
     "name": "stdout",
     "output_type": "stream",
     "text": [
      "[-0.79131158  1.84005618]\n"
     ]
    }
   ],
   "source": [
    "print(inten_coef)"
   ]
  },
  {
   "cell_type": "code",
   "execution_count": null,
   "metadata": {},
   "outputs": [],
   "source": []
  }
 ],
 "metadata": {
  "kernelspec": {
   "display_name": "Python 3",
   "language": "python",
   "name": "python3"
  },
  "language_info": {
   "codemirror_mode": {
    "name": "ipython",
    "version": 3
   },
   "file_extension": ".py",
   "mimetype": "text/x-python",
   "name": "python",
   "nbconvert_exporter": "python",
   "pygments_lexer": "ipython3",
   "version": "3.7.3"
  }
 },
 "nbformat": 4,
 "nbformat_minor": 4
}
