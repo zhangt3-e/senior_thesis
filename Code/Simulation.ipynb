{
 "cells": [
  {
   "cell_type": "code",
   "execution_count": 1,
   "metadata": {},
   "outputs": [
    {
     "name": "stdout",
     "output_type": "stream",
     "text": [
      "importing Jupyter notebook from histplot.ipynb\n"
     ]
    }
   ],
   "source": [
    "# Function for generating histogram\n",
    "# Import Libraries\n",
    "import numpy as np\n",
    "import matplotlib.pyplot as plt\n",
    "import matplotlib as mlt\n",
    "import datetime \n",
    "import import_ipynb\n",
    "import histplot"
   ]
  },
  {
   "cell_type": "code",
   "execution_count": 2,
   "metadata": {},
   "outputs": [],
   "source": [
    "ASC = '__ASC_ASCIIIn.mrk'\n",
    "direct = 'C:/Users/tyron/Documents/Geoscience/weather/'"
   ]
  },
  {
   "cell_type": "code",
   "execution_count": 3,
   "metadata": {},
   "outputs": [],
   "source": [
    "# Summer 2018 as an example\n",
    "Summer18 = histplot.getData(18, direct, ASC, 152, 92, 6 , float)\n",
    "Whole18 = histplot.getData(18, direct, ASC, 1, 365, 6, float)\n"
   ]
  },
  {
   "cell_type": "code",
   "execution_count": 4,
   "metadata": {},
   "outputs": [],
   "source": [
    "def calc(precip_data, what_bin):\n",
    "    hist, bin_edge = np.histogram(precip_data, bins = what_bin)\n",
    "    log_y = np.log(hist)\n",
    "    bin_val = np.zeros(len(what_bin)-1)\n",
    "    for i in range(len(what_bin)-1):\n",
    "        bin_val[i] = (what_bin[i] + what_bin[i+1])/2\n",
    "    logx = np.log(bin_val)\n",
    "    curve_fit = np.polyfit(logx, log_y,1)\n",
    "    curve_fit[1] = np.exp(curve_fit[1])\n",
    "    return curve_fit, bin_val"
   ]
  },
  {
   "cell_type": "code",
   "execution_count": 5,
   "metadata": {},
   "outputs": [],
   "source": [
    "# Exponentials get from durations\n",
    "def exponential(in_put, exclude, length):\n",
    "    first_bin = np.zeros(length)\n",
    "    for i in range(length):    \n",
    "        first_bin[i] = np.percentile(in_put, i*(100/(length-1)))\n",
    "    second_bin = np.unique(first_bin)\n",
    "    stop1 = np.array([exclude])\n",
    "    final_bin = np.setdiff1d(second_bin, stop1)\n",
    "    curvefit, bin_vals = calc(in_put, final_bin)\n",
    "    return curvefit, final_bin, bin_vals\n",
    "    "
   ]
  },
  {
   "cell_type": "code",
   "execution_count": 6,
   "metadata": {},
   "outputs": [],
   "source": [
    "# Exponentials get from intensity\n",
    "def exponential_int(in_put, exclude):\n",
    "    first_bin = np.zeros(51)\n",
    "    for i in range(0, 51):    \n",
    "        first_bin[i] = np.round(np.percentile(in_put, i*2),2)\n",
    "    second_bin = np.unique(first_bin)\n",
    "    stop1 = np.array([exclude])\n",
    "    final_bin = np.setdiff1d(second_bin, stop1)\n",
    "    curvefit, bin_vals = calc(in_put, final_bin)\n",
    "    return curvefit, final_bin, bin_vals"
   ]
  },
  {
   "cell_type": "code",
   "execution_count": 7,
   "metadata": {},
   "outputs": [],
   "source": [
    "def counting(data, want):\n",
    "    counts = 0\n",
    "    newdata = data[data < want]\n",
    "    counts = len(newdata)\n",
    "    return counts"
   ]
  },
  {
   "cell_type": "code",
   "execution_count": 8,
   "metadata": {},
   "outputs": [],
   "source": [
    "def model_1(data, amount, howmuch):\n",
    "    precip, nonprecip, preciptotal, totalprep = histplot.preciphist(data, len(data), amount, 1, 1)\n",
    "    count = 0\n",
    "    count1 = 0\n",
    "    for i in range(0, len(precip)):\n",
    "        hold = precip[i]\n",
    "        hold1 = nonprecip[i]\n",
    "        if hold > 0:\n",
    "            count += 1\n",
    "        if hold1 > 0:\n",
    "            count1 += 1\n",
    "    precip = precip[:count]\n",
    "    nonprecip = nonprecip[:count1]\n",
    "    preciptotal = preciptotal[:count]\n",
    "    # Calculate intensities \n",
    "    inten = np.divide(preciptotal, precip)\n",
    "    # Exponentials for precipitation duration \n",
    "    pre_exp,pre_f_bins, bin_vals = exponential(precip, 1, 51)\n",
    "    # Exponentials for nonprecipitation duration \n",
    "    non_pre, nonpre_f_bins, nonp_b_vals = exponential(nonprecip, 1, 51)\n",
    "    # Exponentials for Intensity of Precipitation duration\n",
    "    intensity, inten_f_bins, inten_b_vals = exponential_int(inten, 0.01)\n",
    "    # print(nonpre_f_bins)\n",
    "    # Construct intervals and probabilities for precipitation durations\n",
    "    Pre_prob = np.zeros(1)\n",
    "    pre_bin_1 = counting(precip, pre_f_bins[0])\n",
    "    Pre_prob[0] = pre_bin_1\n",
    "    construct_1 = pre_exp[1]*np.exp(np.log(bin_vals)*pre_exp[0])\n",
    "    Pre_prob = np.append(Pre_prob, construct_1)\n",
    "    Pre_prob = Pre_prob/sum(Pre_prob)\n",
    "    #print(Pre_prob)\n",
    "    # Non_precipitation duration probs\n",
    "    NonPre_prob = np.zeros(1)\n",
    "    nonpre_bin_1 = counting(nonprecip, nonpre_f_bins[0])\n",
    "    NonPre_prob[0] = nonpre_bin_1\n",
    "    construct_2 = non_pre[1]*np.exp(np.log(nonp_b_vals)*non_pre[0])\n",
    "    NonPre_prob = np.append(NonPre_prob, construct_2)\n",
    "    NonPre_prob = NonPre_prob/sum(NonPre_prob)\n",
    "    #print(NonPre_prob)\n",
    "    # Intensity probs\n",
    "    Intensity_prob = np.zeros(1)\n",
    "    inten_bin_1 = counting(inten, inten_f_bins[0])\n",
    "    Intensity_prob[0] = inten_bin_1\n",
    "    construct_3 = intensity[1]*np.exp(np.log(inten_b_vals)*intensity[0])\n",
    "    Intensity_prob = np.append(Intensity_prob, construct_3)\n",
    "    Intensity_prob = Intensity_prob/sum(Intensity_prob)\n",
    "    #print(Intensity_prob)\n",
    "    # Precipitation intervals\n",
    "    Pre_interval = [1]\n",
    "    Pre_interval = np.append(Pre_interval, pre_f_bins)\n",
    "    #print(Pre_interval)\n",
    "    # NonPrecipitation intervals\n",
    "    NonPre_interval = [1]\n",
    "    NonPre_interval = np.append(NonPre_interval, nonpre_f_bins)\n",
    "    #print(NonPre_interval)\n",
    "    # Intensity intervals\n",
    "    Intensity_interval = [0.01]\n",
    "    Intensity_interval = np.append(Intensity_interval, inten_f_bins)\n",
    "    #print(Intensity_interval)\n",
    "    Model_outputs = 0;\n",
    "    # Running the crude model\n",
    "    for i in range(howmuch):\n",
    "        minutes = 0;\n",
    "        Model = np.zeros(len(data))\n",
    "        start = np.random.randint(0, 1)\n",
    "        while (len(data)-1 > minutes):\n",
    "            # run probability of precipitation event duration      \n",
    "            pre_index = np.random.choice(np.arange(len(Pre_prob)), p = Pre_prob)\n",
    "            pre_duration = np.random.randint(Pre_interval[pre_index], Pre_interval[pre_index + 1]+1) #Histogram for these synthetic data, show that they are similar \n",
    "            # to what you put in. \n",
    "            # run probability of precipitation event intensity\n",
    "            inten_index = np.random.choice(np.arange(len(Intensity_prob)), p = Intensity_prob)\n",
    "            model_intensity = 0.01*np.random.randint(100*Intensity_interval[inten_index], 100*Intensity_interval[inten_index+1]+1)\n",
    "            # run probability of non-precipitation event duration\n",
    "            nonpre_index = np.random.choice(np.arange(len(NonPre_prob)), p = NonPre_prob) \n",
    "            nonpre_duration = np.random.randint(NonPre_interval[nonpre_index], NonPre_interval[nonpre_index + 1]+1)\n",
    "            # For each of the synthetic data have a histogram and look at to see if it is similar to what we calcluated for observed data. \n",
    "            # Nonprecipitation starts first\n",
    "            if start == 0: \n",
    "                if (len(data) > minutes + pre_duration + nonpre_duration):\n",
    "                    for j in range(nonpre_duration):\n",
    "                        Model[minutes] = 0\n",
    "                        minutes += 1\n",
    "                    for k in range(pre_duration):\n",
    "                        Model[minutes] = model_intensity\n",
    "                        minutes += 1\n",
    "                else: \n",
    "                    if (len(data) < minutes + nonpre_duration):\n",
    "                        for j in range(len(data) - minutes):\n",
    "                            Model[minutes] = 0\n",
    "                            minutes += 1\n",
    "                    elif (len(data) < minutes + nonpre_duration + pre_duration):\n",
    "                        for j in range(nonpre_duration):\n",
    "                            Model[minutes] = 0\n",
    "                            minutes += 1\n",
    "                        for k in range(len(data) - minutes):\n",
    "                            Model[minutes] = model_intensity\n",
    "                            minutes +=1\n",
    "            # Precipitation starts first\n",
    "            if start == 1: \n",
    "                if (len(data) > minutes + pre_duration + nonpre_duration):\n",
    "                    for k in range(pre_duration):\n",
    "                        Model[minutes] = model_intensity\n",
    "                        minutes += 1\n",
    "                    for j in range(nonpre_duration):\n",
    "                        Model[minutes] = 0\n",
    "                        minutes += 1\n",
    "                else: \n",
    "                    if (len(data) < minutes + pre_duration):\n",
    "                        for k in range(len(data) - minutes):\n",
    "                            Model[minutes] = model_intensity\n",
    "                            minutes +=1\n",
    "                    elif (len(data) < minutes + pre_duration + nonpre_duration):\n",
    "                        for k in range(pre_duration):\n",
    "                            Model[minutes] = model_intensity\n",
    "                            minutes += 1\n",
    "                        for j in range(len(data) - minutes):\n",
    "                            Model[minutes] = 0\n",
    "                            minutes += 1\n",
    "        Model_outputs = Model\n",
    "    return Model_outputs, data "
   ]
  },
  {
   "cell_type": "code",
   "execution_count": 11,
   "metadata": {},
   "outputs": [],
   "source": [
    "sample_output, compare_data = model_1(Whole18, 20000, 1)"
   ]
  },
  {
   "cell_type": "code",
   "execution_count": 13,
   "metadata": {},
   "outputs": [
    {
     "data": {
      "text/plain": [
       "Text(0.45, 0.825, 'Model total Precipitation: 535 mm')"
      ]
     },
     "execution_count": 13,
     "metadata": {},
     "output_type": "execute_result"
    },
    {
     "data": {
      "image/png": "[encoded data removed]",
      "text/plain": [
       "<Figure size 720x576 with 1 Axes>"
      ]
     },
     "metadata": {
      "needs_background": "light"
     },
     "output_type": "display_data"
    }
   ],
   "source": [
    "plt.figure(figsize = (10, 8))\n",
    "plt.plot(-sample_output)\n",
    "plt.plot(compare_data)\n",
    "plt.title('2018 precipitation crude model vs. actual observed')\n",
    "plt.xlabel('Minutes')\n",
    "plt.ylabel('Rainfall (mm)')\n",
    "plt.legend(['Model', 'Observed'], loc = 'upper right')\n",
    "plt.figtext(0.45, 0.85, 'Observed total Precipitation: ' + str(round(np.nansum(compare_data))) + ' mm', fontsize = 11, ha = 'right')\n",
    "plt.figtext(0.45, 0.825, 'Model total Precipitation: ' + str(round(np.nansum(sample_output))) + ' mm', fontsize = 11, ha = 'right')\n"
   ]
  },
  {
   "cell_type": "code",
   "execution_count": 16,
   "metadata": {},
   "outputs": [],
   "source": [
    "precip18, nonprecip18, preciptotal18, totalprep18 = histplot.preciphist(Whole18, len(Whole18), 20000, 1, 1)"
   ]
  },
  {
   "cell_type": "code",
   "execution_count": 29,
   "metadata": {},
   "outputs": [],
   "source": [
    "mod_precip18, mod_nonprecip18, mod_preciptotal18, mod_totalprep18 = histplot.preciphist(sample_output, len(sample_output), 20000, 1, 1)"
   ]
  },
  {
   "cell_type": "code",
   "execution_count": 19,
   "metadata": {},
   "outputs": [],
   "source": [
    "nonprecip18 = nonprecip18[nonprecip18>0]\n",
    "precip18 = precip18[precip18>0]\n",
    "#print(Su_precip18)\n",
    "#print(Su_nonprecip18)\n"
   ]
  },
  {
   "cell_type": "code",
   "execution_count": 20,
   "metadata": {},
   "outputs": [],
   "source": [
    "preciptotal18 = preciptotal18[preciptotal18 > 0]\n"
   ]
  },
  {
   "cell_type": "code",
   "execution_count": 21,
   "metadata": {},
   "outputs": [
    {
     "name": "stdout",
     "output_type": "stream",
     "text": [
      "4118\n"
     ]
    }
   ],
   "source": [
    "inten18 = np.divide(preciptotal18, precip18)\n",
    "print(len(inten18))"
   ]
  },
  {
   "cell_type": "code",
   "execution_count": 22,
   "metadata": {},
   "outputs": [
    {
     "name": "stdout",
     "output_type": "stream",
     "text": [
      "525562.0\n",
      "4119\n",
      "4118\n",
      "525589\n",
      "525589\n"
     ]
    }
   ],
   "source": [
    "print(nonprecip18.sum() + precip18.sum())\n",
    "print(len(nonprecip18))\n",
    "print(len(precip18))\n",
    "print(len(compare_data))\n",
    "print(len(sample_output))"
   ]
  },
  {
   "cell_type": "code",
   "execution_count": 23,
   "metadata": {},
   "outputs": [],
   "source": [
    "hold = np.sum(nonprecip18) + np.sum(precip18)\n",
    "new2018 = np.zeros(int(hold))\n",
    "minute = 0;\n",
    "pre_index = 0;\n",
    "np_index = 0;\n",
    "while(int(hold)-1 > minute):\n",
    "    if (len(nonprecip18) > np_index):\n",
    "        non = nonprecip18[np_index]\n",
    "        for i in range(int(non)):\n",
    "            new2018[minute] = 0\n",
    "            minute += 1\n",
    "    if (len(precip18)> pre_index):    \n",
    "        rain = precip18[pre_index]\n",
    "        for j in range(int(rain)):\n",
    "            new2018[minute] = inten18[pre_index]\n",
    "            minute += 1\n",
    "    pre_index += 1 \n",
    "    np_index +=1\n"
   ]
  },
  {
   "cell_type": "code",
   "execution_count": 38,
   "metadata": {},
   "outputs": [
    {
     "data": {
      "text/plain": [
       "Text(0.45, 0.2, 'Precipitation accuracy: 2.8 %')"
      ]
     },
     "execution_count": 38,
     "metadata": {},
     "output_type": "execute_result"
    },
    {
     "data": {
      "image/png": "[encoded data removed]",
      "text/plain": [
       "<Figure size 720x576 with 1 Axes>"
      ]
     },
     "metadata": {
      "needs_background": "light"
     },
     "output_type": "display_data"
    }
   ],
   "source": [
    "plt.figure(figsize = (10,8))\n",
    "plt.plot(-new2018)\n",
    "plt.plot(sample_output)\n",
    "plt.title('2018 precipitation crude model vs. actual observed')\n",
    "plt.xlabel('Minutes')\n",
    "plt.ylabel('Rainfall (mm)')\n",
    "plt.legend(['Model', 'Observed'], loc = 'upper right')\n",
    "plt.figtext(0.45, 0.25, 'Observed total Precipitation: ' + str(round(np.nansum(compare_data))) + ' mm', fontsize = 11, ha = 'right')\n",
    "plt.figtext(0.45, 0.225, 'Model total Precipitation: ' + str(round(np.nansum(sample_output))) + ' mm', fontsize = 11, ha = 'right')\n",
    "plt.figtext(0.45, 0.2, 'Precipitation accuracy: ' + str(round(pre_accuracy,1)) + ' %', fontsize = 11, ha = 'right')\n"
   ]
  },
  {
   "cell_type": "code",
   "execution_count": 14,
   "metadata": {},
   "outputs": [],
   "source": [
    "# Starts with a simple model accuracy, precip with precip. \n",
    "def mod_acc1(model, observed, pre_min):\n",
    "    mod_accuracy = 0\n",
    "    for i in range(len(observed)):\n",
    "        mod = model[i]\n",
    "        obs = observed[i]\n",
    "        #if (mod == 0 and obs == 0):\n",
    "            #mod_accuracy += 1\n",
    "        if (mod > 0 and obs > 0):\n",
    "            mod_accuracy += 1\n",
    "        else: \n",
    "            mod_accuracy += 0\n",
    "    mod_accuracy = 100*mod_accuracy/pre_min\n",
    "    return mod_accuracy"
   ]
  },
  {
   "cell_type": "code",
   "execution_count": 15,
   "metadata": {},
   "outputs": [],
   "source": [
    "# maintains exact match for precip\n",
    "def mod_acc2(model, observed, pre_min):\n",
    "    mod_accuracy = 0\n",
    "    for i in range(len(observed)):\n",
    "        mod = model[i]\n",
    "        obs = observed[i]\n",
    "        #if (mod == 0 and obs == 0):\n",
    "           # mod_accuracy += 1\n",
    "        if (mod > 0 and obs > 0 and mod == obs):\n",
    "            mod_accuracy += 1\n",
    "        else: \n",
    "            mod_accuracy += 0\n",
    "    mod_accuracy = 100*mod_accuracy/pre_min\n",
    "    return mod_accuracy"
   ]
  },
  {
   "cell_type": "code",
   "execution_count": 31,
   "metadata": {},
   "outputs": [
    {
     "name": "stdout",
     "output_type": "stream",
     "text": [
      "19708.0\n",
      "22247.0\n"
     ]
    }
   ],
   "source": [
    "pre_min = sum(precip18)\n",
    "print(pre_min)\n",
    "pre_model = sum(mod_precip18)\n",
    "print(pre_model)"
   ]
  },
  {
   "cell_type": "code",
   "execution_count": 35,
   "metadata": {},
   "outputs": [
    {
     "name": "stdout",
     "output_type": "stream",
     "text": [
      "2.809367555175979\n",
      "0.3326291185328359\n"
     ]
    }
   ],
   "source": [
    "model_accuracy = 0\n",
    "for i in range(len(new2018)):\n",
    "    mod = sample_output[i]\n",
    "    obs = new2018[i]\n",
    "    if (mod == 0 and obs == 0):\n",
    "        model_accuracy += 1\n",
    "    elif (mod > 0 and obs > 0):\n",
    "        model_accuracy += 1\n",
    "    else: \n",
    "        model_accuracy += 0\n",
    "model_accuracy = model_accuracy/len(new2018)\n",
    "print(mod_acc1(sample_output, new2018, pre_model))\n",
    "print(mod_acc2(sample_output, new2018, pre_model))\n",
    "pre_accuracy = mod_acc1(sample_output, new2018, pre_model)"
   ]
  },
  {
   "cell_type": "code",
   "execution_count": 36,
   "metadata": {},
   "outputs": [
    {
     "name": "stdout",
     "output_type": "stream",
     "text": [
      "0.922549575502034\n"
     ]
    }
   ],
   "source": [
    "print(model_accuracy)"
   ]
  },
  {
   "cell_type": "code",
   "execution_count": 57,
   "metadata": {},
   "outputs": [],
   "source": [
    "sample_output, compare_data = model_1(Whole18, 20000, 1)"
   ]
  },
  {
   "cell_type": "code",
   "execution_count": 58,
   "metadata": {},
   "outputs": [
    {
     "data": {
      "text/plain": [
       "Text(0.9, 0.7, 'Model percent without precipitation: 96.6 %')"
      ]
     },
     "execution_count": 58,
     "metadata": {},
     "output_type": "execute_result"
    },
    {
     "data": {
      "image/png": "[encoded data removed]",
      "text/plain": [
       "<Figure size 720x576 with 1 Axes>"
      ]
     },
     "metadata": {
      "needs_background": "light"
     },
     "output_type": "display_data"
    }
   ],
   "source": [
    "plt.figure(figsize = (10, 8))\n",
    "plt.plot(-sample_output)\n",
    "plt.plot(new_summer18)\n",
    "plt.title('Summer 2018 crude model vs. actual observed')\n",
    "plt.xlabel('Minutes')\n",
    "plt.ylabel('Rainfall (mm)')\n",
    "plt.legend(['Model', 'Observed'], loc = 'upper right')\n",
    "plt.figtext(0.9, 0.8, 'Observed total Precipitation: ' + str(round(Su_totalprep18)) + ' mm', fontsize = 11, ha = 'right')\n",
    "plt.figtext(0.9, 0.775, 'Model total Precipitation: ' + str(round(sum(sample_output))) + ' mm', fontsize = 11, ha = 'right')\n",
    "plt.figtext(0.9, 0.75, 'Precipitation accuracy: ' + str(round(pre_accuracy)) + ' %', fontsize = 11, ha = 'right')\n",
    "plt.figtext(0.9, 0.725, 'Observed Percent without precipitation: ' + str(round(len(new_summer18[new_summer18 == 0])/len(new_summer18)*100,1)) + ' %', fontsize = 11, ha = 'right')\n",
    "plt.figtext(0.9, 0.7, 'Model percent without precipitation: ' + str(round(len(sample_output[sample_output == 0])/len(sample_output)*100,1)) + ' %', fontsize = 11, ha = 'right')"
   ]
  },
  {
   "cell_type": "code",
   "execution_count": 29,
   "metadata": {},
   "outputs": [
    {
     "name": "stdout",
     "output_type": "stream",
     "text": [
      "115.22910000000124\n",
      "2.7184126057776483\n"
     ]
    }
   ],
   "source": [
    "average_precip = 0\n",
    "avg_precip_accur = 0\n",
    "for i in range(100):\n",
    "    sample_output, compare_data = model_1(Summer18, 5000, 1)\n",
    "    average_precip = average_precip + sum(sample_output)\n",
    "    pre_accuracy = mod_acc1(sample_output, new_summer18, pre_min)\n",
    "    avg_precip_accur = avg_precip_accur + pre_accuracy\n",
    "average_precip = average_precip/100\n",
    "avg_precip_accur = avg_precip_accur/100\n",
    "\n",
    "print(average_precip)\n",
    "print(avg_precip_accur)"
   ]
  },
  {
   "cell_type": "code",
   "execution_count": 32,
   "metadata": {},
   "outputs": [
    {
     "name": "stdout",
     "output_type": "stream",
     "text": [
      "5000\n",
      "5000\n",
      "5000\n"
     ]
    }
   ],
   "source": [
    "# Key try to run the simulated data and spit out the coefficients. To make sure you know what is going on. \n",
    "# it looks like intensity and duration of non-precipitation events are off, perhaps not getting the upper ranges.\n",
    "mod_precip18, mod_nonprecip18, mod_preciptotal18, mod_totalprep18 = histplot.preciphist(sample_output, len(sample_output), 5000, 1, 1)\n",
    "print(len(mod_precip18))\n",
    "print(len(mod_nonprecip18))\n",
    "print(len(mod_preciptotal18))"
   ]
  },
  {
   "cell_type": "code",
   "execution_count": 33,
   "metadata": {},
   "outputs": [],
   "source": [
    "def count_zero(data, want):\n",
    "    counts = 0\n",
    "    newdata = data[data > want]\n",
    "    counts = len(newdata)\n",
    "    return newdata"
   ]
  },
  {
   "cell_type": "code",
   "execution_count": 34,
   "metadata": {},
   "outputs": [
    {
     "name": "stdout",
     "output_type": "stream",
     "text": [
      "350\n"
     ]
    }
   ],
   "source": [
    "mod_precip18 = count_zero(mod_precip18, 0)\n",
    "print(len(mod_precip18))"
   ]
  },
  {
   "cell_type": "code",
   "execution_count": 35,
   "metadata": {},
   "outputs": [
    {
     "name": "stdout",
     "output_type": "stream",
     "text": [
      "[  4.   5.   1.   2.   1.   1.   2.   2.   4.  12.   2.   1.   6.   1.\n",
      "   4.  37.   9.   7.   1. 158.   1.   4.   1.   4.   1.   1.   3.   1.\n",
      "   1.   1.   3.   4.   1.   2.   3.   1.   1.  17.   2.   2.   1.   2.\n",
      "   9.   2.  10.   3.   3.   2.   3.   2.   4.  12. 161.   1.   2.   2.\n",
      "   1.   2.   2.   2.   1.   2. 121.   1.  26.   1.   4.   5.   2.   2.\n",
      "   1.   2.  79.   1.   3.   1.   2.   6.   1. 130.  87.   5.   3.   1.\n",
      "   4.   1.  64.   8.   2. 185.   3.   6.   2.   1.  64.   2.  13.   1.\n",
      "   2.   1.   2.   2.   4.   1.   2.   2.   3.   1.   2.   4.   7.   1.\n",
      "   8.   1.   9.   1.   2.  19.   3.   4.   2.   5.   1.   2.   3.  19.\n",
      "   1.   2.   2.   2. 136.   1.   5.   1.   3.   4.   2.   2.   1.   3.\n",
      "  10.   1.   2.   6. 190.   2.   2.   2.   1.   2.   2.   1.   1.   1.\n",
      "   2.   1.  15.   8.   3.   1.   1.   2.   1.   4.   4.   1.   2.   1.\n",
      "  10.   2.   1.   6.   4.   6.   9.   1.   1.   2.  14.  14.   1.   2.\n",
      "   1.   2.   2.   3.   3.   4.   1.   1.   2.   1.   2.   7.   2.   1.\n",
      "   1.   2.   4.   4.   3.   5.   1.   1.   1.   4.   1.   2.   2.   2.\n",
      "   2.   6.   7.   8.   3.   1.   1.   1.   1.   2.   3.   1.  10.   8.\n",
      "   2.   2.   1.   2.   2.   1.   4.   1.   2.   2.   2.   4.   9.   1.\n",
      "   1.  19.   2.   1.   2.   2.   1.   6.   2.   2.   1.   6.   1.   8.\n",
      "   6.   3.   9.  10.   1.   2.   1.   3.   2.  13.   2.   1.   2.   4.\n",
      "   2.   2.   1.   3.   1. 161.   3.  16.   2.   2.   1.   3.   7.  14.\n",
      "   2.   1.   2.   1.   2.   2.   4.   4.  16.   6.   2.   1.   1.   1.\n",
      "   2.   2.  11.   6.   4.   5.   4.   2.   2.   3.   3.   9.   2.   1.\n",
      "   3.   1.  10.   3.   1.   1.   2.   1.   2.   2.   3.   4.   1.   1.\n",
      "  12.   3.   6.   2.   5.   2.   1.   2.   3.   6.   5.   1.   2.   2.\n",
      "   2.  11.   2.   6.   1.   3.   2.   3.  14.   3.   1.   4.   4.  10.]\n"
     ]
    }
   ],
   "source": [
    "print(mod_precip18)"
   ]
  },
  {
   "cell_type": "code",
   "execution_count": 36,
   "metadata": {},
   "outputs": [
    {
     "name": "stdout",
     "output_type": "stream",
     "text": [
      "351\n",
      "[1.0000e+00 2.0000e+00 1.1200e+02 4.0000e+00 4.0000e+00 3.0000e+01\n",
      " 4.0000e+00 1.4700e+02 3.0000e+00 2.0000e+00 5.2200e+02 1.1000e+01\n",
      " 1.3000e+01 1.0000e+00 1.0000e+00 8.0000e+00 3.0000e+00 3.0000e+00\n",
      " 8.0000e+00 4.2000e+01 1.5900e+02 4.0000e+00 4.0000e+00 4.0000e+00\n",
      " 9.1360e+03 6.0000e+00 9.2050e+03 1.6000e+01 2.0000e+00 1.5000e+01\n",
      " 1.0000e+00 2.0000e+00 6.0000e+01 2.0000e+00 3.0000e+00 3.0000e+00\n",
      " 3.0000e+00 5.0000e+00 3.0000e+00 9.0000e+00 2.0000e+00 1.1000e+01\n",
      " 3.0000e+00 5.0000e+00 5.0000e+00 4.0000e+00 9.0000e+00 4.0000e+00\n",
      " 4.1000e+01 2.0000e+00 1.1000e+01 4.0000e+00 4.0000e+00 2.2000e+01\n",
      " 4.0000e+00 4.0000e+00 2.0000e+00 1.0000e+01 2.0000e+00 1.2000e+01\n",
      " 2.4740e+03 2.1250e+03 6.0020e+03 1.3000e+01 3.0000e+00 1.9640e+03\n",
      " 4.0000e+00 3.0000e+00 2.0000e+00 2.0000e+00 3.0000e+01 5.0000e+00\n",
      " 4.1000e+01 2.0000e+00 3.1000e+01 1.5000e+01 8.0000e+00 1.3000e+01\n",
      " 1.5300e+02 2.8000e+01 2.0000e+00 2.3000e+01 5.0000e+00 2.7800e+02\n",
      " 9.0000e+00 3.7000e+02 1.1000e+01 1.2000e+01 3.1000e+01 3.0000e+00\n",
      " 2.0000e+00 4.0000e+00 8.2000e+01 1.2000e+01 3.0000e+00 3.0000e+00\n",
      " 3.0000e+00 4.0000e+00 4.0000e+00 1.4500e+02 2.4400e+02 3.0000e+00\n",
      " 2.0000e+00 2.0000e+00 4.6900e+02 5.0000e+00 8.0000e+00 1.4000e+01\n",
      " 4.9000e+01 1.0000e+00 3.0000e+00 4.0000e+01 5.0000e+00 8.0000e+00\n",
      " 1.2815e+04 1.4800e+02 1.5000e+01 7.7000e+01 1.7000e+01 1.0300e+02\n",
      " 4.0000e+00 2.0000e+00 1.3000e+01 4.0000e+00 4.0000e+00 5.0000e+00\n",
      " 5.0000e+00 1.4700e+02 4.0000e+00 1.0000e+01 2.0000e+00 4.0000e+00\n",
      " 5.0000e+00 1.1000e+01 3.1000e+01 3.6200e+02 5.0000e+00 1.0000e+00\n",
      " 1.2000e+01 2.5100e+02 1.0600e+02 1.0000e+01 3.0000e+00 4.0000e+00\n",
      " 1.2000e+01 4.0000e+00 4.8700e+02 4.9840e+03 4.5500e+02 5.0000e+00\n",
      " 4.0000e+00 9.2000e+01 4.0000e+00 4.0000e+00 1.0000e+00 4.0000e+00\n",
      " 3.2280e+03 5.0000e+00 5.0700e+02 1.1000e+01 3.0000e+00 4.8000e+01\n",
      " 5.0000e+00 9.0000e+00 1.4000e+01 1.7000e+01 2.9470e+03 2.0000e+00\n",
      " 5.0000e+00 7.2770e+03 1.6000e+01 1.2000e+01 2.0000e+00 4.0000e+00\n",
      " 5.0000e+00 2.5000e+01 5.0000e+00 1.2000e+01 3.0000e+00 9.7000e+01\n",
      " 4.6400e+02 3.4000e+01 6.0000e+00 4.0000e+00 3.0000e+00 4.0000e+00\n",
      " 2.2000e+01 2.0000e+00 1.7000e+01 1.0000e+00 1.1000e+01 5.7530e+03\n",
      " 4.0000e+00 1.2000e+01 2.0000e+00 2.0000e+00 3.6500e+02 2.3700e+02\n",
      " 8.0000e+00 3.0000e+00 1.6900e+02 1.0000e+01 2.1000e+01 1.6000e+01\n",
      " 4.1000e+01 2.3000e+01 4.0000e+00 9.0000e+00 2.0000e+00 6.0000e+00\n",
      " 7.0000e+00 3.0000e+00 4.8000e+01 4.0000e+00 1.0260e+04 1.8000e+01\n",
      " 5.0000e+00 1.4000e+01 5.5350e+03 3.0000e+00 1.0000e+00 5.0000e+00\n",
      " 2.0000e+00 5.0000e+00 6.1670e+03 3.0000e+00 3.0000e+00 4.0000e+00\n",
      " 3.0000e+00 1.7000e+01 4.0000e+00 4.0000e+00 1.2000e+01 1.6300e+02\n",
      " 1.3800e+02 8.0000e+00 5.0000e+00 3.1000e+01 5.0000e+00 1.2000e+01\n",
      " 8.4000e+01 1.7000e+01 3.8400e+02 6.0000e+00 1.0000e+00 2.0000e+01\n",
      " 2.0000e+01 3.0000e+00 2.8300e+02 4.0000e+00 1.0000e+01 2.0000e+00\n",
      " 8.0000e+00 1.1000e+01 7.0000e+00 8.0000e+00 5.0000e+00 6.9000e+01\n",
      " 1.3000e+01 2.0000e+00 3.7000e+01 4.0000e+00 1.0000e+00 1.4000e+01\n",
      " 2.6000e+01 1.0000e+00 1.6000e+01 3.0000e+00 1.4000e+01 4.0000e+00\n",
      " 2.0000e+00 3.0000e+00 8.0000e+00 3.9100e+03 1.6000e+01 2.0600e+02\n",
      " 1.5000e+01 2.7000e+01 1.4500e+02 1.2300e+02 1.4000e+01 9.0000e+00\n",
      " 3.0000e+00 1.1000e+01 2.0000e+00 8.0000e+00 6.7000e+01 1.4000e+01\n",
      " 1.5000e+01 1.6000e+01 3.0000e+00 8.6000e+01 1.8000e+01 1.0000e+01\n",
      " 1.0000e+00 4.0000e+00 5.0000e+00 1.2000e+01 1.3000e+01 1.2000e+01\n",
      " 4.2000e+01 4.0000e+00 3.7000e+01 1.1343e+04 6.0000e+00 1.0000e+01\n",
      " 4.0000e+00 5.0000e+00 1.4000e+01 4.0450e+03 1.2000e+01 1.1000e+01\n",
      " 3.0000e+00 4.0000e+00 7.0000e+00 3.0000e+00 1.2000e+01 7.0000e+00\n",
      " 2.3100e+02 2.0000e+00 8.0000e+00 1.0000e+01 3.5000e+01 7.0000e+00\n",
      " 2.8340e+03 4.0000e+00 2.0000e+00 4.0000e+00 2.9000e+01 1.9000e+01\n",
      " 7.0000e+00 2.0000e+00 1.2000e+01 1.4000e+02 1.1000e+01 5.0000e+00\n",
      " 2.0000e+00 1.0000e+00 2.0000e+00 1.8000e+01 5.0000e+00 2.0000e+00\n",
      " 1.5000e+01 3.0000e+00 2.0000e+01 1.0000e+00 5.0000e+00 5.0000e+00\n",
      " 9.0000e+00 8.0000e+00 6.1130e+03]\n"
     ]
    }
   ],
   "source": [
    "mod_nonprecip18 = count_zero(mod_nonprecip18, 0)\n",
    "print(len(mod_nonprecip18))\n",
    "print(mod_nonprecip18)"
   ]
  },
  {
   "cell_type": "code",
   "execution_count": 37,
   "metadata": {},
   "outputs": [
    {
     "name": "stdout",
     "output_type": "stream",
     "text": [
      "[0.28 0.05 0.02 ... 0.   0.   0.  ]\n"
     ]
    }
   ],
   "source": [
    "print(mod_preciptotal18)"
   ]
  },
  {
   "cell_type": "code",
   "execution_count": 38,
   "metadata": {},
   "outputs": [],
   "source": [
    "mod_preciptotal18 = count_zero(mod_preciptotal18, 0)\n"
   ]
  },
  {
   "cell_type": "code",
   "execution_count": 39,
   "metadata": {},
   "outputs": [
    {
     "ename": "TypeError",
     "evalue": "exponential() missing 1 required positional argument: 'length'",
     "output_type": "error",
     "traceback": [
      "\u001b[1;31m---------------------------------------------------------------------------\u001b[0m",
      "\u001b[1;31mTypeError\u001b[0m                                 Traceback (most recent call last)",
      "\u001b[1;32m<ipython-input-39-1cb7d0e66f4a>\u001b[0m in \u001b[0;36m<module>\u001b[1;34m\u001b[0m\n\u001b[1;32m----> 1\u001b[1;33m \u001b[0mprecip_coef\u001b[0m\u001b[1;33m,\u001b[0m \u001b[0mfinal_bins\u001b[0m\u001b[1;33m,\u001b[0m \u001b[0mbin_vals\u001b[0m \u001b[1;33m=\u001b[0m \u001b[0mexponential\u001b[0m\u001b[1;33m(\u001b[0m\u001b[0mmod_precip18\u001b[0m\u001b[1;33m,\u001b[0m \u001b[1;36m1\u001b[0m\u001b[1;33m)\u001b[0m\u001b[1;33m\u001b[0m\u001b[1;33m\u001b[0m\u001b[0m\n\u001b[0m\u001b[0;32m      2\u001b[0m \u001b[0mprint\u001b[0m\u001b[1;33m(\u001b[0m\u001b[0mprecip_coef\u001b[0m\u001b[1;33m)\u001b[0m\u001b[1;33m\u001b[0m\u001b[1;33m\u001b[0m\u001b[0m\n",
      "\u001b[1;31mTypeError\u001b[0m: exponential() missing 1 required positional argument: 'length'"
     ]
    }
   ],
   "source": [
    "precip_coef, final_bins, bin_vals = exponential(mod_precip18, 1)\n",
    "print(precip_coef)"
   ]
  },
  {
   "cell_type": "code",
   "execution_count": 35,
   "metadata": {},
   "outputs": [
    {
     "name": "stdout",
     "output_type": "stream",
     "text": [
      "[-0.0812516  24.17398685]\n"
     ]
    }
   ],
   "source": [
    "nonprecip_coef, np_final_bins, np_bin_vals = exponential(mod_nonprecip18, 1)\n",
    "print(nonprecip_coef)"
   ]
  },
  {
   "cell_type": "code",
   "execution_count": 36,
   "metadata": {},
   "outputs": [
    {
     "name": "stdout",
     "output_type": "stream",
     "text": [
      "[0.01 0.02 0.01 0.01 0.02 0.01 0.01 0.07 0.02 0.02 0.02 0.01 0.03 0.01\n",
      " 0.02 0.02 0.02 0.02 0.01 0.01 0.01 0.02 0.02 0.02 0.02 0.08 0.01 0.02\n",
      " 0.01 0.01 0.02 0.02 0.01 0.01 0.02 0.01 0.02 0.01 0.01 0.01 0.02 0.01\n",
      " 0.02 0.02 0.07 0.03 0.01 0.02 0.02 0.02 0.01 0.01 0.02 0.01 0.02 0.01\n",
      " 0.01 0.02 0.01 0.01 0.02 0.03 0.02 0.02 0.01 0.02 0.03 0.02 0.01 0.01\n",
      " 0.01 0.07 0.02 0.02 0.01 0.01 0.55 0.02 0.02 0.02 0.01 0.02 0.02 0.01\n",
      " 0.02 0.02 0.01 0.07 0.02 0.01 0.02 0.02 0.01 0.02 0.02 0.01 0.01 0.01\n",
      " 0.02 0.02 0.01 0.01 0.01 0.01 0.02 0.01 0.01 0.01 0.06 0.01 0.01 0.01\n",
      " 0.02 0.01 0.01 0.01 0.02 0.01 0.02 0.43 0.02 0.01 0.01 0.01 0.01 0.02\n",
      " 0.02 0.02 0.09 0.01 0.02 0.01 0.02 0.01 0.02 0.01 0.02 0.01 0.02 0.01\n",
      " 0.02 0.02 0.01 0.01 0.02 0.02 0.02 0.02 0.02 0.02 0.06 0.01 0.02 0.02\n",
      " 0.02 0.01 0.69 0.02 0.15 0.01 0.02 0.06 0.02 0.01 0.02 0.02 0.04 0.01\n",
      " 0.02 0.06 0.01 0.01 0.01 0.02 0.02 0.02 0.02 0.01 0.02 0.01 0.02 0.02\n",
      " 0.02 0.01 0.01 0.02 0.01 0.02 0.01 0.03 0.02 0.04 0.05 0.01 0.02 0.02\n",
      " 0.01 0.2  0.03 0.01 0.01 0.03 0.02 0.01 0.07 0.01 0.01 0.01 0.02 0.01\n",
      " 0.02 0.01 0.11 0.01 0.02 0.01 0.02 0.01 0.02 0.01 0.02 0.02 0.01 0.01\n",
      " 0.02 0.02 0.02 0.02 0.01 0.02 0.01 0.02 0.02 0.02 0.01 0.02 0.02 0.02\n",
      " 0.02 0.01 0.01 0.01 0.01 0.05 0.02 0.01 0.01 0.01 0.02 0.01 0.01 0.01\n",
      " 0.69 0.01 0.02 0.01 0.7  0.01 0.02 0.09 0.02 0.01 0.07 0.02 0.02 0.02\n",
      " 0.01 0.02 0.02 0.01 0.02 0.02 0.02 0.02 0.02 0.12 0.02 0.02 0.02 0.02\n",
      " 0.01 0.01 0.02 0.01 0.07 0.01 0.01 0.02 0.04 0.02]\n"
     ]
    }
   ],
   "source": [
    "mod_inten = np.divide(mod_preciptotal18, mod_precip18)\n",
    "print(mod_inten)"
   ]
  },
  {
   "cell_type": "code",
   "execution_count": 45,
   "metadata": {},
   "outputs": [],
   "source": [
    "inten_coef, inten_fb, inten_bv = exponential_int(mod_inten, 0.01)"
   ]
  },
  {
   "cell_type": "code",
   "execution_count": 46,
   "metadata": {},
   "outputs": [
    {
     "name": "stdout",
     "output_type": "stream",
     "text": [
      "[-0.79131158  1.84005618]\n"
     ]
    }
   ],
   "source": [
    "print(inten_coef)"
   ]
  },
  {
   "cell_type": "code",
   "execution_count": null,
   "metadata": {},
   "outputs": [],
   "source": []
  }
 ],
 "metadata": {
  "kernelspec": {
   "display_name": "Python 3",
   "language": "python",
   "name": "python3"
  },
  "language_info": {
   "codemirror_mode": {
    "name": "ipython",
    "version": 3
   },
   "file_extension": ".py",
   "mimetype": "text/x-python",
   "name": "python",
   "nbconvert_exporter": "python",
   "pygments_lexer": "ipython3",
   "version": "3.8.8"
  }
 },
 "nbformat": 4,
 "nbformat_minor": 4
}
