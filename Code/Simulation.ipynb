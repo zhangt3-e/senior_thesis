{
 "cells": [
  {
   "cell_type": "code",
   "execution_count": 1,
   "metadata": {},
   "outputs": [
    {
     "name": "stdout",
     "output_type": "stream",
     "text": [
      "importing Jupyter notebook from histplot.ipynb\n",
      "644\n",
      "3122\n"
     ]
    }
   ],
   "source": [
    "# Function for generating histogram\n",
    "# Import Libraries\n",
    "import numpy as np\n",
    "import matplotlib.pyplot as plt\n",
    "import matplotlib as mlt\n",
    "import datetime \n",
    "import import_ipynb\n",
    "import histplot"
   ]
  },
  {
   "cell_type": "code",
   "execution_count": 2,
   "metadata": {},
   "outputs": [],
   "source": [
    "ASC = '__ASC_ASCIIIn.mrk'\n",
    "direct = 'C:/Users/tyron/Documents/Geoscience/weather/'"
   ]
  },
  {
   "cell_type": "code",
   "execution_count": 3,
   "metadata": {},
   "outputs": [],
   "source": [
    "# Summer 2018 as an example\n",
    "Summer18 = histplot.getData(18, direct, ASC, 152, 92, 6 , float)\n"
   ]
  },
  {
   "cell_type": "code",
   "execution_count": 4,
   "metadata": {},
   "outputs": [],
   "source": [
    "def calc(precip_data, what_bin):\n",
    "    hist, bin_edge = np.histogram(precip_data, bins = what_bin)\n",
    "    log_y = np.log(hist)\n",
    "    bin_val = np.zeros(len(what_bin)-1)\n",
    "    for i in range(len(what_bin)-1):\n",
    "        bin_val[i] = (what_bin[i] + what_bin[i+1])/2\n",
    "    logx = np.log(bin_val)\n",
    "    curve_fit = np.polyfit(logx, log_y,1)\n",
    "    curve_fit[1] = np.exp(curve_fit[1])\n",
    "    return curve_fit, bin_val"
   ]
  },
  {
   "cell_type": "code",
   "execution_count": 5,
   "metadata": {},
   "outputs": [],
   "source": [
    "# Exponentials get from durations\n",
    "def exponential(in_put, percent, exclude):\n",
    "    first_bin = np.zeros(100/percent)\n",
    "    for i in range(0, 100/percent):    \n",
    "        first_bin[i] = np.percentile(in_put, percent*i)\n",
    "    second_bin = np.unique(first_bin)\n",
    "    stop1 = np.array([exclude])\n",
    "    final_bin = np.setdiff1d(second_bin, stop1)\n",
    "    curvefit, bin_vals = calc(in_put, final_bin)\n",
    "    return curvefit, bin_vals\n",
    "    "
   ]
  },
  {
   "cell_type": "code",
   "execution_count": 7,
   "metadata": {},
   "outputs": [],
   "source": [
    "# Exponentials get from intensity\n",
    "def exponential_int(in_put, percent, exclude):\n",
    "    first_bin = np.zeros(100/percent)\n",
    "    for i in range(0, 100/percent):    \n",
    "        first_bin[i] = np.round(np.percentile(in_put, percent*i),2)\n",
    "    second_bin = np.unique(first_bin)\n",
    "    stop1 = np.array([exclude])\n",
    "    final_bin = np.setdiff1d(second_bin, stop1)\n",
    "    curvefit, bin_vals = calc(in_put, final_bin)\n",
    "    return curvefit, final_bin, bin_vals"
   ]
  },
  {
   "cell_type": "code",
   "execution_count": 9,
   "metadata": {},
   "outputs": [],
   "source": [
    "def counting(data, want):\n",
    "    counts = 0\n",
    "    for i in range(len(data)):\n",
    "        hold = data[i]\n",
    "        if hold < want:\n",
    "            counts += 1\n",
    "    return counts"
   ]
  },
  {
   "cell_type": "code",
   "execution_count": null,
   "metadata": {},
   "outputs": [],
   "source": [
    "def model_1(data, amount, howmuch):\n",
    "    precip, nonprecip, preciptotal, totalprep = histplot.preciphist(data, len(data), amount, 1, 1)\n",
    "    count = 0\n",
    "    for i in range(0, len(data)):\n",
    "         hold = precip17[i]\n",
    "            if hold > 0:\n",
    "                count += 1\n",
    "    # Calculate intensities \n",
    "    inten = np.divide(preciptotal[:count], precip[:count])\n",
    "    \n",
    "    # Exponentials for precipitation duration \n",
    "    pre_exp,pre_f_bins, bin_vals = exponential(precip, 2, 1)\n",
    "    # Exponentials for nonprecipitation duration \n",
    "    non_pre, nonpre_f_bins, nonp_b_vals = exponential(nonprecip, 2, 1)\n",
    "    # Exponentials for Intensity of Precipitation duration\n",
    "    intensity, inten_f_bins, inten_b_vals = exponential_int(int, 2, 0.01)\n",
    "    \n",
    "    # Construct intervals and probabilities for precipitation durations\n",
    "    Pre_prob = [counting(precip, pre_f_bins[0])]\n",
    "    construct_1 = pre_exp[1]*np.exp(np.log(bin_vals)*pre_exp[0])\n",
    "    Pre_prob = np.append(Pre_prob, construct_1)\n",
    "    # Non_precipitation duration probs\n",
    "    NonPre_prob = [counting(nonprecip, nonpre_f_bins)]\n",
    "    construct_2 = nonpre[1]*np.exp(np.log(nonp_b_vals)*nonpre[0])\n",
    "    NonPre_prob = np.append(NonPre_prob, construct2)\n",
    "    # Intensity probs\n",
    "    Intensity_prob = [counting(inten, inten_f_bins)]\n",
    "    construct_3 = intensity[1]*np.exp(np.log(inten_b_vals)*nonpre[0])\n",
    "    Intensity_prob = np.append(Intensity_prob, construct_3)\n",
    "    \n",
    "    # Precipitation intervals\n",
    "    Pre_interval = [1]\n",
    "    Pre_interval = np.append(Pre_interval, pre_f_bins)\n",
    "    # NonPrecipitation intervals\n",
    "    NonPre_interval = [1]\n",
    "    NonPre_interval = np.append(NonPre_interval, nonpre_f_bins)\n",
    "    # Intensity intervals\n",
    "    Intensity_interval = [0.01]\n",
    "    Intensity_interval = np.append(Intensity_interval, inten_f_bins)\n",
    "     \n",
    "    for i in range(howmuch):\n",
    "        minutes = 0;\n",
    "        Model = np.zeros(len(data))\n",
    "        start = np.random.randint(0, 1)\n",
    "        while (len(data) > minutes):\n",
    "            # run probability of precipitation event duration\n",
    "            pre_index = np.random.choice(arange(len(Pre_prob)), p = Pre_prob)\n",
    "            pre_duration = np.random.randint(Pre_interval[pre_index], Pre_interval[pre_index + 1])\n",
    "            # run probability of precipitation event intensity\n",
    "            inten_index = np.random.choice(arange(len(NonPre_prob)), p = NonPre_prob)\n",
    "            model_intensity = 0.01*np.random.randint(100*Intensity_interval[inten_index], 100*Intensity_interval[inten_index+1])\n",
    "            # run probability of non-precipitation event duration\n",
    "            nonpre_index = np.random.choice(arange(len(Intensity_prob)), p = Intensity_prob)\n",
    "            nonpre_duration = np.random.randint(NonPre_interval[nonpre_index], NonPre_interval[nonpre_index + 1])\n",
    "            # Nonprecipitation starts first\n",
    "            if start == 0: \n",
    "                for j in range(nonpre_duration):\n",
    "                    Model[minutes] = 0\n",
    "                    minutes += 1\n",
    "                for k in range(pre_duration):\n",
    "                    Model[minutes] = model_intensity\n",
    "                    minutes += 1\n",
    "            else if start == 1: \n",
    "                for k in range(pre_duration):\n",
    "                    Model[minutes] = model_intensity\n",
    "                    minutes += 1\n",
    "                for j in range(nonpre_duration):\n",
    "                    Model[minutes] = 0\n",
    "                    minutes += 1\n",
    "            "
   ]
  }
 ],
 "metadata": {
  "kernelspec": {
   "display_name": "Python 3",
   "language": "python",
   "name": "python3"
  },
  "language_info": {
   "codemirror_mode": {
    "name": "ipython",
    "version": 3
   },
   "file_extension": ".py",
   "mimetype": "text/x-python",
   "name": "python",
   "nbconvert_exporter": "python",
   "pygments_lexer": "ipython3",
   "version": "3.7.3"
  }
 },
 "nbformat": 4,
 "nbformat_minor": 2
}
