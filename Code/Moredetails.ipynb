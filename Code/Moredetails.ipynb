{
 "cells": [
  {
   "cell_type": "code",
   "execution_count": 1,
   "metadata": {},
   "outputs": [
    {
     "name": "stdout",
     "output_type": "stream",
     "text": [
      "importing Jupyter notebook from histplot.ipynb\n",
      "644\n",
      "3122\n"
     ]
    }
   ],
   "source": [
    "# Function for generating histogram\n",
    "# Import Libraries\n",
    "import numpy as np\n",
    "import matplotlib.pyplot as plt\n",
    "import matplotlib as mlt\n",
    "import datetime \n",
    "import import_ipynb\n",
    "import histplot"
   ]
  },
  {
   "cell_type": "code",
   "execution_count": 2,
   "metadata": {},
   "outputs": [],
   "source": [
    "ASC = '__ASC_ASCIIIn.mrk'\n",
    "direct = 'C:/Users/tyron/Documents/Geoscience/weather/'"
   ]
  },
  {
   "cell_type": "code",
   "execution_count": 3,
   "metadata": {},
   "outputs": [],
   "source": [
    "Winter19_1 = histplot.getData(18,direct, ASC, 335, 31, 6, float)\n",
    "Winter19_2 = histplot.getData(19, direct, ASC, 1, 59, 6, float)\n",
    "Spring19 = histplot.getData(19,direct, ASC, 60, 92,6, float)\n",
    "Summer19 = histplot.getData(19, direct, ASC, 152, 92, 6 , float)\n",
    "Fall19 = histplot.getData(19, direct, ASC, 244, 91, 6, float)\n",
    "# Winter19_2 = histplot.getData(19, direct, ASC, 335, 31, 6, float)"
   ]
  },
  {
   "cell_type": "code",
   "execution_count": 4,
   "metadata": {},
   "outputs": [
    {
     "name": "stdout",
     "output_type": "stream",
     "text": [
      "[0. 0. 0. ... 0. 0. 0.]\n"
     ]
    }
   ],
   "source": [
    "print(Winter19_1)"
   ]
  },
  {
   "cell_type": "code",
   "execution_count": 5,
   "metadata": {},
   "outputs": [
    {
     "name": "stdout",
     "output_type": "stream",
     "text": [
      "[0. 0. 0. ... 0. 0. 0.]\n"
     ]
    }
   ],
   "source": [
    "Winter19 = np.concatenate([Winter19_1, Winter19_2])\n",
    "print(Winter19)"
   ]
  },
  {
   "cell_type": "code",
   "execution_count": 6,
   "metadata": {},
   "outputs": [],
   "source": [
    "def hist_plots(array,bin_spec, range_tup, xlabel, ylabel, title, color):\n",
    "    plt.figure(figsize = (10,8))\n",
    "    plt.hist(array[array != 0], bins = bin_spec, range= range_tup, color = color)\n",
    "    plt.xlabel(xlabel, fontsize = 14)\n",
    "    plt.xscale('log')\n",
    "    plt.yscale('log')\n",
    "    plt.ylabel(ylabel, fontsize = 14)\n",
    "    plt.title(title, fontsize = 20)\n",
    "    #plt.text(1,1, 'Histogram has ' + percent + ' of total precipitation', horizontalalignment = 'center',\n",
    "            #verticalalignment = 'center')\n",
    "    #plt.text(0.8,1, eqn,horizontalalignment = 'center',\n",
    "            #verticalalignment = 'center' )"
   ]
  },
  {
   "cell_type": "code",
   "execution_count": 17,
   "metadata": {},
   "outputs": [
    {
     "name": "stdout",
     "output_type": "stream",
     "text": [
      "(129600,)\n",
      "(132478,)\n",
      "(132471,)\n",
      "(131037,)\n"
     ]
    }
   ],
   "source": [
    "print(Winter19.shape)\n",
    "print(Spring19.shape)\n",
    "print(Summer19.shape)\n",
    "print(Fall19.shape)\n",
    "Season19 = np.concatenate([Winter19, Spring19, Summer19, Fall19])"
   ]
  },
  {
   "cell_type": "code",
   "execution_count": 8,
   "metadata": {},
   "outputs": [],
   "source": [
    "Wprecip, Wnonprecip, Wpreciptotal, Wtotalprep = histplot.preciphist(Winter19, len(Winter19), 5000, 1, 1)\n",
    "Sp_precip, Sp_nonprecip, Sp_preciptotal, Sp_totalprep = histplot.preciphist(Spring19, len(Spring19), 5000, 1, 1)\n",
    "Su_precip, Su_nonprecip, Su_preciptotal, Su_totalprep = histplot.preciphist(Summer19, len(Summer19), 5000, 1, 1)\n",
    "Fprecip, Fnonprecip, Fpreciptotal, Ftotalprep = histplot.preciphist(Fall19, len(Fall19), 5000, 1, 1)"
   ]
  },
  {
   "cell_type": "code",
   "execution_count": 19,
   "metadata": {},
   "outputs": [
    {
     "name": "stdout",
     "output_type": "stream",
     "text": [
      "[ 1.  1.  1.  1.  1.  1.  1.  1.  1.  1.  1.  1.  1.  1.  1.  1.  1.  1.\n",
      "  1.  1.  1.  1.  1.  1.  1.  1.  1.  1.  1.  1.  2.  2.  2.  2.  2.  3.\n",
      "  3.  3.  4.  4.  5.  5.  6.  7.  9. 11. 13. 18. 25. 42.]\n"
     ]
    }
   ],
   "source": [
    "precip19, nonprecip19, preciptotal19, totalprep19 = histplot.preciphist(Season19, len(Season19), 20000, 1, 1)\n",
    "countAll = 0\n",
    "for i in range(0,20000):\n",
    "    hold = precip19[i]\n",
    "    if hold > 0:\n",
    "        countAll += 1\n",
    "perc = np.zeros(50)\n",
    "for i in range(0, 50):\n",
    "    perc[i] =np.percentile(precip19[:countAll], i*2)\n",
    "print(perc)"
   ]
  },
  {
   "cell_type": "code",
   "execution_count": 10,
   "metadata": {},
   "outputs": [
    {
     "name": "stdout",
     "output_type": "stream",
     "text": [
      "1094\n",
      "1061\n",
      "445\n",
      "598\n"
     ]
    }
   ],
   "source": [
    "count = 0\n",
    "count1 = 0\n",
    "count2 = 0\n",
    "count3 = 0\n",
    "for i in range(0,5000):\n",
    "    hold = Wprecip[i]\n",
    "    hold1 = Sp_precip[i]\n",
    "    hold2 = Su_precip[i]\n",
    "    hold3 = Fprecip[i]\n",
    "    if hold > 0:\n",
    "        count += 1\n",
    "    if hold1 > 0:\n",
    "        count1 += 1\n",
    "    if hold2 > 0:\n",
    "        count2 += 1\n",
    "    if hold3 > 0:\n",
    "        count3 += 1\n",
    "print(count)\n",
    "print(count1)\n",
    "print(count2)\n",
    "print(count3)"
   ]
  },
  {
   "cell_type": "code",
   "execution_count": 13,
   "metadata": {},
   "outputs": [],
   "source": [
    "Wprecip = Wprecip[:count]\n",
    "Sp_precip = Sp_precip[:count1]\n",
    "Su_precip = Su_precip[:count2]\n",
    "Fprecip = Fprecip[:count3]"
   ]
  },
  {
   "cell_type": "code",
   "execution_count": 75,
   "metadata": {},
   "outputs": [
    {
     "data": {
      "text/plain": [
       "<matplotlib.legend.Legend at 0x21d66d77710>"
      ]
     },
     "execution_count": 75,
     "metadata": {},
     "output_type": "execute_result"
    },
    {
     "data": {
      "image/png": "[encoded data removed]",
      "text/plain": [
       "<Figure size 720x576 with 1 Axes>"
      ]
     },
     "metadata": {
      "needs_background": "light"
     },
     "output_type": "display_data"
    }
   ],
   "source": [
    "plt.figure(figsize = (10,8))\n",
    "plt.hist([Wprecip, Sp_precip, Su_precip,Fprecip], bins =perc, range= (perc.min,perc.max), color = ['r','b','g','c'], stacked =True)\n",
    "plt.xlabel('Duration of Precipitation Events (minutes)', fontsize = 14)\n",
    "plt.xscale('log')\n",
    "plt.ylim(0,2000)\n",
    "#plt.yscale('log')\n",
    "plt.ylabel('Frequency', fontsize = 14)\n",
    "plt.title('2019 Precipitation duration by season', fontsize = 20)\n",
    "plt.figtext(0.5, 0.5, 'Total Winter Precipitation: ' + str(round(Wtotalprep,2)) + ' mm', fontsize = 14)\n",
    "plt.figtext(0.5, 0.475, 'Total Spring Precipitation: ' + str(round(Sp_totalprep,2)) + ' mm', fontsize = 14)\n",
    "plt.figtext(0.5, 0.45, 'Total Summer Precipitation: ' + str(round(Su_totalprep,2)) + ' mm', fontsize = 14)\n",
    "plt.figtext(0.5, 0.425, 'Total Fall Precipitation: ' + str(round(Ftotalprep,2)) + ' mm', fontsize = 14)\n",
    "plt.plot(bin_val, test*y, color = 'k' )\n",
    "plt.legend(labels = ['$y = 307.8 e^{-0.54x}$', 'Winter', 'Spring', 'Summer', 'Fall'], fontsize = 14)\n",
    "#plt.figtext(0.3, 0.6, 'Exponential fit equation between 2 minutes to 42 minutes: $ y = e^{5.74}*e^{-0.54x}$' )"
   ]
  },
  {
   "cell_type": "code",
   "execution_count": 59,
   "metadata": {},
   "outputs": [],
   "source": [
    "one_bin = np.array([2, 3, 4, 5, 6, 7, 9, 11, 13, 18, 25, 42])\n",
    "hist19, bin_edge = np.histogram(precip19, bins = one_bin)"
   ]
  },
  {
   "cell_type": "code",
   "execution_count": 60,
   "metadata": {},
   "outputs": [
    {
     "name": "stdout",
     "output_type": "stream",
     "text": [
      "[342 192 118  93  66 107  62  63  80  58  72]\n",
      "[ 2  3  4  5  6  7  9 11 13 18 25 42]\n"
     ]
    }
   ],
   "source": [
    "print(hist19)\n",
    "print(bin_edge)"
   ]
  },
  {
   "cell_type": "code",
   "execution_count": 64,
   "metadata": {},
   "outputs": [
    {
     "name": "stdout",
     "output_type": "stream",
     "text": [
      "[ 2.5  3.5  4.5  5.5  6.5  8.  10.  12.  15.5 21.5 33.5]\n",
      "[5.83481074 5.25749537 4.77068462 4.53259949 4.18965474 4.67282883\n",
      " 4.12713439 4.14313473 4.38202663 4.06044301 4.27666612]\n",
      "[-0.54513384  5.72943722]\n"
     ]
    }
   ],
   "source": [
    "log_x = np.log(one_bin)\n",
    "log_y = np.log(hist19)\n",
    "log_x_2 = np.log(bin_edge[:12])\n",
    "bin_val = np.zeros(11)\n",
    "for i in range(0, 11):\n",
    "    bin_val[i] = (one_bin[i]+one_bin[i+1])/2\n",
    "print(bin_val)\n",
    "logx = np.log(bin_val)\n",
    "print(log_y)\n",
    "curve_fit = np.polyfit(logx, log_y, 1)\n",
    "print(curve_fit)"
   ]
  },
  {
   "cell_type": "code",
   "execution_count": 65,
   "metadata": {},
   "outputs": [
    {
     "data": {
      "text/plain": [
       "[<matplotlib.lines.Line2D at 0x21d643ec400>]"
      ]
     },
     "execution_count": 65,
     "metadata": {},
     "output_type": "execute_result"
    },
    {
     "data": {
      "image/png": "[encoded data removed]",
      "text/plain": [
       "<Figure size 432x288 with 1 Axes>"
      ]
     },
     "metadata": {
      "needs_background": "light"
     },
     "output_type": "display_data"
    }
   ],
   "source": [
    "test = np.exp(curve_fit[1])\n",
    "y = np.exp(curve_fit[0]*logx)\n",
    "plt.plot(bin_val, test*y)\n",
    "plt.plot(bin_val, hist19)"
   ]
  },
  {
   "cell_type": "code",
   "execution_count": 67,
   "metadata": {},
   "outputs": [
    {
     "name": "stdout",
     "output_type": "stream",
     "text": [
      "307.7959980119462\n"
     ]
    }
   ],
   "source": [
    "print(test)"
   ]
  },
  {
   "cell_type": "code",
   "execution_count": null,
   "metadata": {},
   "outputs": [],
   "source": []
  }
 ],
 "metadata": {
  "kernelspec": {
   "display_name": "Python 3",
   "language": "python",
   "name": "python3"
  },
  "language_info": {
   "codemirror_mode": {
    "name": "ipython",
    "version": 3
   },
   "file_extension": ".py",
   "mimetype": "text/x-python",
   "name": "python",
   "nbconvert_exporter": "python",
   "pygments_lexer": "ipython3",
   "version": "3.7.3"
  }
 },
 "nbformat": 4,
 "nbformat_minor": 2
}
