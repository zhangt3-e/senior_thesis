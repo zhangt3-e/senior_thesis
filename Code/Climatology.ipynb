{
 "cells": [
  {
   "cell_type": "code",
   "execution_count": 1,
   "metadata": {},
   "outputs": [
    {
     "name": "stdout",
     "output_type": "stream",
     "text": [
      "importing Jupyter notebook from histplot.ipynb\n"
     ]
    }
   ],
   "source": [
    "# Packages used to compile climatology of Princeton! \n",
    "# Function for generating histogram\n",
    "# Import Libraries\n",
    "import numpy as np\n",
    "import matplotlib.pyplot as plt\n",
    "import matplotlib as mlt\n",
    "import datetime \n",
    "import import_ipynb\n",
    "import histplot"
   ]
  },
  {
   "cell_type": "code",
   "execution_count": 3,
   "metadata": {},
   "outputs": [],
   "source": [
    "ASC = '__ASC_ASCIIIn.mrk'\n",
    "direct = 'C:/Users/tyron/Documents/Geoscience/weather/'\n",
    "# Position: 1 is wind direction, 2 is wind speed, 3 is air temp, 4 is relative humidity,\n",
    "# 5 is air pressure, 6 is rain/precipitation, 7 is hail accumulation. "
   ]
  },
  {
   "cell_type": "code",
   "execution_count": 2,
   "metadata": {},
   "outputs": [],
   "source": [
    "def jan_clim(startday, howdays, position, divideby, pre):\n",
    "    Jan18 = histplot.getData(18, direct, ASC, startday, howdays, position, float)\n",
    "    Jan19 = histplot.getData(19, direct, ASC, startday, howdays, position, float)\n",
    "    Jan20 = histplot.getData(20, direct, ASC, startday, howdays, position, float)\n",
    "    Jan21 = histplot.getData(21, direct, ASC, startday, howdays, position, float)\n",
    "    Jantot = np.concatenate([Jan18, Jan19, Jan20, Jan21])\n",
    "    Jan_total = np.nansum(Jantot)\n",
    "    print(Jan_total)\n",
    "    # If it is doing precipitation (choose to divide by number of months)\n",
    "    if (pre == 1):\n",
    "        Jan_mean = Jan_total/divideby\n",
    "    # Divide by number of minutes we have. \n",
    "    else: \n",
    "        Jan_mean = Jan_total/len(Jantot)\n",
    "    print(Jan_mean)\n",
    "    return Jan_mean"
   ]
  },
  {
   "cell_type": "code",
   "execution_count": 4,
   "metadata": {},
   "outputs": [
    {
     "name": "stdout",
     "output_type": "stream",
     "text": [
      "176.17000000000004\n",
      "44.04250000000001\n"
     ]
    }
   ],
   "source": [
    "# January Climatology \n",
    "Jan_pre = jan_clim(1, 31, 6, 4, 1)"
   ]
  },
  {
   "cell_type": "code",
   "execution_count": 5,
   "metadata": {},
   "outputs": [],
   "source": [
    "def feb_july_clim(startday, howdays,  position, divideby, feb, pre):\n",
    "    Mon18 = histplot.getData(18, direct, ASC, startday, howdays, position, float)\n",
    "    Mon19 = histplot.getData(19, direct, ASC, startday, howdays, position, float)\n",
    "    if (feb == 2):\n",
    "        Mon20 = histplot.getData(20, direct, ASC, startday, howdays+1, position, float)\n",
    "    else:\n",
    "        Mon20 = histplot.getData(20, direct, ASC, startday+1, howdays, position, float)\n",
    "    Montot = np.concatenate([Mon18, Mon19, Mon20])\n",
    "    Mon_total = np.nansum(Montot)\n",
    "    print(Mon_total)\n",
    "    if (pre == 1):\n",
    "        Mon_mean = Mon_total/divideby\n",
    "    else:\n",
    "        Mon_mean = Mon_total/len(Montot)\n",
    "    print(Mon_mean)\n",
    "    return Mon_mean"
   ]
  },
  {
   "cell_type": "code",
   "execution_count": 6,
   "metadata": {},
   "outputs": [
    {
     "name": "stdout",
     "output_type": "stream",
     "text": [
      "218.22000000000006\n",
      "72.74000000000002\n"
     ]
    }
   ],
   "source": [
    "# February Climatology \n",
    "Feb_pre = feb_july_clim(32, 28, 6, 3, 2, 1)"
   ]
  },
  {
   "cell_type": "code",
   "execution_count": 8,
   "metadata": {},
   "outputs": [
    {
     "name": "stdout",
     "output_type": "stream",
     "text": [
      "212.47\n",
      "70.82333333333334\n",
      "239.13000000000008\n",
      "79.71000000000002\n",
      "358.5199999999999\n",
      "119.50666666666665\n",
      "298.02\n",
      "99.33999999999999\n",
      "370.47\n",
      "123.49000000000001\n"
     ]
    }
   ],
   "source": [
    "# March Climatology\n",
    "Mar_pre = feb_july_clim(60, 31, 6, 3, 1, 1)\n",
    "# April Climatology \n",
    "Apr_pre = feb_july_clim(91, 30, 6, 3, 1, 1)\n",
    "#May Climatology \n",
    "May_pre = feb_july_clim(121, 31, 6, 3, 1, 1)\n",
    "# June Climatology \n",
    "Jun_pre = feb_july_clim(152, 30, 6, 3, 1, 1)\n",
    "# July Climatology \n",
    "Jul_pre = feb_july_clim(182, 31, 6, 3, 1, 1)"
   ]
  },
  {
   "cell_type": "code",
   "execution_count": 9,
   "metadata": {},
   "outputs": [],
   "source": [
    "def aug_dec_clim(startday, howdays,  position, divideby, pre):\n",
    "    Mon17 = histplot.getData(17, direct, ASC, startday, howdays, position, float)\n",
    "    Mon18 = histplot.getData(18, direct, ASC, startday, howdays, position, float)\n",
    "    Mon19 = histplot.getData(19, direct, ASC, startday, howdays, position, float)\n",
    "    Mon20 = histplot.getData(20, direct, ASC, startday+1, howdays, position, float)\n",
    "    Montot = np.concatenate([Mon17, Mon18, Mon19, Mon20])\n",
    "    Mon_total = np.nansum(Montot)\n",
    "    print(Mon_total)\n",
    "    if (pre == 1):\n",
    "        Mon_mean = Mon_total/divideby\n",
    "    else:\n",
    "        Mon_mean = Mon_total/len(Montot)\n",
    "    print(Mon_mean)\n",
    "    return Mon_mean"
   ]
  },
  {
   "cell_type": "code",
   "execution_count": 10,
   "metadata": {},
   "outputs": [
    {
     "name": "stdout",
     "output_type": "stream",
     "text": [
      "383.33000000000004\n",
      "95.83250000000001\n",
      "279.05\n",
      "69.7625\n",
      "303.93\n",
      "75.9825\n",
      "325.16\n",
      "81.29\n",
      "267.44000000000005\n",
      "66.86000000000001\n"
     ]
    }
   ],
   "source": [
    "#August Climatology \n",
    "Aug_pre = aug_dec_clim(213, 31, 6, 4, 1)\n",
    "#September Climatology \n",
    "Sep_pre = aug_dec_clim(244, 30, 6, 4, 1)\n",
    "#October Climatology \n",
    "Oct_pre = aug_dec_clim(274, 31, 6, 4, 1)\n",
    "#November Climatology \n",
    "Nov_pre = aug_dec_clim(305, 30, 6, 4, 1)\n",
    "# December Climatology \n",
    "Dec_pre = aug_dec_clim(335, 31, 6, 4, 1)"
   ]
  },
  {
   "cell_type": "code",
   "execution_count": 11,
   "metadata": {},
   "outputs": [
    {
     "name": "stdout",
     "output_type": "stream",
     "text": [
      "276317.4000000001\n",
      "1.5474764784946242\n"
     ]
    }
   ],
   "source": [
    "# Jan Temperature \n",
    "Jan_temp = jan_clim(1, 31, 3, 4, 0)"
   ]
  },
  {
   "cell_type": "code",
   "execution_count": 12,
   "metadata": {},
   "outputs": [
    {
     "name": "stdout",
     "output_type": "stream",
     "text": [
      "475266.60000000003\n",
      "3.88289705882353\n"
     ]
    }
   ],
   "source": [
    "# Feb Temperature \n",
    "Feb_temp = feb_july_clim(32, 28, 3, 3, 2, 0)"
   ]
  },
  {
   "cell_type": "code",
   "execution_count": 13,
   "metadata": {},
   "outputs": [
    {
     "name": "stdout",
     "output_type": "stream",
     "text": [
      "800309.0999999999\n",
      "5.976023745519712\n",
      "1422647.7999999998\n",
      "10.977390083180294\n",
      "2309461.1000000006\n",
      "17.246110132027006\n",
      "2875529.8999999994\n",
      "22.18995655428399\n",
      "3451455.2999999993\n",
      "25.77386288112431\n"
     ]
    }
   ],
   "source": [
    "# March Temp\n",
    "Mar_temp = feb_july_clim(60, 31, 3, 3, 1, 0)\n",
    "# April Temp\n",
    "Apr_temp = feb_july_clim(91, 30, 3, 3, 1, 0)\n",
    "#May Temp\n",
    "May_temp = feb_july_clim(121, 31, 3, 3, 1, 0)\n",
    "# June Temp\n",
    "Jun_temp = feb_july_clim(152, 30, 3, 3, 1, 0)\n",
    "# July Temp \n",
    "Jul_temp = feb_july_clim(182, 31, 3, 3, 1, 0)"
   ]
  },
  {
   "cell_type": "code",
   "execution_count": 14,
   "metadata": {},
   "outputs": [
    {
     "name": "stdout",
     "output_type": "stream",
     "text": [
      "4275327.5\n",
      "23.945512030647908\n",
      "3566582.6999999997\n",
      "20.641021233744812\n",
      "2685418.7999999993\n",
      "15.039728935062023\n",
      "1360252.8999999997\n",
      "7.871879466895061\n",
      "593751.8\n",
      "3.325222894265233\n"
     ]
    }
   ],
   "source": [
    "#August Temp  \n",
    "Aug_temp = aug_dec_clim(213, 31, 3, 4, 0)\n",
    "#September Temp  \n",
    "Sep_temp = aug_dec_clim(244, 30, 3, 4, 0)\n",
    "#October Temp  \n",
    "Oct_temp = aug_dec_clim(274, 31, 3, 4, 0)\n",
    "#November Temp \n",
    "Nov_temp = aug_dec_clim(305, 30, 3, 4, 0)\n",
    "# December Temp  \n",
    "Dec_temp = aug_dec_clim(335, 31, 3, 4, 0)"
   ]
  },
  {
   "cell_type": "code",
   "execution_count": 15,
   "metadata": {},
   "outputs": [
    {
     "name": "stdout",
     "output_type": "stream",
     "text": [
      "[ 1.54747648  3.88289706  5.97602375 10.97739008 17.24611013 22.18995655\n",
      " 25.77386288 23.94551203 20.64102123 15.03972894  7.87187947  3.32522289]\n"
     ]
    }
   ],
   "source": [
    "Average_temperature = np.array([Jan_temp, Feb_temp, Mar_temp, Apr_temp, May_temp, Jun_temp,\n",
    "                                 Jul_temp, Aug_temp, Sep_temp, Oct_temp, Nov_temp, Dec_temp])\n",
    "print(Average_temperature)"
   ]
  },
  {
   "cell_type": "code",
   "execution_count": 69,
   "metadata": {},
   "outputs": [
    {
     "name": "stdout",
     "output_type": "stream",
     "text": [
      "[ 44.0425      72.74        70.82333333  79.71       119.50666667\n",
      "  99.34       123.49        95.8325      69.7625      75.9825\n",
      "  81.29        66.86      ]\n"
     ]
    },
    {
     "data": {
      "text/plain": [
       "Text(0.5, 1.0, 'Monthly Average Precipitation')"
      ]
     },
     "execution_count": 69,
     "metadata": {},
     "output_type": "execute_result"
    },
    {
     "data": {
      "image/png": "[encoded data removed]",
      "text/plain": [
       "<Figure size 720x576 with 1 Axes>"
      ]
     },
     "metadata": {
      "needs_background": "light"
     },
     "output_type": "display_data"
    }
   ],
   "source": [
    "months = ['Jan', 'Feb', 'Mar', 'Apr', 'May', 'Jun', 'Jul', 'Aug', 'Sep', 'Oct', 'Nov', 'Dec']\n",
    "Average_precipitation = np.array([Jan_pre, Feb_pre, Mar_pre, Apr_pre, May_pre, Jun_pre,\n",
    "                                 Jul_pre, Aug_pre, Sep_pre, Oct_pre, Nov_pre, Dec_pre])\n",
    "print(Average_precipitation)\n",
    "plt.figure(figsize = (10, 8))\n",
    "plt.plot(months, Average_precipitation)\n",
    "plt.xlabel('Month')\n",
    "plt.ylabel('Average Precipitation (mm)')\n",
    "plt.title('Monthly Average Precipitation')\n"
   ]
  },
  {
   "cell_type": "code",
   "execution_count": 120,
   "metadata": {},
   "outputs": [
    {
     "data": {
      "image/png": "[encoded data removed]",
      "text/plain": [
       "<Figure size 720x576 with 2 Axes>"
      ]
     },
     "metadata": {
      "needs_background": "light"
     },
     "output_type": "display_data"
    }
   ],
   "source": [
    "fig, ax1 = plt.subplots(figsize = (10, 8))\n",
    "ax1.set_xlabel('Month', size = 20)\n",
    "ax1.set_ylabel('Temperature ($^\\circ C$)', size = 20)\n",
    "ax1.bar(months, Average_temperature, yerr = bound25to75 , color = 'r')\n",
    "ax1.legend(['Average Temperature', '25 to 75 interpercentile'], bbox_to_anchor=(0.5, 0.45, 0.5, 0.5))\n",
    "ax2 = ax1.twinx()\n",
    "ax2.set_ylabel('Precipitation (mm)', size = 20)\n",
    "ax2.set_title('Princeton Climatology (2017-2021)', size = 20)\n",
    "ax2.plot(months, Average_precipitation, color = 'b')\n",
    "ax2.set_ylim(ymin = 0)\n",
    "\n",
    "ax2.legend(['Monthly Mean Precipitation'], bbox_to_anchor=(0.5, 0.5, 0.5, 0.5))\n",
    "plt.show()\n",
    "\n"
   ]
  },
  {
   "cell_type": "code",
   "execution_count": 37,
   "metadata": {},
   "outputs": [
    {
     "data": {
      "image/png": "[encoded data removed]",
      "text/plain": [
       "<Figure size 720x576 with 1 Axes>"
      ]
     },
     "metadata": {
      "needs_background": "light"
     },
     "output_type": "display_data"
    }
   ],
   "source": [
    "# Different graph\n",
    "fig, ax1 = plt.subplots(figsize = (10, 8))\n",
    "ax1.set_xlabel('Month', size = 20)\n",
    "ax1.set_ylabel('Temperature ($^\\circ C$)', size = 20)\n",
    "#ax1.plot(months, Average_temperature, color = 'r')\n",
    "ax1.bar(months, bottom = temp25 , height = (temp75 - temp25), color = 'm')\n",
    "\n",
    "ax1.legend(['10th to 90th interpercentile'], loc = 'upper left', fontsize = 14)\n",
    "#ax2 = ax1.twinx()\n",
    "# ax2.set_ylabel('Precipitation (mm)', size = 20)\n",
    "ax1.set_title('Princeton Climatology (2017-2021)', size = 20)\n",
    "#ax2.plot(months, Average_precipitation, color = 'b')\n",
    "\n",
    "\n",
    "#ax2.legend(['Monthly Mean Precipitation'], bbox_to_anchor=(0.5, 0.5, 0.5, 0.5), fontsize = 12)\n",
    "plt.show()"
   ]
  },
  {
   "cell_type": "code",
   "execution_count": 17,
   "metadata": {},
   "outputs": [],
   "source": [
    "def Jan_temp_perc(startday, howdays, position, percentile):\n",
    "    Jan18 = histplot.getData(18, direct, ASC, startday, howdays, position, float)\n",
    "    Jan19 = histplot.getData(19, direct, ASC, startday, howdays, position, float)\n",
    "    Jan20 = histplot.getData(20, direct, ASC, startday, howdays, position, float)\n",
    "    Jan21 = histplot.getData(21, direct, ASC, startday, howdays, position, float)\n",
    "    data = np.concatenate([Jan18, Jan19, Jan20, Jan21])\n",
    "    return np.nanpercentile(data, percentile)\n"
   ]
  },
  {
   "cell_type": "code",
   "execution_count": 18,
   "metadata": {},
   "outputs": [],
   "source": [
    "def Feb_Jul_temp_perc(startday, howdays, position, feb, percentile):\n",
    "    Mon18 = histplot.getData(18, direct, ASC, startday, howdays, position, float)\n",
    "    Mon19 = histplot.getData(19, direct, ASC, startday, howdays, position, float)\n",
    "    if (feb == 1):\n",
    "        Mon20 = histplot.getData(20, direct, ASC, startday, howdays+1, position, float)\n",
    "    else: \n",
    "        Mon20 = histplot.getData(20, direct, ASC, startday+1, howdays, position, float)\n",
    "    data = np.concatenate([Mon18, Mon19, Mon20])\n",
    "    return np.nanpercentile(data, percentile)"
   ]
  },
  {
   "cell_type": "code",
   "execution_count": 19,
   "metadata": {},
   "outputs": [],
   "source": [
    "def Aug_Dec_temp_perc(startday, howdays, position, percentile):\n",
    "    Mon17 = histplot.getData(17, direct, ASC, startday, howdays, position, float)\n",
    "    Mon18 = histplot.getData(18, direct, ASC, startday, howdays, position, float)\n",
    "    Mon19 = histplot.getData(19, direct, ASC, startday, howdays, position, float)\n",
    "    Mon20 = histplot.getData(20, direct, ASC, startday+1, howdays, position, float)\n",
    "    data = np.concatenate([Mon17, Mon18, Mon19, Mon20])\n",
    "    return np.nanpercentile(data, percentile)"
   ]
  },
  {
   "cell_type": "code",
   "execution_count": 20,
   "metadata": {},
   "outputs": [
    {
     "name": "stdout",
     "output_type": "stream",
     "text": [
      "-5.7\n",
      "8.2\n"
     ]
    }
   ],
   "source": [
    "Jan_temp_25 = Jan_temp_perc(1, 31, 3, 10)\n",
    "Jan_temp_75 = Jan_temp_perc(1, 31, 3, 90)\n",
    "print(Jan_temp_25)\n",
    "print(Jan_temp_75)"
   ]
  },
  {
   "cell_type": "code",
   "execution_count": 21,
   "metadata": {},
   "outputs": [],
   "source": [
    "Feb_temp_25 = Feb_Jul_temp_perc(32, 28, 3, 1, 10)\n",
    "Feb_temp_75 =Feb_Jul_temp_perc(32, 28, 3, 1, 90)\n",
    "#March\n",
    "Mar_temp_25 = Feb_Jul_temp_perc(60, 31, 3, 0, 10)\n",
    "Mar_temp_75 =Feb_Jul_temp_perc(60, 31, 3, 0, 90)\n",
    "\n",
    "# April\n",
    "Apr_temp_25 = Feb_Jul_temp_perc(91, 30, 3, 0, 10)\n",
    "Apr_temp_75 =Feb_Jul_temp_perc(91, 30, 3, 0, 90)\n",
    "\n",
    "\n",
    "#May \n",
    "May_temp_25 = Feb_Jul_temp_perc(121, 31, 3, 0, 10)\n",
    "May_temp_75 =Feb_Jul_temp_perc(121, 31, 3, 0, 90)\n",
    "\n",
    "# June\n",
    "Jun_temp_25 = Feb_Jul_temp_perc(152, 30, 3, 0, 10)\n",
    "Jun_temp_75 =Feb_Jul_temp_perc(152, 30, 3, 0, 90)\n",
    "\n",
    "# July\n",
    "Jul_temp_25 = Feb_Jul_temp_perc(182, 31, 3, 0, 10)\n",
    "Jul_temp_75 =Feb_Jul_temp_perc(182, 31, 3, 0, 90)"
   ]
  },
  {
   "cell_type": "code",
   "execution_count": 22,
   "metadata": {},
   "outputs": [
    {
     "name": "stdout",
     "output_type": "stream",
     "text": [
      "18.4\n",
      "4.3\n"
     ]
    }
   ],
   "source": [
    "print(Apr_temp_75)\n",
    "print(Apr_temp_25)"
   ]
  },
  {
   "cell_type": "code",
   "execution_count": 23,
   "metadata": {},
   "outputs": [],
   "source": [
    "Aug_temp_25 = Aug_Dec_temp_perc(213, 31, 3, 10)\n",
    "Aug_temp_75 = Aug_Dec_temp_perc(213, 31, 3, 90)\n",
    "\n",
    "# Sept\n",
    "Sep_temp_25 = Aug_Dec_temp_perc(244, 30, 3, 10)\n",
    "Sep_temp_75 = Aug_Dec_temp_perc(244, 30, 3, 90)\n",
    "\n",
    "# Oct\n",
    "\n",
    "Oct_temp_25 = Aug_Dec_temp_perc(274, 31, 3, 10)\n",
    "Oct_temp_75 = Aug_Dec_temp_perc(274, 31, 3, 90)\n",
    "# Nov \n",
    "\n",
    "Nov_temp_25 = Aug_Dec_temp_perc(305, 30, 3, 10)\n",
    "Nov_temp_75 = Aug_Dec_temp_perc(305, 30, 3, 90)\n",
    "\n",
    "#Dec\n",
    "\n",
    "Dec_temp_25 =Aug_Dec_temp_perc(335, 31, 3, 10)\n",
    "Dec_temp_75 = Aug_Dec_temp_perc(335, 31, 3, 90)"
   ]
  },
  {
   "cell_type": "code",
   "execution_count": 24,
   "metadata": {},
   "outputs": [
    {
     "name": "stdout",
     "output_type": "stream",
     "text": [
      "[-5.7 -2.2  0.2  4.3 10.1 16.3 21.  19.  14.9  8.4  1.3 -2.9]\n"
     ]
    }
   ],
   "source": [
    "temp25 = np.array([Jan_temp_25, Feb_temp_25, Mar_temp_25, Apr_temp_25, May_temp_25, Jun_temp_25,\n",
    "                                 Jul_temp_25, Aug_temp_25, Sep_temp_25, Oct_temp_25, Nov_temp_25, Dec_temp_25])\n",
    "print(temp25)"
   ]
  },
  {
   "cell_type": "code",
   "execution_count": 25,
   "metadata": {},
   "outputs": [
    {
     "name": "stdout",
     "output_type": "stream",
     "text": [
      "[ 8.2 10.4 13.1 18.4 24.8 28.4 31.5 29.5 26.4 22.  15.1  9.8]\n"
     ]
    }
   ],
   "source": [
    "temp75 = np.array([Jan_temp_75, Feb_temp_75, Mar_temp_75, Apr_temp_75, May_temp_75, Jun_temp_75,\n",
    "                                 Jul_temp_75, Aug_temp_75, Sep_temp_75, Oct_temp_75, Nov_temp_75, Dec_temp_75])\n",
    "print(temp75)"
   ]
  },
  {
   "cell_type": "code",
   "execution_count": 113,
   "metadata": {},
   "outputs": [
    {
     "name": "stdout",
     "output_type": "stream",
     "text": [
      "[3.24747648 3.68289706 3.87602375 4.27739008 4.14611013 2.88995655\n",
      " 3.07386288 2.64551203 3.14102123 3.63972894 3.67187947 2.92522289]\n",
      "[3.55252352 3.11710294 3.02397625 3.82260992 3.85388987 3.01004345\n",
      " 3.02613712 2.65448797 2.85897877 3.56027106 3.32812053 3.07477711]\n"
     ]
    }
   ],
   "source": [
    "lower25 = np.abs(temp25 - Average_temperature)\n",
    "upper75 = np.abs(temp75 - Average_temperature)\n",
    "print(lower25)\n",
    "print(upper75)"
   ]
  },
  {
   "cell_type": "code",
   "execution_count": 114,
   "metadata": {},
   "outputs": [
    {
     "name": "stdout",
     "output_type": "stream",
     "text": [
      "[array([3.24747648, 3.68289706, 3.87602375, 4.27739008, 4.14611013,\n",
      "       2.88995655, 3.07386288, 2.64551203, 3.14102123, 3.63972894,\n",
      "       3.67187947, 2.92522289]), array([3.55252352, 3.11710294, 3.02397625, 3.82260992, 3.85388987,\n",
      "       3.01004345, 3.02613712, 2.65448797, 2.85897877, 3.56027106,\n",
      "       3.32812053, 3.07477711])]\n"
     ]
    }
   ],
   "source": [
    "bound25to75 = [lower25, upper75]\n",
    "print(bound25to75)"
   ]
  },
  {
   "cell_type": "code",
   "execution_count": 145,
   "metadata": {},
   "outputs": [
    {
     "name": "stdout",
     "output_type": "stream",
     "text": [
      "10150798.4\n",
      "56.84810931899642\n",
      "7420329.3\n",
      "60.62360539215686\n",
      "7266223.999999999\n",
      "54.257945041816\n",
      "7086804.9\n",
      "54.68298044722913\n",
      "8332022.9\n",
      "62.220136358205394\n",
      "7829397.100000001\n",
      "60.41807511555943\n",
      "8562074.299999999\n",
      "63.937588583632646\n",
      "12051923.100000001\n",
      "67.50113753472534\n",
      "11687625.9\n",
      "67.64024688785875\n",
      "12158132.000000004\n",
      "68.09180364593544\n",
      "10240043.100000001\n",
      "59.25985161951169\n",
      "11122136.5\n",
      "62.28795082885305\n"
     ]
    }
   ],
   "source": [
    "# Jan Rel hum\n",
    "Jan_RH = jan_clim(1, 31, 4, 4, 0)\n",
    "# Feb Rel hum\n",
    "Feb_RH = feb_july_clim(32, 28, 4, 3, 2, 0)\n",
    "# March Rel hum\n",
    "Mar_RH = feb_july_clim(60, 31, 4, 3, 1, 0)\n",
    "# April Rel hum\n",
    "Apr_RH = feb_july_clim(91, 30, 4, 3, 1, 0)\n",
    "#May Rel hum\n",
    "May_RH = feb_july_clim(121, 31, 4, 3, 1, 0)\n",
    "# June Rel hum\n",
    "Jun_RH = feb_july_clim(152, 30, 4, 3, 1, 0)\n",
    "# July Rel hum \n",
    "Jul_RH = feb_july_clim(182, 31, 4, 3, 1, 0)\n",
    "#August Rel hum   \n",
    "Aug_RH = aug_dec_clim(213, 31, 4, 4, 0)\n",
    "#September Rel hum   \n",
    "Sep_RH = aug_dec_clim(244, 30, 4, 4, 0)\n",
    "#October Rel hum   \n",
    "Oct_RH = aug_dec_clim(274, 31, 4, 4, 0)\n",
    "#November Rel hum  \n",
    "Nov_RH = aug_dec_clim(305, 30, 4, 4, 0)\n",
    "# December Rel hum   \n",
    "Dec_RH = aug_dec_clim(335, 31, 4, 4, 0)"
   ]
  },
  {
   "cell_type": "code",
   "execution_count": 146,
   "metadata": {},
   "outputs": [
    {
     "name": "stdout",
     "output_type": "stream",
     "text": [
      "[56.84810932 60.62360539 54.25794504 54.68298045 62.22013636 60.41807512\n",
      " 63.93758858 67.50113753 67.64024689 68.09180365 59.25985162 62.28795083]\n"
     ]
    }
   ],
   "source": [
    "Average_RH = np.array([Jan_RH, Feb_RH, Mar_RH, Apr_RH, May_RH, Jun_RH,\n",
    "                                 Jul_RH, Aug_RH, Sep_RH, Oct_RH, Nov_RH, Dec_RH])\n",
    "print(Average_RH)"
   ]
  },
  {
   "cell_type": "code",
   "execution_count": 149,
   "metadata": {},
   "outputs": [
    {
     "data": {
      "image/png": "[encoded data removed]",
      "text/plain": [
       "<Figure size 720x576 with 1 Axes>"
      ]
     },
     "metadata": {
      "needs_background": "light"
     },
     "output_type": "display_data"
    }
   ],
   "source": [
    "fig, ax1 = plt.subplots(figsize = (10, 8))\n",
    "ax1.set_xlabel('Month', size = 20)\n",
    "ax1.set_ylabel('Relative Humidity ($\\%$)', size = 20)\n",
    "ax1.bar(months, Average_RH, color = 'b')\n",
    "ax1.set_title('Average Relative Humidity by Month (2017-2021)', size = 20)\n",
    "#ax1.bar(months, bottom = temp25 , height = (temp75 - temp25), color = 'm')\n",
    "\n",
    "#ax1.legend(['Average Temperature', '25 to 75 interpercentile'], bbox_to_anchor=(0.5, 0.45, 0.5, 0.5), fontsize= 12)\n",
    "#ax2 = ax1.twinx()\n",
    "#ax2.set_ylabel('Precipitation (mm)', size = 20)\n",
    "#ax2.set_title('Princeton Climatology (2017-2021)', size = 20)\n",
    "#ax2.plot(months, Average_precipitation, color = 'b')\n",
    "#ax2.set_ylim(ymin = 0)\n",
    "\n",
    "#ax2.legend(['Monthly Mean Precipitation'], bbox_to_anchor=(0.5, 0.5, 0.5, 0.5), fontsize = 12)\n",
    "plt.show()"
   ]
  },
  {
   "cell_type": "code",
   "execution_count": 150,
   "metadata": {},
   "outputs": [
    {
     "name": "stdout",
     "output_type": "stream",
     "text": [
      "180354.22009999998\n",
      "1.0100482756496414\n",
      "123771.03439999999\n",
      "1.0112012614379084\n",
      "135091.2166\n",
      "1.0087456436678615\n",
      "130301.7959\n",
      "1.0054306077254278\n",
      "134916.8057\n",
      "1.0075034776569687\n",
      "130301.35410000001\n",
      "1.0055125444681952\n",
      "134829.7577\n",
      "1.0068459201123117\n",
      "179779.438\n",
      "1.0069195156376018\n",
      "174551.7815\n",
      "1.010190238496218\n",
      "180278.9118\n",
      "1.0096547943210776\n",
      "174584.17749999996\n",
      "1.0103309480957643\n",
      "180184.93699999995\n",
      "1.0091002296146951\n"
     ]
    }
   ],
   "source": [
    "# Jan Atmo pressure\n",
    "Jan_p = jan_clim(1, 31, 5, 4, 0)\n",
    "# Feb Rel hum\n",
    "Feb_p = feb_july_clim(32, 28, 5, 3, 2, 0)\n",
    "# March Rel hum\n",
    "Mar_p = feb_july_clim(60, 31, 5, 3, 1, 0)\n",
    "# April Rel hum\n",
    "Apr_p = feb_july_clim(91, 30, 5, 3, 1, 0)\n",
    "#May Rel hum\n",
    "May_p = feb_july_clim(121, 31, 5, 3, 1, 0)\n",
    "# June Rel hum\n",
    "Jun_p = feb_july_clim(152, 30, 5, 3, 1, 0)\n",
    "# July Rel hum \n",
    "Jul_p = feb_july_clim(182, 31, 5, 3, 1, 0)\n",
    "#August Rel hum   \n",
    "Aug_p = aug_dec_clim(213, 31, 5, 4, 0)\n",
    "#September Rel hum   \n",
    "Sep_p = aug_dec_clim(244, 30, 5, 4, 0)\n",
    "#October Rel hum   \n",
    "Oct_p = aug_dec_clim(274, 31, 5, 4, 0)\n",
    "#November Rel hum  \n",
    "Nov_p = aug_dec_clim(305, 30, 5, 4, 0)\n",
    "# December Rel hum   \n",
    "Dec_p = aug_dec_clim(335, 31, 5, 4, 0)"
   ]
  },
  {
   "cell_type": "code",
   "execution_count": 151,
   "metadata": {},
   "outputs": [
    {
     "name": "stdout",
     "output_type": "stream",
     "text": [
      "[1.01004828 1.01120126 1.00874564 1.00543061 1.00750348 1.00551254\n",
      " 1.00684592 1.00691952 1.01019024 1.00965479 1.01033095 1.00910023]\n"
     ]
    }
   ],
   "source": [
    "Average_p = np.array([Jan_p, Feb_p, Mar_p, Apr_p, May_p, Jun_p,\n",
    "                                 Jul_p, Aug_p, Sep_p, Oct_p, Nov_p, Dec_p])\n",
    "print(Average_p)"
   ]
  },
  {
   "cell_type": "code",
   "execution_count": 160,
   "metadata": {},
   "outputs": [
    {
     "data": {
      "image/png": "[encoded data removed]",
      "text/plain": [
       "<Figure size 720x576 with 1 Axes>"
      ]
     },
     "metadata": {
      "needs_background": "light"
     },
     "output_type": "display_data"
    }
   ],
   "source": [
    "fig, ax1 = plt.subplots(figsize = (10, 8))\n",
    "ax1.set_xlabel('Month', size = 20)\n",
    "ax1.set_ylabel('Atmospheric Air Pressure (bar)', size = 20)\n",
    "ax1.bar(months, Average_p - 1.013, color = 'm')\n",
    "ax1.set_title('Average Monthly Anomaly by Month (2017-2021)', size = 20)\n",
    "#ax1.bar(months, bottom = temp25 , height = (temp75 - temp25), color = 'm')\n",
    "\n",
    "#ax1.legend(['Average Temperature', '25 to 75 interpercentile'], bbox_to_anchor=(0.5, 0.45, 0.5, 0.5), fontsize= 12)\n",
    "#ax2 = ax1.twinx()\n",
    "#ax2.set_ylabel('Precipitation (mm)', size = 20)\n",
    "#ax2.set_title('Princeton Climatology (2017-2021)', size = 20)\n",
    "#ax2.plot(months, Average_precipitation, color = 'b')\n",
    "#ax2.set_ylim(ymin = 0)\n",
    "\n",
    "#ax2.legend(['Monthly Mean Precipitation'], bbox_to_anchor=(0.5, 0.5, 0.5, 0.5), fontsize = 12)\n",
    "plt.show()"
   ]
  },
  {
   "cell_type": "code",
   "execution_count": 45,
   "metadata": {},
   "outputs": [
    {
     "name": "stdout",
     "output_type": "stream",
     "text": [
      "(178560,)\n"
     ]
    },
    {
     "data": {
      "image/png": "[encoded data removed]",
      "text/plain": [
       "<Figure size 720x576 with 1 Axes>"
      ]
     },
     "metadata": {
      "needs_background": "light"
     },
     "output_type": "display_data"
    }
   ],
   "source": [
    "Jan18 = histplot.getData(18, direct, ASC, 1, 31, 3, float)\n",
    "Jan19 = histplot.getData(19, direct, ASC, 1, 31, 3, float)\n",
    "Jan20 = histplot.getData(20, direct, ASC, 1, 31, 3, float)\n",
    "Jan21 = histplot.getData(21, direct, ASC, 1, 31, 3, float)\n",
    "Jan_temp_data = np.concatenate([Jan18, Jan19, Jan20, Jan21])\n",
    "print(Jan_temp_data.shape)\n",
    "plt.figure(figsize = (10, 8))\n",
    "plt.boxplot([Jan_temp_data], showfliers=False, whis= (0, 100))\n",
    "plt.title( 'Range of Temperatures by Month')\n",
    "plt.show()"
   ]
  },
  {
   "cell_type": "code",
   "execution_count": 57,
   "metadata": {},
   "outputs": [],
   "source": [
    "def Month(num, year, startday, howlong, position, month):\n",
    "    for i in range(0, num):\n",
    "        if (year % 4 != 0 or month == 1):\n",
    "            hold = histplot.getData(year, direct, ASC, startday, howlong, position, float)\n",
    "        if (year % 4 == 0 & month == 2):\n",
    "            hold = histplot.getData(year, direct, ASC, startday, howlong+1, position, float)\n",
    "        elif(year % 4 == 0 & month >= 2):\n",
    "            hold = histplot.getData(year, direct, ASC, startday+1, howlong, position, float)\n",
    "        if (i == 0):\n",
    "            total_month = hold\n",
    "        else:\n",
    "            total_month = np.append(total_month, hold)\n",
    "        year += 1\n",
    "    return total_month"
   ]
  },
  {
   "cell_type": "code",
   "execution_count": 58,
   "metadata": {},
   "outputs": [],
   "source": [
    "Jan_total_temp = Month(4, 18, 1, 31, 3, 1)"
   ]
  },
  {
   "cell_type": "code",
   "execution_count": 59,
   "metadata": {},
   "outputs": [
    {
     "data": {
      "text/plain": [
       "(178560,)"
      ]
     },
     "execution_count": 59,
     "metadata": {},
     "output_type": "execute_result"
    }
   ],
   "source": [
    "Jan_total_temp.shape"
   ]
  },
  {
   "cell_type": "code",
   "execution_count": 65,
   "metadata": {},
   "outputs": [],
   "source": [
    "Feb_total_temp = Month(3, 18, 32, 28, 3, 2)"
   ]
  },
  {
   "cell_type": "code",
   "execution_count": 68,
   "metadata": {},
   "outputs": [],
   "source": [
    "Mar_total_temp = Month(3, 18, 60, 31, 3, 3)\n",
    "Apr_total_temp =Month(3, 18, 91, 30, 3, 4)\n",
    "May_total_temp = Month(3, 18, 121, 31, 3, 5)\n",
    "Jun_total_temp = Month(3, 18, 152, 30, 3, 6)\n",
    "Jul_total_temp = Month(3, 18, 182, 31, 3, 7)\n",
    "Aug_total_temp = Month(4, 17, 213, 31, 3, 8)\n",
    "Sep_total_temp = Month(4, 17, 244, 30, 3, 9)\n",
    "Oct_total_temp = Month(4, 17, 274, 31, 3, 10)\n",
    "Nov_total_temp = Month(4, 17, 305, 30, 3, 11)\n",
    "Dec_total_temp = Month(4, 17, 335, 31, 3, 12)"
   ]
  },
  {
   "cell_type": "code",
   "execution_count": 71,
   "metadata": {},
   "outputs": [],
   "source": [
    "Apr_total_temp = Apr_total_temp[~np.isnan(Apr_total_temp)]\n",
    "May_total_temp = May_total_temp[~np.isnan(May_total_temp)]\n",
    "Jun_total_temp = Jun_total_temp[~np.isnan(Jun_total_temp)]\n",
    "Jul_total_temp = Jul_total_temp[~np.isnan(Jul_total_temp)]\n",
    "Aug_total_temp = Aug_total_temp[~np.isnan(Aug_total_temp)]\n",
    "Sep_total_temp = Sep_total_temp[~np.isnan(Sep_total_temp)]\n",
    "Oct_total_temp = Oct_total_temp[~np.isnan(Oct_total_temp)]\n",
    "Nov_total_temp = Nov_total_temp[~np.isnan(Nov_total_temp)]\n"
   ]
  },
  {
   "cell_type": "code",
   "execution_count": 76,
   "metadata": {},
   "outputs": [
    {
     "data": {
      "image/png": "[encoded data removed]",
      "text/plain": [
       "<Figure size 720x576 with 1 Axes>"
      ]
     },
     "metadata": {
      "needs_background": "light"
     },
     "output_type": "display_data"
    }
   ],
   "source": [
    "plt.figure(figsize = (10, 8))\n",
    "plt.boxplot([Jan_temp_data, Feb_total_temp, Mar_total_temp, Apr_total_temp, May_total_temp, \n",
    "            Jun_total_temp, Jul_total_temp, Aug_total_temp, Sep_total_temp, Oct_total_temp, \n",
    "            Nov_total_temp, Dec_total_temp], showfliers=False, whis= (0, 100))\n",
    "plt.xticks([1, 2, 3, 4, 5, 6, 7, 8, 9, 10, 11, 12], months, fontsize = 20)\n",
    "plt.title('Range of Temperatures by Month', fontsize = 20)\n",
    "plt.ylabel('Temperature ($^\\circ C$)', fontsize = 20)\n",
    "plt.show()"
   ]
  },
  {
   "cell_type": "code",
   "execution_count": null,
   "metadata": {},
   "outputs": [],
   "source": []
  }
 ],
 "metadata": {
  "kernelspec": {
   "display_name": "Python 3",
   "language": "python",
   "name": "python3"
  },
  "language_info": {
   "codemirror_mode": {
    "name": "ipython",
    "version": 3
   },
   "file_extension": ".py",
   "mimetype": "text/x-python",
   "name": "python",
   "nbconvert_exporter": "python",
   "pygments_lexer": "ipython3",
   "version": "3.7.3"
  }
 },
 "nbformat": 4,
 "nbformat_minor": 4
}
