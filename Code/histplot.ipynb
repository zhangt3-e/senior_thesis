{
 "cells": [
  {
   "cell_type": "code",
   "execution_count": 1,
   "metadata": {},
   "outputs": [],
   "source": [
    "# Function for generating histogram\n",
    "# Import Libraries\n",
    "import numpy as np\n",
    "import matplotlib.pyplot as plt\n",
    "import matplotlib as mlt\n",
    "import datetime "
   ]
  },
  {
   "cell_type": "code",
   "execution_count": 2,
   "metadata": {},
   "outputs": [],
   "source": [
    "# This is to have a broader function that can get the data in the first place. (Datetime as well.)\n",
    "def getData(year, direct, ASC, start_day, days, cols,datatype):\n",
    "    for i in range(0, days):\n",
    "        day = i + start_day\n",
    "        year_str = '0.' + str(year)\n",
    "        # File \n",
    "        if (day < 10):\n",
    "            holdstr = 'pton00' + str(day) + year_str \n",
    "        elif (day < 100):\n",
    "            holdstr ='pton0' + str(day) + year_str\n",
    "        else: \n",
    "            holdstr = 'pton' + str(day) + year_str\n",
    "        path = direct + holdstr + ASC\n",
    "        if (day == start_day):\n",
    "            data = np.array(np.loadtxt(path, dtype = datatype, skiprows = 1, usecols = cols))\n",
    "        else: \n",
    "            hold = np.array(np.loadtxt(path, dtype = datatype, skiprows = 1, usecols = cols))\n",
    "            data = np.concatenate((data, hold))\n",
    "    return data"
   ]
  },
  {
   "cell_type": "code",
   "execution_count": 3,
   "metadata": {},
   "outputs": [],
   "source": [
    "# Puts in the data that you have and returns precip events, nonprecip events, and total precip per precip event\n",
    "def preciphist(data, minute, length, prec_duration, nonprec_duration):\n",
    "    precipevent = np.zeros(length)\n",
    "    nonprecip = np.zeros(length)\n",
    "    preciptotal = np.zeros(length) # This is not intensity, but total precip per corresponding event.\n",
    "    # This is to represent indices for the corresponding array from above\n",
    "    prec = 0 # This represents both the precip events and total precip from precip events indices.\n",
    "    nonprec = 0\n",
    "    k = 0\n",
    "    holdprec = 0 # These next three variables will hold the values, as we try to expand to include variable duration! \n",
    "    holdnonprec = 0\n",
    "    holdtotal = 0\n",
    "    # \n",
    "    Total_precip = 0; # Total precipitation measured by instrument \n",
    "    while (k < minute):\n",
    "        hold = data[k]\n",
    "        # If there is no precipitation at a certain minute\n",
    "        if (hold == 0):\n",
    "            holdnonprec += 1\n",
    "            # How to deal with previous precipitation event\n",
    "            if (holdprec >= prec_duration):\n",
    "                precipevent[prec] = holdprec\n",
    "                preciptotal[prec] = holdtotal\n",
    "                prec += 1\n",
    "                holdprec = 0\n",
    "                holdtotal = 0\n",
    "                # How to deal with a short precip event between nonprecip events\n",
    "            elif (holdprec < prec_duration):\n",
    "                holdnonprec += holdprec\n",
    "                holdprec = 0\n",
    "        #if (k >= 1):\n",
    "         #   holdbefore = data[k-1]\n",
    "          #  if (hold != holdbefore and hold == 0 and holdbefore > 0):\n",
    "           #     prec += 1\n",
    "        \n",
    "        # Condition where we have precipitation    \n",
    "        if (hold > 0):\n",
    "            Total_precip += hold\n",
    "            holdprec += 1\n",
    "            holdtotal += hold\n",
    "            # How to deal with previous non-precipitation event \n",
    "            if (holdnonprec >= nonprec_duration):\n",
    "                nonprecip[nonprec] = holdnonprec\n",
    "                nonprec += 1\n",
    "                holdnonprec = 0\n",
    "            # How to deal with a short nonprecip event between precip events\n",
    "            elif (holdnonprec < nonprec_duration):\n",
    "                holdprec += holdnonprec\n",
    "                holdnonprec = 0\n",
    "            # How to account for new precip events\n",
    "            #if (k >= 1):\n",
    "             #   holdbefore = data[k-1]\n",
    "              #  # Don't iterate prec if it is the first precip event\n",
    "               # if (hold != holdbefore and hold > 0 and holdbefore == 0):\n",
    "                #    nonprec += 1\n",
    "        k = k+1\n",
    "    return precipevent, nonprecip, preciptotal, Total_precip"
   ]
  },
  {
   "cell_type": "code",
   "execution_count": 5,
   "metadata": {},
   "outputs": [],
   "source": [
    "def hist_plots(array,bin_spec, range_tup, xlabel, ylabel, title, color, eqn, percent):\n",
    "    plt.figure(figsize = (10,8))\n",
    "    plt.hist(array[array != 0], bins = bin_spec, range= range_tup, log = log, color = color)\n",
    "    plt.xlabel(xlabel, fontsize = 14)\n",
    "    plt.ylabel(ylabel, fontsize = 14)\n",
    "    plt.title(title, fontsize = 20)\n",
    "    plt.text(1,1, 'Histogram has ' + percent + ' of total precipitation', horizontalalignment = 'center',\n",
    "            verticalalignment = 'center')\n",
    "    plt.text(0.8,1, eqn,horizontalalignment = 'center',\n",
    "            verticalalignment = 'center' )"
   ]
  },
  {
   "cell_type": "code",
   "execution_count": 8,
   "metadata": {},
   "outputs": [],
   "source": [
    "direct = 'C:/Users/tyron/Documents/Geoscience/weather/'\n",
    "ASC = '__ASC_ASCIIIn.mrk'\n",
    "data2019 = getData(19, direct, ASC, 1, 365,6, float)\n"
   ]
  },
  {
   "cell_type": "code",
   "execution_count": 11,
   "metadata": {},
   "outputs": [],
   "source": [
    "precip, nonprecip, preciptotal, totalprep = preciphist(data2019, len(data2019), 20000, 5, 1) "
   ]
  },
  {
   "cell_type": "code",
   "execution_count": 12,
   "metadata": {},
   "outputs": [
    {
     "name": "stdout",
     "output_type": "stream",
     "text": [
      "644\n",
      "3122\n"
     ]
    }
   ],
   "source": [
    "count0 = 0\n",
    "count1 = 0\n",
    "for i in range(0, 20000):\n",
    "    hold0 = precip[i]\n",
    "    hold1 = nonprecip[i]\n",
    "    if (hold0 > 0):\n",
    "        count0 +=1\n",
    "    if (hold1 > 0):\n",
    "        count1 +=1\n",
    "print(count0)\n",
    "print(count1)"
   ]
  },
  {
   "cell_type": "code",
   "execution_count": null,
   "metadata": {},
   "outputs": [],
   "source": []
  }
 ],
 "metadata": {
  "kernelspec": {
   "display_name": "Python 3",
   "language": "python",
   "name": "python3"
  },
  "language_info": {
   "codemirror_mode": {
    "name": "ipython",
    "version": 3
   },
   "file_extension": ".py",
   "mimetype": "text/x-python",
   "name": "python",
   "nbconvert_exporter": "python",
   "pygments_lexer": "ipython3",
   "version": "3.7.3"
  }
 },
 "nbformat": 4,
 "nbformat_minor": 2
}
